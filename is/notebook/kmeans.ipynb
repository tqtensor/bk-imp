{
 "cells": [
  {
   "cell_type": "code",
   "execution_count": null,
   "metadata": {},
   "outputs": [],
   "source": [
    "import pandas as pd\n",
    "from scipy.spatial.distance import pdist, squareform"
   ]
  },
  {
   "cell_type": "code",
   "execution_count": null,
   "metadata": {},
   "outputs": [],
   "source": [
    "kmeans_data = pd.read_csv(\"./kmeans.csv\")\n",
    "kmeans_data[kmeans_data.columns.difference([\"Point\"])] = kmeans_data[\n",
    "    kmeans_data.columns.difference([\"Point\"])\n",
    "].astype(float)"
   ]
  },
  {
   "cell_type": "code",
   "execution_count": null,
   "metadata": {},
   "outputs": [],
   "source": [
    "distance_matrix = squareform(\n",
    "    pdist(\n",
    "        kmeans_data[kmeans_data.columns.difference([\"Point\"])],\n",
    "        metric=\"sqeuclidean\",\n",
    "    )\n",
    ")\n",
    "distance_matrix = pd.DataFrame(\n",
    "    distance_matrix, index=kmeans_data[\"Point\"], columns=kmeans_data[\"Point\"]\n",
    ")"
   ]
  },
  {
   "cell_type": "code",
   "execution_count": null,
   "metadata": {},
   "outputs": [],
   "source": [
    "distance_matrix.to_csv(\"./distance_matrix.csv\")"
   ]
  }
 ],
 "metadata": {
  "kernelspec": {
   "display_name": ".venv",
   "language": "python",
   "name": "python3"
  },
  "language_info": {
   "codemirror_mode": {
    "name": "ipython",
    "version": 3
   },
   "file_extension": ".py",
   "mimetype": "text/x-python",
   "name": "python",
   "nbconvert_exporter": "python",
   "pygments_lexer": "ipython3",
   "version": "3.10.10"
  }
 },
 "nbformat": 4,
 "nbformat_minor": 2
}
