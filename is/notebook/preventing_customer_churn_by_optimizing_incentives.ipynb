{
 "cells": [
  {
   "cell_type": "markdown",
   "metadata": {},
   "source": [
    "# Preventing Customer Churn by Optimizing Incentive Programs\n",
    "\n",
    "----\n",
    "## Table of contents\n",
    "\n",
    "1. [Background](#Background)\n",
    "2. [Setup](#Setup)\n",
    "3. [Data Exploration](#Data-Exploration)\n",
    "4. [Model Training](#Train)\n",
    "6. [Model Hosting](#Host)\n",
    "7. [Assess and optimize](#Assess-and-optimize)\n",
    "8. [Summary](#Summary)\n",
    "\n",
    "\n",
    "---\n",
    "\n",
    "## Background\n",
    "\n",
    "_This notebook has been adapted from [Amazon SageMaker Examples - Customer Churn](https://github.com/awslabs/amazon-sagemaker-examples/tree/master/introduction_to_applying_machine_learning/xgboost_customer_churn). That notebook had been adapted from the [AWS blog post](https://aws.amazon.com/blogs/ai/predicting-customer-churn-with-amazon-machine-learning/) and [AWS notebook](https://github.com/awslabs/amazon-sagemaker-examples/blob/master/introduction_to_applying_machine_learning/xgboost_customer_churn/xgboost_customer_churn.ipynb)._\n",
    "\n",
    "*This notebook also builds on the AWS blog [Gain customer insights using Amazon Aurora machine learning](https://aws.amazon.com/blogs/machine-learning/gain-customer-insights-using-amazon-aurora-machine-learning/), which focused on integrating churn information into the customer service response process, offering selected customers an incentive.  For ease of experimentation, this notebook has been built to run stand-alone, but the methods developed here are intended for integration into the environment of the prior blog.*\n",
    "\n",
    "*In this version of the notebook, in addition to building the predictive model we explore the key question: How do we create an optimal incentive program that we (as the provider) think is most likely to reduce churn, with the minimum cost to us?*\n",
    "\n",
    "Losing customers is costly for any business.  Identifying unhappy customers early on gives the business a chance to offer them incentives to stay.  This notebook describes using machine learning (ML) for the automated identification of unhappy customers, also known as customer churn prediction. ML models rarely give perfect predictions though, so this notebook is also about how to incorporate the relative costs of prediction mistakes when determining the financial outcome of using ML.\n",
    "\n",
    "We use an example of churn that is familiar to all of us – leaving a mobile phone operator.  Seems like I can always find fault with my provider du jour! And if my provider knows that I’m thinking of leaving, it can offer timely incentives – I can always use a phone upgrade or perhaps have a new feature activated – and I might just stick around. Incentives are often much more cost effective than losing and reacquiring a customer.\n",
    "\n",
    "*The first sections of the notebook are identical to the source XGBoost notebook. Substantial differences begin at the heading, \"Assessing business impact...\"*\n",
    "\n",
    "---\n",
    "\n",
    "## Setup\n",
    "\n",
    "_This notebook was created and tested on an __ml.m4.xlarge__ notebook instance._\n",
    "\n",
    "Import the libraries:"
   ]
  },
  {
   "cell_type": "code",
   "execution_count": 1,
   "metadata": {
    "isConfigCell": true,
    "tags": [
     "parameters"
    ]
   },
   "outputs": [],
   "source": [
    "import os\n",
    "import sys\n",
    "import boto3\n",
    "import re\n",
    "import sagemaker\n",
    "\n",
    "# To get the container for training\n",
    "from sagemaker.amazon.amazon_estimator import get_image_uri\n",
    "# To run predictions against the model \n",
    "from sagemaker.predictor import csv_serializer\n",
    "from sagemaker.tuner import IntegerParameter, CategoricalParameter, ContinuousParameter, HyperparameterTuner\n",
    "\n",
    "# Data manipulations:\n",
    "import pandas as pd\n",
    "import numpy as np\n",
    "\n",
    "# Data Plotting\n",
    "import matplotlib.pyplot as plt\n",
    "from IPython.core.interactiveshell import InteractiveShell\n",
    "InteractiveShell.ast_node_interactivity = \"all\"\n",
    "# To mix code and markdown\n",
    "from IPython.display import Markdown\n",
    "# from ColorBrewer\n",
    "plot_color = \"#4daf4a\"\n",
    "\n",
    "%matplotlib inline\n"
   ]
  },
  {
   "cell_type": "code",
   "execution_count": 2,
   "metadata": {},
   "outputs": [],
   "source": [
    "accountid = boto3.client('sts').get_caller_identity()['Account']\n",
    "role = sagemaker.get_execution_role()\n",
    "sess = sagemaker.Session()\n",
    "\n",
    "# provide a prefix to be attached to the output files in the bucket\n",
    "prefix = 'sagemaker/xgboost-churn-ecooptimize'"
   ]
  },
  {
   "cell_type": "code",
   "execution_count": 3,
   "metadata": {},
   "outputs": [],
   "source": [
    "# Please give the name of an existing bucket to use\n",
    "bucket = 'vmegler-projects'"
   ]
  },
  {
   "cell_type": "markdown",
   "metadata": {},
   "source": [
    "---\n",
    "## Data Exploration\n",
    "\n",
    "Mobile operators have historical records on which customers ultimately ended up churning and which continued using the service. We can use this historical information to construct an ML model of one mobile operator’s churn using a process called training. After training the model, we can pass the profile information of an arbitrary customer (the same profile information that we used to train the model) to the model, and have the model predict whether this customer is going to churn. Of course, we expect the model to make mistakes–after all, predicting the future is tricky business! But I’ll also show how to deal with prediction errors.\n",
    "\n",
    "The dataset we use is publicly available and was mentioned in the book [Discovering Knowledge in Data](https://www.amazon.com/dp/0470908742/) by Daniel T. Larose. It is attributed by the author to the University of California Irvine Repository of Machine Learning Datasets. \n"
   ]
  },
  {
   "cell_type": "code",
   "execution_count": 4,
   "metadata": {},
   "outputs": [
    {
     "name": "stdout",
     "output_type": "stream",
     "text": [
      "File has been already downloaded\n"
     ]
    }
   ],
   "source": [
    "if not os.path.exists(\"DKD2e_data_sets.zip\"):\n",
    "    !wget http://dataminingconsultant.com/DKD2e_data_sets.zip\n",
    "    !unzip -o DKD2e_data_sets.zip\n",
    "else:\n",
    "    print(\"File has been already downloaded\")"
   ]
  },
  {
   "cell_type": "markdown",
   "metadata": {},
   "source": [
    "By modern standards, it’s a relatively small dataset, with only 3,333 records, where each record uses 21 attributes to describe the profile of a customer of an unknown US mobile operator. The attributes are:\n",
    "\n",
    "- `State`: the US state in which the customer resides, indicated by a two-letter abbreviation; for example, OH or NJ\n",
    "- `Account Length`: the number of days that this account has been active\n",
    "- `Area Code`: the three-digit area code of the corresponding customer’s phone number\n",
    "- `Phone`: the remaining seven-digit phone number\n",
    "- `Int’l Plan`: whether the customer has an international calling plan: yes/no\n",
    "- `VMail Plan`: whether the customer has a voice mail feature: yes/no\n",
    "- `VMail Message`: presumably the average number of voice mail messages per month\n",
    "- `Day Mins`: the total number of calling minutes used during the day\n",
    "- `Day Calls`: the total number of calls placed during the day\n",
    "- `Day Charge`: the billed cost of daytime calls\n",
    "- `Eve Mins, Eve Calls, Eve Charge`: the billed cost for calls placed during the evening\n",
    "- `Night Mins`, `Night Calls`, `Night Charge`: the billed cost for calls placed during nighttime\n",
    "- `Intl Mins`, `Intl Calls`, `Intl Charge`: the billed cost for international calls\n",
    "- `CustServ Calls`: the number of calls placed to Customer Service\n",
    "- `Churn?`: whether the customer left the service: true/false\n",
    "\n",
    "The last attribute, `Churn?`, is known as the target attribute–the attribute that we want the ML model to predict.  Because the target attribute is binary, our model will be performing binary prediction, also known as binary classification.\n",
    "\n",
    "Preview the first few rows:"
   ]
  },
  {
   "cell_type": "code",
   "execution_count": 5,
   "metadata": {},
   "outputs": [
    {
     "data": {
      "text/html": [
       "<div>\n",
       "<style scoped>\n",
       "    .dataframe tbody tr th:only-of-type {\n",
       "        vertical-align: middle;\n",
       "    }\n",
       "\n",
       "    .dataframe tbody tr th {\n",
       "        vertical-align: top;\n",
       "    }\n",
       "\n",
       "    .dataframe thead th {\n",
       "        text-align: right;\n",
       "    }\n",
       "</style>\n",
       "<table border=\"1\" class=\"dataframe\">\n",
       "  <thead>\n",
       "    <tr style=\"text-align: right;\">\n",
       "      <th></th>\n",
       "      <th>State</th>\n",
       "      <th>Account Length</th>\n",
       "      <th>Area Code</th>\n",
       "      <th>Phone</th>\n",
       "      <th>Int'l Plan</th>\n",
       "      <th>VMail Plan</th>\n",
       "      <th>VMail Message</th>\n",
       "      <th>Day Mins</th>\n",
       "      <th>Day Calls</th>\n",
       "      <th>Day Charge</th>\n",
       "      <th>Eve Mins</th>\n",
       "      <th>Eve Calls</th>\n",
       "      <th>Eve Charge</th>\n",
       "      <th>Night Mins</th>\n",
       "      <th>Night Calls</th>\n",
       "      <th>Night Charge</th>\n",
       "      <th>Intl Mins</th>\n",
       "      <th>Intl Calls</th>\n",
       "      <th>Intl Charge</th>\n",
       "      <th>CustServ Calls</th>\n",
       "      <th>Churn?</th>\n",
       "    </tr>\n",
       "  </thead>\n",
       "  <tbody>\n",
       "    <tr>\n",
       "      <th>0</th>\n",
       "      <td>KS</td>\n",
       "      <td>128</td>\n",
       "      <td>415</td>\n",
       "      <td>382-4657</td>\n",
       "      <td>no</td>\n",
       "      <td>yes</td>\n",
       "      <td>25</td>\n",
       "      <td>265.1</td>\n",
       "      <td>110</td>\n",
       "      <td>45.07</td>\n",
       "      <td>197.4</td>\n",
       "      <td>99</td>\n",
       "      <td>16.78</td>\n",
       "      <td>244.7</td>\n",
       "      <td>91</td>\n",
       "      <td>11.01</td>\n",
       "      <td>10.0</td>\n",
       "      <td>3</td>\n",
       "      <td>2.70</td>\n",
       "      <td>1</td>\n",
       "      <td>False.</td>\n",
       "    </tr>\n",
       "    <tr>\n",
       "      <th>1</th>\n",
       "      <td>OH</td>\n",
       "      <td>107</td>\n",
       "      <td>415</td>\n",
       "      <td>371-7191</td>\n",
       "      <td>no</td>\n",
       "      <td>yes</td>\n",
       "      <td>26</td>\n",
       "      <td>161.6</td>\n",
       "      <td>123</td>\n",
       "      <td>27.47</td>\n",
       "      <td>195.5</td>\n",
       "      <td>103</td>\n",
       "      <td>16.62</td>\n",
       "      <td>254.4</td>\n",
       "      <td>103</td>\n",
       "      <td>11.45</td>\n",
       "      <td>13.7</td>\n",
       "      <td>3</td>\n",
       "      <td>3.70</td>\n",
       "      <td>1</td>\n",
       "      <td>False.</td>\n",
       "    </tr>\n",
       "    <tr>\n",
       "      <th>2</th>\n",
       "      <td>NJ</td>\n",
       "      <td>137</td>\n",
       "      <td>415</td>\n",
       "      <td>358-1921</td>\n",
       "      <td>no</td>\n",
       "      <td>no</td>\n",
       "      <td>0</td>\n",
       "      <td>243.4</td>\n",
       "      <td>114</td>\n",
       "      <td>41.38</td>\n",
       "      <td>121.2</td>\n",
       "      <td>110</td>\n",
       "      <td>10.30</td>\n",
       "      <td>162.6</td>\n",
       "      <td>104</td>\n",
       "      <td>7.32</td>\n",
       "      <td>12.2</td>\n",
       "      <td>5</td>\n",
       "      <td>3.29</td>\n",
       "      <td>0</td>\n",
       "      <td>False.</td>\n",
       "    </tr>\n",
       "    <tr>\n",
       "      <th>3</th>\n",
       "      <td>OH</td>\n",
       "      <td>84</td>\n",
       "      <td>408</td>\n",
       "      <td>375-9999</td>\n",
       "      <td>yes</td>\n",
       "      <td>no</td>\n",
       "      <td>0</td>\n",
       "      <td>299.4</td>\n",
       "      <td>71</td>\n",
       "      <td>50.90</td>\n",
       "      <td>61.9</td>\n",
       "      <td>88</td>\n",
       "      <td>5.26</td>\n",
       "      <td>196.9</td>\n",
       "      <td>89</td>\n",
       "      <td>8.86</td>\n",
       "      <td>6.6</td>\n",
       "      <td>7</td>\n",
       "      <td>1.78</td>\n",
       "      <td>2</td>\n",
       "      <td>False.</td>\n",
       "    </tr>\n",
       "    <tr>\n",
       "      <th>4</th>\n",
       "      <td>OK</td>\n",
       "      <td>75</td>\n",
       "      <td>415</td>\n",
       "      <td>330-6626</td>\n",
       "      <td>yes</td>\n",
       "      <td>no</td>\n",
       "      <td>0</td>\n",
       "      <td>166.7</td>\n",
       "      <td>113</td>\n",
       "      <td>28.34</td>\n",
       "      <td>148.3</td>\n",
       "      <td>122</td>\n",
       "      <td>12.61</td>\n",
       "      <td>186.9</td>\n",
       "      <td>121</td>\n",
       "      <td>8.41</td>\n",
       "      <td>10.1</td>\n",
       "      <td>3</td>\n",
       "      <td>2.73</td>\n",
       "      <td>3</td>\n",
       "      <td>False.</td>\n",
       "    </tr>\n",
       "  </tbody>\n",
       "</table>\n",
       "</div>"
      ],
      "text/plain": [
       "  State  Account Length  Area Code     Phone Int'l Plan VMail Plan  \\\n",
       "0    KS             128        415  382-4657         no        yes   \n",
       "1    OH             107        415  371-7191         no        yes   \n",
       "2    NJ             137        415  358-1921         no         no   \n",
       "3    OH              84        408  375-9999        yes         no   \n",
       "4    OK              75        415  330-6626        yes         no   \n",
       "\n",
       "   VMail Message  Day Mins  Day Calls  Day Charge  Eve Mins  Eve Calls  \\\n",
       "0             25     265.1        110       45.07     197.4         99   \n",
       "1             26     161.6        123       27.47     195.5        103   \n",
       "2              0     243.4        114       41.38     121.2        110   \n",
       "3              0     299.4         71       50.90      61.9         88   \n",
       "4              0     166.7        113       28.34     148.3        122   \n",
       "\n",
       "   Eve Charge  Night Mins  Night Calls  Night Charge  Intl Mins  Intl Calls  \\\n",
       "0       16.78       244.7           91         11.01       10.0           3   \n",
       "1       16.62       254.4          103         11.45       13.7           3   \n",
       "2       10.30       162.6          104          7.32       12.2           5   \n",
       "3        5.26       196.9           89          8.86        6.6           7   \n",
       "4       12.61       186.9          121          8.41       10.1           3   \n",
       "\n",
       "   Intl Charge  CustServ Calls  Churn?  \n",
       "0         2.70               1  False.  \n",
       "1         3.70               1  False.  \n",
       "2         3.29               0  False.  \n",
       "3         1.78               2  False.  \n",
       "4         2.73               3  False.  "
      ]
     },
     "execution_count": 5,
     "metadata": {},
     "output_type": "execute_result"
    }
   ],
   "source": [
    "# read the customer churn data to pandas DataFrame\n",
    "pd.set_option('display.max_columns', 25)\n",
    "churn = pd.read_csv('./Data sets/churn.txt')\n",
    "# review the top rows\n",
    "churn.head()"
   ]
  },
  {
   "cell_type": "markdown",
   "metadata": {},
   "source": [
    "#### Exploring the Data\n",
    "\n",
    "Let's begin exploring the data. \n",
    "\n",
    "_This section is identical to the original notebook, [Amazon SageMaker Examples - Customer Churn](https://github.com/awslabs/amazon-sagemaker-examples/tree/master/introduction_to_applying_machine_learning/xgboost_customer_churn). While data exploration is an important topic, it's not the focus of this walk through. Therefore it's been removed in the interests of brevity, but the actions taken based on the analysis have been kept (i.e., columns kept/removed). Please refer to the original notebook for this section._  "
   ]
  },
  {
   "cell_type": "code",
   "execution_count": 6,
   "metadata": {},
   "outputs": [],
   "source": [
    "# Now, we'll save a copy of the original dataset, for use later\n",
    "churn_save = churn.copy()\n",
    "# Then, we'll add a column for the total customer spend\n",
    "churn_save['Total Customer Spend'] = churn_save.apply(lambda x: x['Day Charge'] + x['Night Charge'] + x['Eve Charge'] \n",
    "                                                      + x['Intl Charge'], axis=1)\n",
    "churn_save['Area Code'] = churn['Area Code'].astype(object)"
   ]
  },
  {
   "cell_type": "code",
   "execution_count": 7,
   "metadata": {},
   "outputs": [],
   "source": [
    "churn = churn.drop('Phone', axis=1)\n",
    "churn['Area Code'] = churn['Area Code'].astype(object)"
   ]
  },
  {
   "cell_type": "markdown",
   "metadata": {},
   "source": [
    "Let's remove one feature from each of the highly correlated pairs: Day Charge from the pair with Day Mins, Night Charge from the pair with Night Mins, Intl Charge from the pair with Intl Mins:"
   ]
  },
  {
   "cell_type": "code",
   "execution_count": 8,
   "metadata": {},
   "outputs": [],
   "source": [
    "churn = churn.drop(['Day Charge', 'Eve Charge', 'Night Charge', 'Intl Charge'], axis=1)"
   ]
  },
  {
   "cell_type": "markdown",
   "metadata": {},
   "source": [
    "Now that we've cleaned up our dataset, let's determine which algorithm to use.  As mentioned above, there appear to be some variables where both high and low (but not intermediate) values are predictive of churn.  In order to accommodate this in an algorithm like linear regression, we'd need to generate polynomial (or bucketed) terms.  Instead, let's attempt to model this problem using gradient boosted trees.  Amazon SageMaker provides an XGBoost container that we can use to train in a managed, distributed setting, and then host as a real-time prediction endpoint.  XGBoost uses gradient boosted trees which naturally account for non-linear relationships between features and the target variable, as well as accommodating complex interactions between features.\n",
    "\n",
    "Amazon SageMaker XGBoost can train on data in either a CSV or LibSVM format.  For this example, we'll stick with CSV.  It should (documentation [here](https://docs.aws.amazon.com/sagemaker/latest/dg/xgboost.html)):\n",
    "\n",
    "- Have the predictor variable in the first column\n",
    "- Not have a header row\n",
    "\n",
    "Since the model will not have the feature names later, when we explore the results, we will need to assign them from the original data (excluding the target variable)\n",
    "\n",
    "But first, let's convert our categorical features into numeric features as the algorithm manages only numeric features. Then, we place the outcome as the first column."
   ]
  },
  {
   "cell_type": "code",
   "execution_count": 9,
   "metadata": {},
   "outputs": [],
   "source": [
    "model_data = pd.get_dummies(churn)\n",
    "model_data = pd.concat([model_data['Churn?_True.'], model_data.drop(['Churn?_False.', 'Churn?_True.'], axis=1)], axis=1)"
   ]
  },
  {
   "cell_type": "markdown",
   "metadata": {},
   "source": [
    "And now let's split the data into training, validation, and test sets.  This will help prevent us from overfitting the model, and allow us to test the models accuracy on data it hasn't already seen.\n",
    "\n",
    "_Note that different splits of the data may create slightly different results. In addition, on different runs against the same data, XGBoost may choose different combinations of features and trees that give similar model performance._ \n"
   ]
  },
  {
   "cell_type": "code",
   "execution_count": 10,
   "metadata": {},
   "outputs": [],
   "source": [
    "train_data, validation_data, test_data = np.split(model_data.sample(frac = 1, random_state = 1729), \n",
    "                                                  [int(0.7 * len(model_data)), int(0.9 * len(model_data))])\n",
    "train_data.to_csv('train.csv', header = False, index = False)\n",
    "validation_data.to_csv('validation.csv', header = False, index = False)\n",
    "test_data.to_csv('test.csv', header = False, index = False)"
   ]
  },
  {
   "cell_type": "code",
   "execution_count": 11,
   "metadata": {},
   "outputs": [
    {
     "data": {
      "text/plain": [
       "Index(['Churn?_True.', 'Account Length', 'VMail Message', 'Day Mins',\n",
       "       'Day Calls', 'Eve Mins', 'Eve Calls', 'Night Mins', 'Night Calls',\n",
       "       'Intl Mins', 'Intl Calls', 'CustServ Calls', 'State_AK', 'State_AL',\n",
       "       'State_AR', 'State_AZ', 'State_CA', 'State_CO', 'State_CT', 'State_DC',\n",
       "       'State_DE', 'State_FL', 'State_GA', 'State_HI', 'State_IA', 'State_ID',\n",
       "       'State_IL', 'State_IN', 'State_KS', 'State_KY', 'State_LA', 'State_MA',\n",
       "       'State_MD', 'State_ME', 'State_MI', 'State_MN', 'State_MO', 'State_MS',\n",
       "       'State_MT', 'State_NC', 'State_ND', 'State_NE', 'State_NH', 'State_NJ',\n",
       "       'State_NM', 'State_NV', 'State_NY', 'State_OH', 'State_OK', 'State_OR',\n",
       "       'State_PA', 'State_RI', 'State_SC', 'State_SD', 'State_TN', 'State_TX',\n",
       "       'State_UT', 'State_VA', 'State_VT', 'State_WA', 'State_WI', 'State_WV',\n",
       "       'State_WY', 'Area Code_408', 'Area Code_415', 'Area Code_510',\n",
       "       'Int'l Plan_no', 'Int'l Plan_yes', 'VMail Plan_no', 'VMail Plan_yes'],\n",
       "      dtype='object')"
      ]
     },
     "execution_count": 11,
     "metadata": {},
     "output_type": "execute_result"
    },
    {
     "data": {
      "text/plain": [
       "(334, 70)"
      ]
     },
     "execution_count": 11,
     "metadata": {},
     "output_type": "execute_result"
    }
   ],
   "source": [
    "test_data_columns=test_data.columns\n",
    "test_data_columns\n",
    "test_data.shape"
   ]
  },
  {
   "cell_type": "code",
   "execution_count": 12,
   "metadata": {},
   "outputs": [
    {
     "data": {
      "text/html": [
       "<div>\n",
       "<style scoped>\n",
       "    .dataframe tbody tr th:only-of-type {\n",
       "        vertical-align: middle;\n",
       "    }\n",
       "\n",
       "    .dataframe tbody tr th {\n",
       "        vertical-align: top;\n",
       "    }\n",
       "\n",
       "    .dataframe thead th {\n",
       "        text-align: right;\n",
       "    }\n",
       "</style>\n",
       "<table border=\"1\" class=\"dataframe\">\n",
       "  <thead>\n",
       "    <tr style=\"text-align: right;\">\n",
       "      <th></th>\n",
       "      <th>Churn?_True.</th>\n",
       "      <th>Account Length</th>\n",
       "      <th>VMail Message</th>\n",
       "      <th>Day Mins</th>\n",
       "      <th>Day Calls</th>\n",
       "      <th>Eve Mins</th>\n",
       "      <th>Eve Calls</th>\n",
       "      <th>Night Mins</th>\n",
       "      <th>Night Calls</th>\n",
       "      <th>Intl Mins</th>\n",
       "      <th>Intl Calls</th>\n",
       "      <th>CustServ Calls</th>\n",
       "      <th>...</th>\n",
       "      <th>State_VT</th>\n",
       "      <th>State_WA</th>\n",
       "      <th>State_WI</th>\n",
       "      <th>State_WV</th>\n",
       "      <th>State_WY</th>\n",
       "      <th>Area Code_408</th>\n",
       "      <th>Area Code_415</th>\n",
       "      <th>Area Code_510</th>\n",
       "      <th>Int'l Plan_no</th>\n",
       "      <th>Int'l Plan_yes</th>\n",
       "      <th>VMail Plan_no</th>\n",
       "      <th>VMail Plan_yes</th>\n",
       "    </tr>\n",
       "  </thead>\n",
       "  <tbody>\n",
       "    <tr>\n",
       "      <th>1095</th>\n",
       "      <td>0</td>\n",
       "      <td>106</td>\n",
       "      <td>0</td>\n",
       "      <td>274.4</td>\n",
       "      <td>120</td>\n",
       "      <td>198.6</td>\n",
       "      <td>82</td>\n",
       "      <td>160.8</td>\n",
       "      <td>62</td>\n",
       "      <td>6.0</td>\n",
       "      <td>3</td>\n",
       "      <td>1</td>\n",
       "      <td>...</td>\n",
       "      <td>0</td>\n",
       "      <td>0</td>\n",
       "      <td>0</td>\n",
       "      <td>0</td>\n",
       "      <td>0</td>\n",
       "      <td>0</td>\n",
       "      <td>0</td>\n",
       "      <td>1</td>\n",
       "      <td>1</td>\n",
       "      <td>0</td>\n",
       "      <td>1</td>\n",
       "      <td>0</td>\n",
       "    </tr>\n",
       "    <tr>\n",
       "      <th>608</th>\n",
       "      <td>0</td>\n",
       "      <td>28</td>\n",
       "      <td>0</td>\n",
       "      <td>187.8</td>\n",
       "      <td>94</td>\n",
       "      <td>248.6</td>\n",
       "      <td>86</td>\n",
       "      <td>208.8</td>\n",
       "      <td>124</td>\n",
       "      <td>10.6</td>\n",
       "      <td>5</td>\n",
       "      <td>0</td>\n",
       "      <td>...</td>\n",
       "      <td>0</td>\n",
       "      <td>0</td>\n",
       "      <td>0</td>\n",
       "      <td>0</td>\n",
       "      <td>1</td>\n",
       "      <td>0</td>\n",
       "      <td>1</td>\n",
       "      <td>0</td>\n",
       "      <td>1</td>\n",
       "      <td>0</td>\n",
       "      <td>1</td>\n",
       "      <td>0</td>\n",
       "    </tr>\n",
       "    <tr>\n",
       "      <th>2908</th>\n",
       "      <td>1</td>\n",
       "      <td>148</td>\n",
       "      <td>0</td>\n",
       "      <td>279.3</td>\n",
       "      <td>104</td>\n",
       "      <td>201.6</td>\n",
       "      <td>87</td>\n",
       "      <td>280.8</td>\n",
       "      <td>99</td>\n",
       "      <td>7.9</td>\n",
       "      <td>2</td>\n",
       "      <td>2</td>\n",
       "      <td>...</td>\n",
       "      <td>0</td>\n",
       "      <td>0</td>\n",
       "      <td>0</td>\n",
       "      <td>0</td>\n",
       "      <td>0</td>\n",
       "      <td>0</td>\n",
       "      <td>1</td>\n",
       "      <td>0</td>\n",
       "      <td>1</td>\n",
       "      <td>0</td>\n",
       "      <td>1</td>\n",
       "      <td>0</td>\n",
       "    </tr>\n",
       "    <tr>\n",
       "      <th>943</th>\n",
       "      <td>0</td>\n",
       "      <td>132</td>\n",
       "      <td>0</td>\n",
       "      <td>191.9</td>\n",
       "      <td>107</td>\n",
       "      <td>206.9</td>\n",
       "      <td>127</td>\n",
       "      <td>272.0</td>\n",
       "      <td>88</td>\n",
       "      <td>12.6</td>\n",
       "      <td>2</td>\n",
       "      <td>1</td>\n",
       "      <td>...</td>\n",
       "      <td>0</td>\n",
       "      <td>0</td>\n",
       "      <td>0</td>\n",
       "      <td>0</td>\n",
       "      <td>0</td>\n",
       "      <td>0</td>\n",
       "      <td>0</td>\n",
       "      <td>1</td>\n",
       "      <td>1</td>\n",
       "      <td>0</td>\n",
       "      <td>1</td>\n",
       "      <td>0</td>\n",
       "    </tr>\n",
       "    <tr>\n",
       "      <th>693</th>\n",
       "      <td>0</td>\n",
       "      <td>92</td>\n",
       "      <td>29</td>\n",
       "      <td>155.4</td>\n",
       "      <td>110</td>\n",
       "      <td>188.5</td>\n",
       "      <td>104</td>\n",
       "      <td>254.9</td>\n",
       "      <td>118</td>\n",
       "      <td>8.0</td>\n",
       "      <td>4</td>\n",
       "      <td>3</td>\n",
       "      <td>...</td>\n",
       "      <td>0</td>\n",
       "      <td>0</td>\n",
       "      <td>0</td>\n",
       "      <td>0</td>\n",
       "      <td>0</td>\n",
       "      <td>0</td>\n",
       "      <td>0</td>\n",
       "      <td>1</td>\n",
       "      <td>1</td>\n",
       "      <td>0</td>\n",
       "      <td>0</td>\n",
       "      <td>1</td>\n",
       "    </tr>\n",
       "  </tbody>\n",
       "</table>\n",
       "<p>5 rows × 70 columns</p>\n",
       "</div>"
      ],
      "text/plain": [
       "      Churn?_True.  Account Length  VMail Message  Day Mins  Day Calls  \\\n",
       "1095             0             106              0     274.4        120   \n",
       "608              0              28              0     187.8         94   \n",
       "2908             1             148              0     279.3        104   \n",
       "943              0             132              0     191.9        107   \n",
       "693              0              92             29     155.4        110   \n",
       "\n",
       "      Eve Mins  Eve Calls  Night Mins  Night Calls  Intl Mins  Intl Calls  \\\n",
       "1095     198.6         82       160.8           62        6.0           3   \n",
       "608      248.6         86       208.8          124       10.6           5   \n",
       "2908     201.6         87       280.8           99        7.9           2   \n",
       "943      206.9        127       272.0           88       12.6           2   \n",
       "693      188.5        104       254.9          118        8.0           4   \n",
       "\n",
       "      CustServ Calls  ...  State_VT  State_WA  State_WI  State_WV  State_WY  \\\n",
       "1095               1  ...         0         0         0         0         0   \n",
       "608                0  ...         0         0         0         0         1   \n",
       "2908               2  ...         0         0         0         0         0   \n",
       "943                1  ...         0         0         0         0         0   \n",
       "693                3  ...         0         0         0         0         0   \n",
       "\n",
       "      Area Code_408  Area Code_415  Area Code_510  Int'l Plan_no  \\\n",
       "1095              0              0              1              1   \n",
       "608               0              1              0              1   \n",
       "2908              0              1              0              1   \n",
       "943               0              0              1              1   \n",
       "693               0              0              1              1   \n",
       "\n",
       "      Int'l Plan_yes  VMail Plan_no  VMail Plan_yes  \n",
       "1095               0              1               0  \n",
       "608                0              1               0  \n",
       "2908               0              1               0  \n",
       "943                0              1               0  \n",
       "693                0              0               1  \n",
       "\n",
       "[5 rows x 70 columns]"
      ]
     },
     "execution_count": 12,
     "metadata": {},
     "output_type": "execute_result"
    }
   ],
   "source": [
    "train_data.head()"
   ]
  },
  {
   "cell_type": "code",
   "execution_count": 13,
   "metadata": {},
   "outputs": [
    {
     "data": {
      "text/plain": [
       "Index(['Churn?_True.', 'Account Length', 'VMail Message', 'Day Mins',\n",
       "       'Day Calls', 'Eve Mins', 'Eve Calls', 'Night Mins', 'Night Calls',\n",
       "       'Intl Mins', 'Intl Calls', 'CustServ Calls', 'State_AK', 'State_AL',\n",
       "       'State_AR', 'State_AZ', 'State_CA', 'State_CO', 'State_CT', 'State_DC',\n",
       "       'State_DE', 'State_FL', 'State_GA', 'State_HI', 'State_IA', 'State_ID',\n",
       "       'State_IL', 'State_IN', 'State_KS', 'State_KY', 'State_LA', 'State_MA',\n",
       "       'State_MD', 'State_ME', 'State_MI', 'State_MN', 'State_MO', 'State_MS',\n",
       "       'State_MT', 'State_NC', 'State_ND', 'State_NE', 'State_NH', 'State_NJ',\n",
       "       'State_NM', 'State_NV', 'State_NY', 'State_OH', 'State_OK', 'State_OR',\n",
       "       'State_PA', 'State_RI', 'State_SC', 'State_SD', 'State_TN', 'State_TX',\n",
       "       'State_UT', 'State_VA', 'State_VT', 'State_WA', 'State_WI', 'State_WV',\n",
       "       'State_WY', 'Area Code_408', 'Area Code_415', 'Area Code_510',\n",
       "       'Int'l Plan_no', 'Int'l Plan_yes', 'VMail Plan_no', 'VMail Plan_yes'],\n",
       "      dtype='object')"
      ]
     },
     "execution_count": 13,
     "metadata": {},
     "output_type": "execute_result"
    }
   ],
   "source": [
    "train_data.columns"
   ]
  },
  {
   "cell_type": "markdown",
   "metadata": {},
   "source": [
    "Now we'll upload these files to S3."
   ]
  },
  {
   "cell_type": "code",
   "execution_count": 14,
   "metadata": {},
   "outputs": [],
   "source": [
    "boto3.Session().resource('s3').Bucket(bucket).Object(os.path.join(prefix, 'train/train.csv')).upload_file('train.csv')\n",
    "boto3.Session().resource('s3').Bucket(bucket).Object(os.path.join(prefix, 'validation/validation.csv')).upload_file('validation.csv')"
   ]
  },
  {
   "cell_type": "markdown",
   "metadata": {},
   "source": [
    "---\n",
    "## Train\n",
    "\n",
    "Moving onto training, first we'll need to specify the locations of the XGBoost algorithm containers.\n",
    "\n",
    "_This section is identical to the original notebook, [Amazon SageMaker Examples - Customer Churn](https://github.com/awslabs/amazon-sagemaker-examples/tree/master/introduction_to_applying_machine_learning/xgboost_customer_churn)._  "
   ]
  },
  {
   "cell_type": "code",
   "execution_count": 15,
   "metadata": {},
   "outputs": [
    {
     "name": "stderr",
     "output_type": "stream",
     "text": [
      "'get_image_uri' method will be deprecated in favor of 'ImageURIProvider' class in SageMaker Python SDK v2.\n"
     ]
    },
    {
     "name": "stdout",
     "output_type": "stream",
     "text": [
      "246618743249.dkr.ecr.us-west-2.amazonaws.com/sagemaker-xgboost:1.0-1-cpu-py3\n"
     ]
    }
   ],
   "source": [
    "from sagemaker.amazon.amazon_estimator import get_image_uri\n",
    "container = get_image_uri(boto3.Session().region_name, 'xgboost', repo_version = '1.0-1')\n",
    "print(container)"
   ]
  },
  {
   "cell_type": "markdown",
   "metadata": {},
   "source": [
    "Then, because we're training with the CSV file format, we'll create `s3_input`s that our training function can use as a pointer to the files in S3."
   ]
  },
  {
   "cell_type": "code",
   "execution_count": 16,
   "metadata": {},
   "outputs": [
    {
     "name": "stderr",
     "output_type": "stream",
     "text": [
      "'s3_input' class will be renamed to 'TrainingInput' in SageMaker Python SDK v2.\n",
      "'s3_input' class will be renamed to 'TrainingInput' in SageMaker Python SDK v2.\n"
     ]
    }
   ],
   "source": [
    "s3_input_train = sagemaker.s3_input(s3_data='s3://{}/{}/train'.format(bucket, prefix), content_type='csv')\n",
    "s3_input_validation = sagemaker.s3_input(s3_data='s3://{}/{}/validation/'.format(bucket, prefix), content_type='csv')"
   ]
  },
  {
   "cell_type": "markdown",
   "metadata": {},
   "source": [
    "Now, we can specify a few parameters like what type of training instances we'd like to use and how many, as well as our XGBoost hyperparameters. \n",
    "More detail on XGBoost's hyperparmeters can be found on their GitHub [page](https://github.com/dmlc/xgboost/blob/master/doc/parameter.md)."
   ]
  },
  {
   "cell_type": "code",
   "execution_count": 17,
   "metadata": {},
   "outputs": [
    {
     "name": "stderr",
     "output_type": "stream",
     "text": [
      "Parameter image_name will be renamed to image_uri in SageMaker Python SDK v2.\n"
     ]
    },
    {
     "name": "stdout",
     "output_type": "stream",
     "text": [
      "2020-08-28 00:46:51 Starting - Starting the training job...\n",
      "2020-08-28 00:46:53 Starting - Launching requested ML instances......\n",
      "2020-08-28 00:48:04 Starting - Preparing the instances for training......\n",
      "2020-08-28 00:49:11 Downloading - Downloading input data\n",
      "2020-08-28 00:49:11 Training - Downloading the training image...\n",
      "2020-08-28 00:49:48 Training - Training image download completed. Training in progress..\u001b[34mINFO:sagemaker-containers:Imported framework sagemaker_xgboost_container.training\u001b[0m\n",
      "\u001b[34mINFO:sagemaker-containers:Failed to parse hyperparameter objective value binary:logistic to Json.\u001b[0m\n",
      "\u001b[34mReturning the value itself\u001b[0m\n",
      "\u001b[34mINFO:sagemaker-containers:No GPUs detected (normal if no gpus installed)\u001b[0m\n",
      "\u001b[34mINFO:sagemaker_xgboost_container.training:Running XGBoost Sagemaker in algorithm mode\u001b[0m\n",
      "\u001b[34mINFO:root:Determined delimiter of CSV input is ','\u001b[0m\n",
      "\u001b[34mINFO:root:Determined delimiter of CSV input is ','\u001b[0m\n",
      "\u001b[34mINFO:root:Determined delimiter of CSV input is ','\u001b[0m\n",
      "\u001b[34m[00:49:51] 2333x69 matrix with 160977 entries loaded from /opt/ml/input/data/train?format=csv&label_column=0&delimiter=,\u001b[0m\n",
      "\u001b[34mINFO:root:Determined delimiter of CSV input is ','\u001b[0m\n",
      "\u001b[34m[00:49:51] 666x69 matrix with 45954 entries loaded from /opt/ml/input/data/validation?format=csv&label_column=0&delimiter=,\u001b[0m\n",
      "\u001b[34mINFO:root:Single node training.\u001b[0m\n",
      "\u001b[34mINFO:root:Train matrix has 2333 rows\u001b[0m\n",
      "\u001b[34mINFO:root:Validation matrix has 666 rows\u001b[0m\n",
      "\u001b[34m[00:49:51] WARNING: /workspace/src/learner.cc:328: \u001b[0m\n",
      "\u001b[34mParameters: { num_round, silent } might not be used.\n",
      "\n",
      "  This may not be accurate due to some parameters are only used in language bindings but\n",
      "  passed down to XGBoost core.  Or some parameters are not used but slip through this\n",
      "  verification. Please open an issue if you find above cases.\n",
      "\n",
      "\u001b[0m\n",
      "\u001b[34m[0]#011train-error:0.07715#011validation-error:0.09910\u001b[0m\n",
      "\u001b[34m[1]#011train-error:0.05058#011validation-error:0.08108\u001b[0m\n",
      "\u001b[34m[2]#011train-error:0.04886#011validation-error:0.07508\u001b[0m\n",
      "\u001b[34m[3]#011train-error:0.04672#011validation-error:0.07207\u001b[0m\n",
      "\u001b[34m[4]#011train-error:0.04801#011validation-error:0.07357\u001b[0m\n",
      "\u001b[34m[5]#011train-error:0.04672#011validation-error:0.07057\u001b[0m\n",
      "\u001b[34m[6]#011train-error:0.04544#011validation-error:0.07357\u001b[0m\n",
      "\u001b[34m[7]#011train-error:0.04372#011validation-error:0.06907\u001b[0m\n",
      "\u001b[34m[8]#011train-error:0.04501#011validation-error:0.06907\u001b[0m\n",
      "\u001b[34m[9]#011train-error:0.04244#011validation-error:0.06607\u001b[0m\n",
      "\u001b[34m[10]#011train-error:0.04029#011validation-error:0.06456\u001b[0m\n",
      "\u001b[34m[11]#011train-error:0.03901#011validation-error:0.06757\u001b[0m\n",
      "\u001b[34m[12]#011train-error:0.03858#011validation-error:0.06456\u001b[0m\n",
      "\u001b[34m[13]#011train-error:0.03772#011validation-error:0.06456\u001b[0m\n",
      "\u001b[34m[14]#011train-error:0.03772#011validation-error:0.06607\u001b[0m\n",
      "\u001b[34m[15]#011train-error:0.03943#011validation-error:0.06757\u001b[0m\n",
      "\u001b[34m[16]#011train-error:0.03858#011validation-error:0.06306\u001b[0m\n",
      "\u001b[34m[17]#011train-error:0.03772#011validation-error:0.06456\u001b[0m\n",
      "\u001b[34m[18]#011train-error:0.03943#011validation-error:0.06306\u001b[0m\n",
      "\u001b[34m[19]#011train-error:0.03986#011validation-error:0.06006\u001b[0m\n",
      "\u001b[34m[20]#011train-error:0.03943#011validation-error:0.06306\u001b[0m\n",
      "\u001b[34m[21]#011train-error:0.03858#011validation-error:0.06306\u001b[0m\n",
      "\u001b[34m[22]#011train-error:0.03815#011validation-error:0.06607\u001b[0m\n",
      "\u001b[34m[23]#011train-error:0.03686#011validation-error:0.06757\u001b[0m\n",
      "\u001b[34m[24]#011train-error:0.03601#011validation-error:0.06757\u001b[0m\n",
      "\u001b[34m[25]#011train-error:0.03429#011validation-error:0.06757\u001b[0m\n",
      "\u001b[34m[26]#011train-error:0.03386#011validation-error:0.06907\u001b[0m\n",
      "\u001b[34m[27]#011train-error:0.03386#011validation-error:0.06907\u001b[0m\n",
      "\u001b[34m[28]#011train-error:0.03386#011validation-error:0.06757\u001b[0m\n",
      "\u001b[34m[29]#011train-error:0.03386#011validation-error:0.07207\u001b[0m\n",
      "\u001b[34m[30]#011train-error:0.03386#011validation-error:0.07057\u001b[0m\n",
      "\u001b[34m[31]#011train-error:0.03429#011validation-error:0.07207\u001b[0m\n",
      "\u001b[34m[32]#011train-error:0.03472#011validation-error:0.07057\u001b[0m\n",
      "\u001b[34m[33]#011train-error:0.03472#011validation-error:0.06907\u001b[0m\n",
      "\u001b[34m[34]#011train-error:0.03300#011validation-error:0.06907\u001b[0m\n",
      "\u001b[34m[35]#011train-error:0.03386#011validation-error:0.06907\u001b[0m\n",
      "\u001b[34m[36]#011train-error:0.03386#011validation-error:0.06907\u001b[0m\n",
      "\u001b[34m[37]#011train-error:0.03300#011validation-error:0.06757\u001b[0m\n",
      "\u001b[34m[38]#011train-error:0.03343#011validation-error:0.06757\u001b[0m\n",
      "\u001b[34m[39]#011train-error:0.03300#011validation-error:0.06757\u001b[0m\n",
      "\u001b[34m[40]#011train-error:0.03172#011validation-error:0.06907\u001b[0m\n",
      "\u001b[34m[41]#011train-error:0.03172#011validation-error:0.06907\u001b[0m\n",
      "\u001b[34m[42]#011train-error:0.03086#011validation-error:0.06907\u001b[0m\n",
      "\u001b[34m[43]#011train-error:0.03129#011validation-error:0.06907\u001b[0m\n",
      "\u001b[34m[44]#011train-error:0.03086#011validation-error:0.06757\u001b[0m\n",
      "\u001b[34m[45]#011train-error:0.03129#011validation-error:0.06757\u001b[0m\n",
      "\u001b[34m[46]#011train-error:0.03086#011validation-error:0.06607\u001b[0m\n",
      "\u001b[34m[47]#011train-error:0.03086#011validation-error:0.06607\u001b[0m\n",
      "\u001b[34m[48]#011train-error:0.03043#011validation-error:0.06607\u001b[0m\n",
      "\u001b[34m[49]#011train-error:0.03000#011validation-error:0.06757\u001b[0m\n",
      "\u001b[34m[50]#011train-error:0.03000#011validation-error:0.06757\u001b[0m\n",
      "\u001b[34m[51]#011train-error:0.03000#011validation-error:0.06607\u001b[0m\n",
      "\u001b[34m[52]#011train-error:0.03000#011validation-error:0.06607\u001b[0m\n",
      "\u001b[34m[53]#011train-error:0.03000#011validation-error:0.06607\u001b[0m\n",
      "\u001b[34m[54]#011train-error:0.03000#011validation-error:0.06607\u001b[0m\n",
      "\u001b[34m[55]#011train-error:0.03043#011validation-error:0.06757\u001b[0m\n",
      "\u001b[34m[56]#011train-error:0.03043#011validation-error:0.06757\u001b[0m\n",
      "\u001b[34m[57]#011train-error:0.03043#011validation-error:0.06757\u001b[0m\n",
      "\u001b[34m[58]#011train-error:0.03043#011validation-error:0.06757\u001b[0m\n",
      "\u001b[34m[59]#011train-error:0.03043#011validation-error:0.06757\u001b[0m\n",
      "\u001b[34m[60]#011train-error:0.03043#011validation-error:0.06757\u001b[0m\n",
      "\u001b[34m[61]#011train-error:0.03043#011validation-error:0.06757\u001b[0m\n",
      "\u001b[34m[62]#011train-error:0.03043#011validation-error:0.06757\u001b[0m\n",
      "\u001b[34m[63]#011train-error:0.03043#011validation-error:0.06757\u001b[0m\n",
      "\u001b[34m[64]#011train-error:0.03043#011validation-error:0.06757\u001b[0m\n",
      "\u001b[34m[65]#011train-error:0.03043#011validation-error:0.06757\u001b[0m\n",
      "\u001b[34m[66]#011train-error:0.03043#011validation-error:0.06757\u001b[0m\n",
      "\u001b[34m[67]#011train-error:0.03043#011validation-error:0.06757\u001b[0m\n",
      "\u001b[34m[68]#011train-error:0.02915#011validation-error:0.06757\u001b[0m\n",
      "\u001b[34m[69]#011train-error:0.02915#011validation-error:0.06607\u001b[0m\n",
      "\u001b[34m[70]#011train-error:0.02915#011validation-error:0.06757\u001b[0m\n",
      "\u001b[34m[71]#011train-error:0.02872#011validation-error:0.06607\u001b[0m\n",
      "\u001b[34m[72]#011train-error:0.02915#011validation-error:0.06607\u001b[0m\n",
      "\u001b[34m[73]#011train-error:0.02915#011validation-error:0.06607\u001b[0m\n",
      "\u001b[34m[74]#011train-error:0.02915#011validation-error:0.06607\u001b[0m\n",
      "\u001b[34m[75]#011train-error:0.02915#011validation-error:0.06607\u001b[0m\n",
      "\u001b[34m[76]#011train-error:0.02915#011validation-error:0.06607\u001b[0m\n",
      "\u001b[34m[77]#011train-error:0.02915#011validation-error:0.06607\u001b[0m\n",
      "\u001b[34m[78]#011train-error:0.02958#011validation-error:0.06607\u001b[0m\n",
      "\u001b[34m[79]#011train-error:0.03000#011validation-error:0.06607\u001b[0m\n",
      "\u001b[34m[80]#011train-error:0.02958#011validation-error:0.06607\u001b[0m\n",
      "\u001b[34m[81]#011train-error:0.02829#011validation-error:0.06607\u001b[0m\n",
      "\u001b[34m[82]#011train-error:0.02829#011validation-error:0.06607\u001b[0m\n",
      "\u001b[34m[83]#011train-error:0.02829#011validation-error:0.06607\u001b[0m\n",
      "\u001b[34m[84]#011train-error:0.02786#011validation-error:0.06607\u001b[0m\n",
      "\u001b[34m[85]#011train-error:0.02786#011validation-error:0.06607\u001b[0m\n",
      "\u001b[34m[86]#011train-error:0.02786#011validation-error:0.06607\u001b[0m\n",
      "\u001b[34m[87]#011train-error:0.02786#011validation-error:0.06607\u001b[0m\n",
      "\u001b[34m[88]#011train-error:0.02829#011validation-error:0.06607\u001b[0m\n",
      "\u001b[34m[89]#011train-error:0.02829#011validation-error:0.06607\u001b[0m\n",
      "\u001b[34m[90]#011train-error:0.02786#011validation-error:0.06607\u001b[0m\n",
      "\u001b[34m[91]#011train-error:0.02786#011validation-error:0.06607\u001b[0m\n",
      "\u001b[34m[92]#011train-error:0.02829#011validation-error:0.06607\u001b[0m\n",
      "\u001b[34m[93]#011train-error:0.02786#011validation-error:0.06607\u001b[0m\n",
      "\u001b[34m[94]#011train-error:0.02786#011validation-error:0.06607\u001b[0m\n",
      "\u001b[34m[95]#011train-error:0.02786#011validation-error:0.06607\u001b[0m\n",
      "\u001b[34m[96]#011train-error:0.02829#011validation-error:0.06607\u001b[0m\n",
      "\u001b[34m[97]#011train-error:0.02829#011validation-error:0.06607\u001b[0m\n",
      "\u001b[34m[98]#011train-error:0.02829#011validation-error:0.06607\u001b[0m\n",
      "\u001b[34m[99]#011train-error:0.02829#011validation-error:0.06607\u001b[0m\n",
      "\n",
      "2020-08-28 00:50:01 Uploading - Uploading generated training model\n",
      "2020-08-28 00:50:01 Completed - Training job completed\n",
      "Training seconds: 67\n",
      "Billable seconds: 67\n"
     ]
    }
   ],
   "source": [
    "sess = sagemaker.Session()\n",
    "\n",
    "xgb = sagemaker.estimator.Estimator(container,\n",
    "                                    role, \n",
    "                                    train_instance_count=1, \n",
    "                                    train_instance_type='ml.m4.xlarge',\n",
    "                                    output_path='s3://{}/{}/output'.format(bucket, prefix),\n",
    "                                    sagemaker_session=sess)\n",
    "xgb.set_hyperparameters(max_depth=5,\n",
    "                        eta=0.2,\n",
    "                        gamma=4,\n",
    "                        min_child_weight=6,\n",
    "                        subsample=0.8,\n",
    "                        silent=0,\n",
    "                        objective='binary:logistic',\n",
    "                        num_round=100)\n",
    "\n",
    "xgb.fit({'train': s3_input_train, 'validation': s3_input_validation}) "
   ]
  },
  {
   "cell_type": "markdown",
   "metadata": {},
   "source": [
    "---\n",
    "## Host\n",
    "\n",
    "Now that we've trained the algorithm, let's create a model and deploy it to a hosted endpoint."
   ]
  },
  {
   "cell_type": "code",
   "execution_count": 19,
   "metadata": {},
   "outputs": [
    {
     "name": "stderr",
     "output_type": "stream",
     "text": [
      "Parameter image will be renamed to image_uri in SageMaker Python SDK v2.\n"
     ]
    },
    {
     "name": "stdout",
     "output_type": "stream",
     "text": [
      "-------------!"
     ]
    }
   ],
   "source": [
    "xgb_predictor = xgb.deploy(initial_instance_count = 1, instance_type = 'ml.m4.xlarge', endpoint_name='prevent-churn-oda')"
   ]
  },
  {
   "cell_type": "markdown",
   "metadata": {},
   "source": [
    "### Evaluate\n",
    "\n",
    "_This section has minor changes from the original notebook, to set up for the next section. We save the input file, and then add the predictions as a column, so that all customer data is available to us in addition to the prediction._  \n",
    "\n",
    "Now that we have a hosted endpoint running, we can make real-time predictions from our model very easily, simply by making an http POST request.  But first, we'll need to setup serializers and deserializers for passing our `test_data` NumPy arrays to the model behind the endpoint."
   ]
  },
  {
   "cell_type": "code",
   "execution_count": 20,
   "metadata": {},
   "outputs": [],
   "source": [
    "xgb_predictor.content_type = 'text/csv'\n",
    "xgb_predictor.serializer = csv_serializer\n",
    "xgb_predictor.deserializer = None"
   ]
  },
  {
   "cell_type": "markdown",
   "metadata": {},
   "source": [
    "For simpler traceability to our original dataset given our focus on optimization rather than on improving the ML model, we'll take a section of our saved dataset and use that to make predictions. "
   ]
  },
  {
   "cell_type": "code",
   "execution_count": 21,
   "metadata": {},
   "outputs": [
    {
     "data": {
      "text/plain": [
       "(1500, 75)"
      ]
     },
     "execution_count": 21,
     "metadata": {},
     "output_type": "execute_result"
    }
   ],
   "source": [
    "N = 1500 \n",
    "\n",
    "churn_sample = churn_save.sample(N)\n",
    "# Convert this subset to dummies for use in inference; but remove columns that may cause dimension explosion\n",
    "# Note that dummies can be problematic, as all categorical variables must be represented as with the full dataset.\n",
    "churn_sample_dummies = pd.get_dummies(churn_sample.drop(['Phone', 'Total Customer Spend'], axis=1))\n",
    "churn_sample_dummies.shape"
   ]
  },
  {
   "cell_type": "markdown",
   "metadata": {},
   "source": [
    "Now, we'll use a simple function to:\n",
    "1. Loop over our test dataset\n",
    "1. Split it into mini-batches of rows \n",
    "1. Convert those mini-batchs to CSV string payloads\n",
    "1. Retrieve mini-batch predictions by invoking the XGBoost endpoint\n",
    "1. Collect predictions and convert from the CSV output our model provides into a NumPy array"
   ]
  },
  {
   "cell_type": "code",
   "execution_count": 22,
   "metadata": {},
   "outputs": [
    {
     "data": {
      "text/plain": [
       "array([0.08631791, 0.14205045, 0.03817179, ..., 0.04258348, 0.15909368,\n",
       "       0.89470887])"
      ]
     },
     "execution_count": 22,
     "metadata": {},
     "output_type": "execute_result"
    }
   ],
   "source": [
    "# This version of 'predict' allows us to pass a dataset with more columns, and a list of the columns to be used in the prediction\n",
    "def predict_cost(data, columns, rows=500):\n",
    "    test_data = data[columns]\n",
    "    test_data_nolab = test_data.values[:, 1:]\n",
    "    split_array = np.array_split(test_data_nolab, int(test_data_nolab.shape[0] / float(rows) + 1))\n",
    "    predictions = ''\n",
    "    for array in split_array:\n",
    "        predictions = ','.join([predictions, xgb_predictor.predict(array).decode('utf-8')])\n",
    "\n",
    "    return np.fromstring(predictions[1:], sep=',')\n",
    "\n",
    "predictions = predict_cost(churn_sample_dummies, test_data.columns)\n",
    "predictions"
   ]
  },
  {
   "cell_type": "code",
   "execution_count": 23,
   "metadata": {},
   "outputs": [
    {
     "data": {
      "text/html": [
       "<div>\n",
       "<style scoped>\n",
       "    .dataframe tbody tr th:only-of-type {\n",
       "        vertical-align: middle;\n",
       "    }\n",
       "\n",
       "    .dataframe tbody tr th {\n",
       "        vertical-align: top;\n",
       "    }\n",
       "\n",
       "    .dataframe thead th {\n",
       "        text-align: right;\n",
       "    }\n",
       "</style>\n",
       "<table border=\"1\" class=\"dataframe\">\n",
       "  <thead>\n",
       "    <tr style=\"text-align: right;\">\n",
       "      <th></th>\n",
       "      <th>State</th>\n",
       "      <th>Account Length</th>\n",
       "      <th>Area Code</th>\n",
       "      <th>Phone</th>\n",
       "      <th>Int'l Plan</th>\n",
       "      <th>VMail Plan</th>\n",
       "      <th>VMail Message</th>\n",
       "      <th>Day Mins</th>\n",
       "      <th>Day Calls</th>\n",
       "      <th>Day Charge</th>\n",
       "      <th>Eve Mins</th>\n",
       "      <th>Eve Calls</th>\n",
       "      <th>Eve Charge</th>\n",
       "      <th>Night Mins</th>\n",
       "      <th>Night Calls</th>\n",
       "      <th>Night Charge</th>\n",
       "      <th>Intl Mins</th>\n",
       "      <th>Intl Calls</th>\n",
       "      <th>Intl Charge</th>\n",
       "      <th>CustServ Calls</th>\n",
       "      <th>Churn?</th>\n",
       "      <th>Total Customer Spend</th>\n",
       "      <th>Churn Probability</th>\n",
       "    </tr>\n",
       "  </thead>\n",
       "  <tbody>\n",
       "    <tr>\n",
       "      <th>913</th>\n",
       "      <td>GA</td>\n",
       "      <td>50</td>\n",
       "      <td>408</td>\n",
       "      <td>377-1218</td>\n",
       "      <td>no</td>\n",
       "      <td>yes</td>\n",
       "      <td>24</td>\n",
       "      <td>214.3</td>\n",
       "      <td>129</td>\n",
       "      <td>36.43</td>\n",
       "      <td>289.8</td>\n",
       "      <td>55</td>\n",
       "      <td>24.63</td>\n",
       "      <td>312.5</td>\n",
       "      <td>130</td>\n",
       "      <td>14.06</td>\n",
       "      <td>10.6</td>\n",
       "      <td>4</td>\n",
       "      <td>2.86</td>\n",
       "      <td>1</td>\n",
       "      <td>False.</td>\n",
       "      <td>77.98</td>\n",
       "      <td>0.086318</td>\n",
       "    </tr>\n",
       "    <tr>\n",
       "      <th>97</th>\n",
       "      <td>AZ</td>\n",
       "      <td>99</td>\n",
       "      <td>415</td>\n",
       "      <td>327-3954</td>\n",
       "      <td>no</td>\n",
       "      <td>no</td>\n",
       "      <td>0</td>\n",
       "      <td>198.2</td>\n",
       "      <td>87</td>\n",
       "      <td>33.69</td>\n",
       "      <td>207.3</td>\n",
       "      <td>76</td>\n",
       "      <td>17.62</td>\n",
       "      <td>190.9</td>\n",
       "      <td>113</td>\n",
       "      <td>8.59</td>\n",
       "      <td>8.7</td>\n",
       "      <td>3</td>\n",
       "      <td>2.35</td>\n",
       "      <td>4</td>\n",
       "      <td>False.</td>\n",
       "      <td>62.25</td>\n",
       "      <td>0.142050</td>\n",
       "    </tr>\n",
       "    <tr>\n",
       "      <th>2935</th>\n",
       "      <td>DC</td>\n",
       "      <td>136</td>\n",
       "      <td>510</td>\n",
       "      <td>353-2763</td>\n",
       "      <td>no</td>\n",
       "      <td>no</td>\n",
       "      <td>0</td>\n",
       "      <td>204.5</td>\n",
       "      <td>63</td>\n",
       "      <td>34.77</td>\n",
       "      <td>208.8</td>\n",
       "      <td>95</td>\n",
       "      <td>17.75</td>\n",
       "      <td>224.0</td>\n",
       "      <td>119</td>\n",
       "      <td>10.08</td>\n",
       "      <td>9.8</td>\n",
       "      <td>2</td>\n",
       "      <td>2.65</td>\n",
       "      <td>0</td>\n",
       "      <td>False.</td>\n",
       "      <td>65.25</td>\n",
       "      <td>0.038172</td>\n",
       "    </tr>\n",
       "    <tr>\n",
       "      <th>3203</th>\n",
       "      <td>PA</td>\n",
       "      <td>142</td>\n",
       "      <td>510</td>\n",
       "      <td>340-6221</td>\n",
       "      <td>no</td>\n",
       "      <td>yes</td>\n",
       "      <td>40</td>\n",
       "      <td>230.7</td>\n",
       "      <td>101</td>\n",
       "      <td>39.22</td>\n",
       "      <td>256.8</td>\n",
       "      <td>88</td>\n",
       "      <td>21.83</td>\n",
       "      <td>263.9</td>\n",
       "      <td>92</td>\n",
       "      <td>11.88</td>\n",
       "      <td>6.4</td>\n",
       "      <td>3</td>\n",
       "      <td>1.73</td>\n",
       "      <td>1</td>\n",
       "      <td>False.</td>\n",
       "      <td>74.66</td>\n",
       "      <td>0.118553</td>\n",
       "    </tr>\n",
       "    <tr>\n",
       "      <th>1658</th>\n",
       "      <td>UT</td>\n",
       "      <td>111</td>\n",
       "      <td>510</td>\n",
       "      <td>347-4982</td>\n",
       "      <td>no</td>\n",
       "      <td>no</td>\n",
       "      <td>0</td>\n",
       "      <td>191.3</td>\n",
       "      <td>80</td>\n",
       "      <td>32.52</td>\n",
       "      <td>138.5</td>\n",
       "      <td>94</td>\n",
       "      <td>11.77</td>\n",
       "      <td>246.0</td>\n",
       "      <td>107</td>\n",
       "      <td>11.07</td>\n",
       "      <td>6.4</td>\n",
       "      <td>3</td>\n",
       "      <td>1.73</td>\n",
       "      <td>2</td>\n",
       "      <td>False.</td>\n",
       "      <td>57.09</td>\n",
       "      <td>0.018856</td>\n",
       "    </tr>\n",
       "  </tbody>\n",
       "</table>\n",
       "</div>"
      ],
      "text/plain": [
       "     State  Account Length Area Code     Phone Int'l Plan VMail Plan  \\\n",
       "913     GA              50       408  377-1218         no        yes   \n",
       "97      AZ              99       415  327-3954         no         no   \n",
       "2935    DC             136       510  353-2763         no         no   \n",
       "3203    PA             142       510  340-6221         no        yes   \n",
       "1658    UT             111       510  347-4982         no         no   \n",
       "\n",
       "      VMail Message  Day Mins  Day Calls  Day Charge  Eve Mins  Eve Calls  \\\n",
       "913              24     214.3        129       36.43     289.8         55   \n",
       "97                0     198.2         87       33.69     207.3         76   \n",
       "2935              0     204.5         63       34.77     208.8         95   \n",
       "3203             40     230.7        101       39.22     256.8         88   \n",
       "1658              0     191.3         80       32.52     138.5         94   \n",
       "\n",
       "      Eve Charge  Night Mins  Night Calls  Night Charge  Intl Mins  \\\n",
       "913        24.63       312.5          130         14.06       10.6   \n",
       "97         17.62       190.9          113          8.59        8.7   \n",
       "2935       17.75       224.0          119         10.08        9.8   \n",
       "3203       21.83       263.9           92         11.88        6.4   \n",
       "1658       11.77       246.0          107         11.07        6.4   \n",
       "\n",
       "      Intl Calls  Intl Charge  CustServ Calls  Churn?  Total Customer Spend  \\\n",
       "913            4         2.86               1  False.                 77.98   \n",
       "97             3         2.35               4  False.                 62.25   \n",
       "2935           2         2.65               0  False.                 65.25   \n",
       "3203           3         1.73               1  False.                 74.66   \n",
       "1658           3         1.73               2  False.                 57.09   \n",
       "\n",
       "      Churn Probability  \n",
       "913            0.086318  \n",
       "97             0.142050  \n",
       "2935           0.038172  \n",
       "3203           0.118553  \n",
       "1658           0.018856  "
      ]
     },
     "execution_count": 23,
     "metadata": {},
     "output_type": "execute_result"
    }
   ],
   "source": [
    "churn_sample['Churn Probability'] = predictions\n",
    "churn_sample.head(5)"
   ]
  },
  {
   "cell_type": "markdown",
   "metadata": {},
   "source": [
    "----\n",
    "## Assess and optimize\n",
    "\n",
    "_This section contains the new material, and is the focus of this blog post._  \n",
    "\n",
    "We can assess the model performance by looking at the prediction scores, as shown in the original post, [Amazon SageMaker Examples - Customer Churn](https://github.com/awslabs/amazon-sagemaker-examples/tree/master/introduction_to_applying_machine_learning/xgboost_customer_churn). \n",
    "\n",
    "While it’s usual to treat this as a binary classification problem (‘1’ or ‘0’), in fact, the real world is less binary: people become “likely to churn” for some time before they actually churn. Loss of “brand loyalty” occurs some time before someone actually buys from a competitor. There's frequently a slow rise in dissatisfaction over time before someone is finally driven to act. Providing the right incentive at the right time can reset a customer's satisfaction.\n",
    "\n",
    "So how do calculate the minimum incentive that will give the desired result? Rather than providing a single program to all customers, can we save money and gain a better outcome by using variable incentives, customized to a customer's churn probability and value? And if so, how?\n",
    "\n",
    "We can do so by building on components we've already developed so far.\n",
    "\n",
    "#### Assigning costs to our predictions\n",
    "\n",
    "What are the costs for our problem of mobile operator churn? The costs, of course, depend on the specific actions that the business takes. Let's make some assumptions here.\n",
    "\n",
    "First, we'll assign the true negatives the cost of \\\\$0. Our model essentially correctly identified a happy customer in this case, and we won’t offer them an incentive. An alternative is to assign the true negatives the actual value of the customer's spend, as this is the customer's contribution to our overall revenue. \n",
    "\n",
    "False negatives are the most problematic, because they incorrectly predict that a churning customer will stay. We lose the customer and will have to pay all the costs of acquiring a replacement customer, including foregone revenue, advertising costs, administrative costs, point of sale costs, and likely a phone hardware subsidy. A quick search on the Internet reveals that such costs typically run in the hundreds of dollars so, for the right now, let's assume $500. This is the cost we'll use for each false negative. Our marketing department should be able to give us a value to use here for the overhead, and we have the actual customer spend for each customer in our dataset. \n",
    "\n",
    "Finally, we'll give an incentive to customers that our model identifies as churning. At this point let's assume a one-time retention incentive in the amount of \\$50. This is the cost we'll apply to both true positive and false positive outcomes. In the case of false positives (the customer is happy, but the model mistakenly predicted churn), we will “waste” the concession. We probably could have spent those dollars more effectively, but it's possible we increased the loyalty of an already loyal customer, so that’s not so bad. We'll be revising this initial approach below.\n"
   ]
  },
  {
   "cell_type": "markdown",
   "metadata": {},
   "source": [
    "Let's look at the continuous values of our churn predictions."
   ]
  },
  {
   "cell_type": "code",
   "execution_count": 24,
   "metadata": {},
   "outputs": [
    {
     "data": {
      "text/plain": [
       "(array([1189.,   76.,   41.,   13.,   16.,   15.,   12.,   19.,   57.,\n",
       "          62.]),\n",
       " array([0.00339087, 0.10263557, 0.20188026, 0.30112495, 0.40036965,\n",
       "        0.49961434, 0.59885903, 0.69810373, 0.79734842, 0.89659311,\n",
       "        0.99583781]),\n",
       " <a list of 10 Patch objects>)"
      ]
     },
     "execution_count": 24,
     "metadata": {},
     "output_type": "execute_result"
    },
    {
     "data": {
      "text/plain": [
       "Text(0.5, 0, 'Churn prediction score')"
      ]
     },
     "execution_count": 24,
     "metadata": {},
     "output_type": "execute_result"
    },
    {
     "data": {
      "text/plain": [
       "Text(0, 0.5, 'Number of customers')"
      ]
     },
     "execution_count": 24,
     "metadata": {},
     "output_type": "execute_result"
    },
    {
     "data": {
      "text/plain": [
       "Text(0.5, 1.0, 'Prediction Scores')"
      ]
     },
     "execution_count": 24,
     "metadata": {},
     "output_type": "execute_result"
    },
    {
     "data": {
      "image/png": "[encoded data removed]",
      "text/plain": [
       "<Figure size 432x288 with 1 Axes>"
      ]
     },
     "metadata": {
      "needs_background": "light"
     },
     "output_type": "display_data"
    }
   ],
   "source": [
    "plt.hist(predictions)\n",
    "plt.xlabel('Churn prediction score')\n",
    "plt.ylabel('Number of customers')\n",
    "plt.title('Prediction Scores')\n",
    "plt.show()"
   ]
  },
  {
   "cell_type": "markdown",
   "metadata": {},
   "source": [
    "#### Mapping the customer churn threshold\n",
    "\n",
    "In previous versions of this notebook, we've shown the effect of false negatives that are substantially more costly than false positives. Instead of optimizing for error based on the number of customers, we've used a cost function that looks like this:\n",
    "\n",
    "```txt\n",
    "cost_of_replacing_customer * FN(C) + customer_value * TN(C) + incentive_offered * FP(C) + incentive_offered * TP(C)\n",
    "```\n",
    "\n",
    "FN(C) means that the false negative percentage is a function of the cutoff, C, and similar for TN, FP, and TP.  We'd like to find the cutoff, C, where the result of the expression is smallest.\n",
    "\n",
    "Right now we'll start by using the same values for all customers, to give us a starting point for discussion with the business. With the estimates we'll use for right now, this equation becomes:\n",
    "\n",
    "```txt\n",
    "$500 * FN(C) + $0 * TN(C) + $50 * FP(C) + $50 * TP(C)\n",
    "```\n",
    "\n",
    "A straightforward way to understand the impact of these numbers is to simply run a simulation over a large number of possible cutoffs.  We test 100 possible values in the for loop below."
   ]
  },
  {
   "cell_type": "code",
   "execution_count": 25,
   "metadata": {},
   "outputs": [
    {
     "data": {
      "text/plain": [
       "[<matplotlib.lines.Line2D at 0x7f7f04234f60>]"
      ]
     },
     "execution_count": 25,
     "metadata": {},
     "output_type": "execute_result"
    },
    {
     "data": {
      "text/plain": [
       "Text(0.5, 0, 'Threshold')"
      ]
     },
     "execution_count": 25,
     "metadata": {},
     "output_type": "execute_result"
    },
    {
     "data": {
      "text/plain": [
       "Text(0, 0.5, 'Cost')"
      ]
     },
     "execution_count": 25,
     "metadata": {},
     "output_type": "execute_result"
    },
    {
     "data": {
      "text/plain": [
       "Text(0, 0.5, 'Number of customers below cutoff')"
      ]
     },
     "execution_count": 25,
     "metadata": {},
     "output_type": "execute_result"
    },
    {
     "data": {
      "text/plain": [
       "[<matplotlib.lines.Line2D at 0x7f7efc640550>]"
      ]
     },
     "execution_count": 25,
     "metadata": {},
     "output_type": "execute_result"
    },
    {
     "data": {
      "text/plain": [
       "Text(0.5, 1.0, 'Cost versus Threshold')"
      ]
     },
     "execution_count": 25,
     "metadata": {},
     "output_type": "execute_result"
    },
    {
     "data": {
      "image/png": "[encoded data removed]",
      "text/plain": [
       "<Figure size 432x288 with 2 Axes>"
      ]
     },
     "metadata": {
      "needs_background": "light"
     },
     "output_type": "display_data"
    },
    {
     "name": "stdout",
     "output_type": "stream",
     "text": [
      "Cost is minimized near a cutoff of: 0.22 for a cost of: $ 26700 for these 1500 customers.\n",
      "Incentive is paid to 224 customers, for a total outlay of $ 11200\n",
      "Total customer spend of these customers is $ 15123.499999999998\n"
     ]
    }
   ],
   "source": [
    "import matplotlib.ticker as ticker\n",
    "cutoffs = np.arange(0.01, 1, 0.01)\n",
    "costs = []\n",
    "num_below_cutoff = []\n",
    "fn = 500\n",
    "tn = 0\n",
    "fp = 50\n",
    "tp = 50\n",
    "for c in cutoffs:\n",
    "    crsstb = pd.crosstab(index=churn_sample_dummies['Churn?_True.'],       \n",
    "                                           columns=np.where(predictions > c, 1, 0))\n",
    "    if crsstb.shape == (2,1):\n",
    "        print(crsstb.columns)\n",
    "        if crsstb.columns[0] == 0:   # Then we're missing the '1' column\n",
    "            crsstb[1] = 0\n",
    "        else:\n",
    "            crsstb[0] = 0\n",
    "    costs.append(np.sum(np.sum(np.array([[tn, tp], [fn, fp]]) * crsstb )))\n",
    "    num_below_cutoff.append(np.count_nonzero(np.where(predictions <= c, 1, 0)))\n",
    "    \n",
    "costs = np.array(costs)\n",
    "fig, ax = plt.subplots(1, 1)\n",
    "plt.plot(cutoffs, costs)\n",
    "fmt = '${x:,.0f}'\n",
    "tick = ticker.StrMethodFormatter(fmt)\n",
    "ax.yaxis.set_major_formatter(tick) \n",
    "ax.tick_params(axis='y', labelcolor='b')\n",
    "plt.xlabel('Threshold')\n",
    "ax.set_ylabel('Cost',color='b')\n",
    "\n",
    "ax2 = ax.twinx()  # instantiate a second axes that shares the same x-axis\n",
    "\n",
    "color = 'tab:blue'\n",
    "ax2.set_ylabel('Number of customers below cutoff')  \n",
    "ax2.plot(cutoffs, num_below_cutoff, color='k')\n",
    "ax2.tick_params(axis='y', labelcolor='k')\n",
    "\n",
    "plt.title('Cost versus Threshold')\n",
    "plt.show()\n",
    "dex = np.argmin(costs)\n",
    "incentives_paid_to = len(churn_sample_dummies) - num_below_cutoff[dex]\n",
    "print('Cost is minimized near a cutoff of:', cutoffs[dex], 'for a cost of: $', np.min(costs), 'for these', len(predictions), 'customers.')\n",
    "print('Incentive is paid to', incentives_paid_to,'customers, for a total outlay of $', incentives_paid_to * tp)\n",
    "print('Total customer spend of these customers is $',\n",
    "          churn_sample[churn_sample['Churn Probability'] > cutoffs[dex]]['Total Customer Spend'].sum())\n"
   ]
  },
  {
   "cell_type": "markdown",
   "metadata": {},
   "source": [
    "The above chart shows how picking a threshold too low results in costs skyrocketing as all customers are given a retention incentive.  Meanwhile, setting the threshold too high (e.g., 0.7 or above) results in too many lost customers, which ultimately grows to be nearly as costly. In between, there is a large \"grey\" area, where perhaps some more nuanced incentives would create better outcomes.  \n",
    "\n",
    "The overall cost can be minimized at \\\\$25800 by setting the cutoff to 0.21, which is substantially better than the \\\\$100k+ we would expect to lose by not taking any action.\n",
    "\n",
    "We can also calculate the dollar outlay of the program, and compare to the total spend of the customers. Here we can see that paying the incentive to all predicted churn customers will cost \\\\$12300, and that these customers spend \\\\$16324. (Your numbers may vary, depending on the specific customers randomly chosen for the sample.)  \n",
    "\n",
    "What happens if we instead have a smaller budget for our campaign? We'll choose a budget of 1% of total customer monthly spend. "
   ]
  },
  {
   "cell_type": "code",
   "execution_count": 26,
   "metadata": {},
   "outputs": [
    {
     "name": "stdout",
     "output_type": "stream",
     "text": [
      "Total budget is: $893.57\n",
      "Per customer incentive is $0.60\n"
     ]
    }
   ],
   "source": [
    "# C: Incentive Budget equal to a fixed %age of the Total revenue\n",
    "C = 0.01*np.sum(churn_sample['Total Customer Spend'].values) \n",
    "\n",
    "print('Total budget is:', '${:,.2f}'.format(C))\n",
    "incentive = C / N\n",
    "print('Per customer incentive is', '${:,.2f}'.format(incentive))"
   ]
  },
  {
   "cell_type": "code",
   "execution_count": 27,
   "metadata": {},
   "outputs": [
    {
     "data": {
      "text/plain": [
       "[<matplotlib.lines.Line2D at 0x7f7efef1b9b0>]"
      ]
     },
     "execution_count": 27,
     "metadata": {},
     "output_type": "execute_result"
    },
    {
     "data": {
      "text/plain": [
       "Text(0.5, 0, 'Threshold')"
      ]
     },
     "execution_count": 27,
     "metadata": {},
     "output_type": "execute_result"
    },
    {
     "data": {
      "text/plain": [
       "Text(0, 0.5, 'Cost')"
      ]
     },
     "execution_count": 27,
     "metadata": {},
     "output_type": "execute_result"
    },
    {
     "data": {
      "text/plain": [
       "Text(0, 0.5, 'Number of customers below cutoff')"
      ]
     },
     "execution_count": 27,
     "metadata": {},
     "output_type": "execute_result"
    },
    {
     "data": {
      "text/plain": [
       "[<matplotlib.lines.Line2D at 0x7f7efc582eb8>]"
      ]
     },
     "execution_count": 27,
     "metadata": {},
     "output_type": "execute_result"
    },
    {
     "data": {
      "text/plain": [
       "Text(0.5, 1.0, 'Cost versus Threshold')"
      ]
     },
     "execution_count": 27,
     "metadata": {},
     "output_type": "execute_result"
    },
    {
     "data": {
      "image/png": "[encoded data removed]",
      "text/plain": [
       "<Figure size 432x288 with 2 Axes>"
      ]
     },
     "metadata": {
      "needs_background": "light"
     },
     "output_type": "display_data"
    },
    {
     "name": "stdout",
     "output_type": "stream",
     "text": [
      "Cost is minimized near a cutoff of: 0.01 for a cost of: $ 1811.9551834 for these 1500 customers.\n",
      "Incentive is paid to 1363 customers, for a total outlay of $ 811.9551834\n",
      "Total customer spend of these customers is $ 81586.3\n"
     ]
    }
   ],
   "source": [
    "import matplotlib.ticker as ticker\n",
    "cutoffs = np.arange(0.01, 1, 0.01)\n",
    "costs = []\n",
    "num_below_cutoff = []\n",
    "fn = 500\n",
    "tn = 0\n",
    "fp = incentive\n",
    "tp = incentive\n",
    "for c in cutoffs:\n",
    "    crsstb = pd.crosstab(index=churn_sample_dummies['Churn?_True.'],       \n",
    "                                           columns=np.where(predictions > c, 1, 0))\n",
    "    if crsstb.shape == (2,1):\n",
    "        print(crsstb.columns)\n",
    "        if crsstb.columns[0] == 0:   # Then we're missing the '1' column\n",
    "            crsstb[1] = 0\n",
    "        else:\n",
    "            crsstb[0] = 0\n",
    "    costs.append(np.sum(np.sum(np.array([[tn, tp], [fn, fp]]) * crsstb )))\n",
    "    num_below_cutoff.append(np.count_nonzero(np.where(predictions <= c, 1, 0)))\n",
    "    \n",
    "costs = np.array(costs)\n",
    "fig, ax = plt.subplots(1, 1)\n",
    "plt.plot(cutoffs, costs)\n",
    "fmt = '${x:,.0f}'\n",
    "tick = ticker.StrMethodFormatter(fmt)\n",
    "ax.yaxis.set_major_formatter(tick) \n",
    "ax.tick_params(axis='y', labelcolor='b')\n",
    "plt.xlabel('Threshold')\n",
    "ax.set_ylabel('Cost',color='b')\n",
    "\n",
    "ax2 = ax.twinx()  # instantiate a second axes that shares the same x-axis\n",
    "\n",
    "color = 'tab:blue'\n",
    "ax2.set_ylabel('Number of customers below cutoff')  \n",
    "ax2.plot(cutoffs, num_below_cutoff, color='k')\n",
    "ax2.tick_params(axis='y', labelcolor='k')\n",
    "\n",
    "plt.title('Cost versus Threshold')\n",
    "plt.show()\n",
    "\n",
    "dex = np.argmin(costs)\n",
    "incentives_paid_to = len(churn_sample_dummies) - num_below_cutoff[dex]\n",
    "print('Cost is minimized near a cutoff of:', cutoffs[dex], 'for a cost of: $', np.min(costs), 'for these', len(predictions), 'customers.')\n",
    "print('Incentive is paid to', incentives_paid_to,'customers, for a total outlay of $', incentives_paid_to * tp)\n",
    "print('Total customer spend of these customers is $',\n",
    "          churn_sample[churn_sample['Churn Probability'] > cutoffs[dex]]['Total Customer Spend'].sum())"
   ]
  },
  {
   "cell_type": "markdown",
   "metadata": {},
   "source": [
    "We can see that the cost to us changes. But it's pretty clear that an incentive of ~\\\\$0.60 is unlikely to change many people's minds.   \n",
    "\n",
    "For better outcomes, we could even offer a range of incentives to customers that meet different criteria. For example, it's worth more to the business to prevent a high spend customer from churning than a low spend customer. We could also target the \"grey area\" of customers that have less loyalty and could be swayed by another company's advertising. Let's explore that now. \n",
    "\n"
   ]
  },
  {
   "cell_type": "markdown",
   "metadata": {},
   "source": [
    "## Preventing customer churn using mathematical optimization of incentive programs \n",
    "\n",
    "Now let's use a more sophisticated approach to developing our customer retention program. We'd like to tailor our incentives to target the customers most likely to reconsider a \"churn\" decision. \n",
    "\n",
    "Intuitively, we know that we do not need to offer an incentive to customers with a low churn probability. Also, above some threshold, we've already lost the customer's heart and mind, even if they haven't actually left yet. So the best target for our incentive is between those two thresholds - these are the customers we can convince to stay. \n",
    "\n",
    "Let's formulate this as a mathematical optimization problem.\n",
    "\n",
    "The problem under investigation is inherently stochastic in that each customer might churn or not, and might accept the incentive (offer) or not. Stochastic programming [1, 2] is an approach for modeling optimization problems that involve uncertainty. Whereas deterministic optimization problems are formulated with known parameters, real world problems almost invariably include parameters which are unknown at the time a decision should be made. An example would be the construction of an investment portfolio to maximize return. An efficient portfolio would be defined as the portfolio that maximizes the expected return for a given amount of risk (e.g. standard deviation), or the portfolio that minimizes the risk subject to a given expected return [3].\n",
    "\n",
    "References: [1] S. Uryasev, P. M. Pardalos, Stochastic Optimization: Algorithm and Applications, Kluwer Academic: Norwell, MA, USA, 2001.\n",
    "[2] John R. Birge and François V. Louveaux. Introduction to Stochastic Programming. Springer Verlag, New York, 1997.\n",
    "[3] Francis, J. C. and Kim, D. (2013). Modern portfolio theory: Foundations, analysis, and new developments (Vol. 795). John Wiley & Sons.\n",
    "\n"
   ]
  },
  {
   "cell_type": "markdown",
   "metadata": {},
   "source": [
    "\\begin{align}\n",
    "    N & : \\text{number of customers}\n",
    "    \\\\\n",
    "    i & \\in \\{1,\\ldots,N\\}\n",
    "    \\\\\n",
    "    P_i & : \\text{profit generated by customer i}\n",
    "    \\\\\n",
    "    \\alpha_i & : \\text{probability customer i will churn}\n",
    "    \\\\\n",
    "    c_i & : \\text{discount or incentive to be offered to customer i}\n",
    "    \\\\\n",
    "    C & = \\sum^{N}_{i=1}c_i,  \\text{ total retention campaign budget}\n",
    "    \\\\\n",
    "    \\gamma_i & \\in (0,1), \\text{convincing factor for customer i}\n",
    "    \\\\\n",
    "    \\beta_i & = 1-e^{-\\gamma_i c_i}, \\text{ probability customer i will accept the discount $c_i$}\n",
    "    \\\\\n",
    "    f(c_i) & = \\sum^{N}_{i=1} P_i(1-\\alpha_i) + \\sum^{N}_{i=1} \\beta_i(\\alpha_i P_i - c_i), \\text{expected total profit}\n",
    "\\end{align}\n",
    "\n",
    "Our goal is to optimally allocate the discount 𝑐𝑖 across the 𝑁 customers in order to maximize the expected total profit. Mathematically this is equivalent to the following optimization problem:\n",
    "\\begin{aligned}\n",
    "& \\underset{c_i}{\\text{maximize}}\n",
    "& & f(c_i) \\\\\n",
    "& \\text{subject to}\n",
    "& & \\sum^{N}_{i=1}c_i \\leq C \n",
    "\\\\\n",
    "&&& c_i \\geq 0.\n",
    "\\end{aligned}\n",
    "\n",
    "For our situation:\n",
    "* We know the number of customers, N.\n",
    "* We can use their spend from their customer record as the (upper bound) estimate of the profit they generate, P.\n",
    "* We can use the churn score from our ML model as an estimate of the probability of churn, alpha. \n",
    "* The incentive, c, is what we'd like to calculate.\n",
    "* We'll use 1% of our total revenue as our campaign budget, C.\n",
    "* The probability that the customer will be swayed, beta, depends on how convincing the incentive is to the customer - which we've represented as $\\gamma$.\n",
    "\n",
    "That leaves $\\gamma$, the convincing factor to be defined, below. "
   ]
  },
  {
   "cell_type": "markdown",
   "metadata": {},
   "source": [
    "We set up our inputs: P, profit; alpha, our churn probabilities, from our model above; and C, our campaign budget. "
   ]
  },
  {
   "cell_type": "code",
   "execution_count": 28,
   "metadata": {},
   "outputs": [
    {
     "name": "stdout",
     "output_type": "stream",
     "text": [
      "Total budget is: $893.57\n"
     ]
    }
   ],
   "source": [
    "# P: vector of the total customer spend\n",
    "P = churn_sample['Total Customer Spend'].values\n",
    "# alpha: vector of churn probabilities\n",
    "alpha = churn_sample['Churn Probability'].values\n",
    "\n",
    "print('Total budget is:', '${:,.2f}'.format(C))"
   ]
  },
  {
   "cell_type": "markdown",
   "metadata": {},
   "source": [
    "Now we can add a variable (gamma) that allows us to specify how likely we think each customer is to accept the offer and not churn - that is, how convincing they find the incentive. \n",
    "\n",
    "While this is a matter of business judgment, we can use the graph above to inform that judgment. In this case, the business believes that if the churn probability is below 0.55, they are unlikely to churn, even without an incentive; on the other hand, if the customer's churn probability is above 0.95, the customer has little loyalty and is unlikely to be convinced. The real target for the incentives are the customers with churn probability between 0.55 and 0.95. \n",
    "\n",
    "We could include that business insight into the optimization by setting the value for the convincing factor $\\gamma$ as follows:\n",
    "\n",
    "- $\\gamma_i$ = 100. This is equivalent to giving less importance as deciding factor to the discount $c_i$  for customers whose churn probability $\\alpha_i$ is below 0.55 (they are loyal and less likeley to churn) and/or greater than 0.95 (they will most likely leave despite the retention campaign)\n",
    "- $\\gamma_i$ = 1. This is equivalent to saying that the probability customer i will accept the discount $c_i$ is equal to $\\beta = 1-e^{-c_i}$) for customer whose $\\alpha_i$ $\\in$ [0.55, 0.95]\n",
    "\n",
    "Once we start to offer these incentives, we can log whether or not each customer accepts the offer and remains a customer. With that information, we can learn this function from experience, and use that learned function to develop the next set of incentives.  "
   ]
  },
  {
   "cell_type": "code",
   "execution_count": 29,
   "metadata": {},
   "outputs": [
    {
     "data": {
      "text/plain": [
       "29"
      ]
     },
     "execution_count": 29,
     "metadata": {},
     "output_type": "execute_result"
    }
   ],
   "source": [
    "gamma = np.ones(N)\n",
    "len(np.where(alpha > 0.95)[0])"
   ]
  },
  {
   "cell_type": "code",
   "execution_count": 30,
   "metadata": {},
   "outputs": [
    {
     "data": {
      "text/plain": [
       "array([100., 100., 100., ..., 100., 100.,   1.])"
      ]
     },
     "execution_count": 30,
     "metadata": {},
     "output_type": "execute_result"
    }
   ],
   "source": [
    "indices_gamma_eq_zero = np.union1d(np.where(alpha > 0.95)[0], np.where(alpha < 0.55)[0])\n",
    "gamma[indices_gamma_eq_zero] = 100\n",
    "gamma"
   ]
  },
  {
   "cell_type": "markdown",
   "metadata": {},
   "source": [
    "### Solving the optimization problem"
   ]
  },
  {
   "cell_type": "markdown",
   "metadata": {},
   "source": [
    "There's a variety of open source solvers available that can solve this optimization problem for us. Examples include SciPy scipy.optimize.minimize, or faster open source solvers like GEKKO (https://gekko.readthedocs.io/en/latest/), which is what we use here. For large-scale problems, we would recommend using commercial optimization solvers like CPLEX or GUROBI."
   ]
  },
  {
   "cell_type": "code",
   "execution_count": 31,
   "metadata": {},
   "outputs": [
    {
     "name": "stdout",
     "output_type": "stream",
     "text": [
      "Collecting gekko\n",
      "  Downloading gekko-0.2.8-py3-none-any.whl (10.8 MB)\n",
      "\u001b[K     |████████████████████████████████| 10.8 MB 3.8 MB/s eta 0:00:01\n",
      "\u001b[?25hRequirement already satisfied: flask in /home/ec2-user/anaconda3/envs/python3/lib/python3.6/site-packages (from gekko) (1.1.1)\n",
      "Requirement already satisfied: numpy>=1.8 in /home/ec2-user/anaconda3/envs/python3/lib/python3.6/site-packages (from gekko) (1.18.1)\n",
      "Collecting flask-cors\n",
      "  Downloading Flask_Cors-3.0.8-py2.py3-none-any.whl (14 kB)\n",
      "Requirement already satisfied: Jinja2>=2.10.1 in /home/ec2-user/anaconda3/envs/python3/lib/python3.6/site-packages (from flask->gekko) (2.11.1)\n",
      "Requirement already satisfied: Werkzeug>=0.15 in /home/ec2-user/anaconda3/envs/python3/lib/python3.6/site-packages (from flask->gekko) (1.0.1)\n",
      "Requirement already satisfied: itsdangerous>=0.24 in /home/ec2-user/anaconda3/envs/python3/lib/python3.6/site-packages (from flask->gekko) (1.1.0)\n",
      "Requirement already satisfied: click>=5.1 in /home/ec2-user/anaconda3/envs/python3/lib/python3.6/site-packages (from flask->gekko) (7.1.1)\n",
      "Requirement already satisfied: Six in /home/ec2-user/anaconda3/envs/python3/lib/python3.6/site-packages (from flask-cors->gekko) (1.14.0)\n",
      "Requirement already satisfied: MarkupSafe>=0.23 in /home/ec2-user/anaconda3/envs/python3/lib/python3.6/site-packages (from Jinja2>=2.10.1->flask->gekko) (1.1.1)\n",
      "Installing collected packages: flask-cors, gekko\n",
      "Successfully installed flask-cors-3.0.8 gekko-0.2.8\n",
      "\u001b[33mWARNING: You are using pip version 20.0.2; however, version 20.2.2 is available.\n",
      "You should consider upgrading via the '/home/ec2-user/anaconda3/envs/python3/bin/python -m pip install --upgrade pip' command.\u001b[0m\n"
     ]
    }
   ],
   "source": [
    "!pip install gekko"
   ]
  },
  {
   "cell_type": "markdown",
   "metadata": {},
   "source": [
    "_Note! Due to the stochastic nature of the algorithm, it may occasionally not converge on a solution. In these cases it's often solved by running the algorithm again; or, as a last resort, slightly modifying the value of C has been found to help the algorithm find a solution._"
   ]
  },
  {
   "cell_type": "code",
   "execution_count": 32,
   "metadata": {},
   "outputs": [
    {
     "data": {
      "text/plain": [
       "<gekko.gekko.EquationObj at 0x7f7f042b7d30>"
      ]
     },
     "execution_count": 32,
     "metadata": {},
     "output_type": "execute_result"
    },
    {
     "name": "stdout",
     "output_type": "stream",
     "text": [
      " ----------------------------------------------------------------\n",
      " APMonitor, Version 0.9.2\n",
      " APMonitor Optimization Suite\n",
      " ----------------------------------------------------------------\n",
      " \n",
      " \n",
      " --------- APM Model Size ------------\n",
      " Each time step contains\n",
      "   Objects      :            0\n",
      "   Constants    :            0\n",
      "   Variables    :         1501\n",
      "   Intermediates:         3000\n",
      "   Connections  :            0\n",
      "   Equations    :         3002\n",
      "   Residuals    :            2\n",
      " \n",
      " Number of state variables:           1500\n",
      " Number of total equations: -            1\n",
      " Number of slack variables: -            0\n",
      " ---------------------------------------\n",
      " Degrees of freedom       :           1499\n",
      " \n",
      " solver            3  not supported\n",
      " using default solver: APOPT\n",
      " ----------------------------------------------\n",
      " Steady State Optimization with APOPT Solver\n",
      " ----------------------------------------------\n",
      " \n",
      " Iter    Objective  Convergence\n",
      "    0 -4.81147E+03  4.77485E-12\n",
      "    1 -7.47394E+03  1.13687E-13\n",
      "    2 -1.16981E+04  7.10543E-15\n",
      "    3 -1.16455E+04  4.26326E-14\n",
      "    4 -8.83350E+03  1.49214E-13\n",
      "    5 -9.28159E+03  7.10543E-15\n",
      "    6 -8.89492E+03  0.00000E+00\n",
      "    7 -1.19155E+04  1.80097E-07\n",
      "    8 -6.87825E+02  8.03724E-08\n",
      "    9 -1.13235E+04  0.00000E+00\n",
      " \n",
      " Iter    Objective  Convergence\n",
      "   10 -1.18032E+04  2.13163E-14\n",
      "   11 -1.19574E+04  3.19744E-14\n",
      "   12 -1.18852E+04  2.48690E-14\n",
      "   13 -1.20330E+04  1.77636E-14\n",
      "   14 -1.21382E+04  1.42109E-14\n",
      "   15 -1.23457E+04  6.03961E-14\n",
      "   16 -1.14126E+04  3.19744E-14\n",
      "   17 -1.16003E+04  1.77636E-14\n",
      "   18 -1.10583E+04  9.59233E-14\n",
      "   19 -6.17011E+03  1.77636E-14\n",
      " \n",
      " Iter    Objective  Convergence\n",
      "   20 -1.23492E+04  7.10543E-14\n",
      "   21 -1.21520E+04  1.27898E-13\n",
      "   22 -1.21718E+04  1.13687E-13\n",
      "   23 -1.19909E+04  4.26326E-14\n",
      "   24 -1.23984E+04  1.13687E-13\n",
      "   25 -1.24075E+04  1.42109E-14\n",
      "   26 -1.24247E+04  1.42109E-13\n",
      "   27 -1.24673E+04  0.00000E+00\n",
      "   28 -1.23035E+04  2.70006E-13\n",
      "   29 -1.18135E+04  3.69482E-13\n",
      " \n",
      " Iter    Objective  Convergence\n",
      "   30 -3.34952E+03  3.41061E-13\n",
      "   31 -1.23530E+04  2.70006E-13\n",
      "   32 -1.19112E+04  4.26326E-14\n",
      "   33 -1.24662E+04  2.13163E-13\n",
      "   34 -1.24026E+04  2.84217E-14\n",
      "   35 -1.24288E+04  4.26326E-14\n",
      "   36 -1.24267E+04  7.10543E-14\n",
      "   37 -1.24409E+04  7.10543E-14\n",
      "   38 -1.24659E+04  0.00000E+00\n",
      "   39 -1.11331E+04  1.56319E-13\n",
      " \n",
      " Iter    Objective  Convergence\n",
      "   40 -1.24485E+04  1.13687E-13\n",
      "   41 -1.24376E+04  2.84217E-14\n",
      "   42 -1.23611E+04  2.27374E-13\n",
      "   43 -1.24351E+04  1.42109E-13\n",
      "   44 -1.24223E+04  5.68434E-14\n",
      "   45 -1.24552E+04  1.42109E-13\n",
      "   46 -1.23619E+04  1.70530E-13\n",
      "   47 -1.24694E+04  5.68434E-14\n",
      "   48 -1.24395E+04  1.42109E-14\n",
      "   49 -1.24519E+04  1.42109E-14\n",
      " \n",
      " Iter    Objective  Convergence\n",
      "   50 -1.24534E+04  1.13687E-13\n",
      "   51 -1.24672E+04  5.68434E-14\n",
      "   52 -1.24694E+04  4.26326E-14\n",
      "   53 -1.24561E+04  4.26326E-14\n",
      "   54 -1.24702E+04  5.68434E-14\n",
      "   55 -1.12212E+04  1.42109E-14\n",
      "   56 -1.24692E+04  2.13163E-13\n",
      "   57 -1.24694E+04  2.70006E-13\n",
      "   58 -1.24710E+04  5.11591E-13\n",
      "   59 -1.24666E+04  1.27898E-13\n",
      " \n",
      " Iter    Objective  Convergence\n",
      "   60 -1.24680E+04  4.68958E-13\n",
      "   61 -1.24695E+04  2.55795E-13\n",
      "   62 -1.23095E+04  3.41061E-13\n",
      "   63 -1.24703E+04  4.68958E-13\n",
      "   64 -1.24532E+04  1.13687E-13\n",
      "   65 -1.24680E+04  1.84741E-13\n",
      "   66 -1.24694E+04  1.13687E-13\n",
      "   67 -1.24175E+04  1.56319E-13\n",
      "   68 -1.23470E+04  5.68434E-14\n",
      "   69 -1.24697E+04  2.84217E-14\n",
      " \n",
      " Iter    Objective  Convergence\n",
      "   70 -1.24710E+04  1.70530E-13\n",
      "   71 -1.24610E+04  1.98952E-13\n",
      "   72 -1.24457E+04  2.84217E-14\n",
      "   73 -1.24710E+04  2.55795E-13\n",
      "   74 -1.24505E+04  3.55271E-13\n",
      "   75 -1.24685E+04  2.84217E-14\n",
      "   76 -1.24705E+04  1.42109E-14\n",
      "   77 -1.24711E+04  7.10543E-14\n",
      "   78 -1.24711E+04  1.13687E-13\n",
      "   79 -1.24711E+04  1.13687E-13\n",
      " \n",
      " Iter    Objective  Convergence\n",
      "   80 -1.24710E+04  7.10543E-14\n",
      "   81 -1.24707E+04  1.13687E-13\n",
      "   82 -1.24694E+04  1.42109E-14\n",
      "   83 -1.24005E+04  1.27898E-13\n",
      "   84 -1.24689E+04  1.13687E-13\n",
      "   85 -1.24666E+04  3.83693E-13\n",
      "   86 -1.24709E+04  2.27374E-13\n",
      "   87 -1.24711E+04  7.10543E-14\n",
      "   88 -1.24711E+04  1.84741E-13\n",
      "   89 -1.24711E+04  3.83693E-13\n",
      " \n",
      " Iter    Objective  Convergence\n",
      "   90 -1.24711E+04  2.27374E-13\n",
      "   91 -1.24711E+04  5.68434E-14\n",
      "   92 -1.24711E+04  4.26326E-14\n",
      "   93 -1.24711E+04  1.42109E-13\n",
      "   94 -1.24711E+04  1.42109E-13\n",
      "   95 -1.24707E+04  2.84217E-14\n",
      "   96 -1.24711E+04  1.42109E-13\n",
      "   97 -1.24710E+04  9.94760E-14\n",
      "   98 -1.24710E+04  2.84217E-14\n",
      "   99 -1.24710E+04  1.13687E-13\n",
      " \n",
      " Iter    Objective  Convergence\n",
      "  100 -1.24676E+04  4.26326E-14\n",
      "  101 -1.24555E+04  1.13687E-13\n",
      "  102 -1.24710E+04  4.26326E-14\n",
      "  103 -1.24711E+04  8.52651E-14\n",
      "  104 -1.24711E+04  1.42109E-13\n",
      "  105 -1.24711E+04  4.26326E-14\n",
      "  106 -1.24711E+04  0.00000E+00\n",
      "  107 -1.24711E+04  5.68434E-14\n",
      "  108 -1.24711E+04  8.52651E-14\n",
      "  109 -1.24711E+04  1.42109E-13\n",
      " \n",
      " Iter    Objective  Convergence\n",
      "  110 -1.24710E+04  1.42109E-13\n",
      "  111 -1.24711E+04  1.70530E-13\n",
      "  112 -1.24711E+04  9.94760E-14\n",
      "  113 -1.24691E+04  2.84217E-14\n",
      "  114 -1.24711E+04  0.00000E+00\n",
      "  115 -1.24711E+04  8.52651E-14\n",
      "  116 -1.24088E+04  2.84217E-14\n",
      "  117 -8.34477E+03  2.84217E-14\n",
      "  118 -1.17423E+04  9.94760E-14\n",
      "  119 -1.19087E+04  2.84217E-14\n",
      " \n",
      " Iter    Objective  Convergence\n",
      "  120 -1.07721E+04  1.42109E-14\n",
      "  121 -1.19612E+04  1.56319E-13\n",
      "  122 -1.11347E+04  2.27374E-13\n",
      "  123 -1.17466E+04  8.88178E-15\n",
      "  124 -1.21940E+04  1.33227E-15\n",
      "  125 -1.23306E+04  4.44089E-15\n",
      "  126 -1.17885E+04  1.33227E-15\n",
      "  127 -1.24709E+04  2.27374E-13\n",
      "  128 -1.06476E+04  9.94760E-14\n",
      "  129 -1.24250E+04  1.13687E-13\n",
      " \n",
      " Iter    Objective  Convergence\n",
      "  130 -1.24540E+04  2.84217E-14\n",
      "  131 -1.24372E+04  1.56319E-13\n",
      "  132 -1.24229E+04  4.26326E-14\n",
      "  133 -1.24606E+04  1.42109E-14\n",
      "  134 -1.24469E+04  7.10543E-14\n",
      "  135 -1.24627E+04  1.13687E-13\n",
      "  136 -1.16485E+04  1.42109E-14\n",
      "  137 -1.24710E+04  1.42109E-14\n",
      "  138 -9.30343E+03  5.68434E-14\n",
      "  139 -1.18981E+04  1.27898E-13\n",
      " \n",
      " Iter    Objective  Convergence\n",
      "  140 -1.12718E+04  2.70006E-13\n",
      "  141 -1.22600E+04  1.42109E-13\n",
      "  142 -1.12298E+04  7.10543E-14\n",
      "  143 -1.24611E+04  1.27898E-13\n",
      "  144 -1.24225E+04  1.98952E-13\n",
      "  145 -1.23729E+04  7.10543E-14\n",
      "  146 -1.04682E+04  1.13687E-13\n",
      "  147 -1.20924E+04  5.68434E-14\n",
      "  148 -1.11509E+04  5.68434E-14\n",
      "  149 -1.16738E+04  1.42109E-14\n",
      " \n",
      " Iter    Objective  Convergence\n",
      "  150 -1.20624E+04  1.42109E-14\n",
      "  151 -1.24414E+04  1.42109E-14\n",
      "  152 -1.24527E+04  0.00000E+00\n",
      "  153 -1.18729E+04  1.42109E-14\n",
      "  154 -1.16353E+04  1.42109E-14\n",
      "  155 -1.23774E+04  1.42109E-14\n",
      "  156 -1.22544E+04  1.70530E-13\n",
      "  157 -1.24705E+04  9.94760E-14\n",
      "  158 -8.66774E+03  1.42109E-14\n",
      "  159 -1.22839E+04  1.27898E-13\n",
      " \n",
      " Iter    Objective  Convergence\n",
      "  160 -1.12396E+04  7.10543E-14\n",
      "  161 -1.24705E+04  1.98952E-13\n",
      "  162 -1.24317E+04  1.27898E-13\n",
      "  163 -1.23191E+04  7.10543E-14\n",
      "  164 -9.67644E+03  5.68434E-14\n",
      "  165 -1.21751E+04  2.84217E-14\n",
      "  166 -1.21813E+04  7.10543E-14\n",
      "  167 -1.22751E+04  2.84217E-14\n",
      "  168 -1.05263E+04  5.68434E-14\n",
      "  169 -1.24244E+04  7.10543E-14\n",
      " \n",
      " Iter    Objective  Convergence\n",
      "  170 -1.21266E+04  9.94760E-14\n",
      "  171 -1.21183E+04  1.27898E-13\n",
      "  172 -1.19652E+04  7.10543E-14\n",
      "  173 -1.23524E+04  1.13687E-13\n",
      "  174 -1.23618E+04  1.27898E-13\n",
      "  175 -1.23471E+04  2.84217E-14\n",
      "  176 -1.22438E+04  5.68434E-14\n",
      "  177 -1.24699E+04  1.56319E-13\n",
      "  178 -1.22454E+04  2.13163E-13\n",
      "  179 -1.24693E+04  1.98952E-13\n",
      " \n",
      " Iter    Objective  Convergence\n",
      "  180 -1.23172E+04  1.42109E-14\n",
      "  181 -1.24011E+04  2.13163E-13\n",
      "  182 -1.24711E+04  2.41585E-13\n",
      "  183 -1.24711E+04  2.41585E-13\n",
      " Successful solution\n",
      " \n",
      " ---------------------------------------------------\n",
      " Solver         :  IPOPT (v3.12)\n",
      " Solution time  :    128.328199999989      sec\n",
      " Objective      :   -12471.0658015244     \n",
      " Successful solution\n",
      " ---------------------------------------------------\n",
      " \n",
      "\n",
      "[[0.087191431872] [0.089943445181] [0.077092360184] ... [0.077413960003]\n",
      " [0.091585091986] [5.9918941496]]\n"
     ]
    }
   ],
   "source": [
    "from gekko import GEKKO\n",
    "m = GEKKO(remote=False)\n",
    "m.options.SOLVER = 3 #IPOPT Solver\n",
    "m.options.IMODE = 3\n",
    "\n",
    "#C=1000\n",
    "# variable array dimension\n",
    "# create array\n",
    "x = m.Array(m.Var,N)\n",
    "for i in range(N):\n",
    "    x[i].value = C / N\n",
    "    x[i].lower = 0\n",
    "    x[i].upper = 10000000\n",
    "    \n",
    "# create parameter\n",
    "budget = m.Param(value = C)\n",
    "ival_eq = [m.Intermediate(x[i]) for i in range(N)]\n",
    "#ival_eq_2 = [m.Intermediate(x[i]) for i in range(int(N/2),N)]\n",
    " \n",
    "m.Equation(sum(ival_eq)==budget)\n",
    "\n",
    "beta =  [1 - m.exp(-gamma[i] *  x[i]) for i in range(N)]\n",
    "ival = [m.Intermediate(beta[i] * (alpha[i] * P[i] - x[i])) for i in range(N)]\n",
    "#ival_2 = [m.Intermediate(beta[i] * (alpha[i] * P[i] - x[i])) for i in range(int(N/2),N)]\n",
    "m.Obj(-sum(ival))\n",
    "\n",
    "# minimize objective\n",
    "m.solve()\n",
    "print(x)"
   ]
  },
  {
   "cell_type": "code",
   "execution_count": 33,
   "metadata": {},
   "outputs": [],
   "source": [
    " # Gekko returns an array of arrays so transforming to array\n",
    "x = np.array([a[0] for a in x])"
   ]
  },
  {
   "cell_type": "markdown",
   "metadata": {},
   "source": [
    "We verify that the budget constraint C is met."
   ]
  },
  {
   "cell_type": "code",
   "execution_count": 34,
   "metadata": {},
   "outputs": [
    {
     "name": "stdout",
     "output_type": "stream",
     "text": [
      "Total spend is $893.57 compared to our budget of $893.57\n",
      "Total customer spend is $89,356.77 for 1500 customers.\n"
     ]
    }
   ],
   "source": [
    "print('Total spend is', '${:,.2f}'.format(np.sum(x)), 'compared to our budget of', '${:,.2f}'.format(C))\n",
    "print('Total customer spend is', '${:,.2f}'.format(churn_sample['Total Customer Spend'].sum()), 'for', len(churn_sample), 'customers.' )"
   ]
  },
  {
   "cell_type": "markdown",
   "metadata": {},
   "source": [
    "Now we evaluate the expected total profit for the following scenarios:\n",
    "1. Optimal discount allocation, as calculated by our optimization algorithm\n",
    "2. Uniform discount allocation - every customer is offered the same incentive\n",
    "3. No discount"
   ]
  },
  {
   "cell_type": "code",
   "execution_count": 35,
   "metadata": {},
   "outputs": [],
   "source": [
    "def expected_total_profit(x, gamma, alpha, P):\n",
    "    # beta: vector of probabilities customer will accept the offer\n",
    "    beta = 1  - np.exp(-gamma * (x))\n",
    "    \n",
    "    return np.sum(P * (1 - alpha)) + np.sum(beta * (alpha * P - x))"
   ]
  },
  {
   "cell_type": "code",
   "execution_count": 36,
   "metadata": {},
   "outputs": [],
   "source": [
    "expected_total_profit_no_campaign = expected_total_profit(0, gamma, alpha, P)\n",
    "expected_total_profit_optimal = expected_total_profit(x, gamma, alpha, P)\n",
    "expected_total_profit_uniform_campaign = expected_total_profit((C/N)*np.ones(N), gamma, alpha, P)"
   ]
  },
  {
   "cell_type": "code",
   "execution_count": 37,
   "metadata": {},
   "outputs": [
    {
     "data": {
      "text/plain": [
       "<Figure size 720x432 with 0 Axes>"
      ]
     },
     "execution_count": 37,
     "metadata": {},
     "output_type": "execute_result"
    },
    {
     "data": {
      "text/plain": [
       "([<matplotlib.axis.XTick at 0x7f7f04448390>,\n",
       "  <matplotlib.axis.XTick at 0x7f7f04367be0>,\n",
       "  <matplotlib.axis.XTick at 0x7f7f04367908>],\n",
       " <a list of 3 Text xticklabel objects>)"
      ]
     },
     "execution_count": 37,
     "metadata": {},
     "output_type": "execute_result"
    },
    {
     "data": {
      "text/plain": [
       "Text(0.5, 0, 'Budget Allocation Approach')"
      ]
     },
     "execution_count": 37,
     "metadata": {},
     "output_type": "execute_result"
    },
    {
     "data": {
      "text/plain": [
       "Text(0, 0.5, 'Expected Total Profit')"
      ]
     },
     "execution_count": 37,
     "metadata": {},
     "output_type": "execute_result"
    },
    {
     "data": {
      "text/plain": [
       "<BarContainer object of 3 artists>"
      ]
     },
     "execution_count": 37,
     "metadata": {},
     "output_type": "execute_result"
    },
    {
     "data": {
      "image/png": "[encoded data removed]",
      "text/plain": [
       "<Figure size 720x432 with 1 Axes>"
      ]
     },
     "metadata": {
      "needs_background": "light"
     },
     "output_type": "display_data"
    },
    {
     "name": "stdout",
     "output_type": "stream",
     "text": [
      "Expected total profit compared to no campaign:  16%\n",
      "Expected total profit compared to uniform discount allocation:  4%\n"
     ]
    }
   ],
   "source": [
    "plt.figure(figsize=(10, 6))\n",
    "data = [expected_total_profit_optimal, expected_total_profit_uniform_campaign, expected_total_profit_no_campaign]\n",
    "labels = ['Optimised Campaign', 'Naive Uniform Spend', 'No Campaign']\n",
    "plt.xticks(range(len(data)), labels)\n",
    "plt.xlabel('Budget Allocation Approach')\n",
    "plt.ylabel('Expected Total Profit')\n",
    "# plt.title('Benefit of Optimisation with N=%i Customers' %N)\n",
    "plt.bar(range(len(data)), data)\n",
    "ax = plt.gca()\n",
    "fmt = '${x:,.0f}'\n",
    "formatter = ticker.StrMethodFormatter(fmt)\n",
    "ax.yaxis.set_major_formatter(formatter)\n",
    "\n",
    "plt.savefig(\"Profits from optimisation\", transparent=True)\n",
    "plt.show()\n",
    "\n",
    "print(\"Expected total profit compared to no campaign:  %.0f%%\" %(100*(expected_total_profit_optimal-expected_total_profit_no_campaign)/expected_total_profit_no_campaign))\n",
    "print(\"Expected total profit compared to uniform discount allocation:  %.0f%%\" %(100*(expected_total_profit_optimal-expected_total_profit_uniform_campaign)/expected_total_profit_uniform_campaign))"
   ]
  },
  {
   "cell_type": "markdown",
   "metadata": {},
   "source": [
    "Lastly, we add the discount to our customer data. "
   ]
  },
  {
   "cell_type": "code",
   "execution_count": 38,
   "metadata": {},
   "outputs": [],
   "source": [
    "churn_sample['Convincing Factor'] = gamma\n",
    "churn_sample['Optimal Discount'] = x"
   ]
  },
  {
   "cell_type": "code",
   "execution_count": 39,
   "metadata": {},
   "outputs": [
    {
     "data": {
      "text/plain": [
       "<matplotlib.axes._subplots.AxesSubplot at 0x7f7f0490f828>"
      ]
     },
     "execution_count": 39,
     "metadata": {},
     "output_type": "execute_result"
    },
    {
     "data": {
      "text/plain": [
       "<matplotlib.lines.Line2D at 0x7f7efeef6860>"
      ]
     },
     "execution_count": 39,
     "metadata": {},
     "output_type": "execute_result"
    },
    {
     "data": {
      "text/plain": [
       "Text(0.5, 0, 'Discount in $')"
      ]
     },
     "execution_count": 39,
     "metadata": {},
     "output_type": "execute_result"
    },
    {
     "data": {
      "text/plain": [
       "Text(0, 0.5, '# of Subscribers Offered Discount')"
      ]
     },
     "execution_count": 39,
     "metadata": {},
     "output_type": "execute_result"
    },
    {
     "data": {
      "image/png": "[encoded data removed]",
      "text/plain": [
       "<Figure size 432x288 with 1 Axes>"
      ]
     },
     "metadata": {
      "needs_background": "light"
     },
     "output_type": "display_data"
    }
   ],
   "source": [
    "churn_sample['Optimal Discount'].hist(bins=20)\n",
    "plt.axvline(x=C/N, linewidth=3, color='r')\n",
    "plt.xlabel('Discount in $')\n",
    "plt.ylabel('# of Subscribers Offered Discount')"
   ]
  },
  {
   "cell_type": "markdown",
   "metadata": {},
   "source": [
    "We can see that this graph mirrors the histogram of churn probabilies, above: a large number of people are unlikely to churn, and they are offered a very small discount. A smaller number of people are likely to churn, and they are offered a larger discount.\n",
    "\n",
    "The vertical line shows the discount offered by a naive, uniform allocation of the budget across all customers.  \n",
    "\n"
   ]
  },
  {
   "cell_type": "markdown",
   "metadata": {},
   "source": [
    "Now, for each customer we can see their total spend, and the optimal incentive to offer that customer. We can see that the discount varies by churn probability, and we're assured that the incentive campaign will fit within our budget.\n",
    "\n"
   ]
  },
  {
   "cell_type": "code",
   "execution_count": 40,
   "metadata": {},
   "outputs": [
    {
     "data": {
      "text/html": [
       "<div>\n",
       "<style scoped>\n",
       "    .dataframe tbody tr th:only-of-type {\n",
       "        vertical-align: middle;\n",
       "    }\n",
       "\n",
       "    .dataframe tbody tr th {\n",
       "        vertical-align: top;\n",
       "    }\n",
       "\n",
       "    .dataframe thead th {\n",
       "        text-align: right;\n",
       "    }\n",
       "</style>\n",
       "<table border=\"1\" class=\"dataframe\">\n",
       "  <thead>\n",
       "    <tr style=\"text-align: right;\">\n",
       "      <th></th>\n",
       "      <th>State</th>\n",
       "      <th>Area Code</th>\n",
       "      <th>Phone</th>\n",
       "      <th>Churn?</th>\n",
       "      <th>Total Customer Spend</th>\n",
       "      <th>Churn Probability</th>\n",
       "      <th>Optimal Discount</th>\n",
       "      <th>Convincing Factor</th>\n",
       "    </tr>\n",
       "  </thead>\n",
       "  <tbody>\n",
       "    <tr>\n",
       "      <th>832</th>\n",
       "      <td>SC</td>\n",
       "      <td>408</td>\n",
       "      <td>335-1874</td>\n",
       "      <td>True.</td>\n",
       "      <td>83.14</td>\n",
       "      <td>0.917121</td>\n",
       "      <td>6.478214</td>\n",
       "      <td>1.0</td>\n",
       "    </tr>\n",
       "    <tr>\n",
       "      <th>2708</th>\n",
       "      <td>MI</td>\n",
       "      <td>408</td>\n",
       "      <td>389-4608</td>\n",
       "      <td>True.</td>\n",
       "      <td>80.44</td>\n",
       "      <td>0.944693</td>\n",
       "      <td>6.474639</td>\n",
       "      <td>1.0</td>\n",
       "    </tr>\n",
       "    <tr>\n",
       "      <th>901</th>\n",
       "      <td>CT</td>\n",
       "      <td>510</td>\n",
       "      <td>370-5527</td>\n",
       "      <td>True.</td>\n",
       "      <td>85.46</td>\n",
       "      <td>0.885804</td>\n",
       "      <td>6.470634</td>\n",
       "      <td>1.0</td>\n",
       "    </tr>\n",
       "    <tr>\n",
       "      <th>331</th>\n",
       "      <td>MT</td>\n",
       "      <td>415</td>\n",
       "      <td>387-5453</td>\n",
       "      <td>True.</td>\n",
       "      <td>78.93</td>\n",
       "      <td>0.947161</td>\n",
       "      <td>6.457338</td>\n",
       "      <td>1.0</td>\n",
       "    </tr>\n",
       "    <tr>\n",
       "      <th>859</th>\n",
       "      <td>AL</td>\n",
       "      <td>408</td>\n",
       "      <td>374-9203</td>\n",
       "      <td>True.</td>\n",
       "      <td>79.37</td>\n",
       "      <td>0.940146</td>\n",
       "      <td>6.455318</td>\n",
       "      <td>1.0</td>\n",
       "    </tr>\n",
       "    <tr>\n",
       "      <th>1893</th>\n",
       "      <td>IN</td>\n",
       "      <td>510</td>\n",
       "      <td>330-9354</td>\n",
       "      <td>True.</td>\n",
       "      <td>78.80</td>\n",
       "      <td>0.917642</td>\n",
       "      <td>6.421701</td>\n",
       "      <td>1.0</td>\n",
       "    </tr>\n",
       "    <tr>\n",
       "      <th>2942</th>\n",
       "      <td>GA</td>\n",
       "      <td>415</td>\n",
       "      <td>328-5188</td>\n",
       "      <td>True.</td>\n",
       "      <td>80.52</td>\n",
       "      <td>0.896742</td>\n",
       "      <td>6.420118</td>\n",
       "      <td>1.0</td>\n",
       "    </tr>\n",
       "    <tr>\n",
       "      <th>978</th>\n",
       "      <td>VT</td>\n",
       "      <td>415</td>\n",
       "      <td>394-7447</td>\n",
       "      <td>True.</td>\n",
       "      <td>83.52</td>\n",
       "      <td>0.863931</td>\n",
       "      <td>6.419509</td>\n",
       "      <td>1.0</td>\n",
       "    </tr>\n",
       "    <tr>\n",
       "      <th>2210</th>\n",
       "      <td>UT</td>\n",
       "      <td>415</td>\n",
       "      <td>367-3220</td>\n",
       "      <td>True.</td>\n",
       "      <td>78.22</td>\n",
       "      <td>0.920567</td>\n",
       "      <td>6.417463</td>\n",
       "      <td>1.0</td>\n",
       "    </tr>\n",
       "    <tr>\n",
       "      <th>1933</th>\n",
       "      <td>PA</td>\n",
       "      <td>408</td>\n",
       "      <td>377-5043</td>\n",
       "      <td>True.</td>\n",
       "      <td>79.03</td>\n",
       "      <td>0.907595</td>\n",
       "      <td>6.413227</td>\n",
       "      <td>1.0</td>\n",
       "    </tr>\n",
       "    <tr>\n",
       "      <th>3265</th>\n",
       "      <td>ID</td>\n",
       "      <td>415</td>\n",
       "      <td>408-1913</td>\n",
       "      <td>True.</td>\n",
       "      <td>79.19</td>\n",
       "      <td>0.905222</td>\n",
       "      <td>6.412584</td>\n",
       "      <td>1.0</td>\n",
       "    </tr>\n",
       "    <tr>\n",
       "      <th>1078</th>\n",
       "      <td>ME</td>\n",
       "      <td>408</td>\n",
       "      <td>333-7631</td>\n",
       "      <td>True.</td>\n",
       "      <td>82.80</td>\n",
       "      <td>0.864165</td>\n",
       "      <td>6.410425</td>\n",
       "      <td>1.0</td>\n",
       "    </tr>\n",
       "    <tr>\n",
       "      <th>1736</th>\n",
       "      <td>NV</td>\n",
       "      <td>415</td>\n",
       "      <td>334-5029</td>\n",
       "      <td>True.</td>\n",
       "      <td>76.64</td>\n",
       "      <td>0.920564</td>\n",
       "      <td>6.395602</td>\n",
       "      <td>1.0</td>\n",
       "    </tr>\n",
       "    <tr>\n",
       "      <th>1472</th>\n",
       "      <td>MD</td>\n",
       "      <td>415</td>\n",
       "      <td>400-7002</td>\n",
       "      <td>True.</td>\n",
       "      <td>79.54</td>\n",
       "      <td>0.872084</td>\n",
       "      <td>6.377540</td>\n",
       "      <td>1.0</td>\n",
       "    </tr>\n",
       "    <tr>\n",
       "      <th>946</th>\n",
       "      <td>NJ</td>\n",
       "      <td>408</td>\n",
       "      <td>332-5949</td>\n",
       "      <td>True.</td>\n",
       "      <td>78.77</td>\n",
       "      <td>0.879278</td>\n",
       "      <td>6.375991</td>\n",
       "      <td>1.0</td>\n",
       "    </tr>\n",
       "  </tbody>\n",
       "</table>\n",
       "</div>"
      ],
      "text/plain": [
       "     State Area Code     Phone Churn?  Total Customer Spend  \\\n",
       "832     SC       408  335-1874  True.                 83.14   \n",
       "2708    MI       408  389-4608  True.                 80.44   \n",
       "901     CT       510  370-5527  True.                 85.46   \n",
       "331     MT       415  387-5453  True.                 78.93   \n",
       "859     AL       408  374-9203  True.                 79.37   \n",
       "1893    IN       510  330-9354  True.                 78.80   \n",
       "2942    GA       415  328-5188  True.                 80.52   \n",
       "978     VT       415  394-7447  True.                 83.52   \n",
       "2210    UT       415  367-3220  True.                 78.22   \n",
       "1933    PA       408  377-5043  True.                 79.03   \n",
       "3265    ID       415  408-1913  True.                 79.19   \n",
       "1078    ME       408  333-7631  True.                 82.80   \n",
       "1736    NV       415  334-5029  True.                 76.64   \n",
       "1472    MD       415  400-7002  True.                 79.54   \n",
       "946     NJ       408  332-5949  True.                 78.77   \n",
       "\n",
       "      Churn Probability  Optimal Discount  Convincing Factor  \n",
       "832            0.917121          6.478214                1.0  \n",
       "2708           0.944693          6.474639                1.0  \n",
       "901            0.885804          6.470634                1.0  \n",
       "331            0.947161          6.457338                1.0  \n",
       "859            0.940146          6.455318                1.0  \n",
       "1893           0.917642          6.421701                1.0  \n",
       "2942           0.896742          6.420118                1.0  \n",
       "978            0.863931          6.419509                1.0  \n",
       "2210           0.920567          6.417463                1.0  \n",
       "1933           0.907595          6.413227                1.0  \n",
       "3265           0.905222          6.412584                1.0  \n",
       "1078           0.864165          6.410425                1.0  \n",
       "1736           0.920564          6.395602                1.0  \n",
       "1472           0.872084          6.377540                1.0  \n",
       "946            0.879278          6.375991                1.0  "
      ]
     },
     "execution_count": 40,
     "metadata": {},
     "output_type": "execute_result"
    }
   ],
   "source": [
    "churn_sample[['State', 'Area Code', 'Phone', 'Churn?', 'Total Customer Spend', 'Churn Probability', 'Optimal Discount', \n",
    "              'Convincing Factor']].sort_values(by='Optimal Discount', ascending=False).head(15)"
   ]
  },
  {
   "cell_type": "code",
   "execution_count": 41,
   "metadata": {},
   "outputs": [
    {
     "data": {
      "text/html": [
       "<div>\n",
       "<style scoped>\n",
       "    .dataframe tbody tr th:only-of-type {\n",
       "        vertical-align: middle;\n",
       "    }\n",
       "\n",
       "    .dataframe tbody tr th {\n",
       "        vertical-align: top;\n",
       "    }\n",
       "\n",
       "    .dataframe thead th {\n",
       "        text-align: right;\n",
       "    }\n",
       "</style>\n",
       "<table border=\"1\" class=\"dataframe\">\n",
       "  <thead>\n",
       "    <tr style=\"text-align: right;\">\n",
       "      <th></th>\n",
       "      <th>State</th>\n",
       "      <th>Area Code</th>\n",
       "      <th>Phone</th>\n",
       "      <th>Churn?</th>\n",
       "      <th>Total Customer Spend</th>\n",
       "      <th>Churn Probability</th>\n",
       "      <th>Optimal Discount</th>\n",
       "      <th>Convincing Factor</th>\n",
       "    </tr>\n",
       "  </thead>\n",
       "  <tbody>\n",
       "    <tr>\n",
       "      <th>2975</th>\n",
       "      <td>WV</td>\n",
       "      <td>415</td>\n",
       "      <td>382-3512</td>\n",
       "      <td>False.</td>\n",
       "      <td>50.73</td>\n",
       "      <td>0.014496</td>\n",
       "      <td>0.064396</td>\n",
       "      <td>100.0</td>\n",
       "    </tr>\n",
       "    <tr>\n",
       "      <th>2702</th>\n",
       "      <td>VT</td>\n",
       "      <td>510</td>\n",
       "      <td>333-9664</td>\n",
       "      <td>False.</td>\n",
       "      <td>54.50</td>\n",
       "      <td>0.022015</td>\n",
       "      <td>0.069551</td>\n",
       "      <td>100.0</td>\n",
       "    </tr>\n",
       "    <tr>\n",
       "      <th>1258</th>\n",
       "      <td>RI</td>\n",
       "      <td>510</td>\n",
       "      <td>422-8268</td>\n",
       "      <td>False.</td>\n",
       "      <td>68.17</td>\n",
       "      <td>0.051344</td>\n",
       "      <td>0.080563</td>\n",
       "      <td>100.0</td>\n",
       "    </tr>\n",
       "    <tr>\n",
       "      <th>70</th>\n",
       "      <td>NJ</td>\n",
       "      <td>408</td>\n",
       "      <td>359-1231</td>\n",
       "      <td>False.</td>\n",
       "      <td>72.08</td>\n",
       "      <td>0.036865</td>\n",
       "      <td>0.077753</td>\n",
       "      <td>100.0</td>\n",
       "    </tr>\n",
       "    <tr>\n",
       "      <th>285</th>\n",
       "      <td>SD</td>\n",
       "      <td>408</td>\n",
       "      <td>412-1194</td>\n",
       "      <td>False.</td>\n",
       "      <td>55.56</td>\n",
       "      <td>0.017662</td>\n",
       "      <td>0.067447</td>\n",
       "      <td>100.0</td>\n",
       "    </tr>\n",
       "    <tr>\n",
       "      <th>487</th>\n",
       "      <td>IN</td>\n",
       "      <td>415</td>\n",
       "      <td>363-3911</td>\n",
       "      <td>False.</td>\n",
       "      <td>73.41</td>\n",
       "      <td>0.061725</td>\n",
       "      <td>0.083185</td>\n",
       "      <td>100.0</td>\n",
       "    </tr>\n",
       "    <tr>\n",
       "      <th>2149</th>\n",
       "      <td>IA</td>\n",
       "      <td>415</td>\n",
       "      <td>341-6743</td>\n",
       "      <td>False.</td>\n",
       "      <td>74.54</td>\n",
       "      <td>0.061287</td>\n",
       "      <td>0.083268</td>\n",
       "      <td>100.0</td>\n",
       "    </tr>\n",
       "    <tr>\n",
       "      <th>1497</th>\n",
       "      <td>MT</td>\n",
       "      <td>510</td>\n",
       "      <td>393-3274</td>\n",
       "      <td>False.</td>\n",
       "      <td>55.45</td>\n",
       "      <td>0.025156</td>\n",
       "      <td>0.071119</td>\n",
       "      <td>100.0</td>\n",
       "    </tr>\n",
       "    <tr>\n",
       "      <th>2444</th>\n",
       "      <td>TX</td>\n",
       "      <td>415</td>\n",
       "      <td>408-9572</td>\n",
       "      <td>False.</td>\n",
       "      <td>76.81</td>\n",
       "      <td>0.066599</td>\n",
       "      <td>0.084449</td>\n",
       "      <td>100.0</td>\n",
       "    </tr>\n",
       "    <tr>\n",
       "      <th>2347</th>\n",
       "      <td>IL</td>\n",
       "      <td>415</td>\n",
       "      <td>340-6908</td>\n",
       "      <td>True.</td>\n",
       "      <td>60.66</td>\n",
       "      <td>0.837967</td>\n",
       "      <td>6.042959</td>\n",
       "      <td>1.0</td>\n",
       "    </tr>\n",
       "    <tr>\n",
       "      <th>2263</th>\n",
       "      <td>UT</td>\n",
       "      <td>510</td>\n",
       "      <td>370-9563</td>\n",
       "      <td>False.</td>\n",
       "      <td>71.76</td>\n",
       "      <td>0.013441</td>\n",
       "      <td>0.067272</td>\n",
       "      <td>100.0</td>\n",
       "    </tr>\n",
       "    <tr>\n",
       "      <th>547</th>\n",
       "      <td>VT</td>\n",
       "      <td>510</td>\n",
       "      <td>378-3508</td>\n",
       "      <td>True.</td>\n",
       "      <td>49.13</td>\n",
       "      <td>0.859363</td>\n",
       "      <td>5.840068</td>\n",
       "      <td>1.0</td>\n",
       "    </tr>\n",
       "    <tr>\n",
       "      <th>2249</th>\n",
       "      <td>FL</td>\n",
       "      <td>510</td>\n",
       "      <td>343-3340</td>\n",
       "      <td>False.</td>\n",
       "      <td>41.92</td>\n",
       "      <td>0.042234</td>\n",
       "      <td>0.073586</td>\n",
       "      <td>100.0</td>\n",
       "    </tr>\n",
       "    <tr>\n",
       "      <th>301</th>\n",
       "      <td>FL</td>\n",
       "      <td>415</td>\n",
       "      <td>416-1676</td>\n",
       "      <td>True.</td>\n",
       "      <td>78.74</td>\n",
       "      <td>0.959138</td>\n",
       "      <td>0.111469</td>\n",
       "      <td>100.0</td>\n",
       "    </tr>\n",
       "    <tr>\n",
       "      <th>270</th>\n",
       "      <td>PA</td>\n",
       "      <td>415</td>\n",
       "      <td>410-3390</td>\n",
       "      <td>False.</td>\n",
       "      <td>69.43</td>\n",
       "      <td>0.030898</td>\n",
       "      <td>0.075559</td>\n",
       "      <td>100.0</td>\n",
       "    </tr>\n",
       "  </tbody>\n",
       "</table>\n",
       "</div>"
      ],
      "text/plain": [
       "     State Area Code     Phone  Churn?  Total Customer Spend  \\\n",
       "2975    WV       415  382-3512  False.                 50.73   \n",
       "2702    VT       510  333-9664  False.                 54.50   \n",
       "1258    RI       510  422-8268  False.                 68.17   \n",
       "70      NJ       408  359-1231  False.                 72.08   \n",
       "285     SD       408  412-1194  False.                 55.56   \n",
       "487     IN       415  363-3911  False.                 73.41   \n",
       "2149    IA       415  341-6743  False.                 74.54   \n",
       "1497    MT       510  393-3274  False.                 55.45   \n",
       "2444    TX       415  408-9572  False.                 76.81   \n",
       "2347    IL       415  340-6908   True.                 60.66   \n",
       "2263    UT       510  370-9563  False.                 71.76   \n",
       "547     VT       510  378-3508   True.                 49.13   \n",
       "2249    FL       510  343-3340  False.                 41.92   \n",
       "301     FL       415  416-1676   True.                 78.74   \n",
       "270     PA       415  410-3390  False.                 69.43   \n",
       "\n",
       "      Churn Probability  Optimal Discount  Convincing Factor  \n",
       "2975           0.014496          0.064396              100.0  \n",
       "2702           0.022015          0.069551              100.0  \n",
       "1258           0.051344          0.080563              100.0  \n",
       "70             0.036865          0.077753              100.0  \n",
       "285            0.017662          0.067447              100.0  \n",
       "487            0.061725          0.083185              100.0  \n",
       "2149           0.061287          0.083268              100.0  \n",
       "1497           0.025156          0.071119              100.0  \n",
       "2444           0.066599          0.084449              100.0  \n",
       "2347           0.837967          6.042959                1.0  \n",
       "2263           0.013441          0.067272              100.0  \n",
       "547            0.859363          5.840068                1.0  \n",
       "2249           0.042234          0.073586              100.0  \n",
       "301            0.959138          0.111469              100.0  \n",
       "270            0.030898          0.075559              100.0  "
      ]
     },
     "execution_count": 41,
     "metadata": {},
     "output_type": "execute_result"
    }
   ],
   "source": [
    "churn_sample[['State', 'Area Code', 'Phone', 'Churn?', 'Total Customer Spend', 'Churn Probability', 'Optimal Discount', \n",
    "              'Convincing Factor']].sample(15)"
   ]
  },
  {
   "cell_type": "markdown",
   "metadata": {},
   "source": [
    "---\n",
    "\n",
    "Depending on the size of the total budget we allocate, we may occasionally find that we’re offering all customers a discount. This discount allocation problem reminds us of the water-filling algorithm in wireless communications [4,5], where the problem is of maximizing the mutual information between the input and the output of a channel composed of several subchannels (such as a frequency-selective channel, a time-varying channel, or a set of parallel subchannels arising from the use of multiple antennas at both sides of the link) with a global power constraint at the transmitter. More power is allocated to the channels with higher gains to maximize the sum of data rates or the capacity of all the channels. The solution to this class of the problems can be interpreted by a vivid description as pouring limited volume of water into a tank, the bottom of which has the stair levels determined by the inverse of the sub-channel gains. \n",
    "\n",
    "Unfortunately our problem does not have an intuitive explanation as for the water-filling problem. This is due to the fact that, because of the nature of the objective function, the system of equations and inequalities corresponding to the KKT conditions [6] does not admit a closed form solution.\n",
    "\n",
    "The optimal incentives calculated here are the result of an optimization routine designed to maximize an economic figure, which is the expected total profit. While this approach provides a principled way for Marketing teams to make systematic, quantitative and analytics-driven decisions, it is also important to recall that the objective function to be optimized is a proxy measure to the actual total profit. It goes without saying that we cannot compute the actual profit based on future decisions (e.g. this would paradoxically imply maximizing the actual return based on future values of the stocks). But we can explore new ideas using techniques such as the potential outcomes work [7], which could be leveraged to design strategies for back-testing of our solution.\n",
    "\n",
    "\n",
    "References: [4] T. M. Cover and J. A. Thomas, Elements of Information Theory. New York: Wiley, 1991.\n",
    "[5] D. P. Palomar and J. R. Fonollosa, “Practical algorithms for a family of water-filling solutions,” IEEE Trans. Signal Process., vol. 53, no. 2, pp. 686–695, Feb. 2005.\n",
    "[6] S. Boyd and L. Vandenberghe. Convex optimization. Cambridge university press, 2004.\n",
    "[7] Imbens, G. W. and D. B. Rubin (2015): Causal Inference for Statistics, Social, and Biomedical Sciences, Cambridge University Press.\n",
    "\n",
    "\n",
    "## Conclusion\n",
    "\n",
    "We’ve now taken another step towards preventing customer churn. We’ve built on the prior blog, where we integrated our customer data with our ML model to predict churn. We can now experiment with variations on this optimization equation, and see the effect of different campaign budgets or even different theories of how they should be modeled.\n",
    "\n",
    "To gather more data on effective incentives and customer behavior, we could also test several campaigns against different subsets of our customers. We can collect their responses – do they churn after being offered this incentive, or not? – and use that data in a future ML model to further refine the incentives offered. We can use this data to learn what kinds of incentives convince customers with different characteristics to stay, and then use that new function within this optimization.\n",
    "\n",
    "Now, we’re empowering Marketing with the tools to make data-driven decisions that they can quickly turn into action. This approach can drive fast iterations on incentive programs, moving at the speed with which our customers make decisions. Over to you, Marketing!\n"
   ]
  },
  {
   "cell_type": "markdown",
   "metadata": {},
   "source": [
    "### Clean-up\n",
    "\n",
    "If you're ready to be done with this notebook, please run the cell below.  This will remove the hosted endpoint you created and avoid any charges from a stray instance being left on."
   ]
  },
  {
   "cell_type": "code",
   "execution_count": 42,
   "metadata": {},
   "outputs": [],
   "source": [
    "sagemaker.Session().delete_endpoint(xgb_predictor.endpoint)"
   ]
  },
  {
   "cell_type": "code",
   "execution_count": null,
   "metadata": {},
   "outputs": [],
   "source": []
  }
 ],
 "metadata": {
  "celltoolbar": "Tags",
  "kernelspec": {
   "display_name": "conda_python3",
   "language": "python",
   "name": "conda_python3"
  },
  "language_info": {
   "codemirror_mode": {
    "name": "ipython",
    "version": 3
   },
   "file_extension": ".py",
   "mimetype": "text/x-python",
   "name": "python",
   "nbconvert_exporter": "python",
   "pygments_lexer": "ipython3",
   "version": "3.6.10"
  },
  "notice": "Copyright 2017 Amazon.com, Inc. or its affiliates. All Rights Reserved.  Licensed under the Apache License, Version 2.0 (the \"License\"). You may not use this file except in compliance with the License. A copy of the License is located at http://aws.amazon.com/apache2.0/ or in the \"license\" file accompanying this file. This file is distributed on an \"AS IS\" BASIS, WITHOUT WARRANTIES OR CONDITIONS OF ANY KIND, either express or implied. See the License for the specific language governing permissions and limitations under the License."
 },
 "nbformat": 4,
 "nbformat_minor": 4
}
