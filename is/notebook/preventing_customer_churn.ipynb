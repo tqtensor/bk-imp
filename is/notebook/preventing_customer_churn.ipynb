{
 "cells": [
  {
   "cell_type": "markdown",
   "metadata": {},
   "source": [
    "# Preventing Customer Churn by Optimizing Incentive Programs\n",
    "\n",
    "----\n",
    "## Table of contents\n",
    "\n",
    "1. [Background](#Background)\n",
    "2. [Setup](#Setup)\n",
    "3. [Data Exploration](#Data-Exploration)\n",
    "4. [Model Training](#Train)\n",
    "6. [Model Hosting](#Host)\n",
    "7. [Assess and optimize](#Assess-and-optimize)\n",
    "8. [Summary](#Summary)\n",
    "\n",
    "\n",
    "---\n",
    "\n",
    "## Background\n",
    "\n",
    "Losing customers is costly for any business.  Identifying unhappy customers early on gives the business a chance to offer them incentives to stay.  This notebook describes using machine learning (ML) for the automated identification of unhappy customers, also known as customer churn prediction. ML models rarely give perfect predictions though, so this notebook is also about how to incorporate the relative costs of prediction mistakes when determining the financial outcome of using ML.\n",
    "\n",
    "We use an example of churn that is familiar to all of us – leaving a mobile phone operator.  Seems like I can always find fault with my provider du jour! And if my provider knows that I’m thinking of leaving, it can offer timely incentives – I can always use a phone upgrade or perhaps have a new feature activated – and I might just stick around. Incentives are often much more cost effective than losing and reacquiring a customer.\n",
    "\n",
    "---\n",
    "\n",
    "## Setup\n",
    "\n",
    "Import the libraries:"
   ]
  },
  {
   "cell_type": "code",
   "execution_count": 1,
   "metadata": {
    "isConfigCell": true,
    "tags": [
     "parameters"
    ]
   },
   "outputs": [],
   "source": [
    "import os\n",
    "import re\n",
    "import sys\n",
    "\n",
    "import gdown\n",
    "import matplotlib.pyplot as plt\n",
    "import numpy as np\n",
    "import pandas as pd\n",
    "from IPython.core.interactiveshell import InteractiveShell\n",
    "from xgboost import XGBClassifier\n",
    "import matplotlib.ticker as ticker\n",
    "InteractiveShell.ast_node_interactivity = \"all\"\n",
    "from IPython.display import Markdown\n",
    "from sklearn.metrics import f1_score\n",
    "\n",
    "plot_color = \"#4daf4a\"\n",
    "\n",
    "%matplotlib inline"
   ]
  },
  {
   "cell_type": "markdown",
   "metadata": {},
   "source": [
    "---\n",
    "## Data Exploration\n",
    "\n",
    "Mobile operators have historical records on which customers ultimately ended up churning and which continued using the service. We can use this historical information to construct an ML model of one mobile operator’s churn using a process called training. After training the model, we can pass the profile information of an arbitrary customer (the same profile information that we used to train the model) to the model, and have the model predict whether this customer is going to churn. Of course, we expect the model to make mistakes–after all, predicting the future is tricky business! But I’ll also show how to deal with prediction errors.\n",
    "\n",
    "The dataset we use is publicly available and was mentioned in the book [Discovering Knowledge in Data](https://www.amazon.com/dp/0470908742/) by Daniel T. Larose. It is attributed by the author to the University of California Irvine Repository of Machine Learning Datasets. \n"
   ]
  },
  {
   "cell_type": "code",
   "execution_count": 2,
   "metadata": {},
   "outputs": [
    {
     "name": "stdout",
     "output_type": "stream",
     "text": [
      "File has been already downloaded\n"
     ]
    }
   ],
   "source": [
    "if not os.path.exists(\"churn.txt\"):\n",
    "    !gdown '1uCEfEtIH1AYyW1SFzYZjKRnFMZu8_qJw'\n",
    "else:\n",
    "    print(\"File has been already downloaded\")"
   ]
  },
  {
   "cell_type": "markdown",
   "metadata": {},
   "source": [
    "By modern standards, it’s a relatively small dataset, with only 3,333 records, where each record uses 21 attributes to describe the profile of a customer of an unknown US mobile operator. The attributes are:\n",
    "\n",
    "- `State`: the US state in which the customer resides, indicated by a two-letter abbreviation; for example, OH or NJ\n",
    "- `Account Length`: the number of days that this account has been active\n",
    "- `Area Code`: the three-digit area code of the corresponding customer’s phone number\n",
    "- `Phone`: the remaining seven-digit phone number\n",
    "- `Int’l Plan`: whether the customer has an international calling plan: yes/no\n",
    "- `VMail Plan`: whether the customer has a voice mail feature: yes/no\n",
    "- `VMail Message`: presumably the average number of voice mail messages per month\n",
    "- `Day Mins`: the total number of calling minutes used during the day\n",
    "- `Day Calls`: the total number of calls placed during the day\n",
    "- `Day Charge`: the billed cost of daytime calls\n",
    "- `Eve Mins, Eve Calls, Eve Charge`: the billed cost for calls placed during the evening\n",
    "- `Night Mins`, `Night Calls`, `Night Charge`: the billed cost for calls placed during nighttime\n",
    "- `Intl Mins`, `Intl Calls`, `Intl Charge`: the billed cost for international calls\n",
    "- `CustServ Calls`: the number of calls placed to Customer Service\n",
    "- `Churn?`: whether the customer left the service: true/false\n",
    "\n",
    "The last attribute, `Churn?`, is known as the target attribute–the attribute that we want the ML model to predict.  Because the target attribute is binary, our model will be performing binary prediction, also known as binary classification.\n",
    "\n",
    "Preview the first few rows:"
   ]
  },
  {
   "cell_type": "code",
   "execution_count": 3,
   "metadata": {},
   "outputs": [
    {
     "data": {
      "text/html": [
       "<div>\n",
       "<style scoped>\n",
       "    .dataframe tbody tr th:only-of-type {\n",
       "        vertical-align: middle;\n",
       "    }\n",
       "\n",
       "    .dataframe tbody tr th {\n",
       "        vertical-align: top;\n",
       "    }\n",
       "\n",
       "    .dataframe thead th {\n",
       "        text-align: right;\n",
       "    }\n",
       "</style>\n",
       "<table border=\"1\" class=\"dataframe\">\n",
       "  <thead>\n",
       "    <tr style=\"text-align: right;\">\n",
       "      <th></th>\n",
       "      <th>State</th>\n",
       "      <th>Account Length</th>\n",
       "      <th>Area Code</th>\n",
       "      <th>Phone</th>\n",
       "      <th>Int'l Plan</th>\n",
       "      <th>VMail Plan</th>\n",
       "      <th>VMail Message</th>\n",
       "      <th>Day Mins</th>\n",
       "      <th>Day Calls</th>\n",
       "      <th>Day Charge</th>\n",
       "      <th>Eve Mins</th>\n",
       "      <th>Eve Calls</th>\n",
       "      <th>Eve Charge</th>\n",
       "      <th>Night Mins</th>\n",
       "      <th>Night Calls</th>\n",
       "      <th>Night Charge</th>\n",
       "      <th>Intl Mins</th>\n",
       "      <th>Intl Calls</th>\n",
       "      <th>Intl Charge</th>\n",
       "      <th>CustServ Calls</th>\n",
       "      <th>Churn?</th>\n",
       "    </tr>\n",
       "  </thead>\n",
       "  <tbody>\n",
       "    <tr>\n",
       "      <th>0</th>\n",
       "      <td>PA</td>\n",
       "      <td>163</td>\n",
       "      <td>806</td>\n",
       "      <td>403-2562</td>\n",
       "      <td>no</td>\n",
       "      <td>yes</td>\n",
       "      <td>300</td>\n",
       "      <td>8.162204</td>\n",
       "      <td>3</td>\n",
       "      <td>7.579174</td>\n",
       "      <td>3.933035</td>\n",
       "      <td>4</td>\n",
       "      <td>6.508639</td>\n",
       "      <td>4.065759</td>\n",
       "      <td>100</td>\n",
       "      <td>5.111624</td>\n",
       "      <td>4.928160</td>\n",
       "      <td>6</td>\n",
       "      <td>5.673203</td>\n",
       "      <td>3</td>\n",
       "      <td>True.</td>\n",
       "    </tr>\n",
       "    <tr>\n",
       "      <th>1</th>\n",
       "      <td>SC</td>\n",
       "      <td>15</td>\n",
       "      <td>836</td>\n",
       "      <td>158-8416</td>\n",
       "      <td>yes</td>\n",
       "      <td>no</td>\n",
       "      <td>0</td>\n",
       "      <td>10.018993</td>\n",
       "      <td>4</td>\n",
       "      <td>4.226289</td>\n",
       "      <td>2.325005</td>\n",
       "      <td>0</td>\n",
       "      <td>9.972592</td>\n",
       "      <td>7.141040</td>\n",
       "      <td>200</td>\n",
       "      <td>6.436188</td>\n",
       "      <td>3.221748</td>\n",
       "      <td>6</td>\n",
       "      <td>2.559749</td>\n",
       "      <td>8</td>\n",
       "      <td>False.</td>\n",
       "    </tr>\n",
       "    <tr>\n",
       "      <th>2</th>\n",
       "      <td>MO</td>\n",
       "      <td>131</td>\n",
       "      <td>777</td>\n",
       "      <td>896-6253</td>\n",
       "      <td>no</td>\n",
       "      <td>yes</td>\n",
       "      <td>300</td>\n",
       "      <td>4.708490</td>\n",
       "      <td>3</td>\n",
       "      <td>4.768160</td>\n",
       "      <td>4.537466</td>\n",
       "      <td>3</td>\n",
       "      <td>4.566715</td>\n",
       "      <td>5.363235</td>\n",
       "      <td>100</td>\n",
       "      <td>5.142451</td>\n",
       "      <td>7.139023</td>\n",
       "      <td>2</td>\n",
       "      <td>6.254157</td>\n",
       "      <td>4</td>\n",
       "      <td>False.</td>\n",
       "    </tr>\n",
       "    <tr>\n",
       "      <th>3</th>\n",
       "      <td>WY</td>\n",
       "      <td>75</td>\n",
       "      <td>878</td>\n",
       "      <td>817-5729</td>\n",
       "      <td>yes</td>\n",
       "      <td>yes</td>\n",
       "      <td>700</td>\n",
       "      <td>1.268734</td>\n",
       "      <td>3</td>\n",
       "      <td>2.567642</td>\n",
       "      <td>2.528748</td>\n",
       "      <td>5</td>\n",
       "      <td>2.333624</td>\n",
       "      <td>3.773586</td>\n",
       "      <td>450</td>\n",
       "      <td>3.814413</td>\n",
       "      <td>2.245779</td>\n",
       "      <td>6</td>\n",
       "      <td>1.080692</td>\n",
       "      <td>6</td>\n",
       "      <td>False.</td>\n",
       "    </tr>\n",
       "    <tr>\n",
       "      <th>4</th>\n",
       "      <td>WY</td>\n",
       "      <td>146</td>\n",
       "      <td>878</td>\n",
       "      <td>450-4942</td>\n",
       "      <td>yes</td>\n",
       "      <td>no</td>\n",
       "      <td>0</td>\n",
       "      <td>2.696177</td>\n",
       "      <td>3</td>\n",
       "      <td>5.908916</td>\n",
       "      <td>6.015337</td>\n",
       "      <td>3</td>\n",
       "      <td>3.670408</td>\n",
       "      <td>3.751673</td>\n",
       "      <td>250</td>\n",
       "      <td>2.796812</td>\n",
       "      <td>6.905545</td>\n",
       "      <td>4</td>\n",
       "      <td>7.134343</td>\n",
       "      <td>6</td>\n",
       "      <td>True.</td>\n",
       "    </tr>\n",
       "  </tbody>\n",
       "</table>\n",
       "</div>"
      ],
      "text/plain": [
       "  State  Account Length  Area Code     Phone Int'l Plan VMail Plan  \\\n",
       "0    PA             163        806  403-2562         no        yes   \n",
       "1    SC              15        836  158-8416        yes         no   \n",
       "2    MO             131        777  896-6253         no        yes   \n",
       "3    WY              75        878  817-5729        yes        yes   \n",
       "4    WY             146        878  450-4942        yes         no   \n",
       "\n",
       "   VMail Message   Day Mins  Day Calls  Day Charge  Eve Mins  Eve Calls  \\\n",
       "0            300   8.162204          3    7.579174  3.933035          4   \n",
       "1              0  10.018993          4    4.226289  2.325005          0   \n",
       "2            300   4.708490          3    4.768160  4.537466          3   \n",
       "3            700   1.268734          3    2.567642  2.528748          5   \n",
       "4              0   2.696177          3    5.908916  6.015337          3   \n",
       "\n",
       "   Eve Charge  Night Mins  Night Calls  Night Charge  Intl Mins  Intl Calls  \\\n",
       "0    6.508639    4.065759          100      5.111624   4.928160           6   \n",
       "1    9.972592    7.141040          200      6.436188   3.221748           6   \n",
       "2    4.566715    5.363235          100      5.142451   7.139023           2   \n",
       "3    2.333624    3.773586          450      3.814413   2.245779           6   \n",
       "4    3.670408    3.751673          250      2.796812   6.905545           4   \n",
       "\n",
       "   Intl Charge  CustServ Calls  Churn?  \n",
       "0     5.673203               3   True.  \n",
       "1     2.559749               8  False.  \n",
       "2     6.254157               4  False.  \n",
       "3     1.080692               6  False.  \n",
       "4     7.134343               6   True.  "
      ]
     },
     "execution_count": 3,
     "metadata": {},
     "output_type": "execute_result"
    }
   ],
   "source": [
    "# read the customer churn data to pandas DataFrame\n",
    "pd.set_option(\"display.max_columns\", 25)\n",
    "churn = pd.read_csv(\"./churn.txt\")\n",
    "# review the top rows\n",
    "churn.head()"
   ]
  },
  {
   "cell_type": "markdown",
   "metadata": {},
   "source": [
    "#### Exploring the Data\n",
    "\n",
    "Let's begin exploring the data. \n",
    "\n",
    "_This section is identical to the original notebook, [Amazon SageMaker Examples - Customer Churn](https://github.com/awslabs/amazon-sagemaker-examples/tree/master/introduction_to_applying_machine_learning/xgboost_customer_churn). While data exploration is an important topic, it's not the focus of this walk through. Therefore it's been removed in the interests of brevity, but the actions taken based on the analysis have been kept (i.e., columns kept/removed). Please refer to the original notebook for this section._  "
   ]
  },
  {
   "cell_type": "code",
   "execution_count": 4,
   "metadata": {},
   "outputs": [],
   "source": [
    "# Now, we'll save a copy of the original dataset, for use later\n",
    "churn_save = churn.copy()\n",
    "# Then, we'll add a column for the total customer spend\n",
    "churn_save[\"Total Customer Spend\"] = churn_save.apply(\n",
    "    lambda x: x[\"Day Charge\"]\n",
    "    + x[\"Night Charge\"]\n",
    "    + x[\"Eve Charge\"]\n",
    "    + x[\"Intl Charge\"],\n",
    "    axis=1,\n",
    ")\n",
    "churn_save[\"Area Code\"] = churn[\"Area Code\"].astype(object)"
   ]
  },
  {
   "cell_type": "code",
   "execution_count": 5,
   "metadata": {},
   "outputs": [],
   "source": [
    "churn = churn.drop(\"Phone\", axis=1)\n",
    "churn[\"Area Code\"] = churn[\"Area Code\"].astype(object)"
   ]
  },
  {
   "cell_type": "markdown",
   "metadata": {},
   "source": [
    "Let's remove one feature from each of the highly correlated pairs: Day Charge from the pair with Day Mins, Night Charge from the pair with Night Mins, Intl Charge from the pair with Intl Mins:"
   ]
  },
  {
   "cell_type": "code",
   "execution_count": 6,
   "metadata": {},
   "outputs": [],
   "source": [
    "churn = churn.drop(\n",
    "    [\"Day Charge\", \"Eve Charge\", \"Night Charge\", \"Intl Charge\"], axis=1\n",
    ")"
   ]
  },
  {
   "cell_type": "markdown",
   "metadata": {},
   "source": [
    "Now that we've cleaned up our dataset, let's determine which algorithm to use.  As mentioned above, there appear to be some variables where both high and low (but not intermediate) values are predictive of churn.  In order to accommodate this in an algorithm like linear regression, we'd need to generate polynomial (or bucketed) terms.  Instead, let's attempt to model this problem using gradient boosted trees.  XGBoost uses gradient boosted trees which naturally account for non-linear relationships between features and the target variable, as well as accommodating complex interactions between features.\n",
    "\n",
    "Since the model will not have the feature names later, when we explore the results, we will need to assign them from the original data (excluding the target variable)\n",
    "\n",
    "But first, let's convert our categorical features into numeric features as the algorithm manages only numeric features. Then, we place the outcome as the first column."
   ]
  },
  {
   "cell_type": "code",
   "execution_count": 7,
   "metadata": {},
   "outputs": [],
   "source": [
    "model_data = pd.get_dummies(churn)\n",
    "model_data = pd.concat(\n",
    "    [\n",
    "        model_data[\"Churn?_True.\"],\n",
    "        model_data.drop([\"Churn?_False.\", \"Churn?_True.\"], axis=1),\n",
    "    ],\n",
    "    axis=1,\n",
    ")"
   ]
  },
  {
   "cell_type": "markdown",
   "metadata": {},
   "source": [
    "And now let's split the data into training, validation, and test sets.  This will help prevent us from overfitting the model, and allow us to test the models accuracy on data it hasn't already seen.\n",
    "\n",
    "_Note that different splits of the data may create slightly different results. In addition, on different runs against the same data, XGBoost may choose different combinations of features and trees that give similar model performance._ \n"
   ]
  },
  {
   "cell_type": "code",
   "execution_count": 8,
   "metadata": {},
   "outputs": [],
   "source": [
    "train_data, validation_data, test_data = np.split(\n",
    "    model_data.sample(frac=1, random_state=1729),\n",
    "    [int(0.7 * len(model_data)), int(0.9 * len(model_data))],\n",
    ")\n",
    "train_data.to_csv(\"train.csv\", header=False, index=False)\n",
    "validation_data.to_csv(\"validation.csv\", header=False, index=False)\n",
    "test_data.to_csv(\"test.csv\", header=False, index=False)"
   ]
  },
  {
   "cell_type": "code",
   "execution_count": 9,
   "metadata": {},
   "outputs": [
    {
     "data": {
      "text/plain": [
       "Index(['Churn?_True.', 'Account Length', 'VMail Message', 'Day Mins',\n",
       "       'Day Calls', 'Eve Mins', 'Eve Calls', 'Night Mins', 'Night Calls',\n",
       "       'Intl Mins', 'Intl Calls', 'CustServ Calls', 'State_AK', 'State_AL',\n",
       "       'State_AR', 'State_AZ', 'State_CA', 'State_CO', 'State_CT', 'State_DC',\n",
       "       'State_DE', 'State_FL', 'State_GA', 'State_HI', 'State_IA', 'State_ID',\n",
       "       'State_IL', 'State_IN', 'State_KS', 'State_KY', 'State_LA', 'State_MA',\n",
       "       'State_MD', 'State_ME', 'State_MI', 'State_MN', 'State_MO', 'State_MS',\n",
       "       'State_MT', 'State_NC', 'State_ND', 'State_NE', 'State_NH', 'State_NJ',\n",
       "       'State_NM', 'State_NV', 'State_NY', 'State_OH', 'State_OK', 'State_OR',\n",
       "       'State_PA', 'State_RI', 'State_SC', 'State_SD', 'State_TN', 'State_TX',\n",
       "       'State_UT', 'State_VA', 'State_VT', 'State_WA', 'State_WI', 'State_WV',\n",
       "       'State_WY', 'Area Code_657', 'Area Code_658', 'Area Code_659',\n",
       "       'Area Code_676', 'Area Code_677', 'Area Code_678', 'Area Code_686',\n",
       "       'Area Code_707', 'Area Code_716', 'Area Code_727', 'Area Code_736',\n",
       "       'Area Code_737', 'Area Code_758', 'Area Code_766', 'Area Code_776',\n",
       "       'Area Code_777', 'Area Code_778', 'Area Code_786', 'Area Code_787',\n",
       "       'Area Code_788', 'Area Code_797', 'Area Code_798', 'Area Code_806',\n",
       "       'Area Code_827', 'Area Code_836', 'Area Code_847', 'Area Code_848',\n",
       "       'Area Code_858', 'Area Code_866', 'Area Code_868', 'Area Code_876',\n",
       "       'Area Code_877', 'Area Code_878', 'Int'l Plan_no', 'Int'l Plan_yes',\n",
       "       'VMail Plan_no', 'VMail Plan_yes'],\n",
       "      dtype='object')"
      ]
     },
     "execution_count": 9,
     "metadata": {},
     "output_type": "execute_result"
    },
    {
     "data": {
      "text/plain": [
       "(500, 100)"
      ]
     },
     "execution_count": 9,
     "metadata": {},
     "output_type": "execute_result"
    }
   ],
   "source": [
    "test_data_columns = test_data.columns\n",
    "test_data_columns\n",
    "test_data.shape"
   ]
  },
  {
   "cell_type": "code",
   "execution_count": 10,
   "metadata": {},
   "outputs": [
    {
     "data": {
      "text/html": [
       "<div>\n",
       "<style scoped>\n",
       "    .dataframe tbody tr th:only-of-type {\n",
       "        vertical-align: middle;\n",
       "    }\n",
       "\n",
       "    .dataframe tbody tr th {\n",
       "        vertical-align: top;\n",
       "    }\n",
       "\n",
       "    .dataframe thead th {\n",
       "        text-align: right;\n",
       "    }\n",
       "</style>\n",
       "<table border=\"1\" class=\"dataframe\">\n",
       "  <thead>\n",
       "    <tr style=\"text-align: right;\">\n",
       "      <th></th>\n",
       "      <th>Churn?_True.</th>\n",
       "      <th>Account Length</th>\n",
       "      <th>VMail Message</th>\n",
       "      <th>Day Mins</th>\n",
       "      <th>Day Calls</th>\n",
       "      <th>Eve Mins</th>\n",
       "      <th>Eve Calls</th>\n",
       "      <th>Night Mins</th>\n",
       "      <th>Night Calls</th>\n",
       "      <th>Intl Mins</th>\n",
       "      <th>Intl Calls</th>\n",
       "      <th>CustServ Calls</th>\n",
       "      <th>...</th>\n",
       "      <th>Area Code_847</th>\n",
       "      <th>Area Code_848</th>\n",
       "      <th>Area Code_858</th>\n",
       "      <th>Area Code_866</th>\n",
       "      <th>Area Code_868</th>\n",
       "      <th>Area Code_876</th>\n",
       "      <th>Area Code_877</th>\n",
       "      <th>Area Code_878</th>\n",
       "      <th>Int'l Plan_no</th>\n",
       "      <th>Int'l Plan_yes</th>\n",
       "      <th>VMail Plan_no</th>\n",
       "      <th>VMail Plan_yes</th>\n",
       "    </tr>\n",
       "  </thead>\n",
       "  <tbody>\n",
       "    <tr>\n",
       "      <th>1697</th>\n",
       "      <td>True</td>\n",
       "      <td>14</td>\n",
       "      <td>300</td>\n",
       "      <td>4.216536</td>\n",
       "      <td>3</td>\n",
       "      <td>7.175133</td>\n",
       "      <td>1</td>\n",
       "      <td>0.077795</td>\n",
       "      <td>300</td>\n",
       "      <td>6.140715</td>\n",
       "      <td>5</td>\n",
       "      <td>10</td>\n",
       "      <td>...</td>\n",
       "      <td>False</td>\n",
       "      <td>False</td>\n",
       "      <td>False</td>\n",
       "      <td>False</td>\n",
       "      <td>True</td>\n",
       "      <td>False</td>\n",
       "      <td>False</td>\n",
       "      <td>False</td>\n",
       "      <td>True</td>\n",
       "      <td>False</td>\n",
       "      <td>False</td>\n",
       "      <td>True</td>\n",
       "    </tr>\n",
       "    <tr>\n",
       "      <th>340</th>\n",
       "      <td>False</td>\n",
       "      <td>97</td>\n",
       "      <td>0</td>\n",
       "      <td>3.122199</td>\n",
       "      <td>5</td>\n",
       "      <td>3.293510</td>\n",
       "      <td>10</td>\n",
       "      <td>4.663837</td>\n",
       "      <td>150</td>\n",
       "      <td>5.146710</td>\n",
       "      <td>5</td>\n",
       "      <td>2</td>\n",
       "      <td>...</td>\n",
       "      <td>False</td>\n",
       "      <td>False</td>\n",
       "      <td>False</td>\n",
       "      <td>False</td>\n",
       "      <td>False</td>\n",
       "      <td>False</td>\n",
       "      <td>False</td>\n",
       "      <td>False</td>\n",
       "      <td>False</td>\n",
       "      <td>True</td>\n",
       "      <td>True</td>\n",
       "      <td>False</td>\n",
       "    </tr>\n",
       "    <tr>\n",
       "      <th>1927</th>\n",
       "      <td>False</td>\n",
       "      <td>17</td>\n",
       "      <td>300</td>\n",
       "      <td>1.460867</td>\n",
       "      <td>5</td>\n",
       "      <td>3.511496</td>\n",
       "      <td>6</td>\n",
       "      <td>4.027071</td>\n",
       "      <td>250</td>\n",
       "      <td>6.525878</td>\n",
       "      <td>5</td>\n",
       "      <td>5</td>\n",
       "      <td>...</td>\n",
       "      <td>False</td>\n",
       "      <td>False</td>\n",
       "      <td>False</td>\n",
       "      <td>False</td>\n",
       "      <td>False</td>\n",
       "      <td>False</td>\n",
       "      <td>False</td>\n",
       "      <td>False</td>\n",
       "      <td>True</td>\n",
       "      <td>False</td>\n",
       "      <td>False</td>\n",
       "      <td>True</td>\n",
       "    </tr>\n",
       "    <tr>\n",
       "      <th>2330</th>\n",
       "      <td>True</td>\n",
       "      <td>144</td>\n",
       "      <td>200</td>\n",
       "      <td>10.026924</td>\n",
       "      <td>4</td>\n",
       "      <td>6.811761</td>\n",
       "      <td>1</td>\n",
       "      <td>3.506234</td>\n",
       "      <td>100</td>\n",
       "      <td>4.110792</td>\n",
       "      <td>6</td>\n",
       "      <td>6</td>\n",
       "      <td>...</td>\n",
       "      <td>False</td>\n",
       "      <td>False</td>\n",
       "      <td>False</td>\n",
       "      <td>False</td>\n",
       "      <td>False</td>\n",
       "      <td>False</td>\n",
       "      <td>False</td>\n",
       "      <td>False</td>\n",
       "      <td>False</td>\n",
       "      <td>True</td>\n",
       "      <td>False</td>\n",
       "      <td>True</td>\n",
       "    </tr>\n",
       "    <tr>\n",
       "      <th>2631</th>\n",
       "      <td>False</td>\n",
       "      <td>199</td>\n",
       "      <td>0</td>\n",
       "      <td>5.127774</td>\n",
       "      <td>2</td>\n",
       "      <td>1.697019</td>\n",
       "      <td>2</td>\n",
       "      <td>4.530190</td>\n",
       "      <td>150</td>\n",
       "      <td>7.291169</td>\n",
       "      <td>5</td>\n",
       "      <td>7</td>\n",
       "      <td>...</td>\n",
       "      <td>False</td>\n",
       "      <td>False</td>\n",
       "      <td>False</td>\n",
       "      <td>False</td>\n",
       "      <td>False</td>\n",
       "      <td>False</td>\n",
       "      <td>False</td>\n",
       "      <td>False</td>\n",
       "      <td>False</td>\n",
       "      <td>True</td>\n",
       "      <td>True</td>\n",
       "      <td>False</td>\n",
       "    </tr>\n",
       "  </tbody>\n",
       "</table>\n",
       "<p>5 rows × 100 columns</p>\n",
       "</div>"
      ],
      "text/plain": [
       "      Churn?_True.  Account Length  VMail Message   Day Mins  Day Calls  \\\n",
       "1697          True              14            300   4.216536          3   \n",
       "340          False              97              0   3.122199          5   \n",
       "1927         False              17            300   1.460867          5   \n",
       "2330          True             144            200  10.026924          4   \n",
       "2631         False             199              0   5.127774          2   \n",
       "\n",
       "      Eve Mins  Eve Calls  Night Mins  Night Calls  Intl Mins  Intl Calls  \\\n",
       "1697  7.175133          1    0.077795          300   6.140715           5   \n",
       "340   3.293510         10    4.663837          150   5.146710           5   \n",
       "1927  3.511496          6    4.027071          250   6.525878           5   \n",
       "2330  6.811761          1    3.506234          100   4.110792           6   \n",
       "2631  1.697019          2    4.530190          150   7.291169           5   \n",
       "\n",
       "      CustServ Calls  ...  Area Code_847  Area Code_848  Area Code_858  \\\n",
       "1697              10  ...          False          False          False   \n",
       "340                2  ...          False          False          False   \n",
       "1927               5  ...          False          False          False   \n",
       "2330               6  ...          False          False          False   \n",
       "2631               7  ...          False          False          False   \n",
       "\n",
       "      Area Code_866  Area Code_868  Area Code_876  Area Code_877  \\\n",
       "1697          False           True          False          False   \n",
       "340           False          False          False          False   \n",
       "1927          False          False          False          False   \n",
       "2330          False          False          False          False   \n",
       "2631          False          False          False          False   \n",
       "\n",
       "      Area Code_878  Int'l Plan_no  Int'l Plan_yes  VMail Plan_no  \\\n",
       "1697          False           True           False          False   \n",
       "340           False          False            True           True   \n",
       "1927          False           True           False          False   \n",
       "2330          False          False            True          False   \n",
       "2631          False          False            True           True   \n",
       "\n",
       "      VMail Plan_yes  \n",
       "1697            True  \n",
       "340            False  \n",
       "1927            True  \n",
       "2330            True  \n",
       "2631           False  \n",
       "\n",
       "[5 rows x 100 columns]"
      ]
     },
     "execution_count": 10,
     "metadata": {},
     "output_type": "execute_result"
    }
   ],
   "source": [
    "train_data.head()"
   ]
  },
  {
   "cell_type": "code",
   "execution_count": 11,
   "metadata": {},
   "outputs": [
    {
     "data": {
      "text/plain": [
       "Index(['Churn?_True.', 'Account Length', 'VMail Message', 'Day Mins',\n",
       "       'Day Calls', 'Eve Mins', 'Eve Calls', 'Night Mins', 'Night Calls',\n",
       "       'Intl Mins', 'Intl Calls', 'CustServ Calls', 'State_AK', 'State_AL',\n",
       "       'State_AR', 'State_AZ', 'State_CA', 'State_CO', 'State_CT', 'State_DC',\n",
       "       'State_DE', 'State_FL', 'State_GA', 'State_HI', 'State_IA', 'State_ID',\n",
       "       'State_IL', 'State_IN', 'State_KS', 'State_KY', 'State_LA', 'State_MA',\n",
       "       'State_MD', 'State_ME', 'State_MI', 'State_MN', 'State_MO', 'State_MS',\n",
       "       'State_MT', 'State_NC', 'State_ND', 'State_NE', 'State_NH', 'State_NJ',\n",
       "       'State_NM', 'State_NV', 'State_NY', 'State_OH', 'State_OK', 'State_OR',\n",
       "       'State_PA', 'State_RI', 'State_SC', 'State_SD', 'State_TN', 'State_TX',\n",
       "       'State_UT', 'State_VA', 'State_VT', 'State_WA', 'State_WI', 'State_WV',\n",
       "       'State_WY', 'Area Code_657', 'Area Code_658', 'Area Code_659',\n",
       "       'Area Code_676', 'Area Code_677', 'Area Code_678', 'Area Code_686',\n",
       "       'Area Code_707', 'Area Code_716', 'Area Code_727', 'Area Code_736',\n",
       "       'Area Code_737', 'Area Code_758', 'Area Code_766', 'Area Code_776',\n",
       "       'Area Code_777', 'Area Code_778', 'Area Code_786', 'Area Code_787',\n",
       "       'Area Code_788', 'Area Code_797', 'Area Code_798', 'Area Code_806',\n",
       "       'Area Code_827', 'Area Code_836', 'Area Code_847', 'Area Code_848',\n",
       "       'Area Code_858', 'Area Code_866', 'Area Code_868', 'Area Code_876',\n",
       "       'Area Code_877', 'Area Code_878', 'Int'l Plan_no', 'Int'l Plan_yes',\n",
       "       'VMail Plan_no', 'VMail Plan_yes'],\n",
       "      dtype='object')"
      ]
     },
     "execution_count": 11,
     "metadata": {},
     "output_type": "execute_result"
    }
   ],
   "source": [
    "train_data.columns"
   ]
  },
  {
   "cell_type": "markdown",
   "metadata": {},
   "source": [
    "---\n",
    "## Train\n"
   ]
  },
  {
   "cell_type": "markdown",
   "metadata": {},
   "source": [
    "Now, we can specify a few parameters like what type of training instances we'd like to use and how many, as well as our XGBoost hyperparameters. \n",
    "More detail on XGBoost's hyperparmeters can be found on their GitHub [page](https://github.com/dmlc/xgboost/blob/master/doc/parameter.md)."
   ]
  },
  {
   "cell_type": "code",
   "execution_count": 34,
   "metadata": {},
   "outputs": [
    {
     "data": {
      "text/html": [
       "<style>#sk-container-id-2 {color: black;}#sk-container-id-2 pre{padding: 0;}#sk-container-id-2 div.sk-toggleable {background-color: white;}#sk-container-id-2 label.sk-toggleable__label {cursor: pointer;display: block;width: 100%;margin-bottom: 0;padding: 0.3em;box-sizing: border-box;text-align: center;}#sk-container-id-2 label.sk-toggleable__label-arrow:before {content: \"▸\";float: left;margin-right: 0.25em;color: #696969;}#sk-container-id-2 label.sk-toggleable__label-arrow:hover:before {color: black;}#sk-container-id-2 div.sk-estimator:hover label.sk-toggleable__label-arrow:before {color: black;}#sk-container-id-2 div.sk-toggleable__content {max-height: 0;max-width: 0;overflow: hidden;text-align: left;background-color: #f0f8ff;}#sk-container-id-2 div.sk-toggleable__content pre {margin: 0.2em;color: black;border-radius: 0.25em;background-color: #f0f8ff;}#sk-container-id-2 input.sk-toggleable__control:checked~div.sk-toggleable__content {max-height: 200px;max-width: 100%;overflow: auto;}#sk-container-id-2 input.sk-toggleable__control:checked~label.sk-toggleable__label-arrow:before {content: \"▾\";}#sk-container-id-2 div.sk-estimator input.sk-toggleable__control:checked~label.sk-toggleable__label {background-color: #d4ebff;}#sk-container-id-2 div.sk-label input.sk-toggleable__control:checked~label.sk-toggleable__label {background-color: #d4ebff;}#sk-container-id-2 input.sk-hidden--visually {border: 0;clip: rect(1px 1px 1px 1px);clip: rect(1px, 1px, 1px, 1px);height: 1px;margin: -1px;overflow: hidden;padding: 0;position: absolute;width: 1px;}#sk-container-id-2 div.sk-estimator {font-family: monospace;background-color: #f0f8ff;border: 1px dotted black;border-radius: 0.25em;box-sizing: border-box;margin-bottom: 0.5em;}#sk-container-id-2 div.sk-estimator:hover {background-color: #d4ebff;}#sk-container-id-2 div.sk-parallel-item::after {content: \"\";width: 100%;border-bottom: 1px solid gray;flex-grow: 1;}#sk-container-id-2 div.sk-label:hover label.sk-toggleable__label {background-color: #d4ebff;}#sk-container-id-2 div.sk-serial::before {content: \"\";position: absolute;border-left: 1px solid gray;box-sizing: border-box;top: 0;bottom: 0;left: 50%;z-index: 0;}#sk-container-id-2 div.sk-serial {display: flex;flex-direction: column;align-items: center;background-color: white;padding-right: 0.2em;padding-left: 0.2em;position: relative;}#sk-container-id-2 div.sk-item {position: relative;z-index: 1;}#sk-container-id-2 div.sk-parallel {display: flex;align-items: stretch;justify-content: center;background-color: white;position: relative;}#sk-container-id-2 div.sk-item::before, #sk-container-id-2 div.sk-parallel-item::before {content: \"\";position: absolute;border-left: 1px solid gray;box-sizing: border-box;top: 0;bottom: 0;left: 50%;z-index: -1;}#sk-container-id-2 div.sk-parallel-item {display: flex;flex-direction: column;z-index: 1;position: relative;background-color: white;}#sk-container-id-2 div.sk-parallel-item:first-child::after {align-self: flex-end;width: 50%;}#sk-container-id-2 div.sk-parallel-item:last-child::after {align-self: flex-start;width: 50%;}#sk-container-id-2 div.sk-parallel-item:only-child::after {width: 0;}#sk-container-id-2 div.sk-dashed-wrapped {border: 1px dashed gray;margin: 0 0.4em 0.5em 0.4em;box-sizing: border-box;padding-bottom: 0.4em;background-color: white;}#sk-container-id-2 div.sk-label label {font-family: monospace;font-weight: bold;display: inline-block;line-height: 1.2em;}#sk-container-id-2 div.sk-label-container {text-align: center;}#sk-container-id-2 div.sk-container {/* jupyter's `normalize.less` sets `[hidden] { display: none; }` but bootstrap.min.css set `[hidden] { display: none !important; }` so we also need the `!important` here to be able to override the default hidden behavior on the sphinx rendered scikit-learn.org. See: https://github.com/scikit-learn/scikit-learn/issues/21755 */display: inline-block !important;position: relative;}#sk-container-id-2 div.sk-text-repr-fallback {display: none;}</style><div id=\"sk-container-id-2\" class=\"sk-top-container\"><div class=\"sk-text-repr-fallback\"><pre>XGBClassifier(base_score=None, booster=None, callbacks=None,\n",
       "              colsample_bylevel=None, colsample_bynode=None,\n",
       "              colsample_bytree=None, early_stopping_rounds=None,\n",
       "              enable_categorical=False, eta=0.2, eval_metric=&#x27;auc&#x27;,\n",
       "              feature_types=None, gamma=4, gpu_id=None, grow_policy=None,\n",
       "              importance_type=None, interaction_constraints=None,\n",
       "              learning_rate=None, max_bin=None, max_cat_threshold=None,\n",
       "              max_cat_to_onehot=None, max_delta_step=None, max_depth=5,\n",
       "              max_leaves=None, min_child_weight=6, missing=nan,\n",
       "              monotone_constraints=None, n_estimators=100, n_jobs=None,\n",
       "              num_parallel_tree=None, predictor=None, ...)</pre><b>In a Jupyter environment, please rerun this cell to show the HTML representation or trust the notebook. <br />On GitHub, the HTML representation is unable to render, please try loading this page with nbviewer.org.</b></div><div class=\"sk-container\" hidden><div class=\"sk-item\"><div class=\"sk-estimator sk-toggleable\"><input class=\"sk-toggleable__control sk-hidden--visually\" id=\"sk-estimator-id-2\" type=\"checkbox\" checked><label for=\"sk-estimator-id-2\" class=\"sk-toggleable__label sk-toggleable__label-arrow\">XGBClassifier</label><div class=\"sk-toggleable__content\"><pre>XGBClassifier(base_score=None, booster=None, callbacks=None,\n",
       "              colsample_bylevel=None, colsample_bynode=None,\n",
       "              colsample_bytree=None, early_stopping_rounds=None,\n",
       "              enable_categorical=False, eta=0.2, eval_metric=&#x27;auc&#x27;,\n",
       "              feature_types=None, gamma=4, gpu_id=None, grow_policy=None,\n",
       "              importance_type=None, interaction_constraints=None,\n",
       "              learning_rate=None, max_bin=None, max_cat_threshold=None,\n",
       "              max_cat_to_onehot=None, max_delta_step=None, max_depth=5,\n",
       "              max_leaves=None, min_child_weight=6, missing=nan,\n",
       "              monotone_constraints=None, n_estimators=100, n_jobs=None,\n",
       "              num_parallel_tree=None, predictor=None, ...)</pre></div></div></div></div></div>"
      ],
      "text/plain": [
       "XGBClassifier(base_score=None, booster=None, callbacks=None,\n",
       "              colsample_bylevel=None, colsample_bynode=None,\n",
       "              colsample_bytree=None, early_stopping_rounds=None,\n",
       "              enable_categorical=False, eta=0.2, eval_metric='auc',\n",
       "              feature_types=None, gamma=4, gpu_id=None, grow_policy=None,\n",
       "              importance_type=None, interaction_constraints=None,\n",
       "              learning_rate=None, max_bin=None, max_cat_threshold=None,\n",
       "              max_cat_to_onehot=None, max_delta_step=None, max_depth=5,\n",
       "              max_leaves=None, min_child_weight=6, missing=nan,\n",
       "              monotone_constraints=None, n_estimators=100, n_jobs=None,\n",
       "              num_parallel_tree=None, predictor=None, ...)"
      ]
     },
     "execution_count": 34,
     "metadata": {},
     "output_type": "execute_result"
    }
   ],
   "source": [
    "# Load the train and validation data\n",
    "X_train = train_data.drop([\"Churn?_True.\"], axis=1)\n",
    "y_train = train_data[\"Churn?_True.\"]\n",
    "X_validation = validation_data.drop([\"Churn?_True.\"], axis=1)\n",
    "y_validation = validation_data[\"Churn?_True.\"]\n",
    "\n",
    "# Set the hyperparameters for the XGBoost model\n",
    "params = {\n",
    "    \"max_depth\": 5,\n",
    "    \"eta\": 0.2,\n",
    "    \"gamma\": 4,\n",
    "    \"min_child_weight\": 6,\n",
    "    \"subsample\": 0.8,\n",
    "    \"objective\": \"binary:logistic\",\n",
    "    \"eval_metric\": \"auc\",\n",
    "}\n",
    "\n",
    "# Create the XGBoost model instance\n",
    "model = XGBClassifier(**params)\n",
    "\n",
    "# Fit the XGBoost model\n",
    "model.fit(X_train, y_train)"
   ]
  },
  {
   "cell_type": "markdown",
   "metadata": {},
   "source": [
    "---\n",
    "## Evaluate\n"
   ]
  },
  {
   "cell_type": "code",
   "execution_count": 35,
   "metadata": {},
   "outputs": [
    {
     "name": "stdout",
     "output_type": "stream",
     "text": [
      "F1 score: 0.9387\n"
     ]
    }
   ],
   "source": [
    "# Make predictions on the validation set\n",
    "y_pred = model.predict(X_validation)\n",
    "\n",
    "# Calculate the F1 score for the validation set\n",
    "f1 = f1_score(y_validation, y_pred)\n",
    "\n",
    "# Print the F1 score\n",
    "print(f\"F1 score: {f1:.4f}\")"
   ]
  },
  {
   "cell_type": "code",
   "execution_count": 53,
   "metadata": {},
   "outputs": [
    {
     "data": {
      "text/html": [
       "<div>\n",
       "<style scoped>\n",
       "    .dataframe tbody tr th:only-of-type {\n",
       "        vertical-align: middle;\n",
       "    }\n",
       "\n",
       "    .dataframe tbody tr th {\n",
       "        vertical-align: top;\n",
       "    }\n",
       "\n",
       "    .dataframe thead th {\n",
       "        text-align: right;\n",
       "    }\n",
       "</style>\n",
       "<table border=\"1\" class=\"dataframe\">\n",
       "  <thead>\n",
       "    <tr style=\"text-align: right;\">\n",
       "      <th></th>\n",
       "      <th>Churn?_True.</th>\n",
       "      <th>Account Length</th>\n",
       "      <th>VMail Message</th>\n",
       "      <th>Day Mins</th>\n",
       "      <th>Day Calls</th>\n",
       "      <th>Eve Mins</th>\n",
       "      <th>Eve Calls</th>\n",
       "      <th>Night Mins</th>\n",
       "      <th>Night Calls</th>\n",
       "      <th>Intl Mins</th>\n",
       "      <th>Intl Calls</th>\n",
       "      <th>CustServ Calls</th>\n",
       "      <th>...</th>\n",
       "      <th>Area Code_848</th>\n",
       "      <th>Area Code_858</th>\n",
       "      <th>Area Code_866</th>\n",
       "      <th>Area Code_868</th>\n",
       "      <th>Area Code_876</th>\n",
       "      <th>Area Code_877</th>\n",
       "      <th>Area Code_878</th>\n",
       "      <th>Int'l Plan_no</th>\n",
       "      <th>Int'l Plan_yes</th>\n",
       "      <th>VMail Plan_no</th>\n",
       "      <th>VMail Plan_yes</th>\n",
       "      <th>Churn Probability</th>\n",
       "    </tr>\n",
       "  </thead>\n",
       "  <tbody>\n",
       "    <tr>\n",
       "      <th>2986</th>\n",
       "      <td>True</td>\n",
       "      <td>2</td>\n",
       "      <td>400</td>\n",
       "      <td>0.385718</td>\n",
       "      <td>2</td>\n",
       "      <td>4.177940</td>\n",
       "      <td>0</td>\n",
       "      <td>3.745463</td>\n",
       "      <td>250</td>\n",
       "      <td>3.699592</td>\n",
       "      <td>1</td>\n",
       "      <td>11</td>\n",
       "      <td>...</td>\n",
       "      <td>False</td>\n",
       "      <td>False</td>\n",
       "      <td>False</td>\n",
       "      <td>False</td>\n",
       "      <td>False</td>\n",
       "      <td>False</td>\n",
       "      <td>True</td>\n",
       "      <td>True</td>\n",
       "      <td>False</td>\n",
       "      <td>False</td>\n",
       "      <td>True</td>\n",
       "      <td>0.038033</td>\n",
       "    </tr>\n",
       "    <tr>\n",
       "      <th>2237</th>\n",
       "      <td>True</td>\n",
       "      <td>145</td>\n",
       "      <td>0</td>\n",
       "      <td>8.493633</td>\n",
       "      <td>2</td>\n",
       "      <td>7.162111</td>\n",
       "      <td>1</td>\n",
       "      <td>2.037653</td>\n",
       "      <td>250</td>\n",
       "      <td>4.478874</td>\n",
       "      <td>9</td>\n",
       "      <td>6</td>\n",
       "      <td>...</td>\n",
       "      <td>False</td>\n",
       "      <td>False</td>\n",
       "      <td>False</td>\n",
       "      <td>False</td>\n",
       "      <td>False</td>\n",
       "      <td>False</td>\n",
       "      <td>False</td>\n",
       "      <td>True</td>\n",
       "      <td>False</td>\n",
       "      <td>True</td>\n",
       "      <td>False</td>\n",
       "      <td>0.016245</td>\n",
       "    </tr>\n",
       "    <tr>\n",
       "      <th>408</th>\n",
       "      <td>True</td>\n",
       "      <td>189</td>\n",
       "      <td>300</td>\n",
       "      <td>11.098513</td>\n",
       "      <td>2</td>\n",
       "      <td>6.798986</td>\n",
       "      <td>1</td>\n",
       "      <td>4.132633</td>\n",
       "      <td>50</td>\n",
       "      <td>5.836760</td>\n",
       "      <td>7</td>\n",
       "      <td>4</td>\n",
       "      <td>...</td>\n",
       "      <td>True</td>\n",
       "      <td>False</td>\n",
       "      <td>False</td>\n",
       "      <td>False</td>\n",
       "      <td>False</td>\n",
       "      <td>False</td>\n",
       "      <td>False</td>\n",
       "      <td>False</td>\n",
       "      <td>True</td>\n",
       "      <td>False</td>\n",
       "      <td>True</td>\n",
       "      <td>0.004034</td>\n",
       "    </tr>\n",
       "    <tr>\n",
       "      <th>1197</th>\n",
       "      <td>False</td>\n",
       "      <td>59</td>\n",
       "      <td>0</td>\n",
       "      <td>5.434502</td>\n",
       "      <td>3</td>\n",
       "      <td>8.546318</td>\n",
       "      <td>6</td>\n",
       "      <td>4.272648</td>\n",
       "      <td>200</td>\n",
       "      <td>6.371483</td>\n",
       "      <td>2</td>\n",
       "      <td>4</td>\n",
       "      <td>...</td>\n",
       "      <td>False</td>\n",
       "      <td>False</td>\n",
       "      <td>False</td>\n",
       "      <td>False</td>\n",
       "      <td>False</td>\n",
       "      <td>False</td>\n",
       "      <td>False</td>\n",
       "      <td>False</td>\n",
       "      <td>True</td>\n",
       "      <td>True</td>\n",
       "      <td>False</td>\n",
       "      <td>0.860606</td>\n",
       "    </tr>\n",
       "    <tr>\n",
       "      <th>941</th>\n",
       "      <td>True</td>\n",
       "      <td>190</td>\n",
       "      <td>400</td>\n",
       "      <td>9.715115</td>\n",
       "      <td>3</td>\n",
       "      <td>7.262589</td>\n",
       "      <td>0</td>\n",
       "      <td>3.960852</td>\n",
       "      <td>150</td>\n",
       "      <td>7.067863</td>\n",
       "      <td>7</td>\n",
       "      <td>4</td>\n",
       "      <td>...</td>\n",
       "      <td>False</td>\n",
       "      <td>False</td>\n",
       "      <td>False</td>\n",
       "      <td>False</td>\n",
       "      <td>False</td>\n",
       "      <td>False</td>\n",
       "      <td>False</td>\n",
       "      <td>False</td>\n",
       "      <td>True</td>\n",
       "      <td>False</td>\n",
       "      <td>True</td>\n",
       "      <td>0.012451</td>\n",
       "    </tr>\n",
       "  </tbody>\n",
       "</table>\n",
       "<p>5 rows × 101 columns</p>\n",
       "</div>"
      ],
      "text/plain": [
       "      Churn?_True.  Account Length  VMail Message   Day Mins  Day Calls  \\\n",
       "2986          True               2            400   0.385718          2   \n",
       "2237          True             145              0   8.493633          2   \n",
       "408           True             189            300  11.098513          2   \n",
       "1197         False              59              0   5.434502          3   \n",
       "941           True             190            400   9.715115          3   \n",
       "\n",
       "      Eve Mins  Eve Calls  Night Mins  Night Calls  Intl Mins  Intl Calls  \\\n",
       "2986  4.177940          0    3.745463          250   3.699592           1   \n",
       "2237  7.162111          1    2.037653          250   4.478874           9   \n",
       "408   6.798986          1    4.132633           50   5.836760           7   \n",
       "1197  8.546318          6    4.272648          200   6.371483           2   \n",
       "941   7.262589          0    3.960852          150   7.067863           7   \n",
       "\n",
       "      CustServ Calls  ...  Area Code_848  Area Code_858  Area Code_866  \\\n",
       "2986              11  ...          False          False          False   \n",
       "2237               6  ...          False          False          False   \n",
       "408                4  ...           True          False          False   \n",
       "1197               4  ...          False          False          False   \n",
       "941                4  ...          False          False          False   \n",
       "\n",
       "      Area Code_868  Area Code_876  Area Code_877  Area Code_878  \\\n",
       "2986          False          False          False           True   \n",
       "2237          False          False          False          False   \n",
       "408           False          False          False          False   \n",
       "1197          False          False          False          False   \n",
       "941           False          False          False          False   \n",
       "\n",
       "      Int'l Plan_no  Int'l Plan_yes  VMail Plan_no  VMail Plan_yes  \\\n",
       "2986           True           False          False            True   \n",
       "2237           True           False           True           False   \n",
       "408           False            True          False            True   \n",
       "1197          False            True           True           False   \n",
       "941           False            True          False            True   \n",
       "\n",
       "      Churn Probability  \n",
       "2986           0.038033  \n",
       "2237           0.016245  \n",
       "408            0.004034  \n",
       "1197           0.860606  \n",
       "941            0.012451  \n",
       "\n",
       "[5 rows x 101 columns]"
      ]
     },
     "execution_count": 53,
     "metadata": {},
     "output_type": "execute_result"
    }
   ],
   "source": [
    "predictions = model.predict_proba(X_validation)[:, 0]\n",
    "churn_sample = validation_data.copy()\n",
    "churn_sample[\"Churn Probability\"] = predictions\n",
    "churn_sample.head(5)"
   ]
  },
  {
   "cell_type": "markdown",
   "metadata": {},
   "source": [
    "----\n",
    "## Assess and optimize\n",
    "\n",
    "While it’s usual to treat this as a binary classification problem (‘1’ or ‘0’), in fact, the real world is less binary: people become “likely to churn” for some time before they actually churn. Loss of “brand loyalty” occurs some time before someone actually buys from a competitor. There's frequently a slow rise in dissatisfaction over time before someone is finally driven to act. Providing the right incentive at the right time can reset a customer's satisfaction.\n",
    "\n",
    "So how do calculate the minimum incentive that will give the desired result? Rather than providing a single program to all customers, can we save money and gain a better outcome by using variable incentives, customized to a customer's churn probability and value? And if so, how?\n",
    "\n",
    "We can do so by building on components we've already developed so far.\n",
    "\n",
    "#### Assigning costs to our predictions\n",
    "\n",
    "What are the costs for our problem of mobile operator churn? The costs, of course, depend on the specific actions that the business takes. Let's make some assumptions here.\n",
    "\n",
    "First, we'll assign the true negatives the cost of \\$0. Our model essentially correctly identified a happy customer in this case, and we won’t offer them an incentive. An alternative is to assign the true negatives the actual value of the customer's spend, as this is the customer's contribution to our overall revenue. \n",
    "\n",
    "False negatives are the most problematic, because they incorrectly predict that a churning customer will stay. We lose the customer and will have to pay all the costs of acquiring a replacement customer, including foregone revenue, advertising costs, administrative costs, point of sale costs, and likely a phone hardware subsidy. A quick search on the Internet reveals that such costs typically run in the hundreds of dollars so, for the right now, let's assume $500. This is the cost we'll use for each false negative. Our marketing department should be able to give us a value to use here for the overhead, and we have the actual customer spend for each customer in our dataset. \n",
    "\n",
    "Finally, we'll give an incentive to customers that our model identifies as churning. At this point let's assume a one-time retention incentive in the amount of \\$50. This is the cost we'll apply to both true positive and false positive outcomes. In the case of false positives (the customer is happy, but the model mistakenly predicted churn), we will “waste” the concession. We probably could have spent those dollars more effectively, but it's possible we increased the loyalty of an already loyal customer, so that’s not so bad. We'll be revising this initial approach below.\n"
   ]
  },
  {
   "cell_type": "markdown",
   "metadata": {},
   "source": [
    "Let's look at the continuous values of our churn predictions."
   ]
  },
  {
   "cell_type": "code",
   "execution_count": 54,
   "metadata": {},
   "outputs": [
    {
     "data": {
      "text/plain": [
       "(array([384.,  57.,  38.,  17.,  20.,  22.,  20.,  16.,  45., 381.]),\n",
       " array([9.85026360e-04, 1.00835517e-01, 2.00686008e-01, 3.00536484e-01,\n",
       "        4.00386989e-01, 5.00237465e-01, 6.00087941e-01, 6.99938416e-01,\n",
       "        7.99788952e-01, 8.99639428e-01, 9.99489903e-01]),\n",
       " <BarContainer object of 10 artists>)"
      ]
     },
     "execution_count": 54,
     "metadata": {},
     "output_type": "execute_result"
    },
    {
     "data": {
      "text/plain": [
       "Text(0.5, 0, 'Churn prediction score')"
      ]
     },
     "execution_count": 54,
     "metadata": {},
     "output_type": "execute_result"
    },
    {
     "data": {
      "text/plain": [
       "Text(0, 0.5, 'Number of customers')"
      ]
     },
     "execution_count": 54,
     "metadata": {},
     "output_type": "execute_result"
    },
    {
     "data": {
      "text/plain": [
       "Text(0.5, 1.0, 'Prediction Scores')"
      ]
     },
     "execution_count": 54,
     "metadata": {},
     "output_type": "execute_result"
    },
    {
     "data": {
      "image/png": "[encoded data removed]",
      "text/plain": [
       "<Figure size 640x480 with 1 Axes>"
      ]
     },
     "metadata": {},
     "output_type": "display_data"
    }
   ],
   "source": [
    "plt.hist(predictions)\n",
    "plt.xlabel(\"Churn prediction score\")\n",
    "plt.ylabel(\"Number of customers\")\n",
    "plt.title(\"Prediction Scores\")\n",
    "plt.show()"
   ]
  },
  {
   "cell_type": "markdown",
   "metadata": {},
   "source": [
    "#### Mapping the customer churn threshold\n",
    "\n",
    "In previous versions of this notebook, we've shown the effect of false negatives that are substantially more costly than false positives. Instead of optimizing for error based on the number of customers, we've used a cost function that looks like this:\n",
    "\n",
    "```txt\n",
    "cost_of_replacing_customer * FN(C) + customer_value * TN(C) + incentive_offered * FP(C) + incentive_offered * TP(C)\n",
    "```\n",
    "\n",
    "FN(C) means that the false negative percentage is a function of the cutoff, C, and similar for TN, FP, and TP.  We'd like to find the cutoff, C, where the result of the expression is smallest.\n",
    "\n",
    "Right now we'll start by using the same values for all customers, to give us a starting point for discussion with the business. With the estimates we'll use for right now, this equation becomes:\n",
    "\n",
    "```txt\n",
    "$500 * FN(C) + $0 * TN(C) + $50 * FP(C) + $50 * TP(C)\n",
    "```\n",
    "\n",
    "A straightforward way to understand the impact of these numbers is to simply run a simulation over a large number of possible cutoffs.  We test 100 possible values in the for loop below."
   ]
  },
  {
   "cell_type": "code",
   "execution_count": 55,
   "metadata": {},
   "outputs": [
    {
     "data": {
      "text/plain": [
       "[<matplotlib.lines.Line2D at 0x16d29dc90>]"
      ]
     },
     "execution_count": 55,
     "metadata": {},
     "output_type": "execute_result"
    },
    {
     "data": {
      "text/plain": [
       "Text(0.5, 0, 'Threshold')"
      ]
     },
     "execution_count": 55,
     "metadata": {},
     "output_type": "execute_result"
    },
    {
     "data": {
      "text/plain": [
       "Text(0, 0.5, 'Cost')"
      ]
     },
     "execution_count": 55,
     "metadata": {},
     "output_type": "execute_result"
    },
    {
     "data": {
      "text/plain": [
       "Text(0, 0.5, 'Number of customers below cutoff')"
      ]
     },
     "execution_count": 55,
     "metadata": {},
     "output_type": "execute_result"
    },
    {
     "data": {
      "text/plain": [
       "[<matplotlib.lines.Line2D at 0x16d265c00>]"
      ]
     },
     "execution_count": 55,
     "metadata": {},
     "output_type": "execute_result"
    },
    {
     "data": {
      "text/plain": [
       "Text(0.5, 1.0, 'Cost versus Threshold')"
      ]
     },
     "execution_count": 55,
     "metadata": {},
     "output_type": "execute_result"
    },
    {
     "data": {
      "image/png": "[encoded data removed]",
      "text/plain": [
       "<Figure size 640x480 with 2 Axes>"
      ]
     },
     "metadata": {},
     "output_type": "display_data"
    },
    {
     "name": "stdout",
     "output_type": "stream",
     "text": [
      "Cost is minimized near a cutoff of: 0.01 for a cost of: $ 104400 for these 1000 customers.\n",
      "Incentive is paid to 878 customers, for a total outlay of $ 43900\n"
     ]
    }
   ],
   "source": [
    "cutoffs = np.arange(0.01, 1, 0.01)\n",
    "costs = []\n",
    "num_below_cutoff = []\n",
    "fn = 500\n",
    "tn = 0\n",
    "fp = 50\n",
    "tp = 50\n",
    "for c in cutoffs:\n",
    "    crsstb = pd.crosstab(\n",
    "        index=churn_sample[\"Churn?_True.\"],\n",
    "        columns=np.where(predictions > c, 1, 0),\n",
    "    )\n",
    "    if crsstb.shape == (2, 1):\n",
    "        print(crsstb.columns)\n",
    "        if crsstb.columns[0] == 0:  # Then we're missing the '1' column\n",
    "            crsstb[1] = 0\n",
    "        else:\n",
    "            crsstb[0] = 0\n",
    "    costs.append(np.sum(np.sum(np.array([[tn, tp], [fn, fp]]) * crsstb)))\n",
    "    num_below_cutoff.append(np.count_nonzero(np.where(predictions <= c, 1, 0)))\n",
    "\n",
    "costs = np.array(costs)\n",
    "fig, ax = plt.subplots(1, 1)\n",
    "plt.plot(cutoffs, costs)\n",
    "fmt = \"${x:,.0f}\"\n",
    "tick = ticker.StrMethodFormatter(fmt)\n",
    "ax.yaxis.set_major_formatter(tick)\n",
    "ax.tick_params(axis=\"y\", labelcolor=\"b\")\n",
    "plt.xlabel(\"Threshold\")\n",
    "ax.set_ylabel(\"Cost\", color=\"b\")\n",
    "\n",
    "ax2 = ax.twinx()  # instantiate a second axes that shares the same x-axis\n",
    "\n",
    "color = \"tab:blue\"\n",
    "ax2.set_ylabel(\"Number of customers below cutoff\")\n",
    "ax2.plot(cutoffs, num_below_cutoff, color=\"k\")\n",
    "ax2.tick_params(axis=\"y\", labelcolor=\"k\")\n",
    "\n",
    "plt.title(\"Cost versus Threshold\")\n",
    "plt.show()\n",
    "dex = np.argmin(costs)\n",
    "incentives_paid_to = len(churn_sample) - num_below_cutoff[dex]\n",
    "print(\n",
    "    \"Cost is minimized near a cutoff of:\",\n",
    "    cutoffs[dex],\n",
    "    \"for a cost of: $\",\n",
    "    np.min(costs),\n",
    "    \"for these\",\n",
    "    len(predictions),\n",
    "    \"customers.\",\n",
    ")\n",
    "print(\n",
    "    \"Incentive is paid to\",\n",
    "    incentives_paid_to,\n",
    "    \"customers, for a total outlay of $\",\n",
    "    incentives_paid_to * tp,\n",
    ")\n",
    "# print(\n",
    "#     \"Total customer spend of these customers is $\",\n",
    "#     churn_sample[churn_sample[\"Churn Probability\"] > cutoffs[dex]][\n",
    "#         \"Total Customer Spend\"\n",
    "#     ].sum(),\n",
    "# )"
   ]
  },
  {
   "cell_type": "markdown",
   "metadata": {},
   "source": [
    "The above chart shows how picking a threshold too low results in costs skyrocketing as all customers are given a retention incentive.  Meanwhile, setting the threshold too high (e.g., 0.7 or above) results in too many lost customers, which ultimately grows to be nearly as costly. In between, there is a large \"grey\" area, where perhaps some more nuanced incentives would create better outcomes.  \n",
    "\n",
    "The overall cost can be minimized at \\$25800 by setting the cutoff to 0.21, which is substantially better than the \\$100k+ we would expect to lose by not taking any action.\n",
    "\n",
    "We can also calculate the dollar outlay of the program, and compare to the total spend of the customers. Here we can see that paying the incentive to all predicted churn customers will cost \\$12300, and that these customers spend \\$16324. (Your numbers may vary, depending on the specific customers randomly chosen for the sample.)  \n",
    "\n",
    "What happens if we instead have a smaller budget for our campaign? We'll choose a budget of 1% of total customer monthly spend. "
   ]
  },
  {
   "cell_type": "markdown",
   "metadata": {},
   "source": [
    "We can see that the cost to us changes. But it's pretty clear that an incentive of ~\\\\$0.60 is unlikely to change many people's minds.   \n",
    "\n",
    "For better outcomes, we could even offer a range of incentives to customers that meet different criteria. For example, it's worth more to the business to prevent a high spend customer from churning than a low spend customer. We could also target the \"grey area\" of customers that have less loyalty and could be swayed by another company's advertising. Let's explore that now. \n",
    "\n"
   ]
  },
  {
   "cell_type": "markdown",
   "metadata": {},
   "source": [
    "## Preventing customer churn using mathematical optimization of incentive programs \n",
    "\n",
    "Now let's use a more sophisticated approach to developing our customer retention program. We'd like to tailor our incentives to target the customers most likely to reconsider a \"churn\" decision. \n",
    "\n",
    "Intuitively, we know that we do not need to offer an incentive to customers with a low churn probability. Also, above some threshold, we've already lost the customer's heart and mind, even if they haven't actually left yet. So the best target for our incentive is between those two thresholds - these are the customers we can convince to stay. \n",
    "\n",
    "Let's formulate this as a mathematical optimization problem.\n",
    "\n",
    "The problem under investigation is inherently stochastic in that each customer might churn or not, and might accept the incentive (offer) or not. Stochastic programming [1, 2] is an approach for modeling optimization problems that involve uncertainty. Whereas deterministic optimization problems are formulated with known parameters, real world problems almost invariably include parameters which are unknown at the time a decision should be made. An example would be the construction of an investment portfolio to maximize return. An efficient portfolio would be defined as the portfolio that maximizes the expected return for a given amount of risk (e.g. standard deviation), or the portfolio that minimizes the risk subject to a given expected return [3].\n",
    "\n",
    "References: [1] S. Uryasev, P. M. Pardalos, Stochastic Optimization: Algorithm and Applications, Kluwer Academic: Norwell, MA, USA, 2001.\n",
    "[2] John R. Birge and François V. Louveaux. Introduction to Stochastic Programming. Springer Verlag, New York, 1997.\n",
    "[3] Francis, J. C. and Kim, D. (2013). Modern portfolio theory: Foundations, analysis, and new developments (Vol. 795). John Wiley & Sons.\n",
    "\n"
   ]
  },
  {
   "cell_type": "markdown",
   "metadata": {},
   "source": [
    "\\begin{align}\n",
    "    N & : \\text{number of customers}\n",
    "    \\\\\n",
    "    i & \\in \\{1,\\ldots,N\\}\n",
    "    \\\\\n",
    "    P_i & : \\text{profit generated by customer i}\n",
    "    \\\\\n",
    "    \\alpha_i & : \\text{probability customer i will churn}\n",
    "    \\\\\n",
    "    c_i & : \\text{discount or incentive to be offered to customer i}\n",
    "    \\\\\n",
    "    C & = \\sum^{N}_{i=1}c_i,  \\text{ total retention campaign budget}\n",
    "    \\\\\n",
    "    \\gamma_i & \\in (0,1), \\text{convincing factor for customer i}\n",
    "    \\\\\n",
    "    \\beta_i & = 1-e^{-\\gamma_i c_i}, \\text{ probability customer i will accept the discount $c_i$}\n",
    "    \\\\\n",
    "    f(c_i) & = \\sum^{N}_{i=1} P_i(1-\\alpha_i) + \\sum^{N}_{i=1} \\beta_i(\\alpha_i P_i - c_i), \\text{expected total profit}\n",
    "\\end{align}\n",
    "\n",
    "Our goal is to optimally allocate the discount 𝑐𝑖 across the 𝑁 customers in order to maximize the expected total profit. Mathematically this is equivalent to the following optimization problem:\n",
    "\\begin{aligned}\n",
    "& \\underset{c_i}{\\text{maximize}}\n",
    "& & f(c_i) \\\\\n",
    "& \\text{subject to}\n",
    "& & \\sum^{N}_{i=1}c_i \\leq C \n",
    "\\\\\n",
    "&&& c_i \\geq 0.\n",
    "\\end{aligned}\n",
    "\n",
    "For our situation:\n",
    "* We know the number of customers, N.\n",
    "* We can use their spend from their customer record as the (upper bound) estimate of the profit they generate, P.\n",
    "* We can use the churn score from our ML model as an estimate of the probability of churn, alpha. \n",
    "* The incentive, c, is what we'd like to calculate.\n",
    "* We'll use 1% of our total revenue as our campaign budget, C.\n",
    "* The probability that the customer will be swayed, beta, depends on how convincing the incentive is to the customer - which we've represented as $\\gamma$.\n",
    "\n",
    "That leaves $\\gamma$, the convincing factor to be defined, below. "
   ]
  },
  {
   "cell_type": "markdown",
   "metadata": {},
   "source": [
    "We set up our inputs: P, profit; alpha, our churn probabilities, from our model above; and C, our campaign budget. "
   ]
  },
  {
   "cell_type": "code",
   "execution_count": null,
   "metadata": {},
   "outputs": [],
   "source": [
    "# P: vector of the total customer spend\n",
    "P = churn_sample[\"Total Customer Spend\"].values\n",
    "# alpha: vector of churn probabilities\n",
    "alpha = churn_sample[\"Churn Probability\"].values\n",
    "\n",
    "print(\"Total budget is:\", \"${:,.2f}\".format(C))"
   ]
  },
  {
   "cell_type": "markdown",
   "metadata": {},
   "source": [
    "Now we can add a variable (gamma) that allows us to specify how likely we think each customer is to accept the offer and not churn - that is, how convincing they find the incentive. \n",
    "\n",
    "While this is a matter of business judgment, we can use the graph above to inform that judgment. In this case, the business believes that if the churn probability is below 0.55, they are unlikely to churn, even without an incentive; on the other hand, if the customer's churn probability is above 0.95, the customer has little loyalty and is unlikely to be convinced. The real target for the incentives are the customers with churn probability between 0.55 and 0.95. \n",
    "\n",
    "We could include that business insight into the optimization by setting the value for the convincing factor $\\gamma$ as follows:\n",
    "\n",
    "- $\\gamma_i$ = 100. This is equivalent to giving less importance as deciding factor to the discount $c_i$  for customers whose churn probability $\\alpha_i$ is below 0.55 (they are loyal and less likeley to churn) and/or greater than 0.95 (they will most likely leave despite the retention campaign)\n",
    "- $\\gamma_i$ = 1. This is equivalent to saying that the probability customer i will accept the discount $c_i$ is equal to $\\beta = 1-e^{-c_i}$ for customer whose $\\alpha_i$ $\\in$ [0.55, 0.95]\n",
    "\n",
    "Once we start to offer these incentives, we can log whether or not each customer accepts the offer and remains a customer. With that information, we can learn this function from experience, and use that learned function to develop the next set of incentives.  "
   ]
  },
  {
   "cell_type": "code",
   "execution_count": null,
   "metadata": {},
   "outputs": [],
   "source": [
    "gamma = np.ones(N)\n",
    "len(np.where(alpha > 0.95)[0])"
   ]
  },
  {
   "cell_type": "code",
   "execution_count": null,
   "metadata": {},
   "outputs": [],
   "source": [
    "indices_gamma_eq_zero = np.union1d(\n",
    "    np.where(alpha > 0.95)[0], np.where(alpha < 0.55)[0]\n",
    ")\n",
    "gamma[indices_gamma_eq_zero] = 100\n",
    "gamma"
   ]
  },
  {
   "cell_type": "markdown",
   "metadata": {},
   "source": [
    "### Solving the optimization problem"
   ]
  },
  {
   "cell_type": "markdown",
   "metadata": {},
   "source": [
    "There's a variety of open source solvers available that can solve this optimization problem for us. Examples include SciPy scipy.optimize.minimize, or faster open source solvers like GEKKO (https://gekko.readthedocs.io/en/latest/), which is what we use here. For large-scale problems, we would recommend using commercial optimization solvers like CPLEX or GUROBI."
   ]
  },
  {
   "cell_type": "code",
   "execution_count": null,
   "metadata": {},
   "outputs": [],
   "source": [
    "!pip install gekko"
   ]
  },
  {
   "cell_type": "markdown",
   "metadata": {},
   "source": [
    "_Note! Due to the stochastic nature of the algorithm, it may occasionally not converge on a solution. In these cases it's often solved by running the algorithm again; or, as a last resort, slightly modifying the value of C has been found to help the algorithm find a solution._"
   ]
  },
  {
   "cell_type": "code",
   "execution_count": null,
   "metadata": {},
   "outputs": [],
   "source": [
    "from gekko import GEKKO\n",
    "\n",
    "m = GEKKO(remote=False)\n",
    "m.options.SOLVER = 3  # IPOPT Solver\n",
    "m.options.IMODE = 3\n",
    "\n",
    "# C=1000\n",
    "# variable array dimension\n",
    "# create array\n",
    "x = m.Array(m.Var, N)\n",
    "for i in range(N):\n",
    "    x[i].value = C / N\n",
    "    x[i].lower = 0\n",
    "    x[i].upper = 10000000\n",
    "\n",
    "# create parameter\n",
    "budget = m.Param(value=C)\n",
    "ival_eq = [m.Intermediate(x[i]) for i in range(N)]\n",
    "# ival_eq_2 = [m.Intermediate(x[i]) for i in range(int(N/2),N)]\n",
    "\n",
    "m.Equation(sum(ival_eq) == budget)\n",
    "\n",
    "beta = [1 - m.exp(-gamma[i] * x[i]) for i in range(N)]\n",
    "ival = [m.Intermediate(beta[i] * (alpha[i] * P[i] - x[i])) for i in range(N)]\n",
    "# ival_2 = [m.Intermediate(beta[i] * (alpha[i] * P[i] - x[i])) for i in range(int(N/2),N)]\n",
    "m.Obj(-sum(ival))\n",
    "\n",
    "# minimize objective\n",
    "m.solve()\n",
    "print(x)"
   ]
  },
  {
   "cell_type": "code",
   "execution_count": null,
   "metadata": {},
   "outputs": [],
   "source": [
    "# Gekko returns an array of arrays so transforming to array\n",
    "x = np.array([a[0] for a in x])"
   ]
  },
  {
   "cell_type": "markdown",
   "metadata": {},
   "source": [
    "We verify that the budget constraint C is met."
   ]
  },
  {
   "cell_type": "code",
   "execution_count": null,
   "metadata": {},
   "outputs": [],
   "source": [
    "print(\n",
    "    \"Total spend is\",\n",
    "    \"${:,.2f}\".format(np.sum(x)),\n",
    "    \"compared to our budget of\",\n",
    "    \"${:,.2f}\".format(C),\n",
    ")\n",
    "print(\n",
    "    \"Total customer spend is\",\n",
    "    \"${:,.2f}\".format(churn_sample[\"Total Customer Spend\"].sum()),\n",
    "    \"for\",\n",
    "    len(churn_sample),\n",
    "    \"customers.\",\n",
    ")"
   ]
  },
  {
   "cell_type": "markdown",
   "metadata": {},
   "source": [
    "Now we evaluate the expected total profit for the following scenarios:\n",
    "1. Optimal discount allocation, as calculated by our optimization algorithm\n",
    "2. Uniform discount allocation - every customer is offered the same incentive\n",
    "3. No discount"
   ]
  },
  {
   "cell_type": "code",
   "execution_count": null,
   "metadata": {},
   "outputs": [],
   "source": [
    "def expected_total_profit(x, gamma, alpha, P):\n",
    "    # beta: vector of probabilities customer will accept the offer\n",
    "    beta = 1 - np.exp(-gamma * (x))\n",
    "\n",
    "    return np.sum(P * (1 - alpha)) + np.sum(beta * (alpha * P - x))"
   ]
  },
  {
   "cell_type": "code",
   "execution_count": null,
   "metadata": {},
   "outputs": [],
   "source": [
    "expected_total_profit_no_campaign = expected_total_profit(0, gamma, alpha, P)\n",
    "expected_total_profit_optimal = expected_total_profit(x, gamma, alpha, P)\n",
    "expected_total_profit_uniform_campaign = expected_total_profit(\n",
    "    (C / N) * np.ones(N), gamma, alpha, P\n",
    ")"
   ]
  },
  {
   "cell_type": "code",
   "execution_count": null,
   "metadata": {},
   "outputs": [],
   "source": [
    "plt.figure(figsize=(10, 6))\n",
    "data = [\n",
    "    expected_total_profit_optimal,\n",
    "    expected_total_profit_uniform_campaign,\n",
    "    expected_total_profit_no_campaign,\n",
    "]\n",
    "labels = [\"Optimised Campaign\", \"Naive Uniform Spend\", \"No Campaign\"]\n",
    "plt.xticks(range(len(data)), labels)\n",
    "plt.xlabel(\"Budget Allocation Approach\")\n",
    "plt.ylabel(\"Expected Total Profit\")\n",
    "# plt.title('Benefit of Optimisation with N=%i Customers' %N)\n",
    "plt.bar(range(len(data)), data)\n",
    "ax = plt.gca()\n",
    "fmt = \"${x:,.0f}\"\n",
    "formatter = ticker.StrMethodFormatter(fmt)\n",
    "ax.yaxis.set_major_formatter(formatter)\n",
    "\n",
    "plt.savefig(\"Profits from optimisation\", transparent=True)\n",
    "plt.show()\n",
    "\n",
    "print(\n",
    "    \"Expected total profit compared to no campaign:  %.0f%%\"\n",
    "    % (\n",
    "        100\n",
    "        * (expected_total_profit_optimal - expected_total_profit_no_campaign)\n",
    "        / expected_total_profit_no_campaign\n",
    "    )\n",
    ")\n",
    "print(\n",
    "    \"Expected total profit compared to uniform discount allocation:  %.0f%%\"\n",
    "    % (\n",
    "        100\n",
    "        * (\n",
    "            expected_total_profit_optimal\n",
    "            - expected_total_profit_uniform_campaign\n",
    "        )\n",
    "        / expected_total_profit_uniform_campaign\n",
    "    )\n",
    ")"
   ]
  },
  {
   "cell_type": "markdown",
   "metadata": {},
   "source": [
    "Lastly, we add the discount to our customer data. "
   ]
  },
  {
   "cell_type": "code",
   "execution_count": null,
   "metadata": {},
   "outputs": [],
   "source": [
    "churn_sample[\"Convincing Factor\"] = gamma\n",
    "churn_sample[\"Optimal Discount\"] = x"
   ]
  },
  {
   "cell_type": "code",
   "execution_count": null,
   "metadata": {},
   "outputs": [],
   "source": [
    "churn_sample[\"Optimal Discount\"].hist(bins=20)\n",
    "plt.axvline(x=C / N, linewidth=3, color=\"r\")\n",
    "plt.xlabel(\"Discount in $\")\n",
    "plt.ylabel(\"# of Subscribers Offered Discount\")"
   ]
  },
  {
   "cell_type": "markdown",
   "metadata": {},
   "source": [
    "We can see that this graph mirrors the histogram of churn probabilies, above: a large number of people are unlikely to churn, and they are offered a very small discount. A smaller number of people are likely to churn, and they are offered a larger discount.\n",
    "\n",
    "The vertical line shows the discount offered by a naive, uniform allocation of the budget across all customers.  \n",
    "\n"
   ]
  },
  {
   "cell_type": "markdown",
   "metadata": {},
   "source": [
    "Now, for each customer we can see their total spend, and the optimal incentive to offer that customer. We can see that the discount varies by churn probability, and we're assured that the incentive campaign will fit within our budget.\n",
    "\n"
   ]
  },
  {
   "cell_type": "code",
   "execution_count": null,
   "metadata": {},
   "outputs": [],
   "source": [
    "churn_sample[\n",
    "    [\n",
    "        \"State\",\n",
    "        \"Area Code\",\n",
    "        \"Phone\",\n",
    "        \"Churn?\",\n",
    "        \"Total Customer Spend\",\n",
    "        \"Churn Probability\",\n",
    "        \"Optimal Discount\",\n",
    "        \"Convincing Factor\",\n",
    "    ]\n",
    "].sort_values(by=\"Optimal Discount\", ascending=False).head(15)"
   ]
  },
  {
   "cell_type": "code",
   "execution_count": null,
   "metadata": {},
   "outputs": [],
   "source": [
    "churn_sample[\n",
    "    [\n",
    "        \"State\",\n",
    "        \"Area Code\",\n",
    "        \"Phone\",\n",
    "        \"Churn?\",\n",
    "        \"Total Customer Spend\",\n",
    "        \"Churn Probability\",\n",
    "        \"Optimal Discount\",\n",
    "        \"Convincing Factor\",\n",
    "    ]\n",
    "].sample(15)"
   ]
  },
  {
   "cell_type": "markdown",
   "metadata": {},
   "source": [
    "---\n",
    "\n",
    "Depending on the size of the total budget we allocate, we may occasionally find that we’re offering all customers a discount. This discount allocation problem reminds us of the water-filling algorithm in wireless communications [4,5], where the problem is of maximizing the mutual information between the input and the output of a channel composed of several subchannels (such as a frequency-selective channel, a time-varying channel, or a set of parallel subchannels arising from the use of multiple antennas at both sides of the link) with a global power constraint at the transmitter. More power is allocated to the channels with higher gains to maximize the sum of data rates or the capacity of all the channels. The solution to this class of the problems can be interpreted by a vivid description as pouring limited volume of water into a tank, the bottom of which has the stair levels determined by the inverse of the sub-channel gains. \n",
    "\n",
    "Unfortunately our problem does not have an intuitive explanation as for the water-filling problem. This is due to the fact that, because of the nature of the objective function, the system of equations and inequalities corresponding to the KKT conditions [6] does not admit a closed form solution.\n",
    "\n",
    "The optimal incentives calculated here are the result of an optimization routine designed to maximize an economic figure, which is the expected total profit. While this approach provides a principled way for Marketing teams to make systematic, quantitative and analytics-driven decisions, it is also important to recall that the objective function to be optimized is a proxy measure to the actual total profit. It goes without saying that we cannot compute the actual profit based on future decisions (e.g. this would paradoxically imply maximizing the actual return based on future values of the stocks). But we can explore new ideas using techniques such as the potential outcomes work [7], which could be leveraged to design strategies for back-testing of our solution.\n",
    "\n",
    "\n",
    "References: [4] T. M. Cover and J. A. Thomas, Elements of Information Theory. New York: Wiley, 1991.\n",
    "[5] D. P. Palomar and J. R. Fonollosa, “Practical algorithms for a family of water-filling solutions,” IEEE Trans. Signal Process., vol. 53, no. 2, pp. 686–695, Feb. 2005.\n",
    "[6] S. Boyd and L. Vandenberghe. Convex optimization. Cambridge university press, 2004.\n",
    "[7] Imbens, G. W. and D. B. Rubin (2015): Causal Inference for Statistics, Social, and Biomedical Sciences, Cambridge University Press.\n",
    "\n",
    "\n",
    "## Conclusion\n",
    "\n",
    "We’ve now taken another step towards preventing customer churn. We’ve built on the prior blog, where we integrated our customer data with our ML model to predict churn. We can now experiment with variations on this optimization equation, and see the effect of different campaign budgets or even different theories of how they should be modeled.\n",
    "\n",
    "To gather more data on effective incentives and customer behavior, we could also test several campaigns against different subsets of our customers. We can collect their responses – do they churn after being offered this incentive, or not? – and use that data in a future ML model to further refine the incentives offered. We can use this data to learn what kinds of incentives convince customers with different characteristics to stay, and then use that new function within this optimization.\n",
    "\n",
    "Now, we’re empowering Marketing with the tools to make data-driven decisions that they can quickly turn into action. This approach can drive fast iterations on incentive programs, moving at the speed with which our customers make decisions. Over to you, Marketing!\n"
   ]
  },
  {
   "cell_type": "markdown",
   "metadata": {},
   "source": [
    "### Clean-up\n",
    "\n",
    "If you're ready to be done with this notebook, please run the cell below.  This will remove the hosted endpoint you created and avoid any charges from a stray instance being left on."
   ]
  }
 ],
 "metadata": {
  "celltoolbar": "Tags",
  "kernelspec": {
   "display_name": "bk-imp",
   "language": "python",
   "name": "python3"
  },
  "language_info": {
   "codemirror_mode": {
    "name": "ipython",
    "version": 3
   },
   "file_extension": ".py",
   "mimetype": "text/x-python",
   "name": "python",
   "nbconvert_exporter": "python",
   "pygments_lexer": "ipython3",
   "version": "3.10.12"
  },
  "notice": "Copyright 2017 Amazon.com, Inc. or its affiliates. All Rights Reserved.  Licensed under the Apache License, Version 2.0 (the \"License\"). You may not use this file except in compliance with the License. A copy of the License is located at http://aws.amazon.com/apache2.0/ or in the \"license\" file accompanying this file. This file is distributed on an \"AS IS\" BASIS, WITHOUT WARRANTIES OR CONDITIONS OF ANY KIND, either express or implied. See the License for the specific language governing permissions and limitations under the License."
 },
 "nbformat": 4,
 "nbformat_minor": 4
}
