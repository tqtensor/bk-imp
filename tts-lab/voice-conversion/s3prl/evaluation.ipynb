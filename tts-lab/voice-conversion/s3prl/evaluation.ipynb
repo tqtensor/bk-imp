{
 "cells": [
  {
   "cell_type": "code",
   "execution_count": 1,
   "id": "04ce4e85",
   "metadata": {},
   "outputs": [],
   "source": [
    "import glob\n",
    "from collections import defaultdict\n",
    "\n",
    "from pymcd.mcd import Calculate_MCD\n",
    "\n",
    "mcd_toolbox = Calculate_MCD(MCD_mode=\"dtw_sl\")"
   ]
  },
  {
   "cell_type": "code",
   "execution_count": 2,
   "id": "90003c66",
   "metadata": {},
   "outputs": [],
   "source": [
    "model_name = \"pretrained_vq_wav2vec_taco2\""
   ]
  },
  {
   "cell_type": "code",
   "execution_count": 3,
   "id": "55bd431d",
   "metadata": {},
   "outputs": [],
   "source": [
    "def get_audio_pairs(model_name: str) -> dict:\n",
    "    \"\"\"Gets audio pairs of target and converted voice.\"\"\"\n",
    "\n",
    "    target_audios = glob.glob(\"target/MGL1/*.wav\")\n",
    "    converted_audios = glob.glob(f\"{model_name}/wav/*.wav\")\n",
    "\n",
    "    pairs = defaultdict(list)\n",
    "    for target_audio in target_audios:\n",
    "        target_audio_name = target_audio.split(\"/\")[-1].replace(\".wav\", \"\")\n",
    "        for converted_audio in converted_audios:\n",
    "            converted_audio_name = converted_audio.split(\"/\")[-1].replace(\n",
    "                \".wav\", \"\"\n",
    "            )\n",
    "            if target_audio_name in converted_audio_name:\n",
    "                pairs[target_audio_name].append(converted_audio_name)\n",
    "    return pairs"
   ]
  },
  {
   "cell_type": "code",
   "execution_count": 4,
   "id": "5992cd3b",
   "metadata": {},
   "outputs": [],
   "source": [
    "audio_pairs = get_audio_pairs(model_name=model_name)"
   ]
  },
  {
   "cell_type": "code",
   "execution_count": 5,
   "id": "f44dfd7d",
   "metadata": {},
   "outputs": [
    {
     "name": "stdout",
     "output_type": "stream",
     "text": [
      "MBD1_TTCS_05_0006 10.450247057633051\n",
      "MBD1_TTCS_01_0025 10.53901152593864\n",
      "MBD1_TTCS_08_0025 10.360154798816945\n",
      "FBD1_KTXH_11_0035 26.837318209144705\n",
      "MBD1_KTXH_11_0035 32.7785295349802\n",
      "MBD1_TTCS_04_0052 15.275943694993929\n"
     ]
    }
   ],
   "source": [
    "for target_audio in audio_pairs.keys():\n",
    "    for converted_audio in audio_pairs[target_audio]:\n",
    "        print(\n",
    "            converted_audio,\n",
    "            mcd_toolbox.calculate_mcd(\n",
    "                f\"target/MGL1/{target_audio}.wav\",\n",
    "                f\"{model_name}/wav/{converted_audio}.wav\",\n",
    "            ),\n",
    "        )"
   ]
  }
 ],
 "metadata": {
  "kernelspec": {
   "display_name": "Python 3 (ipykernel)",
   "language": "python",
   "name": "python3"
  },
  "language_info": {
   "codemirror_mode": {
    "name": "ipython",
    "version": 3
   },
   "file_extension": ".py",
   "mimetype": "text/x-python",
   "name": "python",
   "nbconvert_exporter": "python",
   "pygments_lexer": "ipython3",
   "version": "3.9.17"
  }
 },
 "nbformat": 4,
 "nbformat_minor": 5
}
