{
 "cells": [
  {
   "cell_type": "markdown",
   "id": "832af7cc-f760-4104-bc97-8334923bc9f1",
   "metadata": {},
   "source": [
    "## Reference\n",
    "https://www.fon.hum.uva.nl/praat/manual/Sound__Change_gender___.html"
   ]
  },
  {
   "cell_type": "code",
   "execution_count": null,
   "id": "eba20551-eb8d-437e-a595-d78e71bfb1a0",
   "metadata": {
    "tags": []
   },
   "outputs": [],
   "source": [
    "import tempfile\n",
    "\n",
    "import numpy as np\n",
    "import parselmouth\n",
    "import soundfile as sf\n",
    "from IPython.display import Audio\n",
    "from parselmouth.praat import call"
   ]
  },
  {
   "cell_type": "code",
   "execution_count": null,
   "id": "1e591fc1-1652-4364-9c10-84dde289e833",
   "metadata": {
    "tags": []
   },
   "outputs": [],
   "source": [
    "# Load the male voice recording\n",
    "sound = parselmouth.Sound(\"male_voice.mp3\")"
   ]
  },
  {
   "cell_type": "code",
   "execution_count": null,
   "id": "5c69a069-368f-4f37-a025-0bb3bb5861fa",
   "metadata": {
    "tags": []
   },
   "outputs": [],
   "source": [
    "Audio(data=sound.values, rate=sound.sampling_frequency)"
   ]
  },
  {
   "cell_type": "code",
   "execution_count": null,
   "id": "141f2d7b-6647-4f5d-8892-99176333d9a0",
   "metadata": {
    "tags": []
   },
   "outputs": [],
   "source": [
    "def change_gender(\n",
    "    input: np.ndarray,\n",
    "    sampling_rate: int,\n",
    "    pitch_min: float,\n",
    "    pitch_max: float,\n",
    "    formant_shift_ratio: float,\n",
    "    new_pitch_median: float,\n",
    "    pitch_range_factor: float,\n",
    "    duration_factor: float,\n",
    ") -> np.ndarray:\n",
    "    \"\"\"\n",
    "    Changes the gender of the input audio using Praat's 'Change gender' algorithm.\n",
    "\n",
    "    Args:\n",
    "        input (np.ndarray): The input audio data as a NumPy array.\n",
    "        sampling_rate (int): The sampling rate of the input audio.\n",
    "        pitch_min (float): Minimum pitch (Hz) below which pitch candidates will not be considered.\n",
    "        pitch_max (float): Maximum pitch (Hz) above which pitch candidates will be ignored.\n",
    "        formant_shift_ratio (float): Ratio determining the frequencies of formants in the newly created audio.\n",
    "            A ratio of 1.0 indicates no frequency shift, while 1.1 approximates female formant characteristics.\n",
    "            A ratio of 1/1.1 approximates male formant characteristics.\n",
    "        new_pitch_median (float): Median pitch (Hz) of the new audio. The pitch values in the new audio\n",
    "            are calculated by multiplying them by new_pitch_median / old_pitch_median.\n",
    "            Default: 0.0 (same as original).\n",
    "        pitch_range_factor (float): Scaling factor for the new pitch values around the new pitch median.\n",
    "            A factor of 1.0 implies no additional pitch modification (except for the median adjustment).\n",
    "            A factor of 0.0 monotonizes the new sound to the new pitch median.\n",
    "            Default: 1.0.\n",
    "        duration_factor (float): Factor by which the sound will be lengthened.\n",
    "            Values less than 1.0 result in a shorter sound, while values larger than 3.0 are not supported.\n",
    "            Default: 1.0.\n",
    "\n",
    "    Returns:\n",
    "        np.ndarray: The processed audio data as a NumPy array with the gender changed.\n",
    "\n",
    "    Raises:\n",
    "        AssertionError: If pitch_min is greater than pitch_max or if duration_factor is larger than 3.0.\n",
    "    \"\"\"\n",
    "    assert (\n",
    "        pitch_min <= pitch_max\n",
    "    ), \"pitch_min should be less than or equal to pitch_max\"\n",
    "    assert duration_factor <= 3.0, \"duration_factor cannot be larger than 3.0\"\n",
    "\n",
    "    # Save the input audio to a temporary file\n",
    "    tmp_file = tempfile.NamedTemporaryFile(suffix=\".wav\", delete=False)\n",
    "    sf.write(tmp_file, input, sampling_rate)\n",
    "\n",
    "    # Load the source audio\n",
    "    sound = parselmouth.Sound(tmp_file.name)\n",
    "\n",
    "    # Tune the audio\n",
    "    tuned_sound = call(\n",
    "        sound,\n",
    "        \"Change gender\",\n",
    "        pitch_min,\n",
    "        pitch_max,\n",
    "        formant_shift_ratio,\n",
    "        new_pitch_median,\n",
    "        pitch_range_factor,\n",
    "        duration_factor,\n",
    "    )\n",
    "\n",
    "    # Remove the temporary file\n",
    "    tmp_file.close()\n",
    "\n",
    "    return np.array(tuned_sound.values.T)"
   ]
  },
  {
   "cell_type": "code",
   "execution_count": null,
   "id": "dcbe8005-481b-44a6-bbf1-264a893c18db",
   "metadata": {
    "tags": []
   },
   "outputs": [],
   "source": [
    "tuned_audio = change_gender(\n",
    "    np.array(sound.values.T),\n",
    "    int(sound.sampling_frequency),\n",
    "    75,\n",
    "    600,\n",
    "    1.1,\n",
    "    0.0,\n",
    "    1.0,\n",
    "    1.0,\n",
    ")"
   ]
  },
  {
   "cell_type": "code",
   "execution_count": null,
   "id": "4353b2e4-7482-4b71-a63c-6ce268f22028",
   "metadata": {
    "tags": []
   },
   "outputs": [],
   "source": [
    "sf.write(\"tuned_voice.wav\", tuned_audio, int(sound.sampling_frequency))"
   ]
  }
 ],
 "metadata": {
  "kernelspec": {
   "display_name": "Python 3 (ipykernel)",
   "language": "python",
   "name": "python3"
  },
  "language_info": {
   "codemirror_mode": {
    "name": "ipython",
    "version": 3
   },
   "file_extension": ".py",
   "mimetype": "text/x-python",
   "name": "python",
   "nbconvert_exporter": "python",
   "pygments_lexer": "ipython3",
   "version": "3.10.10"
  }
 },
 "nbformat": 4,
 "nbformat_minor": 5
}
