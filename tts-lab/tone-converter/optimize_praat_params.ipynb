{
 "cells": [
  {
   "cell_type": "code",
   "execution_count": 1,
   "id": "e382a4ad-3687-4856-a835-1b70b6c4fd33",
   "metadata": {
    "tags": []
   },
   "outputs": [],
   "source": [
    "import itertools\n",
    "import multiprocessing\n",
    "import tempfile\n",
    "\n",
    "import numpy as np\n",
    "import parselmouth\n",
    "import soundfile as sf\n",
    "from parselmouth.praat import call\n",
    "from pymcd.mcd import Calculate_MCD"
   ]
  },
  {
   "cell_type": "code",
   "execution_count": 2,
   "id": "6342d390-c4d3-4cd1-9a4a-6713fa050fb0",
   "metadata": {
    "tags": []
   },
   "outputs": [],
   "source": [
    "# Instance of MCD class\n",
    "# Three different modes \"plain\", \"dtw\" and \"dtw_sl\" for the above three MCD metrics\n",
    "mcd_toolbox = Calculate_MCD(MCD_mode=\"dtw\")"
   ]
  },
  {
   "cell_type": "markdown",
   "id": "e9cf3dc2-bee5-4f08-8b2c-551c302d7962",
   "metadata": {},
   "source": [
    "## Generate Synthetic Voices"
   ]
  },
  {
   "cell_type": "markdown",
   "id": "dd7d4343-deee-4c37-a78d-d55bf9504156",
   "metadata": {},
   "source": [
    "### Search Space"
   ]
  },
  {
   "cell_type": "markdown",
   "id": "d8606618-7204-43ab-b03a-ad69cde9c15e",
   "metadata": {},
   "source": [
    "Reference: https://voicefoundation.org/health-science/voice-disorders/anatomy-physiology-of-voice-production/understanding-voice-production/"
   ]
  },
  {
   "cell_type": "code",
   "execution_count": 3,
   "id": "f1c202fe-88e4-4347-bc62-80bd963f61bc",
   "metadata": {
    "tags": []
   },
   "outputs": [],
   "source": [
    "pitch_min = [75]\n",
    "pitch_max = [600]\n",
    "formant_shift_ratio = list(np.arange(1, 1.5, 0.01))\n",
    "new_pitch_median = list(np.arange(180, 220, 1.0))\n",
    "pitch_range_factor = list(np.arange(1, 1.5, 0.01))\n",
    "duration_factor = [1]"
   ]
  },
  {
   "cell_type": "code",
   "execution_count": 4,
   "id": "8bd84eef-ee74-4c30-9699-a6c7ef6e58ee",
   "metadata": {
    "tags": []
   },
   "outputs": [],
   "source": [
    "search_space = list(\n",
    "    itertools.product(\n",
    "        *[\n",
    "            pitch_min,\n",
    "            pitch_max,\n",
    "            formant_shift_ratio,\n",
    "            new_pitch_median,\n",
    "            pitch_range_factor,\n",
    "            duration_factor,\n",
    "        ]\n",
    "    )\n",
    ")"
   ]
  },
  {
   "cell_type": "markdown",
   "id": "11e711bd-22c5-4900-b090-b0b0b138be27",
   "metadata": {},
   "source": [
    "### Running with Multiprocess"
   ]
  },
  {
   "cell_type": "code",
   "execution_count": 5,
   "id": "668c58d3-7efd-477b-a108-467760bfe7ae",
   "metadata": {
    "tags": []
   },
   "outputs": [],
   "source": [
    "def change_gender(\n",
    "    sound_input: np.ndarray,\n",
    "    sampling_rate: int,\n",
    "    pitch_min: float,\n",
    "    pitch_max: float,\n",
    "    formant_shift_ratio: float,\n",
    "    new_pitch_median: float,\n",
    "    pitch_range_factor: float,\n",
    "    duration_factor: float,\n",
    ") -> np.ndarray:\n",
    "    \"\"\"\n",
    "    Changes the gender of the input audio using Praat's 'Change gender' algorithm.\n",
    "\n",
    "    Args:\n",
    "        sound_input (np.ndarray): The input audio data as a NumPy array.\n",
    "        sampling_rate (int): The sampling rate of the input audio.\n",
    "        pitch_min (float): Minimum pitch (Hz) below which pitch candidates will not be considered.\n",
    "        pitch_max (float): Maximum pitch (Hz) above which pitch candidates will be ignored.\n",
    "        formant_shift_ratio (float): Ratio determining the frequencies of formants in the newly created audio.\n",
    "            A ratio of 1.0 indicates no frequency shift, while 1.1 approximates female formant characteristics.\n",
    "            A ratio of 1/1.1 approximates male formant characteristics.\n",
    "        new_pitch_median (float): Median pitch (Hz) of the new audio. The pitch values in the new audio\n",
    "            are calculated by multiplying them by new_pitch_median / old_pitch_median.\n",
    "            Default: 0.0 (same as original).\n",
    "        pitch_range_factor (float): Scaling factor for the new pitch values around the new pitch median.\n",
    "            A factor of 1.0 implies no additional pitch modification (except for the median adjustment).\n",
    "            A factor of 0.0 monotonizes the new sound to the new pitch median.\n",
    "            Default: 1.0.\n",
    "        duration_factor (float): Factor by which the sound will be lengthened.\n",
    "            Values less than 1.0 result in a shorter sound, while values larger than 3.0 are not supported.\n",
    "            Default: 1.0.\n",
    "\n",
    "    Returns:\n",
    "        np.ndarray: The processed audio data as a NumPy array with the gender changed.\n",
    "\n",
    "    Raises:\n",
    "        AssertionError: If pitch_min is greater than pitch_max or if duration_factor is larger than 3.0.\n",
    "    \"\"\"\n",
    "    assert (\n",
    "        pitch_min <= pitch_max\n",
    "    ), \"pitch_min should be less than or equal to pitch_max\"\n",
    "    assert duration_factor <= 3.0, \"duration_factor cannot be larger than 3.0\"\n",
    "\n",
    "    # Save the input audio to a temporary file\n",
    "    tmp_file = tempfile.NamedTemporaryFile(suffix=\".wav\", delete=False)\n",
    "    sf.write(tmp_file, sound_input, sampling_rate)\n",
    "\n",
    "    # Load the source audio\n",
    "    sound = parselmouth.Sound(tmp_file.name)\n",
    "\n",
    "    # Tune the audio\n",
    "    tuned_sound = call(\n",
    "        sound,\n",
    "        \"Change gender\",\n",
    "        pitch_min,\n",
    "        pitch_max,\n",
    "        formant_shift_ratio,\n",
    "        new_pitch_median,\n",
    "        pitch_range_factor,\n",
    "        duration_factor,\n",
    "    )\n",
    "\n",
    "    # Remove the temporary file\n",
    "    tmp_file.close()\n",
    "\n",
    "    return (\n",
    "        np.array(tuned_sound.values.T),\n",
    "        formant_shift_ratio,\n",
    "        new_pitch_median,\n",
    "        pitch_range_factor,\n",
    "    )"
   ]
  },
  {
   "cell_type": "code",
   "execution_count": 6,
   "id": "4d898ead-c7b1-4c88-95be-05f1591ac765",
   "metadata": {
    "tags": []
   },
   "outputs": [],
   "source": [
    "def change_gender_wrapper(args):\n",
    "    # Unpack the arguments\n",
    "    sound_input, sampling_frequency, *params = args\n",
    "\n",
    "    # Call the change_gender function with the reconstructed sound object and other parameters\n",
    "    tuned_audio = change_gender(sound_input, sampling_frequency, *params)\n",
    "\n",
    "    return tuned_audio"
   ]
  },
  {
   "cell_type": "code",
   "execution_count": 7,
   "id": "9dfaae7b-6889-480f-9072-0351f1a6d85e",
   "metadata": {
    "tags": []
   },
   "outputs": [],
   "source": [
    "# Load the male voice recording\n",
    "sound = parselmouth.Sound(\"0001_m.wav\").resample(new_frequency=16000)"
   ]
  },
  {
   "cell_type": "code",
   "execution_count": 8,
   "id": "9659d6b7-e45d-4ebd-870b-b7a2bfb4f0f1",
   "metadata": {
    "tags": []
   },
   "outputs": [],
   "source": [
    "# Create a pool of worker processes\n",
    "pool = multiprocessing.Pool(processes=max(1, multiprocessing.cpu_count() - 2))\n",
    "\n",
    "# Prepare the arguments for the change_gender function\n",
    "args = [\n",
    "    (\n",
    "        np.array(sound.values.T),\n",
    "        int(sound.sampling_frequency),\n",
    "        *params,\n",
    "    )\n",
    "    for params in search_space[:40]\n",
    "]\n",
    "\n",
    "# Use multiprocessing to apply the change_gender function to each combination\n",
    "results = pool.map(change_gender_wrapper, args)\n",
    "\n",
    "# Close the pool of worker processes\n",
    "pool.close()\n",
    "pool.join()"
   ]
  },
  {
   "cell_type": "code",
   "execution_count": 9,
   "id": "31b432a8-cf2f-4c37-b220-35ce07b3d7d0",
   "metadata": {
    "tags": []
   },
   "outputs": [
    {
     "data": {
      "text/plain": [
       "(array([[-1.74877368e-08],\n",
       "        [-1.82540954e-07],\n",
       "        [-4.36872653e-07],\n",
       "        ...,\n",
       "        [ 0.00000000e+00],\n",
       "        [ 0.00000000e+00],\n",
       "        [ 0.00000000e+00]]),\n",
       " 1.0,\n",
       " 180.0,\n",
       " 1.0)"
      ]
     },
     "execution_count": 9,
     "metadata": {},
     "output_type": "execute_result"
    }
   ],
   "source": [
    "results[0]"
   ]
  }
 ],
 "metadata": {
  "kernelspec": {
   "display_name": "Python 3 (ipykernel)",
   "language": "python",
   "name": "python3"
  },
  "language_info": {
   "codemirror_mode": {
    "name": "ipython",
    "version": 3
   },
   "file_extension": ".py",
   "mimetype": "text/x-python",
   "name": "python",
   "nbconvert_exporter": "python",
   "pygments_lexer": "ipython3",
   "version": "3.10.10"
  }
 },
 "nbformat": 4,
 "nbformat_minor": 5
}
