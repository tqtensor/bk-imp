{
 "cells": [
  {
   "cell_type": "markdown",
   "id": "b49039b1-b2a2-444d-9262-0aa4e3dc63d6",
   "metadata": {},
   "source": [
    "# Binary search tree"
   ]
  },
  {
   "cell_type": "markdown",
   "id": "068d397d-946f-4374-8bf5-8e6ab616e35e",
   "metadata": {},
   "source": [
    "Source: https://blog.boot.dev/computer-science/binary-search-tree-in-python/"
   ]
  },
  {
   "cell_type": "code",
   "execution_count": 1,
   "id": "5e96ddcd-9053-4776-a258-de3d3e747fea",
   "metadata": {},
   "outputs": [],
   "source": [
    "import matplotlib.pyplot as plt\n",
    "import networkx as nx\n",
    "import pydot\n",
    "from networkx.drawing.nx_pydot import graphviz_layout"
   ]
  },
  {
   "cell_type": "code",
   "execution_count": 2,
   "id": "f6193a22-2f27-4dc4-a972-8820a955ee73",
   "metadata": {},
   "outputs": [],
   "source": [
    "class BSTNode:\n",
    "    def __init__(self, val=None):\n",
    "        self.left = None\n",
    "        self.right = None\n",
    "        self.val = val\n",
    "\n",
    "    # -----------------------------------------\n",
    "    # insert()\n",
    "    def insert(self, val):\n",
    "        if not self.val:\n",
    "            self.val = val\n",
    "            return\n",
    "\n",
    "        if self.val == val:\n",
    "            return\n",
    "\n",
    "        if val < self.val:\n",
    "            if self.left:\n",
    "                self.left.insert(val)\n",
    "                return\n",
    "            self.left = BSTNode(val)\n",
    "            return\n",
    "\n",
    "        if self.right:\n",
    "            self.right.insert(val)\n",
    "            return\n",
    "        self.right = BSTNode(val)\n",
    "\n",
    "    # -----------------------------------------\n",
    "    # get_min() and get_max()\n",
    "    def get_min(self):\n",
    "        current = self\n",
    "        while current.left is not None:\n",
    "            current = current.left\n",
    "        return current.val\n",
    "\n",
    "    def get_max(self):\n",
    "        current = self\n",
    "        while current.right is not None:\n",
    "            current = current.right\n",
    "        return current.val\n",
    "\n",
    "    # -----------------------------------------\n",
    "    # delete()\n",
    "    def delete(self, val):\n",
    "        if self == None:\n",
    "            return self\n",
    "        if val < self.val:\n",
    "            self.left = self.left.delete(val)\n",
    "            return self\n",
    "        if val > self.val:\n",
    "            self.right = self.right.delete(val)\n",
    "            return self\n",
    "        if self.right == None:\n",
    "            return self.left\n",
    "        if self.left == None:\n",
    "            return self.right\n",
    "        min_larger_node = self.right\n",
    "        while min_larger_node.left:\n",
    "            min_larger_node = min_larger_node.left\n",
    "        self.val = min_larger_node.val\n",
    "        self.right = self.right.delete(min_larger_node.val)\n",
    "        return self\n",
    "\n",
    "    # -----------------------------------------\n",
    "    # exists()\n",
    "    def exists(self, val):\n",
    "        if val == self.val:\n",
    "            return True\n",
    "\n",
    "        if val < self.val:\n",
    "            if self.left == None:\n",
    "                return False\n",
    "            return self.left.exists(val)\n",
    "\n",
    "        if self.right == None:\n",
    "            return False\n",
    "        return self.right.exists(val)\n",
    "\n",
    "    # -----------------------------------------\n",
    "    # inorder()\n",
    "    def inorder(self, vals):\n",
    "        if self.left is not None:\n",
    "            self.left.inorder(vals)\n",
    "        if self.val is not None:\n",
    "            vals.append(self.val)\n",
    "        if self.right is not None:\n",
    "            self.right.inorder(vals)\n",
    "        return vals\n",
    "\n",
    "    # -----------------------------------------\n",
    "    # tograph()\n",
    "    def tograph(self):\n",
    "        G = nx.DiGraph()\n",
    "        G.add_node(self.val)\n",
    "        if self.left is not None:\n",
    "            leftG = self.left.tograph()\n",
    "            G = nx.union(G, leftG)\n",
    "            G.add_edge(self.val, self.left.val)\n",
    "        if self.right is not None:\n",
    "            rightG = self.right.tograph()\n",
    "            G = nx.union(G, rightG)\n",
    "            G.add_edge(self.val, self.right.val)\n",
    "        return G"
   ]
  },
  {
   "cell_type": "code",
   "execution_count": 12,
   "id": "da252318-a0a1-4187-9beb-41da2a21a1ec",
   "metadata": {},
   "outputs": [
    {
     "name": "stdout",
     "output_type": "stream",
     "text": [
      "inorder:\n",
      "[20, 33, 36, 48, 53, 57, 71]\n"
     ]
    }
   ],
   "source": [
    "nums = [20, 33, 36, 48, 71, 53, 57]\n",
    "bst = BSTNode()\n",
    "for num in nums:\n",
    "    bst.insert(num)\n",
    "print(\"inorder:\")\n",
    "print(bst.inorder([]))"
   ]
  },
  {
   "cell_type": "code",
   "execution_count": 13,
   "id": "b0666db6-d1a1-40bc-b23f-aca334e8e75f",
   "metadata": {},
   "outputs": [],
   "source": [
    "G = bst.tograph()"
   ]
  },
  {
   "cell_type": "code",
   "execution_count": 14,
   "id": "fbd573cb-9a75-4d96-96e3-7a7eba0807d3",
   "metadata": {},
   "outputs": [
    {
     "data": {
      "image/png": "[encoded data removed]",
      "text/plain": [
       "<Figure size 640x480 with 1 Axes>"
      ]
     },
     "metadata": {},
     "output_type": "display_data"
    }
   ],
   "source": [
    "pos = graphviz_layout(G, prog=\"dot\")\n",
    "pos = {int(k): v for k, v in pos.items()}\n",
    "nx.draw(G, pos, with_labels=True, node_color=\"black\", font_color=\"white\")"
   ]
  }
 ],
 "metadata": {
  "kernelspec": {
   "display_name": "Python 3 (ipykernel)",
   "language": "python",
   "name": "python3"
  },
  "language_info": {
   "codemirror_mode": {
    "name": "ipython",
    "version": 3
   },
   "file_extension": ".py",
   "mimetype": "text/x-python",
   "name": "python",
   "nbconvert_exporter": "python",
   "pygments_lexer": "ipython3",
   "version": "3.8.13"
  }
 },
 "nbformat": 4,
 "nbformat_minor": 5
}
