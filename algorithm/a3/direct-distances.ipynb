{
 "cells": [
  {
   "cell_type": "markdown",
   "id": "4fedd82a-39fd-459a-acd4-ba6674b631c9",
   "metadata": {},
   "source": [
    "# Direct Distances\n",
    "\n",
    "In this approach, I make the assumption that the distance between two shops is independent of the road network."
   ]
  },
  {
   "cell_type": "markdown",
   "id": "c6ac5176-6a1b-455f-9f4d-22cec3e47b1f",
   "metadata": {},
   "source": [
    "## Generate Random Warehouses"
   ]
  },
  {
   "cell_type": "code",
   "execution_count": 1,
   "id": "455df910-e0d1-4f61-841e-c7886c7bb57a",
   "metadata": {
    "tags": []
   },
   "outputs": [],
   "source": [
    "import copy\n",
    "import os\n",
    "import pickle\n",
    "import random\n",
    "\n",
    "from geopy.geocoders import Nominatim\n",
    "from haversine import Unit, haversine_vector\n",
    "import pulp as pl"
   ]
  },
  {
   "cell_type": "code",
   "execution_count": 2,
   "id": "34aaefde-d1bb-4bf6-8411-23424c748d87",
   "metadata": {
    "tags": []
   },
   "outputs": [],
   "source": [
    "if not os.path.exists(\"warehouses.pkl\"):\n",
    "    print(\"Generating warehouses info...\")\n",
    "\n",
    "    warehouses = []\n",
    "    for i in range(1, 101):\n",
    "        name = f\"Warehouse {i}\"\n",
    "        lat = random.uniform(\n",
    "            10.668799, 10.878041\n",
    "        )  # Latitude range of Ho Chi Minh City\n",
    "        long = random.uniform(\n",
    "            106.451840, 106.813580\n",
    "        )  # Longitude range of Ho Chi Minh City\n",
    "        description = None\n",
    "        warehouses.append(\n",
    "            {\n",
    "                \"index\": i,\n",
    "                \"name\": name,\n",
    "                \"lat\": lat,\n",
    "                \"long\": long,\n",
    "                \"description\": \"\",\n",
    "            }\n",
    "        )\n",
    "\n",
    "    geolocator = Nominatim(user_agent=\"bk-imp\")\n",
    "\n",
    "    for i in range(len(warehouses)):\n",
    "        lat, long = warehouses[i][\"lat\"], warehouses[i][\"long\"]\n",
    "        location = geolocator.reverse(f\"{lat}, {long}\")\n",
    "        address = location.address\n",
    "        warehouses[i][\"description\"] = address\n",
    "\n",
    "    with open(\"warehouses.pkl\", \"wb\") as f:\n",
    "        # Shuffle warehouses to generate random order\n",
    "        random.shuffle(warehouses)\n",
    "        pickle.dump(warehouses, f)\n",
    "else:\n",
    "    with open(\"warehouses.pkl\", \"rb\") as f:\n",
    "        warehouses = pickle.load(f)"
   ]
  },
  {
   "cell_type": "code",
   "execution_count": 3,
   "id": "e3b69315-86f8-4560-8c9c-e743bc1f1d6a",
   "metadata": {
    "tags": []
   },
   "outputs": [],
   "source": [
    "with open(\"stores.pkl\", \"rb\") as f:\n",
    "    stores = pickle.load(f)"
   ]
  },
  {
   "cell_type": "markdown",
   "id": "e6acc574-c8ad-4d0e-a1bf-6fce8cbbb20b",
   "metadata": {},
   "source": [
    "## Down Sample"
   ]
  },
  {
   "cell_type": "code",
   "execution_count": 4,
   "id": "9aff36f0-ebb2-4c1b-bc91-04b2a9a0d13c",
   "metadata": {
    "tags": []
   },
   "outputs": [],
   "source": [
    "warehouses = random.choices(warehouses, k=10)\n",
    "stores = random.choices(stores, k=50)"
   ]
  },
  {
   "cell_type": "markdown",
   "id": "ec0d3150-3937-4467-877b-6817173f3bb2",
   "metadata": {
    "tags": []
   },
   "source": [
    "## Calculate Distance Matrix"
   ]
  },
  {
   "cell_type": "code",
   "execution_count": 5,
   "id": "a771b2fe-d93c-4984-b8e6-b30b20a03819",
   "metadata": {
    "tags": []
   },
   "outputs": [],
   "source": [
    "warehouses_stores_dinstance_matrix = haversine_vector(\n",
    "    [(store[\"lat\"], store[\"long\"]) for store in stores],\n",
    "    [(warehouse[\"lat\"], warehouse[\"long\"]) for warehouse in warehouses],\n",
    "    Unit.KILOMETERS,\n",
    "    comb=True,\n",
    ")"
   ]
  },
  {
   "cell_type": "code",
   "execution_count": 6,
   "id": "bc9314c5-95c7-486b-bb9b-79fc925eee88",
   "metadata": {
    "tags": []
   },
   "outputs": [
    {
     "data": {
      "text/plain": [
       "(10, 50)"
      ]
     },
     "execution_count": 6,
     "metadata": {},
     "output_type": "execute_result"
    }
   ],
   "source": [
    "warehouses_stores_dinstance_matrix.shape"
   ]
  },
  {
   "cell_type": "markdown",
   "id": "23749751-24da-4951-aa41-1a3dcc772e19",
   "metadata": {},
   "source": [
    "## Linear Programming"
   ]
  },
  {
   "cell_type": "code",
   "execution_count": 7,
   "id": "912d85a4-69f6-4c3f-a327-2f73fd889865",
   "metadata": {
    "tags": []
   },
   "outputs": [],
   "source": [
    "# Set up the problem\n",
    "problem = pl.LpProblem(\"Warehouse_Optimization\", pl.LpMinimize)"
   ]
  },
  {
   "cell_type": "markdown",
   "id": "1878a2c4-251b-4979-9bd6-305349da97c9",
   "metadata": {},
   "source": [
    "### Define the environment"
   ]
  },
  {
   "cell_type": "code",
   "execution_count": 9,
   "id": "67451262-2d55-4dff-acc1-7afabd38d2bd",
   "metadata": {
    "tags": []
   },
   "outputs": [],
   "source": [
    "M = 10 # Number of warehouses\n",
    "N = 50 # Number of stores\n",
    "warehouses = range(M)\n",
    "w_cost = random.sample(range(100, 201), M)  # Operational cost of warehouses\n",
    "w_capacity = random.sample(range(1800, 2001), M)  # Operational cost of warehouses\n",
    "stores = range(N)\n",
    "demands = random.sample(range(10, 521), N)  # Daily demand of stores\n",
    "d_cost = copy.copy(\n",
    "    warehouses_stores_dinstance_matrix\n",
    ")  # Delivery cost between warehouses vs stores"
   ]
  },
  {
   "cell_type": "code",
   "execution_count": 10,
   "id": "6e532ce5-404e-4cab-9e72-23f4151cc652",
   "metadata": {
    "tags": []
   },
   "outputs": [],
   "source": [
    "assert sum(w_capacity) > sum(demands)"
   ]
  },
  {
   "cell_type": "markdown",
   "id": "55d820f1-5601-4953-b9e1-8e910ee71f32",
   "metadata": {},
   "source": [
    "### Define the decision variables"
   ]
  },
  {
   "cell_type": "code",
   "execution_count": 11,
   "id": "1f2a4cb0-117f-4061-9141-079fcb13e934",
   "metadata": {
    "tags": []
   },
   "outputs": [],
   "source": [
    "wr = pl.LpVariable.dicts(\n",
    "    \"warehouse_store_connection\", (warehouses, stores), cat=\"Binary\"\n",
    ")"
   ]
  },
  {
   "cell_type": "markdown",
   "id": "f832ac82-8d80-4dbe-952d-5394865f2db4",
   "metadata": {},
   "source": [
    "### Define the objective function"
   ]
  },
  {
   "cell_type": "code",
   "execution_count": 12,
   "id": "05c480fa-bfb7-4b71-b5ac-54e5fe6d86b3",
   "metadata": {
    "tags": []
   },
   "outputs": [],
   "source": [
    "total_cost = pl.lpSum(w_cost[w] * wr[w][s] + d_cost[w][s] * wr[w][s] for w in warehouses for s in stores)\n",
    "problem += total_cost"
   ]
  },
  {
   "cell_type": "markdown",
   "id": "2eb6e546-54ef-47e3-8536-9dcd4b2f2a8c",
   "metadata": {},
   "source": [
    "### Define the constraints"
   ]
  },
  {
   "cell_type": "code",
   "execution_count": 13,
   "id": "1ebcf2c1-4f60-4de5-ba1d-bd89e5a1b905",
   "metadata": {
    "tags": []
   },
   "outputs": [],
   "source": [
    "# Each store must be assigned to one warehouse\n",
    "for i in stores:\n",
    "    problem += pl.lpSum(wr[j][i] for j in warehouses) == 1"
   ]
  },
  {
   "cell_type": "code",
   "execution_count": 14,
   "id": "4fe5dc09-c063-4bfc-b583-351cba3979d0",
   "metadata": {
    "tags": []
   },
   "outputs": [],
   "source": [
    "# Total demand of assigned stores for a warehouse must be smaller than its capacity\n",
    "for w in warehouses:\n",
    "    problem += pl.lpSum(demands[s] * wr[w][s] for s in stores) <= w_capacity[w]"
   ]
  },
  {
   "cell_type": "markdown",
   "id": "24b1ee56-5c84-4611-aad3-eaffffca3526",
   "metadata": {},
   "source": [
    "## Solve the problem!!!"
   ]
  },
  {
   "cell_type": "code",
   "execution_count": 15,
   "id": "1aea93aa-0594-46d3-ac46-5b94e54a44c1",
   "metadata": {
    "tags": []
   },
   "outputs": [
    {
     "name": "stderr",
     "output_type": "stream",
     "text": [
      "/home/terrabot/bk-imp/.venv/lib/python3.10/site-packages/pulp/apis/coin_api.py:95: UserWarning: Parameter maxSeconds is being depreciated for timeLimit\n",
      "  warnings.warn(\"Parameter maxSeconds is being depreciated for timeLimit\")\n"
     ]
    },
    {
     "name": "stdout",
     "output_type": "stream",
     "text": [
      "Welcome to the CBC MILP Solver \n",
      "Version: 2.10.3 \n",
      "Build Date: Dec 15 2019 \n",
      "\n",
      "command line - /home/terrabot/bk-imp/.venv/lib/python3.10/site-packages/pulp/solverdir/cbc/linux/64/cbc /tmp/6c39bfc9c3f74c6cae188360d98eb8c1-pulp.mps sec 600 timeMode elapsed branch printingOptions all solution /tmp/6c39bfc9c3f74c6cae188360d98eb8c1-pulp.sol (default strategy 1)\n",
      "At line 2 NAME          MODEL\n",
      "At line 3 ROWS\n",
      "At line 65 COLUMNS\n",
      "At line 2566 RHS\n",
      "At line 2627 BOUNDS\n",
      "At line 3128 ENDATA\n",
      "Problem MODEL has 60 rows, 500 columns and 1000 elements\n",
      "Coin0008I MODEL read with 0 errors\n",
      "seconds was changed from 1e+100 to 600\n",
      "Option for timeMode changed from cpu to elapsed\n",
      "Continuous objective value is 5834.87 - 0.00 seconds\n",
      "Cgl0005I 50 SOS with 500 members\n",
      "Cgl0004I processed model has 60 rows, 500 columns (500 integer (500 of which binary)) and 1000 elements\n",
      "Cbc0038I Initial state - 12 integers unsatisfied sum - 3.48125\n",
      "Cbc0038I Pass   1: suminf.    0.72234 (3) obj. 5880.35 iterations 20\n",
      "Cbc0038I Solution found of 5899.77\n",
      "Cbc0038I Before mini branch and bound, 485 integers at bound fixed and 0 continuous\n",
      "Cbc0038I Full problem 60 rows 500 columns, reduced to 0 rows 0 columns\n",
      "Cbc0038I Mini branch and bound did not improve solution (0.01 seconds)\n",
      "Cbc0038I Round again with cutoff of 5893.28\n",
      "Cbc0038I Reduced cost fixing fixed 33 variables on major pass 2\n",
      "Cbc0038I Pass   2: suminf.    0.72234 (3) obj. 5880.35 iterations 0\n",
      "Cbc0038I Pass   3: suminf.    0.18114 (2) obj. 5893.28 iterations 18\n",
      "Cbc0038I Pass   4: suminf.    1.00000 (3) obj. 5863.44 iterations 18\n",
      "Cbc0038I Pass   5: suminf.    0.21532 (3) obj. 5893.28 iterations 3\n",
      "Cbc0038I Pass   6: suminf.    1.43706 (10) obj. 5893.28 iterations 37\n",
      "Cbc0038I Pass   7: suminf.    0.49978 (5) obj. 5893.28 iterations 23\n",
      "Cbc0038I Pass   8: suminf.    1.35276 (7) obj. 5893.28 iterations 27\n",
      "Cbc0038I Pass   9: suminf.    1.17190 (6) obj. 5893.28 iterations 9\n",
      "Cbc0038I Pass  10: suminf.    1.42973 (7) obj. 5893.28 iterations 30\n",
      "Cbc0038I Pass  11: suminf.    1.24966 (6) obj. 5893.28 iterations 21\n",
      "Cbc0038I Pass  12: suminf.    1.35276 (7) obj. 5893.28 iterations 32\n",
      "Cbc0038I Pass  13: suminf.    3.66016 (13) obj. 5893.28 iterations 33\n",
      "Cbc0038I Pass  14: suminf.    1.55824 (10) obj. 5893.28 iterations 28\n",
      "Cbc0038I Pass  15: suminf.    2.20203 (10) obj. 5893.28 iterations 18\n",
      "Cbc0038I Pass  16: suminf.    0.37980 (7) obj. 5893.28 iterations 20\n",
      "Cbc0038I Pass  17: suminf.    1.69183 (10) obj. 5893.28 iterations 22\n",
      "Cbc0038I Pass  18: suminf.    0.96807 (7) obj. 5893.28 iterations 13\n",
      "Cbc0038I Pass  19: suminf.    1.74491 (8) obj. 5893.28 iterations 30\n",
      "Cbc0038I Pass  20: suminf.    1.35681 (8) obj. 5893.28 iterations 23\n",
      "Cbc0038I Pass  21: suminf.    1.68392 (8) obj. 5893.28 iterations 18\n",
      "Cbc0038I Pass  22: suminf.    1.42284 (7) obj. 5893.28 iterations 10\n",
      "Cbc0038I Pass  23: suminf.    1.19050 (7) obj. 5893.28 iterations 2\n",
      "Cbc0038I Pass  24: suminf.    0.93705 (8) obj. 5893.28 iterations 14\n",
      "Cbc0038I Pass  25: suminf.    1.67532 (10) obj. 5893.28 iterations 43\n",
      "Cbc0038I Pass  26: suminf.    1.35681 (8) obj. 5893.28 iterations 22\n",
      "Cbc0038I Pass  27: suminf.    1.68392 (8) obj. 5893.28 iterations 18\n",
      "Cbc0038I Pass  28: suminf.    1.42284 (7) obj. 5893.28 iterations 10\n",
      "Cbc0038I Pass  29: suminf.    1.19050 (7) obj. 5893.28 iterations 2\n",
      "Cbc0038I Pass  30: suminf.    0.93705 (8) obj. 5893.28 iterations 14\n",
      "Cbc0038I Pass  31: suminf.    1.67532 (10) obj. 5893.28 iterations 43\n",
      "Cbc0038I No solution found this major pass\n",
      "Cbc0038I Before mini branch and bound, 429 integers at bound fixed and 0 continuous\n",
      "Cbc0038I Full problem 60 rows 500 columns, reduced to 17 rows 58 columns\n",
      "Cbc0038I Mini branch and bound improved solution from 5899.77 to 5885.74 (0.04 seconds)\n",
      "Cbc0038I Round again with cutoff of 5875.57\n",
      "Cbc0038I Reduced cost fixing fixed 67 variables on major pass 3\n",
      "Cbc0038I Pass  31: suminf.    0.85601 (4) obj. 5875.57 iterations 1\n",
      "Cbc0038I Pass  32: suminf.    0.67551 (2) obj. 5875.57 iterations 12\n",
      "Cbc0038I Pass  33: suminf.    1.00000 (3) obj. 5863.44 iterations 18\n",
      "Cbc0038I Pass  34: suminf.    0.70970 (3) obj. 5875.57 iterations 3\n",
      "Cbc0038I Pass  35: suminf.    3.65852 (13) obj. 5875.57 iterations 43\n",
      "Cbc0038I Pass  36: suminf.    2.92834 (11) obj. 5875.57 iterations 18\n",
      "Cbc0038I Pass  37: suminf.    2.60776 (10) obj. 5875.57 iterations 17\n",
      "Cbc0038I Pass  38: suminf.    1.27672 (9) obj. 5875.57 iterations 27\n",
      "Cbc0038I Pass  39: suminf.    2.40613 (10) obj. 5875.57 iterations 23\n",
      "Cbc0038I Pass  40: suminf.    2.95142 (14) obj. 5875.57 iterations 38\n",
      "Cbc0038I Pass  41: suminf.    1.26237 (11) obj. 5875.57 iterations 31\n",
      "Cbc0038I Pass  42: suminf.    2.89291 (10) obj. 5875.57 iterations 37\n",
      "Cbc0038I Pass  43: suminf.    1.90000 (8) obj. 5875.57 iterations 17\n",
      "Cbc0038I Pass  44: suminf.    1.90000 (8) obj. 5875.57 iterations 1\n",
      "Cbc0038I Pass  45: suminf.    1.86709 (9) obj. 5875.57 iterations 16\n",
      "Cbc0038I Pass  46: suminf.    1.48959 (9) obj. 5875.57 iterations 9\n",
      "Cbc0038I Pass  47: suminf.    2.10488 (9) obj. 5875.57 iterations 27\n",
      "Cbc0038I Pass  48: suminf.    3.82689 (14) obj. 5875.57 iterations 35\n",
      "Cbc0038I Pass  49: suminf.    2.09221 (10) obj. 5875.57 iterations 16\n",
      "Cbc0038I Pass  50: suminf.    3.03362 (9) obj. 5875.57 iterations 32\n",
      "Cbc0038I Pass  51: suminf.    2.49734 (8) obj. 5875.57 iterations 11\n",
      "Cbc0038I Pass  52: suminf.    2.40029 (8) obj. 5875.57 iterations 10\n",
      "Cbc0038I Pass  53: suminf.    1.91370 (8) obj. 5875.57 iterations 26\n",
      "Cbc0038I Pass  54: suminf.    1.72275 (8) obj. 5875.57 iterations 20\n",
      "Cbc0038I Pass  55: suminf.    1.81042 (9) obj. 5875.57 iterations 29\n",
      "Cbc0038I Pass  56: suminf.    1.45828 (7) obj. 5875.57 iterations 21\n",
      "Cbc0038I Pass  57: suminf.    2.00000 (7) obj. 5875.57 iterations 35\n",
      "Cbc0038I Pass  58: suminf.    1.69924 (7) obj. 5875.57 iterations 17\n",
      "Cbc0038I Pass  59: suminf.    2.56843 (11) obj. 5875.57 iterations 37\n",
      "Cbc0038I Pass  60: suminf.    1.61525 (8) obj. 5875.57 iterations 15\n",
      "Cbc0038I No solution found this major pass\n",
      "Cbc0038I Before mini branch and bound, 408 integers at bound fixed and 0 continuous\n",
      "Cbc0038I Full problem 60 rows 500 columns, reduced to 20 rows 76 columns\n",
      "Cbc0038I Mini branch and bound improved solution from 5885.74 to 5855.18 (0.08 seconds)\n",
      "Cbc0038I Round again with cutoff of 5849.09\n",
      "Cbc0038I Reduced cost fixing fixed 246 variables on major pass 4\n",
      "Cbc0038I Pass  60: suminf.    1.00000 (3) obj. 5844.95 iterations 4\n",
      "Cbc0038I Pass  61: suminf.    1.00000 (4) obj. 5849.09 iterations 11\n",
      "Cbc0038I Pass  62: suminf.    1.00000 (4) obj. 5849.09 iterations 9\n",
      "Cbc0038I Pass  63: suminf.    3.03139 (12) obj. 5849.09 iterations 26\n",
      "Cbc0038I Pass  64: suminf.    2.52821 (12) obj. 5849.09 iterations 13\n",
      "Cbc0038I Pass  65: suminf.    3.09023 (11) obj. 5849.09 iterations 29\n",
      "Cbc0038I Pass  66: suminf.    2.47876 (9) obj. 5849.09 iterations 12\n",
      "Cbc0038I Pass  67: suminf.    2.00000 (7) obj. 5849.09 iterations 5\n",
      "Cbc0038I Pass  68: suminf.    2.00000 (7) obj. 5849.09 iterations 10\n",
      "Cbc0038I Pass  69: suminf.    3.95839 (14) obj. 5849.09 iterations 23\n",
      "Cbc0038I Pass  70: suminf.    1.69312 (13) obj. 5849.09 iterations 18\n",
      "Cbc0038I Pass  71: suminf.    2.48551 (11) obj. 5849.09 iterations 18\n",
      "Cbc0038I Pass  72: suminf.    2.00000 (7) obj. 5849.09 iterations 15\n",
      "Cbc0038I Pass  73: suminf.    1.31939 (7) obj. 5849.09 iterations 12\n",
      "Cbc0038I Pass  74: suminf.    1.00000 (5) obj. 5849.09 iterations 13\n",
      "Cbc0038I Pass  75: suminf.    1.00000 (3) obj. 5849.09 iterations 10\n",
      "Cbc0038I Pass  76: suminf.    2.64470 (11) obj. 5849.09 iterations 25\n",
      "Cbc0038I Pass  77: suminf.    1.88931 (10) obj. 5849.09 iterations 19\n",
      "Cbc0038I Pass  78: suminf.    2.71408 (11) obj. 5849.09 iterations 33\n",
      "Cbc0038I Pass  79: suminf.    1.05866 (9) obj. 5849.09 iterations 21\n",
      "Cbc0038I Pass  80: suminf.    2.21851 (10) obj. 5849.09 iterations 11\n",
      "Cbc0038I Pass  81: suminf.    3.52346 (12) obj. 5849.09 iterations 18\n",
      "Cbc0038I Pass  82: suminf.    2.39762 (10) obj. 5849.09 iterations 15\n",
      "Cbc0038I Pass  83: suminf.    2.39762 (10) obj. 5849.09 iterations 1\n",
      "Cbc0038I Pass  84: suminf.    2.75101 (11) obj. 5849.09 iterations 26\n",
      "Cbc0038I Pass  85: suminf.    2.43058 (10) obj. 5849.09 iterations 26\n",
      "Cbc0038I Pass  86: suminf.    2.43058 (10) obj. 5849.09 iterations 4\n",
      "Cbc0038I Pass  87: suminf.    2.55371 (9) obj. 5849.09 iterations 11\n",
      "Cbc0038I Pass  88: suminf.    2.86911 (13) obj. 5849.09 iterations 27\n",
      "Cbc0038I Pass  89: suminf.    1.71511 (13) obj. 5849.09 iterations 24\n",
      "Cbc0038I No solution found this major pass\n",
      "Cbc0038I Before mini branch and bound, 408 integers at bound fixed and 0 continuous\n",
      "Cbc0038I Full problem 60 rows 500 columns, reduced to 23 rows 80 columns\n",
      "Cbc0038I Mini branch and bound did not improve solution (0.13 seconds)\n",
      "Cbc0038I After 0.13 seconds - Feasibility pump exiting with objective of 5855.18 - took 0.12 seconds\n",
      "Cbc0012I Integer solution of 5855.1826 found by feasibility pump after 0 iterations and 0 nodes (0.13 seconds)\n",
      "Cbc0038I Full problem 60 rows 500 columns, reduced to 2 rows 3 columns\n",
      "Cbc0031I 21 added rows had average density of 48.571429\n",
      "Cbc0013I At root node, 21 cuts changed objective from 5834.8689 to 5843.2744 in 13 passes\n",
      "Cbc0014I Cut generator 0 (Probing) - 0 row cuts average 0.0 elements, 19 column cuts (19 active)  in 0.006 seconds - new frequency is 1\n",
      "Cbc0014I Cut generator 1 (Gomory) - 2 row cuts average 78.0 elements, 0 column cuts (0 active)  in 0.007 seconds - new frequency is -100\n",
      "Cbc0014I Cut generator 2 (Knapsack) - 66 row cuts average 12.6 elements, 0 column cuts (0 active)  in 0.005 seconds - new frequency is 1\n",
      "Cbc0014I Cut generator 3 (Clique) - 0 row cuts average 0.0 elements, 0 column cuts (0 active)  in 0.000 seconds - new frequency is -100\n",
      "Cbc0014I Cut generator 4 (MixedIntegerRounding2) - 15 row cuts average 77.5 elements, 0 column cuts (0 active)  in 0.002 seconds - new frequency is 1\n",
      "Cbc0014I Cut generator 5 (FlowCover) - 0 row cuts average 0.0 elements, 0 column cuts (0 active)  in 0.000 seconds - new frequency is -100\n",
      "Cbc0014I Cut generator 6 (TwoMirCuts) - 137 row cuts average 112.6 elements, 0 column cuts (0 active)  in 0.013 seconds - new frequency is -100\n",
      "Cbc0010I After 0 nodes, 1 on tree, 5855.1826 best solution, best possible 5843.2744 (0.18 seconds)\n",
      "Cbc0038I Full problem 60 rows 500 columns, reduced to 8 rows 20 columns\n",
      "Cbc0012I Integer solution of 5855.1067 found by DiveCoefficient after 1716 iterations and 59 nodes (0.37 seconds)\n",
      "Cbc0038I Full problem 60 rows 500 columns, reduced to 7 rows 13 columns\n",
      "Cbc0038I Full problem 60 rows 500 columns, reduced to 8 rows 22 columns\n",
      "Cbc0016I Integer solution of 5849.8754 found by strong branching after 8264 iterations and 304 nodes (1.04 seconds)\n",
      "Cbc0038I Full problem 60 rows 500 columns, reduced to 8 rows 16 columns\n",
      "Cbc0001I Search completed - best objective 5849.875433284698, took 12180 iterations and 470 nodes (1.39 seconds)\n",
      "Cbc0032I Strong branching done 5688 times (41559 iterations), fathomed 74 nodes and fixed 125 variables\n",
      "Cbc0035I Maximum depth 17, 6884 variables fixed on reduced cost\n",
      "Cuts at root node changed objective from 5834.87 to 5843.27\n",
      "Probing was tried 321 times and created 927 cuts of which 0 were active after adding rounds of cuts (0.037 seconds)\n",
      "Gomory was tried 13 times and created 2 cuts of which 0 were active after adding rounds of cuts (0.007 seconds)\n",
      "Knapsack was tried 304 times and created 1664 cuts of which 0 were active after adding rounds of cuts (0.105 seconds)\n",
      "Clique was tried 13 times and created 0 cuts of which 0 were active after adding rounds of cuts (0.000 seconds)\n",
      "MixedIntegerRounding2 was tried 304 times and created 137 cuts of which 0 were active after adding rounds of cuts (0.024 seconds)\n",
      "FlowCover was tried 13 times and created 0 cuts of which 0 were active after adding rounds of cuts (0.000 seconds)\n",
      "TwoMirCuts was tried 13 times and created 137 cuts of which 0 were active after adding rounds of cuts (0.013 seconds)\n",
      "ZeroHalf was tried 1 times and created 0 cuts of which 0 were active after adding rounds of cuts (0.000 seconds)\n",
      "\n",
      "Result - Optimal solution found\n",
      "\n",
      "Objective value:                5849.87543328\n",
      "Enumerated nodes:               470\n",
      "Total iterations:               12180\n",
      "Time (CPU seconds):             1.28\n",
      "Time (Wallclock seconds):       1.39\n",
      "\n",
      "Option for printingOptions changed from normal to all\n",
      "Total time (CPU seconds):       1.28   (Wallclock seconds):       1.39\n",
      "\n"
     ]
    },
    {
     "data": {
      "text/plain": [
       "1"
      ]
     },
     "execution_count": 15,
     "metadata": {},
     "output_type": "execute_result"
    }
   ],
   "source": [
    "problem.solve(pl.PULP_CBC_CMD(maxSeconds=600))"
   ]
  },
  {
   "cell_type": "code",
   "execution_count": 19,
   "id": "97029c44-6c95-459e-9c77-de6777ae9cd3",
   "metadata": {
    "tags": []
   },
   "outputs": [
    {
     "name": "stdout",
     "output_type": "stream",
     "text": [
      "Optimal Solution:\n",
      "Warehouse 0 serves these stores: [3, 6, 7, 11, 18, 19, 22, 26, 28, 33, 34, 49]\n",
      "Warehouse 1 serves these stores: [0, 2, 14, 16, 20, 21, 35, 36, 37, 39, 43]\n",
      "Warehouse 2 serves these stores: []\n",
      "Warehouse 3 serves these stores: []\n",
      "Warehouse 4 serves these stores: [27, 30, 31, 38, 45]\n",
      "Warehouse 5 serves these stores: [5, 12, 15, 23, 29]\n",
      "Warehouse 6 serves these stores: [46, 47]\n",
      "Warehouse 7 serves these stores: []\n",
      "Warehouse 8 serves these stores: [1, 9, 13, 17, 24, 25, 32, 40, 44, 48]\n",
      "Warehouse 9 serves these stores: [4, 8, 10, 41, 42]\n",
      "Total Cost:  5849.875433284815\n"
     ]
    }
   ],
   "source": [
    "# Print the optimal solution\n",
    "print(\"Optimal Solution:\")\n",
    "for w in warehouses:\n",
    "    assigned_stores = []\n",
    "    for s in stores:\n",
    "        if pl.value(wr[w][s]) == 1:\n",
    "            assigned_stores.append(s)\n",
    "    print(f\"Warehouse {w} serves these stores:\", assigned_stores)\n",
    "\n",
    "# Print the total cost\n",
    "print(\"Total Cost: \", pl.value(problem.objective))"
   ]
  },
  {
   "cell_type": "markdown",
   "id": "a80317ef-f064-4ce6-9217-923976431f4c",
   "metadata": {},
   "source": [
    "### Gurobi Solver\n",
    "https://ca.cs.uni-bonn.de/doku.php?id=tutorial:gurobi-install"
   ]
  }
 ],
 "metadata": {
  "kernelspec": {
   "display_name": "Python 3 (ipykernel)",
   "language": "python",
   "name": "python3"
  },
  "language_info": {
   "codemirror_mode": {
    "name": "ipython",
    "version": 3
   },
   "file_extension": ".py",
   "mimetype": "text/x-python",
   "name": "python",
   "nbconvert_exporter": "python",
   "pygments_lexer": "ipython3",
   "version": "3.10.10"
  }
 },
 "nbformat": 4,
 "nbformat_minor": 5
}
