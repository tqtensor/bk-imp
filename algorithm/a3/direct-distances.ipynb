{
 "cells": [
  {
   "cell_type": "markdown",
   "id": "4fedd82a-39fd-459a-acd4-ba6674b631c9",
   "metadata": {},
   "source": [
    "# Direct Distances\n",
    "\n",
    "In this approach, I make the assumption that the distance between two shops is independent of the road network."
   ]
  },
  {
   "cell_type": "markdown",
   "id": "c6ac5176-6a1b-455f-9f4d-22cec3e47b1f",
   "metadata": {},
   "source": [
    "## Generate Random Warehouses"
   ]
  },
  {
   "cell_type": "code",
   "execution_count": 1,
   "id": "455df910-e0d1-4f61-841e-c7886c7bb57a",
   "metadata": {
    "tags": []
   },
   "outputs": [],
   "source": [
    "import copy\n",
    "import os\n",
    "import pickle\n",
    "import random\n",
    "\n",
    "from geopy.geocoders import Nominatim\n",
    "from haversine import Unit, haversine_vector\n",
    "from pulp import *"
   ]
  },
  {
   "cell_type": "code",
   "execution_count": 2,
   "id": "34aaefde-d1bb-4bf6-8411-23424c748d87",
   "metadata": {
    "tags": []
   },
   "outputs": [],
   "source": [
    "if not os.path.exists(\"warehouses.pkl\"):\n",
    "    print(\"Generating warehouses info...\")\n",
    "\n",
    "    warehouses = []\n",
    "    for i in range(1, 101):\n",
    "        name = f\"Warehouse {i}\"\n",
    "        lat = random.uniform(\n",
    "            10.668799, 10.878041\n",
    "        )  # Latitude range of Ho Chi Minh City\n",
    "        long = random.uniform(\n",
    "            106.451840, 106.813580\n",
    "        )  # Longitude range of Ho Chi Minh City\n",
    "        description = None\n",
    "        warehouses.append(\n",
    "            {\n",
    "                \"index\": i,\n",
    "                \"name\": name,\n",
    "                \"lat\": lat,\n",
    "                \"long\": long,\n",
    "                \"description\": \"\",\n",
    "            }\n",
    "        )\n",
    "\n",
    "    geolocator = Nominatim(user_agent=\"bk-imp\")\n",
    "\n",
    "    for i in range(len(warehouses)):\n",
    "        lat, long = warehouses[i][\"lat\"], warehouses[i][\"long\"]\n",
    "        location = geolocator.reverse(f\"{lat}, {long}\")\n",
    "        address = location.address\n",
    "        warehouses[i][\"description\"] = address\n",
    "\n",
    "    with open(\"warehouses.pkl\", \"wb\") as f:\n",
    "        # Shuffle warehouses to generate random order\n",
    "        random.shuffle(warehouses)\n",
    "        pickle.dump(warehouses, f)\n",
    "else:\n",
    "    with open(\"warehouses.pkl\", \"rb\") as f:\n",
    "        warehouses = pickle.load(f)"
   ]
  },
  {
   "cell_type": "code",
   "execution_count": 3,
   "id": "e3b69315-86f8-4560-8c9c-e743bc1f1d6a",
   "metadata": {
    "tags": []
   },
   "outputs": [],
   "source": [
    "with open(\"stores.pkl\", \"rb\") as f:\n",
    "    stores = pickle.load(f)"
   ]
  },
  {
   "cell_type": "markdown",
   "id": "e6acc574-c8ad-4d0e-a1bf-6fce8cbbb20b",
   "metadata": {},
   "source": [
    "## Down Sample"
   ]
  },
  {
   "cell_type": "code",
   "execution_count": 5,
   "id": "9aff36f0-ebb2-4c1b-bc91-04b2a9a0d13c",
   "metadata": {
    "tags": []
   },
   "outputs": [],
   "source": [
    "warehouses = random.choices(warehouses, k=10)\n",
    "stores = random.choices(stores, k=100)"
   ]
  },
  {
   "cell_type": "markdown",
   "id": "ec0d3150-3937-4467-877b-6817173f3bb2",
   "metadata": {
    "tags": []
   },
   "source": [
    "## Calculate Distance Matrix"
   ]
  },
  {
   "cell_type": "markdown",
   "id": "0d0974b6-424f-48e1-a172-87acdda1637e",
   "metadata": {},
   "source": [
    "### Between Stores"
   ]
  },
  {
   "cell_type": "code",
   "execution_count": 6,
   "id": "3242ba60-fc0f-4e37-a00c-5c9fe1570bd5",
   "metadata": {
    "tags": []
   },
   "outputs": [],
   "source": [
    "stores_dinstance_matrix = haversine_vector(\n",
    "    [(store[\"lat\"], store[\"long\"]) for store in stores],\n",
    "    [(store[\"lat\"], store[\"long\"]) for store in stores],\n",
    "    Unit.KILOMETERS,\n",
    "    comb=True,\n",
    ")"
   ]
  },
  {
   "cell_type": "code",
   "execution_count": 7,
   "id": "ddb43d18-e7a3-4ec6-9790-6942b7046bdc",
   "metadata": {
    "tags": []
   },
   "outputs": [
    {
     "data": {
      "text/plain": [
       "(100, 100)"
      ]
     },
     "execution_count": 7,
     "metadata": {},
     "output_type": "execute_result"
    }
   ],
   "source": [
    "stores_dinstance_matrix.shape"
   ]
  },
  {
   "cell_type": "markdown",
   "id": "b4950967-de1c-4436-b249-6e6e74e0acb6",
   "metadata": {},
   "source": [
    "### Between Warehouses vs Stores"
   ]
  },
  {
   "cell_type": "code",
   "execution_count": 8,
   "id": "a771b2fe-d93c-4984-b8e6-b30b20a03819",
   "metadata": {
    "tags": []
   },
   "outputs": [],
   "source": [
    "warehouses_stores_dinstance_matrix = haversine_vector(\n",
    "    [(store[\"lat\"], store[\"long\"]) for store in stores],\n",
    "    [(warehouse[\"lat\"], warehouse[\"long\"]) for warehouse in warehouses],\n",
    "    Unit.KILOMETERS,\n",
    "    comb=True,\n",
    ")"
   ]
  },
  {
   "cell_type": "code",
   "execution_count": 9,
   "id": "bc9314c5-95c7-486b-bb9b-79fc925eee88",
   "metadata": {
    "tags": []
   },
   "outputs": [
    {
     "data": {
      "text/plain": [
       "(10, 100)"
      ]
     },
     "execution_count": 9,
     "metadata": {},
     "output_type": "execute_result"
    }
   ],
   "source": [
    "warehouses_stores_dinstance_matrix.shape"
   ]
  },
  {
   "cell_type": "markdown",
   "id": "23749751-24da-4951-aa41-1a3dcc772e19",
   "metadata": {},
   "source": [
    "## Linear Programming"
   ]
  },
  {
   "cell_type": "code",
   "execution_count": 10,
   "id": "912d85a4-69f6-4c3f-a327-2f73fd889865",
   "metadata": {
    "tags": []
   },
   "outputs": [],
   "source": [
    "# Set up the problem\n",
    "problem = LpProblem(\"Warehouse_Optimization\", LpMinimize)"
   ]
  },
  {
   "cell_type": "markdown",
   "id": "1878a2c4-251b-4979-9bd6-305349da97c9",
   "metadata": {},
   "source": [
    "### Define the decision variables"
   ]
  },
  {
   "cell_type": "code",
   "execution_count": 11,
   "id": "67451262-2d55-4dff-acc1-7afabd38d2bd",
   "metadata": {
    "tags": []
   },
   "outputs": [],
   "source": [
    "M = 10  # Number of warehouses\n",
    "N = 100 # Number of stores\n",
    "warehouses = range(M)\n",
    "f = random.sample(range(100, 201), M)  # Operational cost of warehouses\n",
    "\n",
    "stores = range(N)\n",
    "\n",
    "cs = copy.copy(stores_dinstance_matrix)  # Delivery cost between stores\n",
    "cw = copy.copy(\n",
    "    warehouses_stores_dinstance_matrix\n",
    ")  # Delivery cost between warehouses vs stores"
   ]
  },
  {
   "cell_type": "code",
   "execution_count": 12,
   "id": "1f2a4cb0-117f-4061-9141-079fcb13e934",
   "metadata": {
    "tags": []
   },
   "outputs": [],
   "source": [
    "x = LpVariable.dicts(\"warehouse_selection\", warehouses, cat=\"Binary\")\n",
    "r = LpVariable.dicts(\"store_assignment\", (stores, stores), cat=\"Binary\")\n",
    "wr = LpVariable.dicts(\n",
    "    \"warehouse_store_connection\", (warehouses, stores), cat=\"Binary\"\n",
    ")"
   ]
  },
  {
   "cell_type": "markdown",
   "id": "f832ac82-8d80-4dbe-952d-5394865f2db4",
   "metadata": {},
   "source": [
    "### Define the objective function"
   ]
  },
  {
   "cell_type": "code",
   "execution_count": 13,
   "id": "05c480fa-bfb7-4b71-b5ac-54e5fe6d86b3",
   "metadata": {
    "tags": []
   },
   "outputs": [],
   "source": [
    "total_cost = (\n",
    "    lpSum(f[i] * x[i] for i in warehouses)\n",
    "    + lpSum(cs[i][j] * r[i][j] for i in stores for j in stores)\n",
    "    + lpSum(cw[i][j] * wr[i][j] for i in warehouses for j in stores)\n",
    ")\n",
    "problem += total_cost"
   ]
  },
  {
   "cell_type": "markdown",
   "id": "2eb6e546-54ef-47e3-8536-9dcd4b2f2a8c",
   "metadata": {},
   "source": [
    "### Define the constraints"
   ]
  },
  {
   "cell_type": "code",
   "execution_count": 14,
   "id": "1ebcf2c1-4f60-4de5-ba1d-bd89e5a1b905",
   "metadata": {
    "tags": []
   },
   "outputs": [],
   "source": [
    "# Each store must be assigned to exactly one route (warehouse)\n",
    "for i in stores:\n",
    "    problem += lpSum(r[i][j] for j in stores) == 1"
   ]
  },
  {
   "cell_type": "code",
   "execution_count": 15,
   "id": "f57771cc-c0b9-435f-be3e-ef45fc431d4e",
   "metadata": {
    "tags": []
   },
   "outputs": [],
   "source": [
    "# Limit the number of warehouses to be selected\n",
    "problem += lpSum(x[i] for i in warehouses) <= M"
   ]
  },
  {
   "cell_type": "code",
   "execution_count": 17,
   "id": "4fe5dc09-c063-4bfc-b583-351cba3979d0",
   "metadata": {
    "tags": []
   },
   "outputs": [],
   "source": [
    "# Each cyclic route must have one first store, one last store, and consecutive segments\n",
    "for i in warehouses:\n",
    "    problem += lpSum(wr[i][k] for k in stores) == 2\n",
    "    for m in stores:\n",
    "        for n in stores:\n",
    "            problem += lpSum(r[m][k] + wr[i][m] for k in stores if r[m][n] == 1) == 1\n",
    "            problem += lpSum(r[n][k] + wr[i][n] for k in stores if r[m][n] == 1) == 1"
   ]
  },
  {
   "cell_type": "markdown",
   "id": "24b1ee56-5c84-4611-aad3-eaffffca3526",
   "metadata": {},
   "source": [
    "## Solve the problem!!!"
   ]
  },
  {
   "cell_type": "code",
   "execution_count": 18,
   "id": "1aea93aa-0594-46d3-ac46-5b94e54a44c1",
   "metadata": {
    "tags": []
   },
   "outputs": [
    {
     "name": "stdout",
     "output_type": "stream",
     "text": [
      "Welcome to the CBC MILP Solver \n",
      "Version: 2.10.3 \n",
      "Build Date: Dec 15 2019 \n",
      "\n",
      "command line - /home/terrabot/bk-imp/.venv/lib/python3.10/site-packages/pulp/solverdir/cbc/linux/64/cbc /tmp/dd71c4b20ce947c5a2932132775bec2e-pulp.mps timeMode elapsed branch printingOptions all solution /tmp/dd71c4b20ce947c5a2932132775bec2e-pulp.sol (default strategy 1)\n",
      "At line 2 NAME          MODEL\n",
      "At line 3 ROWS\n",
      "At line 200116 COLUMNS\n",
      "At line 20444045 RHS\n",
      "At line 20644157 BOUNDS\n",
      "At line 20655168 ENDATA\n",
      "Problem MODEL has 200111 rows, 11010 columns and 20211010 elements\n",
      "Coin0008I MODEL read with 0 errors\n",
      "Option for timeMode changed from cpu to elapsed\n",
      "Problem is infeasible - 20.88 seconds\n",
      "Option for printingOptions changed from normal to all\n",
      "Total time (CPU seconds):       27.27   (Wallclock seconds):       28.56\n",
      "\n"
     ]
    },
    {
     "data": {
      "text/plain": [
       "-1"
      ]
     },
     "execution_count": 18,
     "metadata": {},
     "output_type": "execute_result"
    }
   ],
   "source": [
    "problem.solve()"
   ]
  },
  {
   "cell_type": "code",
   "execution_count": 19,
   "id": "97029c44-6c95-459e-9c77-de6777ae9cd3",
   "metadata": {
    "tags": []
   },
   "outputs": [
    {
     "name": "stdout",
     "output_type": "stream",
     "text": [
      "Optimal warehouses:\n",
      "Optimal routes:\n",
      "Store 0 -> Store 0\n",
      "Store 1 -> Store 1\n",
      "Store 2 -> Store 2\n",
      "Store 3 -> Store 3\n",
      "Store 4 -> Store 4\n",
      "Store 5 -> Store 5\n",
      "Store 6 -> Store 1\n",
      "Store 7 -> Store 7\n",
      "Store 8 -> Store 8\n",
      "Store 9 -> Store 9\n",
      "Store 10 -> Store 10\n",
      "Store 11 -> Store 11\n",
      "Store 12 -> Store 12\n",
      "Store 13 -> Store 13\n",
      "Store 14 -> Store 30\n",
      "Store 15 -> Store 15\n",
      "Store 16 -> Store 16\n",
      "Store 17 -> Store 17\n",
      "Store 18 -> Store 18\n",
      "Store 19 -> Store 19\n",
      "Store 20 -> Store 20\n",
      "Store 21 -> Store 21\n",
      "Store 22 -> Store 22\n",
      "Store 23 -> Store 23\n",
      "Store 24 -> Store 24\n",
      "Store 25 -> Store 25\n",
      "Store 26 -> Store 26\n",
      "Store 27 -> Store 23\n",
      "Store 28 -> Store 28\n",
      "Store 29 -> Store 29\n",
      "Store 30 -> Store 14\n",
      "Store 31 -> Store 31\n",
      "Store 32 -> Store 32\n",
      "Store 33 -> Store 33\n",
      "Store 34 -> Store 34\n",
      "Store 35 -> Store 35\n",
      "Store 36 -> Store 36\n",
      "Store 37 -> Store 37\n",
      "Store 38 -> Store 38\n",
      "Store 39 -> Store 39\n",
      "Store 40 -> Store 40\n",
      "Store 41 -> Store 41\n",
      "Store 42 -> Store 42\n",
      "Store 43 -> Store 43\n",
      "Store 44 -> Store 44\n",
      "Store 45 -> Store 45\n",
      "Store 46 -> Store 46\n",
      "Store 47 -> Store 47\n",
      "Store 48 -> Store 48\n",
      "Store 49 -> Store 49\n",
      "Store 50 -> Store 39\n",
      "Store 51 -> Store 51\n",
      "Store 52 -> Store 52\n",
      "Store 53 -> Store 53\n",
      "Store 54 -> Store 54\n",
      "Store 55 -> Store 55\n",
      "Store 56 -> Store 56\n",
      "Store 57 -> Store 57\n",
      "Store 58 -> Store 58\n",
      "Store 59 -> Store 59\n",
      "Store 60 -> Store 60\n",
      "Store 61 -> Store 61\n",
      "Store 62 -> Store 62\n",
      "Store 63 -> Store 63\n",
      "Store 64 -> Store 64\n",
      "Store 65 -> Store 65\n",
      "Store 66 -> Store 66\n",
      "Store 67 -> Store 67\n",
      "Store 68 -> Store 68\n",
      "Store 69 -> Store 69\n",
      "Store 70 -> Store 70\n",
      "Store 71 -> Store 71\n",
      "Store 72 -> Store 72\n",
      "Store 73 -> Store 10\n",
      "Store 74 -> Store 74\n",
      "Store 75 -> Store 75\n",
      "Store 76 -> Store 76\n",
      "Store 77 -> Store 77\n",
      "Store 78 -> Store 78\n",
      "Store 79 -> Store 79\n",
      "Store 80 -> Store 80\n",
      "Store 81 -> Store 81\n",
      "Store 82 -> Store 3\n",
      "Store 83 -> Store 83\n",
      "Store 84 -> Store 84\n",
      "Store 85 -> Store 85\n",
      "Store 86 -> Store 86\n",
      "Store 87 -> Store 87\n",
      "Store 88 -> Store 88\n",
      "Store 89 -> Store 89\n",
      "Store 90 -> Store 90\n",
      "Store 91 -> Store 91\n",
      "Store 92 -> Store 92\n",
      "Store 93 -> Store 93\n",
      "Store 94 -> Store 94\n",
      "Store 95 -> Store 95\n",
      "Store 96 -> Store 96\n",
      "Store 97 -> Store 97\n",
      "Store 98 -> Store 98\n",
      "Store 99 -> Store 99\n",
      "Optimal warehouse-store connections:\n",
      "Total cost: 0.0\n"
     ]
    }
   ],
   "source": [
    "# Print the solution\n",
    "print(\"Optimal warehouses:\")\n",
    "for i in warehouses:\n",
    "    if x[i].varValue == 1:\n",
    "        print(\"Warehouse\", i)\n",
    "\n",
    "print(\"Optimal routes:\")\n",
    "for i in stores:\n",
    "    for j in stores:\n",
    "        if r[i][j].varValue == 1:\n",
    "            print(\"Store\", i, \"-> Store\", j)\n",
    "\n",
    "print(\"Optimal warehouse-store connections:\")\n",
    "for i in warehouses:\n",
    "    for j in stores:\n",
    "        if wr[i][j].varValue == 1:\n",
    "            print(\"Warehouse\", i, \"-> Store\", j)\n",
    "\n",
    "print(\"Total cost:\", value(problem.objective))"
   ]
  },
  {
   "cell_type": "code",
   "execution_count": null,
   "id": "78b48dbe-78d1-420d-aa22-bb16a13fdc53",
   "metadata": {},
   "outputs": [],
   "source": []
  }
 ],
 "metadata": {
  "kernelspec": {
   "display_name": "Python 3 (ipykernel)",
   "language": "python",
   "name": "python3"
  },
  "language_info": {
   "codemirror_mode": {
    "name": "ipython",
    "version": 3
   },
   "file_extension": ".py",
   "mimetype": "text/x-python",
   "name": "python",
   "nbconvert_exporter": "python",
   "pygments_lexer": "ipython3",
   "version": "3.10.10"
  }
 },
 "nbformat": 4,
 "nbformat_minor": 5
}
