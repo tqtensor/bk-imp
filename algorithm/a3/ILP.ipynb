{
 "cells": [
  {
   "cell_type": "code",
   "execution_count": 1,
   "id": "4ebf1a79-d19b-4575-b190-46ea2e9de444",
   "metadata": {
    "tags": []
   },
   "outputs": [
    {
     "name": "stderr",
     "output_type": "stream",
     "text": [
      "/home/kind/Works/personal/bk-imp/.venv/lib/python3.10/site-packages/osmnx/utils.py:192: UserWarning: The `utils.config` function is deprecated and will be removed in a future release. Instead, use the `settings` module directly to configure a global setting's value. For example, `ox.settings.log_console=True`.\n",
      "  warnings.warn(\n"
     ]
    }
   ],
   "source": [
    "import copy\n",
    "import os\n",
    "import pickle\n",
    "import random\n",
    "import time\n",
    "\n",
    "import folium\n",
    "import matplotlib.cm as cm\n",
    "import networkx as nx\n",
    "import numpy as np\n",
    "import osmnx as ox\n",
    "import pulp as pl\n",
    "import requests\n",
    "from dotenv import dotenv_values\n",
    "from geopy.geocoders import Nominatim\n",
    "from haversine import Unit, haversine_vector\n",
    "\n",
    "ox.config(use_cache=True, log_console=True)"
   ]
  },
  {
   "cell_type": "markdown",
   "id": "913b51e9-25f6-4b87-acdb-58bfdaa7ea87",
   "metadata": {},
   "source": [
    "# Generate Warehouses and Stores"
   ]
  },
  {
   "cell_type": "code",
   "execution_count": null,
   "id": "377402ee-8e1c-49fc-8051-7d16e7b8ac39",
   "metadata": {
    "tags": []
   },
   "outputs": [],
   "source": [
    "## Create OSM map of HCMC\n",
    "if not os.path.exists(\"ho_chi_minh_city.graphml\"):\n",
    "    graph = ox.graph_from_place(\n",
    "        \"Ho Chi Minh City\", network_type=\"drive\", simplify=False\n",
    "    )\n",
    "    ox.save_graphml(graph, filepath=\"ho_chi_minh_city.graphml\")\n",
    "else:\n",
    "    graph = ox.io.load_graphml(\"ho_chi_minh_city.graphml\")"
   ]
  },
  {
   "cell_type": "code",
   "execution_count": null,
   "id": "f499c756-d9f9-448b-bff2-ae0b05e9bdb2",
   "metadata": {
    "tags": []
   },
   "outputs": [],
   "source": [
    "fig, ax = ox.plot_graph(graph)"
   ]
  },
  {
   "cell_type": "code",
   "execution_count": null,
   "id": "1ac19176-edfe-4161-acd1-fbd970125455",
   "metadata": {
    "tags": []
   },
   "outputs": [],
   "source": [
    "# Obtain a list of nodes from the graph\n",
    "nodes = list(graph.nodes)\n",
    "\n",
    "chosen_locations = set()\n",
    "# Generate random warehouses within the graph\n",
    "warehouses = []\n",
    "while len(warehouses) < 10000:\n",
    "    # Select a random node\n",
    "    random_node = random.choice(nodes)\n",
    "    lat, long = graph.nodes[random_node][\"y\"], graph.nodes[random_node][\"x\"]\n",
    "    warehouses.append((random_node, lat, long))\n",
    "    chosen_locations.add(random_node)\n",
    "with open(\"warehouses.pkl\", \"wb\") as f:\n",
    "    pickle.dump(warehouses, f)\n",
    "\n",
    "# Generate random stores within the graph\n",
    "stores = []\n",
    "while len(stores) < 10000:\n",
    "    # Select a random node\n",
    "    random_node = random.choice(nodes)\n",
    "    if random_node not in chosen_locations:\n",
    "        lat, long = (\n",
    "            graph.nodes[random_node][\"y\"],\n",
    "            graph.nodes[random_node][\"x\"],\n",
    "        )\n",
    "        stores.append((random_node, lat, long))\n",
    "with open(\"stores.pkl\", \"wb\") as f:\n",
    "    pickle.dump(stores, f)"
   ]
  },
  {
   "cell_type": "markdown",
   "id": "4fedd82a-39fd-459a-acd4-ba6674b631c9",
   "metadata": {},
   "source": [
    "# Direct Distance\n",
    "In this approach, we make the assumption that the distance between two shops is independent of the road network."
   ]
  },
  {
   "cell_type": "code",
   "execution_count": null,
   "id": "455df910-e0d1-4f61-841e-c7886c7bb57a",
   "metadata": {
    "tags": []
   },
   "outputs": [],
   "source": [
    "M = 100  # Number of warehouses\n",
    "N = 1000  # Number of stores\n",
    "\n",
    "sampled_warehouses = random.choices(warehouses, k=M)\n",
    "sampled_stores = random.choices(stores, k=N)"
   ]
  },
  {
   "cell_type": "markdown",
   "id": "ec0d3150-3937-4467-877b-6817173f3bb2",
   "metadata": {
    "tags": []
   },
   "source": [
    "## Calculate Distance Matrix"
   ]
  },
  {
   "cell_type": "code",
   "execution_count": null,
   "id": "a771b2fe-d93c-4984-b8e6-b30b20a03819",
   "metadata": {
    "tags": []
   },
   "outputs": [],
   "source": [
    "dinstance_matrix = haversine_vector(\n",
    "    [(store[1], store[2]) for store in sampled_stores],\n",
    "    [(warehouse[1], warehouse[2]) for warehouse in sampled_warehouses],\n",
    "    Unit.KILOMETERS,\n",
    "    comb=True,\n",
    ")"
   ]
  },
  {
   "cell_type": "code",
   "execution_count": null,
   "id": "bc9314c5-95c7-486b-bb9b-79fc925eee88",
   "metadata": {
    "tags": []
   },
   "outputs": [],
   "source": [
    "dinstance_matrix.shape"
   ]
  },
  {
   "cell_type": "markdown",
   "id": "23749751-24da-4951-aa41-1a3dcc772e19",
   "metadata": {},
   "source": [
    "## Linear Programming"
   ]
  },
  {
   "cell_type": "code",
   "execution_count": null,
   "id": "912d85a4-69f6-4c3f-a327-2f73fd889865",
   "metadata": {
    "tags": []
   },
   "outputs": [],
   "source": [
    "# Set up the problem\n",
    "problem = pl.LpProblem(\"Warehouse_Optimization\", pl.LpMinimize)"
   ]
  },
  {
   "cell_type": "markdown",
   "id": "1878a2c4-251b-4979-9bd6-305349da97c9",
   "metadata": {},
   "source": [
    "### Define the environment"
   ]
  },
  {
   "cell_type": "code",
   "execution_count": null,
   "id": "67451262-2d55-4dff-acc1-7afabd38d2bd",
   "metadata": {
    "tags": []
   },
   "outputs": [],
   "source": [
    "warehouse_ids = range(M)\n",
    "w_cost = random.sample(range(100, 201), M)  # Operational cost of warehouses\n",
    "w_capacity = random.sample(\n",
    "    range(13000, 15001), M\n",
    ")  # Operational cost of warehouses\n",
    "store_ids = range(N)\n",
    "demands = random.sample(range(10, 1101), N)  # Daily demand of stores\n",
    "d_cost = copy.copy(\n",
    "    dinstance_matrix\n",
    ")  # Delivery cost between warehouses vs stores"
   ]
  },
  {
   "cell_type": "code",
   "execution_count": null,
   "id": "6e532ce5-404e-4cab-9e72-23f4151cc652",
   "metadata": {
    "tags": []
   },
   "outputs": [],
   "source": [
    "assert sum(w_capacity) > sum(\n",
    "    demands\n",
    "), \"All warehouses' capacity is less than stores' demands\""
   ]
  },
  {
   "cell_type": "markdown",
   "id": "55d820f1-5601-4953-b9e1-8e910ee71f32",
   "metadata": {},
   "source": [
    "### Define the decision variables"
   ]
  },
  {
   "cell_type": "code",
   "execution_count": null,
   "id": "1f2a4cb0-117f-4061-9141-079fcb13e934",
   "metadata": {
    "tags": []
   },
   "outputs": [],
   "source": [
    "wr = pl.LpVariable.dicts(\n",
    "    \"warehouse_store_connection\", (warehouse_ids, store_ids), cat=\"Binary\"\n",
    ")"
   ]
  },
  {
   "cell_type": "markdown",
   "id": "f832ac82-8d80-4dbe-952d-5394865f2db4",
   "metadata": {},
   "source": [
    "### Define the objective function"
   ]
  },
  {
   "cell_type": "code",
   "execution_count": null,
   "id": "05c480fa-bfb7-4b71-b5ac-54e5fe6d86b3",
   "metadata": {
    "tags": []
   },
   "outputs": [],
   "source": [
    "total_cost = pl.lpSum(\n",
    "    w_cost[w] * wr[w][s] + d_cost[w][s] * wr[w][s]\n",
    "    for w in warehouse_ids\n",
    "    for s in store_ids\n",
    ")\n",
    "problem += total_cost"
   ]
  },
  {
   "cell_type": "markdown",
   "id": "2eb6e546-54ef-47e3-8536-9dcd4b2f2a8c",
   "metadata": {},
   "source": [
    "### Define the constraints"
   ]
  },
  {
   "cell_type": "code",
   "execution_count": null,
   "id": "1ebcf2c1-4f60-4de5-ba1d-bd89e5a1b905",
   "metadata": {
    "tags": []
   },
   "outputs": [],
   "source": [
    "# Each store must be assigned to one warehouse\n",
    "for i in store_ids:\n",
    "    problem += pl.lpSum(wr[j][i] for j in warehouse_ids) == 1"
   ]
  },
  {
   "cell_type": "code",
   "execution_count": null,
   "id": "4fe5dc09-c063-4bfc-b583-351cba3979d0",
   "metadata": {
    "tags": []
   },
   "outputs": [],
   "source": [
    "# Total demand of assigned stores for a warehouse must be smaller than its capacity\n",
    "for w in warehouse_ids:\n",
    "    problem += (\n",
    "        pl.lpSum(demands[s] * wr[w][s] for s in store_ids) <= w_capacity[w]\n",
    "    )"
   ]
  },
  {
   "cell_type": "markdown",
   "id": "24b1ee56-5c84-4611-aad3-eaffffca3526",
   "metadata": {},
   "source": [
    "## Solve the problem!!!"
   ]
  },
  {
   "cell_type": "markdown",
   "id": "714fb60a-650c-459a-a2df-691f72181a30",
   "metadata": {},
   "source": [
    "### COIN-OR Branch and Cut solver (CBC)\n",
    "https://coin-or.github.io/Cbc/intro.html#:~:text=The%20COIN%2DOR%20Branch%20and,executable%20version%20is%20also%20available."
   ]
  },
  {
   "cell_type": "code",
   "execution_count": null,
   "id": "1aea93aa-0594-46d3-ac46-5b94e54a44c1",
   "metadata": {
    "tags": []
   },
   "outputs": [],
   "source": [
    "problem.solve(pl.PULP_CBC_CMD(timeLimit=120, threads=6, msg=0))"
   ]
  },
  {
   "cell_type": "code",
   "execution_count": null,
   "id": "97029c44-6c95-459e-9c77-de6777ae9cd3",
   "metadata": {
    "tags": []
   },
   "outputs": [],
   "source": [
    "# Print the total cost\n",
    "print(\"Total Cost: \", pl.value(problem.objective))"
   ]
  },
  {
   "cell_type": "markdown",
   "id": "a80317ef-f064-4ce6-9217-923976431f4c",
   "metadata": {},
   "source": [
    "### CPLEX Solver\n",
    "Get it free from here https://www.ibm.com/academic/topic/data-science\n",
    "\n",
    "or https://storage.googleapis.com/thaitang-sharing/cplex_studio2211.linux_x86_64.bin"
   ]
  },
  {
   "cell_type": "code",
   "execution_count": null,
   "id": "9028fffb-d552-43f6-87cf-92f1de76af4d",
   "metadata": {
    "tags": []
   },
   "outputs": [],
   "source": [
    "os.environ[\"CPLEX_HOME\"] = \"/opt/ibm/ILOG/CPLEX_Studio2211/cplex\"\n",
    "os.environ[\"CPO_HOME\"] = \"/opt/ibm/ILOG/CPLEX_Studio2211/cpoptimizer\"\n",
    "os.environ[\"PATH\"] += (\n",
    "    \":\"\n",
    "    + os.environ[\"CPLEX_HOME\"]\n",
    "    + \"/bin/x86-64_linux:\"\n",
    "    + os.environ[\"CPO_HOME\"]\n",
    "    + \"/bin/x86-64_linux\"\n",
    ")\n",
    "os.environ[\"LD_LIBRARY_PATH\"] += (\n",
    "    \":\"\n",
    "    + os.environ[\"CPLEX_HOME\"]\n",
    "    + \"/bin/x86-64_linux:\"\n",
    "    + os.environ[\"CPO_HOME\"]\n",
    "    + \"/bin/x86-64_linux\"\n",
    ")\n",
    "os.environ[\n",
    "    \"PYTHONPATH\"\n",
    "] = \"/opt/ibm/ILOG/CPLEX_Studio2211/cplex/python/3.10/x86-64_linux\""
   ]
  },
  {
   "cell_type": "code",
   "execution_count": null,
   "id": "8b2a4490-2fd2-490b-bb0d-5aa23a644b76",
   "metadata": {
    "tags": []
   },
   "outputs": [],
   "source": [
    "problem.solve(pl.CPLEX_CMD(timeLimit=120, threads=6, msg=0))"
   ]
  },
  {
   "cell_type": "code",
   "execution_count": null,
   "id": "15527b2a-0b8c-4187-971a-844ff7f0b171",
   "metadata": {
    "tags": []
   },
   "outputs": [],
   "source": [
    "# Print the total cost\n",
    "print(\"Total Cost: \", pl.value(problem.objective))"
   ]
  },
  {
   "cell_type": "markdown",
   "id": "c8c6af84-41e6-43b3-be7f-35519324ae5a",
   "metadata": {},
   "source": [
    "# Actual Distance\n",
    "Actual distance is calculated by calling the API of OpenStreetMap.\n",
    "\n",
    "Note that the Openrouteservice API has a limit of 20 requests per minute for Isochrones."
   ]
  },
  {
   "cell_type": "code",
   "execution_count": null,
   "id": "a3a53857-4ed1-4109-9089-dee95fa4551c",
   "metadata": {
    "tags": []
   },
   "outputs": [],
   "source": [
    "def calculate_distance(graph, source_node, target_node):\n",
    "    return (\n",
    "        nx.shortest_path_length(\n",
    "            graph, source_node, target_node, weight=\"length\"\n",
    "        )\n",
    "        / 1000\n",
    "    )"
   ]
  },
  {
   "cell_type": "code",
   "execution_count": null,
   "id": "612f9194-59e1-425d-99ec-e85308e1ed68",
   "metadata": {
    "tags": []
   },
   "outputs": [],
   "source": [
    "sampled_warehouses[0]"
   ]
  },
  {
   "cell_type": "code",
   "execution_count": null,
   "id": "0135709d-7b91-47e1-a890-9e2e348d74d0",
   "metadata": {
    "tags": []
   },
   "outputs": [],
   "source": [
    "sampled_stores[10]"
   ]
  },
  {
   "cell_type": "code",
   "execution_count": null,
   "id": "29b1e66f-293f-47f1-9a1a-4a2899f7029e",
   "metadata": {
    "tags": []
   },
   "outputs": [],
   "source": [
    "print(\n",
    "    calculate_distance(graph, sampled_warehouses[0][0], sampled_stores[10][0])\n",
    ")"
   ]
  },
  {
   "cell_type": "code",
   "execution_count": null,
   "id": "ba0d5f30-946a-40b4-b7d0-4ac86fc8de35",
   "metadata": {
    "tags": []
   },
   "outputs": [],
   "source": [
    "# Update the actual distance from warehouse to assigned store\n",
    "updated_cost = np.full_like(d_cost, False)\n",
    "for w in warehouse_ids:\n",
    "    for s in store_ids:\n",
    "        if (pl.value(wr[w][s]) == 1) & (not updated_cost[w][s]):\n",
    "            new_cost = calculate_distance(\n",
    "                graph,\n",
    "                sampled_warehouses[w][0],\n",
    "                sampled_stores[s][0],\n",
    "            )\n",
    "            print(\n",
    "                \"Update cost from warehouse {} to store {} - {} to {}\".format(\n",
    "                    w, s, round(d_cost[w][s], 2), round(new_cost, 2)\n",
    "                )\n",
    "            )\n",
    "            d_cost[w][s] = new_cost\n",
    "            updated_cost[w][s] = True\n",
    "            break"
   ]
  },
  {
   "cell_type": "markdown",
   "id": "d32c6b70-96ea-4977-93d5-6e01f68377c2",
   "metadata": {
    "tags": []
   },
   "source": [
    "# Analyze Results"
   ]
  },
  {
   "cell_type": "code",
   "execution_count": 3,
   "id": "95b810f7-afb2-4187-a297-72566b65f2d9",
   "metadata": {
    "tags": []
   },
   "outputs": [],
   "source": [
    "with open(\"results/exp1/warehouses.pkl\", \"rb\") as f:\n",
    "    warehouses = pickle.load(f)\n",
    "with open(\"results/exp1/stores.pkl\", \"rb\") as f:\n",
    "    stores = pickle.load(f)\n",
    "with open(\"results/exp1/wr.pkl\", \"rb\") as f:\n",
    "    wr = pickle.load(f)"
   ]
  },
  {
   "cell_type": "code",
   "execution_count": 4,
   "id": "5ace2a56-14ca-4328-98d1-223e1b79effc",
   "metadata": {
    "tags": []
   },
   "outputs": [
    {
     "name": "stdout",
     "output_type": "stream",
     "text": [
      "0 22\n",
      "1 14\n",
      "2 10\n",
      "3 20\n",
      "4 12\n",
      "5 22\n",
      "6 53\n",
      "7 17\n",
      "8 16\n",
      "9 28\n",
      "10 10\n",
      "11 20\n",
      "12 10\n",
      "13 25\n",
      "14 23\n",
      "15 26\n",
      "16 10\n",
      "17 19\n",
      "18 11\n",
      "19 12\n",
      "20 10\n",
      "21 37\n",
      "22 23\n",
      "23 17\n",
      "24 10\n",
      "25 12\n",
      "26 15\n",
      "27 11\n",
      "28 18\n",
      "29 23\n",
      "30 25\n",
      "31 27\n",
      "32 15\n",
      "33 10\n",
      "34 31\n",
      "35 15\n",
      "36 32\n",
      "37 10\n",
      "38 41\n",
      "39 38\n",
      "40 22\n",
      "41 21\n",
      "42 22\n",
      "43 13\n",
      "44 44\n",
      "45 19\n",
      "46 22\n",
      "47 10\n",
      "48 17\n",
      "49 10\n",
      "1000\n"
     ]
    }
   ],
   "source": [
    "# Create a map centered around the first warehouse\n",
    "map_obj = folium.Map(\n",
    "    location=[10.779748918558694, 106.6990408245344], zoom_start=14\n",
    ")\n",
    "\n",
    "# Color map\n",
    "colors = [c for c in list(folium.Icon.color_options) * 10 if c not in [\"black\", \"white\"]]\n",
    "color_maps = []\n",
    "\n",
    "# Add markers for warehouses\n",
    "counter = 0\n",
    "for w, warehouse in enumerate(warehouses):\n",
    "    num_assigned_stores = 0\n",
    "    for s, store in enumerate(stores):\n",
    "        if pl.value(wr[w][s]) == 1:\n",
    "            num_assigned_stores += 1\n",
    "    counter += num_assigned_stores\n",
    "    print(w, num_assigned_stores)\n",
    "print(counter)\n",
    "#             color_maps.append([w, colors.pop()])\n",
    "#             hex_color = [c for c in color_maps if c[0] == w][0][1]\n",
    "#             folium.Marker(\n",
    "#                 [warehouse[1], warehouse[2]],\n",
    "#                 popup=\"Warehouse {}\".format(w),\n",
    "#                 icon=folium.Icon(\n",
    "#                     color=hex_color,\n",
    "#                     icon_color=\"white\",\n",
    "#                     icon=\"car\",\n",
    "#                     prefix=\"fa\"\n",
    "#                 ),\n",
    "#             ).add_to(map_obj)\n",
    "#             counter += 1\n",
    "#             break\n",
    "# print(\"Number of warehouses:\", counter)\n",
    "\n",
    "# # Add markers for stores\n",
    "# for w, warehouse in enumerate(warehouses):\n",
    "#     for s, store in enumerate(stores):\n",
    "#         if pl.value(wr[w][s]) == 1:\n",
    "#             hex_color = [c for c in color_maps if c[0] == w][0][1]\n",
    "#             folium.Marker(\n",
    "#                 [store[1], store[2]],\n",
    "#                 popup=\"Store assigned to Warehouse {}\".format(w),\n",
    "#                 icon=folium.Icon(\n",
    "#                     color=hex_color,\n",
    "#                     icon_color=hex_color,\n",
    "#                     icon=\"shopping-cart\",\n",
    "#                     prefix=\"fa\",\n",
    "#                 ),\n",
    "#             ).add_to(map_obj)\n",
    "\n",
    "# # Display the map\n",
    "# map_obj"
   ]
  },
  {
   "cell_type": "code",
   "execution_count": null,
   "id": "89f7e4b5-a088-429b-829c-603ab47ca2e0",
   "metadata": {},
   "outputs": [],
   "source": []
  }
 ],
 "metadata": {
  "kernelspec": {
   "display_name": "Python 3 (ipykernel)",
   "language": "python",
   "name": "python3"
  },
  "language_info": {
   "codemirror_mode": {
    "name": "ipython",
    "version": 3
   },
   "file_extension": ".py",
   "mimetype": "text/x-python",
   "name": "python",
   "nbconvert_exporter": "python",
   "pygments_lexer": "ipython3",
   "version": "3.10.10"
  }
 },
 "nbformat": 4,
 "nbformat_minor": 5
}
