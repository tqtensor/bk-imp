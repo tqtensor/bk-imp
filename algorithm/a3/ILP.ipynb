{
 "cells": [
  {
   "cell_type": "markdown",
   "id": "4fedd82a-39fd-459a-acd4-ba6674b631c9",
   "metadata": {},
   "source": [
    "# Direct Distance\n",
    "In this approach, I make the assumption that the distance between two shops is independent of the road network."
   ]
  },
  {
   "cell_type": "markdown",
   "id": "c6ac5176-6a1b-455f-9f4d-22cec3e47b1f",
   "metadata": {},
   "source": [
    "## Generate Random Warehouses"
   ]
  },
  {
   "cell_type": "code",
   "execution_count": 1,
   "id": "455df910-e0d1-4f61-841e-c7886c7bb57a",
   "metadata": {
    "tags": []
   },
   "outputs": [],
   "source": [
    "import copy\n",
    "import os\n",
    "import pickle\n",
    "import random\n",
    "\n",
    "import pulp as pl\n",
    "from geopy.geocoders import Nominatim\n",
    "from haversine import Unit, haversine_vector"
   ]
  },
  {
   "cell_type": "code",
   "execution_count": 2,
   "id": "34aaefde-d1bb-4bf6-8411-23424c748d87",
   "metadata": {
    "tags": []
   },
   "outputs": [],
   "source": [
    "if not os.path.exists(\"warehouses.pkl\"):\n",
    "    print(\"Generating warehouses info...\")\n",
    "\n",
    "    warehouses = []\n",
    "    for i in range(1, 101):\n",
    "        name = f\"Warehouse {i}\"\n",
    "        lat = random.uniform(\n",
    "            10.668799, 10.878041\n",
    "        )  # Latitude range of Ho Chi Minh City\n",
    "        long = random.uniform(\n",
    "            106.451840, 106.813580\n",
    "        )  # Longitude range of Ho Chi Minh City\n",
    "        description = None\n",
    "        warehouses.append(\n",
    "            {\n",
    "                \"index\": i,\n",
    "                \"name\": name,\n",
    "                \"lat\": lat,\n",
    "                \"long\": long,\n",
    "                \"description\": \"\",\n",
    "            }\n",
    "        )\n",
    "\n",
    "    geolocator = Nominatim(user_agent=\"bk-imp\")\n",
    "\n",
    "    for i in range(len(warehouses)):\n",
    "        lat, long = warehouses[i][\"lat\"], warehouses[i][\"long\"]\n",
    "        location = geolocator.reverse(f\"{lat}, {long}\")\n",
    "        address = location.address\n",
    "        warehouses[i][\"description\"] = address\n",
    "\n",
    "    with open(\"warehouses.pkl\", \"wb\") as f:\n",
    "        # Shuffle warehouses to generate random order\n",
    "        random.shuffle(warehouses)\n",
    "        pickle.dump(warehouses, f)\n",
    "else:\n",
    "    with open(\"warehouses.pkl\", \"rb\") as f:\n",
    "        warehouses = pickle.load(f)"
   ]
  },
  {
   "cell_type": "code",
   "execution_count": 3,
   "id": "e3b69315-86f8-4560-8c9c-e743bc1f1d6a",
   "metadata": {
    "tags": []
   },
   "outputs": [],
   "source": [
    "with open(\"stores.pkl\", \"rb\") as f:\n",
    "    stores = pickle.load(f)"
   ]
  },
  {
   "cell_type": "markdown",
   "id": "ec0d3150-3937-4467-877b-6817173f3bb2",
   "metadata": {
    "tags": []
   },
   "source": [
    "## Calculate Distance Matrix"
   ]
  },
  {
   "cell_type": "code",
   "execution_count": 4,
   "id": "a771b2fe-d93c-4984-b8e6-b30b20a03819",
   "metadata": {
    "tags": []
   },
   "outputs": [],
   "source": [
    "warehouses_stores_dinstance_matrix = haversine_vector(\n",
    "    [(store[\"lat\"], store[\"long\"]) for store in stores],\n",
    "    [(warehouse[\"lat\"], warehouse[\"long\"]) for warehouse in warehouses],\n",
    "    Unit.KILOMETERS,\n",
    "    comb=True,\n",
    ")"
   ]
  },
  {
   "cell_type": "code",
   "execution_count": 5,
   "id": "bc9314c5-95c7-486b-bb9b-79fc925eee88",
   "metadata": {
    "tags": []
   },
   "outputs": [
    {
     "data": {
      "text/plain": [
       "(100, 1000)"
      ]
     },
     "execution_count": 5,
     "metadata": {},
     "output_type": "execute_result"
    }
   ],
   "source": [
    "warehouses_stores_dinstance_matrix.shape"
   ]
  },
  {
   "cell_type": "markdown",
   "id": "23749751-24da-4951-aa41-1a3dcc772e19",
   "metadata": {},
   "source": [
    "## Linear Programming"
   ]
  },
  {
   "cell_type": "code",
   "execution_count": 6,
   "id": "912d85a4-69f6-4c3f-a327-2f73fd889865",
   "metadata": {
    "tags": []
   },
   "outputs": [],
   "source": [
    "# Set up the problem\n",
    "problem = pl.LpProblem(\"Warehouse_Optimization\", pl.LpMinimize)"
   ]
  },
  {
   "cell_type": "markdown",
   "id": "1878a2c4-251b-4979-9bd6-305349da97c9",
   "metadata": {},
   "source": [
    "### Define the environment"
   ]
  },
  {
   "cell_type": "code",
   "execution_count": 7,
   "id": "67451262-2d55-4dff-acc1-7afabd38d2bd",
   "metadata": {
    "tags": []
   },
   "outputs": [],
   "source": [
    "M = 100  # Number of warehouses\n",
    "N = 1000  # Number of stores\n",
    "warehouse_ids = range(M)\n",
    "w_cost = random.sample(range(100, 201), M)  # Operational cost of warehouses\n",
    "w_capacity = random.sample(\n",
    "    range(13000, 15001), M\n",
    ")  # Operational cost of warehouses\n",
    "store_ids = range(N)\n",
    "demands = random.sample(range(10, 1101), N)  # Daily demand of stores\n",
    "d_cost = copy.copy(\n",
    "    warehouses_stores_dinstance_matrix\n",
    ")  # Delivery cost between warehouses vs stores"
   ]
  },
  {
   "cell_type": "code",
   "execution_count": 8,
   "id": "6e532ce5-404e-4cab-9e72-23f4151cc652",
   "metadata": {
    "tags": []
   },
   "outputs": [],
   "source": [
    "assert sum(w_capacity) > sum(\n",
    "    demands\n",
    "), \"All warehouses' capacity is less than stores' demands\""
   ]
  },
  {
   "cell_type": "markdown",
   "id": "55d820f1-5601-4953-b9e1-8e910ee71f32",
   "metadata": {},
   "source": [
    "### Define the decision variables"
   ]
  },
  {
   "cell_type": "code",
   "execution_count": 10,
   "id": "1f2a4cb0-117f-4061-9141-079fcb13e934",
   "metadata": {
    "tags": []
   },
   "outputs": [],
   "source": [
    "wr = pl.LpVariable.dicts(\n",
    "    \"warehouse_store_connection\", (warehouse_ids, store_ids), cat=\"Binary\"\n",
    ")"
   ]
  },
  {
   "cell_type": "markdown",
   "id": "f832ac82-8d80-4dbe-952d-5394865f2db4",
   "metadata": {},
   "source": [
    "### Define the objective function"
   ]
  },
  {
   "cell_type": "code",
   "execution_count": 11,
   "id": "05c480fa-bfb7-4b71-b5ac-54e5fe6d86b3",
   "metadata": {
    "tags": []
   },
   "outputs": [],
   "source": [
    "total_cost = pl.lpSum(\n",
    "    w_cost[w] * wr[w][s] + d_cost[w][s] * wr[w][s]\n",
    "    for w in warehouse_ids\n",
    "    for s in store_ids\n",
    ")\n",
    "problem += total_cost"
   ]
  },
  {
   "cell_type": "markdown",
   "id": "2eb6e546-54ef-47e3-8536-9dcd4b2f2a8c",
   "metadata": {},
   "source": [
    "### Define the constraints"
   ]
  },
  {
   "cell_type": "code",
   "execution_count": 12,
   "id": "1ebcf2c1-4f60-4de5-ba1d-bd89e5a1b905",
   "metadata": {
    "tags": []
   },
   "outputs": [],
   "source": [
    "# Each store must be assigned to one warehouse\n",
    "for i in store_ids:\n",
    "    problem += pl.lpSum(wr[j][i] for j in warehouse_ids) == 1"
   ]
  },
  {
   "cell_type": "code",
   "execution_count": 13,
   "id": "4fe5dc09-c063-4bfc-b583-351cba3979d0",
   "metadata": {
    "tags": []
   },
   "outputs": [],
   "source": [
    "# Total demand of assigned stores for a warehouse must be smaller than its capacity\n",
    "for w in warehouse_ids:\n",
    "    problem += (\n",
    "        pl.lpSum(demands[s] * wr[w][s] for s in store_ids) <= w_capacity[w]\n",
    "    )"
   ]
  },
  {
   "cell_type": "markdown",
   "id": "24b1ee56-5c84-4611-aad3-eaffffca3526",
   "metadata": {},
   "source": [
    "## Solve the problem!!!"
   ]
  },
  {
   "cell_type": "markdown",
   "id": "714fb60a-650c-459a-a2df-691f72181a30",
   "metadata": {},
   "source": [
    "### COIN-OR Branch and Cut solver (CBC)\n",
    "https://coin-or.github.io/Cbc/intro.html#:~:text=The%20COIN%2DOR%20Branch%20and,executable%20version%20is%20also%20available."
   ]
  },
  {
   "cell_type": "code",
   "execution_count": 14,
   "id": "1aea93aa-0594-46d3-ac46-5b94e54a44c1",
   "metadata": {
    "tags": []
   },
   "outputs": [
    {
     "data": {
      "text/plain": [
       "1"
      ]
     },
     "execution_count": 14,
     "metadata": {},
     "output_type": "execute_result"
    }
   ],
   "source": [
    "problem.solve(pl.PULP_CBC_CMD(timeLimit=120, threads=6, msg=0))"
   ]
  },
  {
   "cell_type": "code",
   "execution_count": 15,
   "id": "97029c44-6c95-459e-9c77-de6777ae9cd3",
   "metadata": {
    "tags": []
   },
   "outputs": [
    {
     "name": "stdout",
     "output_type": "stream",
     "text": [
      "Optimal Solution:\n",
      "Warehouse 0 serves these stores: [617]\n",
      "Warehouse 1 serves these stores: [164, 505]\n",
      "Warehouse 2 serves these stores: []\n",
      "Warehouse 3 serves these stores: [579]\n",
      "Warehouse 4 serves these stores: [480]\n",
      "Warehouse 5 serves these stores: [417]\n",
      "Warehouse 6 serves these stores: [14, 120, 151, 303, 352, 467, 492, 494, 517, 568, 582, 883, 914, 941, 984, 987]\n",
      "Warehouse 7 serves these stores: [306, 391, 561, 746]\n",
      "Warehouse 8 serves these stores: [6, 91, 232, 424, 437, 456, 626, 729, 816]\n",
      "Warehouse 9 serves these stores: []\n",
      "Warehouse 10 serves these stores: [153]\n",
      "Warehouse 11 serves these stores: [308]\n",
      "Warehouse 12 serves these stores: [0, 13, 20, 79, 137, 143, 181, 185, 191, 213, 269, 328, 338, 342, 422, 489, 490, 511, 514, 542, 577, 586, 619, 635, 664, 665, 739, 740, 850, 854, 869, 899, 919, 956, 958, 961, 971, 982, 996]\n",
      "Warehouse 13 serves these stores: []\n",
      "Warehouse 14 serves these stores: []\n",
      "Warehouse 15 serves these stores: [46, 127, 170, 326, 368, 513, 537, 553, 554, 633, 661, 698, 704, 714, 728, 787, 834, 853, 918, 965, 985]\n",
      "Warehouse 16 serves these stores: [2, 19, 131, 162, 211, 373, 531, 546, 827, 844, 938, 944, 995]\n",
      "Warehouse 17 serves these stores: [206, 219, 768]\n",
      "Warehouse 18 serves these stores: [4, 15, 22, 30, 62, 75, 113, 169, 224, 235, 257, 271, 283, 299, 314, 335, 377, 384, 421, 534, 592, 595, 608, 610, 657, 678, 686, 710, 717, 736, 744, 783, 785, 790, 800, 835, 838, 868, 875, 910, 940, 942, 962, 969]\n",
      "Warehouse 19 serves these stores: []\n",
      "Warehouse 20 serves these stores: []\n",
      "Warehouse 21 serves these stores: []\n",
      "Warehouse 22 serves these stores: []\n",
      "Warehouse 23 serves these stores: [27, 50, 65, 77, 134, 144, 172, 198, 249, 260, 266, 310, 334, 436, 444, 450, 482, 502, 508, 569, 670, 688, 756, 795, 823, 855, 884, 895, 907, 979]\n",
      "Warehouse 24 serves these stores: [9, 177, 362, 398, 411, 428, 449, 465, 470, 479, 543, 559, 601, 603, 613, 663, 806, 849, 860, 898]\n",
      "Warehouse 25 serves these stores: [446, 711, 784]\n",
      "Warehouse 26 serves these stores: [87, 99, 140, 166, 304, 378, 429, 640, 725, 750]\n",
      "Warehouse 27 serves these stores: [41, 70, 316, 345, 358, 539, 576, 703, 937]\n",
      "Warehouse 28 serves these stores: [78, 94]\n",
      "Warehouse 29 serves these stores: [10, 66, 92, 95, 98, 103, 158, 226, 245, 282, 313, 366, 375, 386, 400, 402, 404, 423, 433, 442, 530, 572, 583, 598, 604, 649, 650, 651, 684, 706, 731, 757, 793, 797, 814, 859, 880, 897, 922, 933, 952, 960, 970, 978, 994, 998]\n",
      "Warehouse 30 serves these stores: [141, 285, 584, 652, 801, 832]\n",
      "Warehouse 31 serves these stores: [1, 60, 64, 251, 318, 332, 355, 365, 488, 545, 606, 732, 733, 748, 780, 796, 820, 886, 954, 980]\n",
      "Warehouse 32 serves these stores: [45, 180, 440, 504, 558, 611, 637, 642, 666, 713, 742, 789, 852]\n",
      "Warehouse 33 serves these stores: [21, 975]\n",
      "Warehouse 34 serves these stores: [51, 101, 108, 119, 188, 237, 278, 296, 349, 445, 478, 524, 525, 527, 580, 671, 682, 715, 747, 762, 767, 856, 863, 865, 990]\n",
      "Warehouse 35 serves these stores: [28, 56, 132, 394, 420, 453, 483, 538, 562, 607, 719, 726]\n",
      "Warehouse 36 serves these stores: [25, 80, 116, 187, 200, 229, 287, 414, 431, 439, 443, 477, 515, 551, 599, 614, 655, 658, 718, 833, 858, 872]\n",
      "Warehouse 37 serves these stores: [609]\n",
      "Warehouse 38 serves these stores: [887]\n",
      "Warehouse 39 serves these stores: [23, 214, 291, 339, 484, 523, 813]\n",
      "Warehouse 40 serves these stores: [86]\n",
      "Warehouse 41 serves these stores: [89, 270, 405, 427, 501, 566, 612, 636, 646, 648, 653, 695, 701, 737, 743, 753, 846, 857, 867, 924, 959]\n",
      "Warehouse 42 serves these stores: [44, 156, 157, 204, 286, 294, 412, 432, 476, 493, 631, 738]\n",
      "Warehouse 43 serves these stores: [39, 83, 454, 623]\n",
      "Warehouse 44 serves these stores: [452, 675]\n",
      "Warehouse 45 serves these stores: []\n",
      "Warehouse 46 serves these stores: [93, 173, 250, 265, 590, 625, 766, 939]\n",
      "Warehouse 47 serves these stores: []\n",
      "Warehouse 48 serves these stores: [36, 47, 48, 81, 100, 186, 208, 252, 256, 259, 312, 359, 369, 396, 425, 441, 447, 536, 571, 591, 593, 627, 659, 702, 794, 848, 866, 889, 900, 911, 923, 931]\n",
      "Warehouse 49 serves these stores: []\n",
      "Warehouse 50 serves these stores: [17, 32, 43, 52, 63, 88, 121, 126, 136, 142, 150, 193, 196, 197, 209, 215, 227, 238, 255, 263, 288, 293, 301, 307, 343, 344, 351, 485, 491, 596, 618, 628, 644, 647, 667, 680, 690, 691, 708, 735, 741, 751, 763, 778, 779, 840, 890, 891, 904, 915, 921, 927, 966, 997]\n",
      "Warehouse 51 serves these stores: [407, 638, 976]\n",
      "Warehouse 52 serves these stores: [5, 11, 38, 146, 159, 230, 319, 393, 397, 506, 656, 676, 687, 752, 765, 810, 817, 878, 925, 928, 930, 946, 983]\n",
      "Warehouse 53 serves these stores: [518]\n",
      "Warehouse 54 serves these stores: [3, 61, 69, 161, 176, 254, 280, 297, 330, 357, 434, 451, 457, 463, 509, 516, 528, 574, 578, 587, 639, 641, 660, 681, 693, 699, 774, 803, 882, 885, 894, 932, 943, 953, 968, 986]\n",
      "Warehouse 55 serves these stores: [228, 272, 379, 415, 455, 547, 624, 669, 709, 805, 912, 949, 988]\n",
      "Warehouse 56 serves these stores: [130, 370, 521]\n",
      "Warehouse 57 serves these stores: [207, 385, 602]\n",
      "Warehouse 58 serves these stores: [382]\n",
      "Warehouse 59 serves these stores: [123, 125, 149, 175, 182, 220, 317, 321, 325, 363, 372, 448, 615, 629, 654, 707, 721, 759, 781, 822, 881, 948]\n",
      "Warehouse 60 serves these stores: [380, 495, 769]\n",
      "Warehouse 61 serves these stores: [57, 82, 201, 247, 727, 755, 808, 873, 906, 989]\n",
      "Warehouse 62 serves these stores: []\n",
      "Warehouse 63 serves these stores: []\n",
      "Warehouse 64 serves these stores: [241, 679]\n",
      "Warehouse 65 serves these stores: []\n",
      "Warehouse 66 serves these stores: [117, 563, 589]\n",
      "Warehouse 67 serves these stores: [236, 267, 788, 871]\n",
      "Warehouse 68 serves these stores: [685]\n",
      "Warehouse 69 serves these stores: []\n",
      "Warehouse 70 serves these stores: []\n",
      "Warehouse 71 serves these stores: [7, 29, 58, 76, 106, 118, 147, 163, 194, 240, 253, 322, 348, 354, 438, 468, 520, 541, 552, 575, 588, 673, 694, 724, 825, 831, 892, 893, 896, 913, 973, 992]\n",
      "Warehouse 72 serves these stores: [8, 16, 31, 34, 85, 105, 239, 298, 302, 376, 389, 418, 549, 550, 674, 791, 815, 828, 905, 977, 981]\n",
      "Warehouse 73 serves these stores: []\n",
      "Warehouse 74 serves these stores: [107, 222, 248, 258, 392, 458, 544, 585, 734, 772, 777, 782, 811, 839, 874, 917, 991]\n",
      "Warehouse 75 serves these stores: [129]\n",
      "Warehouse 76 serves these stores: [26, 97, 183, 190, 244, 261, 268, 279, 284, 350, 388, 410, 413, 460, 700, 754, 821, 901]\n",
      "Warehouse 77 serves these stores: [73, 152, 199, 273, 281, 374, 383, 403, 406, 464, 616, 723, 802, 843, 870, 888, 947, 950]\n",
      "Warehouse 78 serves these stores: [18, 168, 192, 212, 218, 242, 289, 333, 336, 496, 497, 526, 529, 535, 581, 630, 634, 645, 677, 809, 879, 903, 916]\n",
      "Warehouse 79 serves these stores: [33]\n",
      "Warehouse 80 serves these stores: [90, 96, 104, 111, 114, 160, 225, 262, 290, 300, 337, 347, 353, 390, 466, 473, 499, 500, 510, 522, 555, 557, 567, 662, 689, 799, 824, 826, 830, 861, 934, 951]\n",
      "Warehouse 81 serves these stores: []\n",
      "Warehouse 82 serves these stores: []\n",
      "Warehouse 83 serves these stores: [40, 59, 112, 148, 243, 246, 371, 381, 387, 519, 540, 632, 672, 696, 798, 847, 902, 929, 964]\n",
      "Warehouse 84 serves these stores: [67, 122, 171, 179, 327, 401, 409, 471, 472, 475, 481, 507, 605, 770, 864, 909, 963]\n",
      "Warehouse 85 serves these stores: []\n",
      "Warehouse 86 serves these stores: [145, 560]\n",
      "Warehouse 87 serves these stores: [24, 53, 84, 178, 205, 217, 264, 275, 276, 309, 320, 329, 340, 416, 469, 573, 597, 730, 792, 908, 926, 967]\n",
      "Warehouse 88 serves these stores: []\n",
      "Warehouse 89 serves these stores: []\n",
      "Warehouse 90 serves these stores: [37, 133, 139, 184, 210, 231, 395, 419, 668, 697, 836]\n",
      "Warehouse 91 serves these stores: [35, 55, 72, 74, 109, 110, 124, 128, 138, 154, 174, 189, 195, 202, 203, 221, 223, 277, 292, 295, 311, 315, 367, 399, 408, 430, 462, 498, 512, 533, 564, 565, 620, 621, 622, 683, 692, 722, 745, 758, 764, 775, 807, 819, 851, 862, 920, 955, 999]\n",
      "Warehouse 92 serves these stores: [643, 712, 841]\n",
      "Warehouse 93 serves these stores: []\n",
      "Warehouse 94 serves these stores: [12, 68, 155, 305, 331, 346, 716, 749, 773, 786, 936, 972, 993]\n",
      "Warehouse 95 serves these stores: [135, 341, 364, 532, 548, 600, 720, 829, 837, 842, 845, 876, 877, 935, 957]\n",
      "Warehouse 96 serves these stores: [42, 49, 54, 165, 167, 216, 356, 360, 459, 474, 705, 776, 812, 945]\n",
      "Warehouse 97 serves these stores: [274, 323, 771]\n",
      "Warehouse 98 serves these stores: [71, 102, 115, 233, 234, 324, 361, 426, 435, 503, 556, 570, 594, 760, 761, 804, 818]\n",
      "Warehouse 99 serves these stores: [461, 486, 487, 974]\n",
      "Total Cost:  127006.13028822471\n"
     ]
    }
   ],
   "source": [
    "# Print the optimal solution\n",
    "print(\"Optimal Solution:\")\n",
    "for w in warehouse_ids:\n",
    "    assigned_stores = []\n",
    "    for s in store_ids:\n",
    "        if pl.value(wr[w][s]) == 1:\n",
    "            assigned_stores.append(s)\n",
    "    print(f\"Warehouse {w} serves these stores:\", assigned_stores)\n",
    "\n",
    "# Print the total cost\n",
    "print(\"Total Cost: \", pl.value(problem.objective))"
   ]
  },
  {
   "cell_type": "markdown",
   "id": "a80317ef-f064-4ce6-9217-923976431f4c",
   "metadata": {},
   "source": [
    "### CPLEX Solver\n",
    "Get it free from here https://www.ibm.com/academic/topic/data-science\n",
    "\n",
    "or https://storage.googleapis.com/thaitang-sharing/cplex_studio2211.linux_x86_64.bin"
   ]
  },
  {
   "cell_type": "code",
   "execution_count": 16,
   "id": "9028fffb-d552-43f6-87cf-92f1de76af4d",
   "metadata": {
    "tags": []
   },
   "outputs": [],
   "source": [
    "os.environ[\"CPLEX_HOME\"] = \"/opt/ibm/ILOG/CPLEX_Studio2211/cplex\"\n",
    "os.environ[\"CPO_HOME\"] = \"/opt/ibm/ILOG/CPLEX_Studio2211/cpoptimizer\"\n",
    "os.environ[\"PATH\"] += (\n",
    "    \":\"\n",
    "    + os.environ[\"CPLEX_HOME\"]\n",
    "    + \"/bin/x86-64_linux:\"\n",
    "    + os.environ[\"CPO_HOME\"]\n",
    "    + \"/bin/x86-64_linux\"\n",
    ")\n",
    "os.environ[\"LD_LIBRARY_PATH\"] += (\n",
    "    \":\"\n",
    "    + os.environ[\"CPLEX_HOME\"]\n",
    "    + \"/bin/x86-64_linux:\"\n",
    "    + os.environ[\"CPO_HOME\"]\n",
    "    + \"/bin/x86-64_linux\"\n",
    ")\n",
    "os.environ[\n",
    "    \"PYTHONPATH\"\n",
    "] = \"/opt/ibm/ILOG/CPLEX_Studio2211/cplex/python/3.10/x86-64_linux\""
   ]
  },
  {
   "cell_type": "code",
   "execution_count": 17,
   "id": "8b2a4490-2fd2-490b-bb0d-5aa23a644b76",
   "metadata": {
    "tags": []
   },
   "outputs": [
    {
     "data": {
      "text/plain": [
       "1"
      ]
     },
     "execution_count": 17,
     "metadata": {},
     "output_type": "execute_result"
    }
   ],
   "source": [
    "problem.solve(pl.CPLEX_CMD(timeLimit=120, threads=6, msg=0))"
   ]
  },
  {
   "cell_type": "code",
   "execution_count": 18,
   "id": "15527b2a-0b8c-4187-971a-844ff7f0b171",
   "metadata": {
    "tags": []
   },
   "outputs": [
    {
     "name": "stdout",
     "output_type": "stream",
     "text": [
      "Optimal Solution:\n",
      "Warehouse 0 serves these stores: []\n",
      "Warehouse 1 serves these stores: []\n",
      "Warehouse 2 serves these stores: []\n",
      "Warehouse 3 serves these stores: []\n",
      "Warehouse 4 serves these stores: []\n",
      "Warehouse 5 serves these stores: []\n",
      "Warehouse 6 serves these stores: [461, 492, 529, 531, 606, 634, 648, 787, 872, 877, 914, 984, 987, 989]\n",
      "Warehouse 7 serves these stores: []\n",
      "Warehouse 8 serves these stores: [281, 870]\n",
      "Warehouse 9 serves these stores: []\n",
      "Warehouse 10 serves these stores: []\n",
      "Warehouse 11 serves these stores: []\n",
      "Warehouse 12 serves these stores: [0, 13, 20, 70, 77, 86, 95, 137, 143, 145, 181, 191, 213, 269, 338, 367, 382, 407, 427, 457, 490, 494, 496, 511, 514, 542, 554, 577, 619, 620, 635, 641, 664, 724, 731, 739, 740, 786, 823, 828, 846, 850, 854, 899, 902, 919, 930, 956, 958, 971, 996]\n",
      "Warehouse 13 serves these stores: []\n",
      "Warehouse 14 serves these stores: []\n",
      "Warehouse 15 serves these stores: [46, 98, 116, 243, 326, 352, 439, 545, 560, 603, 661, 698, 699, 728, 794, 853, 918, 965]\n",
      "Warehouse 16 serves these stores: [2, 94, 103, 131, 155, 162, 211, 373, 379, 546, 561, 573, 827]\n",
      "Warehouse 17 serves these stores: []\n",
      "Warehouse 18 serves these stores: [4, 15, 62, 75, 113, 179, 187, 224, 235, 257, 271, 283, 299, 314, 335, 377, 405, 409, 421, 425, 446, 475, 534, 558, 592, 595, 608, 623, 657, 678, 710, 714, 717, 736, 744, 783, 785, 800, 835, 838, 868, 871, 875, 942, 943, 969]\n",
      "Warehouse 19 serves these stores: []\n",
      "Warehouse 20 serves these stores: []\n",
      "Warehouse 21 serves these stores: []\n",
      "Warehouse 22 serves these stores: []\n",
      "Warehouse 23 serves these stores: [27, 33, 65, 144, 172, 210, 233, 253, 260, 266, 334, 396, 436, 444, 450, 482, 596, 670, 673, 688, 716, 727, 756, 767, 768, 795, 873, 884, 895, 907, 979, 982]\n",
      "Warehouse 24 serves these stores: [23, 177, 258, 302, 398, 411, 428, 449, 465, 470, 479, 559, 702, 769, 849, 898]\n",
      "Warehouse 25 serves these stores: []\n",
      "Warehouse 26 serves these stores: [87, 99, 120, 166, 246, 304, 378, 414, 419, 614, 624, 642, 761, 945]\n",
      "Warehouse 27 serves these stores: [71, 201, 244, 248, 316, 328, 345, 418, 520, 539, 568, 593, 703, 753]\n",
      "Warehouse 28 serves these stores: []\n",
      "Warehouse 29 serves these stores: [10, 57, 66, 85, 115, 117, 158, 188, 208, 226, 273, 275, 282, 313, 323, 343, 355, 366, 375, 386, 400, 402, 404, 413, 423, 433, 442, 538, 556, 578, 583, 615, 630, 649, 651, 684, 686, 706, 757, 764, 791, 793, 797, 801, 814, 859, 860, 879, 880, 922, 923, 933, 934, 936, 952, 970, 978, 993, 998]\n",
      "Warehouse 30 serves these stores: []\n",
      "Warehouse 31 serves these stores: [1, 6, 25, 60, 64, 84, 251, 303, 370, 394, 530, 537, 679, 685, 732, 733, 748, 778, 796, 820]\n",
      "Warehouse 32 serves these stores: [73, 108, 458, 480, 495, 504, 612, 637, 666, 784, 789, 804, 852, 974]\n",
      "Warehouse 33 serves these stores: []\n",
      "Warehouse 34 serves these stores: [51, 72, 119, 237, 245, 294, 296, 308, 410, 445, 478, 483, 524, 525, 572, 580, 682, 712, 715, 747, 762, 878, 991]\n",
      "Warehouse 35 serves these stores: [28, 56, 153, 318, 420, 453, 488, 562, 607, 643, 719, 726, 985, 986]\n",
      "Warehouse 36 serves these stores: [69, 80, 229, 287, 295, 387, 431, 454, 466, 477, 487, 515, 551, 658, 696, 779, 833, 858, 887, 900, 928, 966]\n",
      "Warehouse 37 serves these stores: []\n",
      "Warehouse 38 serves these stores: []\n",
      "Warehouse 39 serves these stores: [214, 291, 339, 380, 416, 460, 523, 565, 579, 589, 636, 650, 725, 773]\n",
      "Warehouse 40 serves these stores: []\n",
      "Warehouse 41 serves these stores: [79, 89, 270, 289, 447, 467, 491, 501, 521, 544, 695, 701, 737, 743, 805, 857, 866, 909, 959]\n",
      "Warehouse 42 serves these stores: [41, 44, 200, 278, 286, 393, 412, 432, 600, 631, 700, 863, 888, 939, 960]\n",
      "Warehouse 43 serves these stores: []\n",
      "Warehouse 44 serves these stores: []\n",
      "Warehouse 45 serves these stores: []\n",
      "Warehouse 46 serves these stores: []\n",
      "Warehouse 47 serves these stores: []\n",
      "Warehouse 48 serves these stores: [9, 36, 48, 81, 100, 126, 216, 218, 230, 252, 259, 305, 312, 359, 369, 441, 448, 484, 493, 497, 540, 553, 569, 571, 582, 591, 601, 602, 610, 644, 659, 681, 693, 707, 723, 750, 765, 848, 889, 891, 911, 931, 950, 980]\n",
      "Warehouse 49 serves these stores: []\n",
      "Warehouse 50 serves these stores: [17, 32, 39, 43, 45, 52, 63, 88, 92, 101, 121, 129, 136, 142, 150, 186, 193, 196, 197, 209, 215, 227, 255, 263, 288, 293, 301, 307, 333, 344, 349, 351, 368, 391, 417, 476, 485, 513, 604, 609, 618, 628, 655, 665, 667, 680, 690, 691, 708, 718, 735, 741, 745, 751, 763, 788, 834, 840, 855, 856, 890, 904, 915, 921, 927, 962, 968, 997]\n",
      "Warehouse 51 serves these stores: []\n",
      "Warehouse 52 serves these stores: [5, 11, 217, 319, 356, 397, 422, 452, 506, 656, 676, 687, 752, 810, 937, 946, 948, 972, 976, 983, 988]\n",
      "Warehouse 53 serves these stores: []\n",
      "Warehouse 54 serves these stores: [3, 19, 22, 50, 61, 157, 161, 176, 207, 256, 277, 280, 332, 357, 384, 434, 463, 489, 509, 516, 528, 574, 587, 660, 774, 798, 803, 811, 813, 882, 883, 885, 886, 894, 932, 949, 953, 961]\n",
      "Warehouse 55 serves these stores: [14, 42, 272, 395, 415, 440, 443, 459, 547, 647, 709, 713, 755, 844, 912]\n",
      "Warehouse 56 serves these stores: []\n",
      "Warehouse 57 serves these stores: []\n",
      "Warehouse 58 serves these stores: []\n",
      "Warehouse 59 serves these stores: [26, 67, 123, 125, 149, 175, 182, 183, 220, 232, 317, 372, 502, 527, 543, 675, 721, 808, 822, 881, 973, 995]\n",
      "Warehouse 60 serves these stores: []\n",
      "Warehouse 61 serves these stores: [82, 536]\n",
      "Warehouse 62 serves these stores: []\n",
      "Warehouse 63 serves these stores: []\n",
      "Warehouse 64 serves these stores: []\n",
      "Warehouse 65 serves these stores: []\n",
      "Warehouse 66 serves these stores: []\n",
      "Warehouse 67 serves these stores: []\n",
      "Warehouse 68 serves these stores: []\n",
      "Warehouse 69 serves these stores: []\n",
      "Warehouse 70 serves these stores: []\n",
      "Warehouse 71 serves these stores: [7, 8, 29, 58, 76, 106, 118, 147, 163, 169, 170, 194, 212, 240, 250, 322, 340, 354, 362, 376, 438, 456, 468, 517, 541, 552, 575, 590, 613, 646, 694, 704, 734, 825, 892, 896, 897, 913, 992]\n",
      "Warehouse 72 serves these stores: [16, 24, 31, 34, 105, 156, 239, 298, 324, 327, 341, 363, 389, 437, 549, 550, 625, 654, 674, 815, 905, 925, 981]\n",
      "Warehouse 73 serves these stores: []\n",
      "Warehouse 74 serves these stores: [107, 135, 292, 321, 342, 392, 585, 617, 711, 766, 772, 777, 782, 865, 874, 917]\n",
      "Warehouse 75 serves these stores: []\n",
      "Warehouse 76 serves these stores: [97, 134, 173, 190, 236, 261, 279, 284, 350, 471, 629, 652, 729, 738, 754, 759, 821, 901]\n",
      "Warehouse 77 serves these stores: [159, 320, 346, 358, 374, 383, 403, 406, 464, 616, 626, 781, 802, 816, 843, 910, 947]\n",
      "Warehouse 78 serves these stores: [18, 111, 114, 146, 168, 242, 249, 268, 325, 336, 519, 535, 581, 627, 645, 677, 807, 903, 916]\n",
      "Warehouse 79 serves these stores: []\n",
      "Warehouse 80 serves these stores: [47, 90, 91, 93, 96, 104, 160, 185, 219, 225, 228, 262, 290, 300, 337, 347, 353, 385, 390, 455, 473, 499, 500, 510, 522, 555, 557, 566, 567, 640, 662, 668, 689, 799, 806, 824, 830, 861, 906, 951, 990]\n",
      "Warehouse 81 serves these stores: []\n",
      "Warehouse 82 serves these stores: []\n",
      "Warehouse 83 serves these stores: [40, 59, 112, 180, 221, 238, 285, 371, 381, 598, 611, 632, 638, 672, 742, 847, 869, 929, 954, 964]\n",
      "Warehouse 84 serves these stores: [21, 122, 140, 171, 241, 365, 401, 472, 481, 507, 599, 605, 770, 809, 864, 963]\n",
      "Warehouse 85 serves these stores: []\n",
      "Warehouse 86 serves these stores: []\n",
      "Warehouse 87 serves these stores: [30, 53, 132, 178, 205, 264, 267, 276, 297, 309, 329, 469, 526, 563, 584, 586, 597, 730, 780, 792, 908, 924, 926, 944, 967]\n",
      "Warehouse 88 serves these stores: []\n",
      "Warehouse 89 serves these stores: []\n",
      "Warehouse 90 serves these stores: [78, 133, 184, 204, 231, 265, 306, 348, 424, 697, 817, 836, 975, 977]\n",
      "Warehouse 91 serves these stores: [35, 38, 55, 74, 102, 109, 110, 124, 127, 128, 138, 139, 148, 152, 154, 174, 189, 192, 195, 198, 199, 202, 203, 222, 223, 234, 247, 254, 274, 311, 315, 388, 399, 408, 430, 451, 462, 498, 512, 533, 548, 564, 588, 621, 622, 663, 671, 683, 692, 722, 758, 771, 775, 790, 819, 826, 841, 842, 851, 862, 920, 940, 955, 994, 999]\n",
      "Warehouse 92 serves these stores: []\n",
      "Warehouse 93 serves these stores: []\n",
      "Warehouse 94 serves these stores: [12, 68, 151, 576, 749, 831, 941]\n",
      "Warehouse 95 serves these stores: [130, 206, 310, 330, 364, 505, 532, 720, 746, 837, 845, 876, 935, 957]\n",
      "Warehouse 96 serves these stores: [37, 49, 54, 141, 165, 167, 360, 474, 633, 639, 653, 669, 705, 776, 812, 829, 832, 839]\n",
      "Warehouse 97 serves these stores: []\n",
      "Warehouse 98 serves these stores: [83, 164, 331, 361, 426, 429, 435, 486, 503, 508, 518, 570, 594, 760, 818, 867, 893, 938]\n",
      "Warehouse 99 serves these stores: []\n",
      "Total Cost:  118141.6422867878\n"
     ]
    }
   ],
   "source": [
    "# Print the optimal solution\n",
    "print(\"Optimal Solution:\")\n",
    "for w in warehouse_ids:\n",
    "    assigned_stores = []\n",
    "    for s in store_ids:\n",
    "        if pl.value(wr[w][s]) == 1:\n",
    "            assigned_stores.append(s)\n",
    "    print(f\"Warehouse {w} serves these stores:\", assigned_stores)\n",
    "\n",
    "# Print the total cost\n",
    "print(\"Total Cost: \", pl.value(problem.objective))"
   ]
  },
  {
   "cell_type": "markdown",
   "id": "c8c6af84-41e6-43b3-be7f-35519324ae5a",
   "metadata": {},
   "source": [
    "# Actual Distance\n",
    "Actual distance is calculated by calling the API of OpenStreetMap.\n",
    "\n",
    "Note that the Openrouteservice API has a limit of 20 requests per minute for Isochrones."
   ]
  },
  {
   "cell_type": "code",
   "execution_count": 19,
   "id": "ba0d5f30-946a-40b4-b7d0-4ac86fc8de35",
   "metadata": {
    "tags": []
   },
   "outputs": [
    {
     "name": "stdout",
     "output_type": "stream",
     "text": [
      "3.2165365586749255\n",
      "6 461\n",
      "{'index': 10, 'name': 'Warehouse 10', 'lat': 10.798339649744692, 'long': 106.61684724656072, 'description': 'Đường Tân Kỳ Tân Quý, Phường Tân Quý, Quận Tân Phú, Thành phố Hồ Chí Minh, Huyện Tân Phú Đông, 72011, Việt Nam'}\n",
      "1.0435856294139811\n",
      "8 281\n",
      "{'index': 49, 'name': 'Warehouse 49', 'lat': 10.838871561912113, 'long': 106.78627864512752, 'description': 'Phường Tăng Nhơn Phú A, Thành phố Thủ Đức, Thành phố Hồ Chí Minh, 00848, Việt Nam'}\n",
      "1.5826665279749965\n",
      "12 0\n",
      "{'index': 55, 'name': 'Warehouse 55', 'lat': 10.828291062546038, 'long': 106.62478789040411, 'description': 'Trường Chinh, Phường Tân Hưng Thuận, Quận 12, Thành phố Hồ Chí Minh, 71509, Việt Nam'}\n",
      "6.391032692352484\n",
      "15 46\n",
      "{'index': 93, 'name': 'Warehouse 93', 'lat': 10.786496371091065, 'long': 106.45588968960037, 'description': 'Xã Hựu Thạnh, Huyện Đức Hòa, Tỉnh Long An, Việt Nam'}\n",
      "2.0621434252896207\n",
      "16 2\n",
      "{'index': 51, 'name': 'Warehouse 51', 'lat': 10.795329803956442, 'long': 106.71803675467702, 'description': 'Nguyễn Hữu Cảnh, Phường 22, Quận Bình Thạnh, Thành phố Hồ Chí Minh, 71108, Việt Nam'}\n",
      "6.642086441619056\n",
      "18 4\n",
      "{'index': 96, 'name': 'Warehouse 96', 'lat': 10.84891940140182, 'long': 106.509283597607, 'description': 'Xã Đức Hòa Đông, Huyện Đức Hòa, Tỉnh Long An, Việt Nam'}\n",
      "1.9703589903113907\n",
      "23 27\n",
      "{'index': 35, 'name': 'Warehouse 35', 'lat': 10.721111624985609, 'long': 106.72140527039804, 'description': 'Trường Cao đẳng Bán công Công nghệ và Quản trị doanh nghiệp (CTIM), 15, Đường Trần Văn Trà, Phường Tân Phú, Quận 7, Thành phố Hồ Chí Minh, 72915, Việt Nam'}\n",
      "8.228726013792413\n",
      "24 23\n",
      "{'index': 25, 'name': 'Warehouse 25', 'lat': 10.676290461954755, 'long': 106.64911064863111, 'description': 'Xã Đa Phước, Huyện Bình Chánh, Thành phố Hồ Chí Minh, 71812, Việt Nam'}\n",
      "7.84200246054719\n",
      "26 87\n",
      "{'index': 85, 'name': 'Warehouse 85', 'lat': 10.763002993444388, 'long': 106.53564085262211, 'description': 'Xã Lê Minh Xuân, Huyện Bình Chánh, Thành phố Hồ Chí Minh, Việt Nam'}\n",
      "7.29555062186188\n",
      "27 71\n",
      "{'index': 84, 'name': 'Warehouse 84', 'lat': 10.726632966127406, 'long': 106.69314242100441, 'description': 'Trung Học Phổ Thông Tân Phong, 19F, Đường Số 15, Khu Dân Cư Ven Sông, Phường Tân Phong, Quận 7, Thành phố Hồ Chí Minh, 72915, Việt Nam'}\n",
      "2.154738675075515\n",
      "29 10\n",
      "{'index': 24, 'name': 'Warehouse 24', 'lat': 10.729186718411533, 'long': 106.61843524812153, 'description': 'Hẻm 50/1 Nguyễn Quý Yêm, Phường An Lạc, Quận Bình Tân, Thành phố Hồ Chí Minh, 73118, Việt Nam'}\n",
      "4.093078075995828\n",
      "31 1\n",
      "{'index': 89, 'name': 'Warehouse 89', 'lat': 10.826430003374108, 'long': 106.48577343684907, 'description': 'Đức Hòa Đông, Xã Đức Hòa Đông, Huyện Đức Hòa, Tỉnh Long An, Việt Nam'}\n",
      "9.031717791212206\n",
      "32 73\n",
      "{'index': 2, 'name': 'Warehouse 2', 'lat': 10.813486233508423, 'long': 106.54149589660877, 'description': 'Xã Vĩnh Lộc A, Huyện Bình Chánh, Thành phố Hồ Chí Minh, Việt Nam'}\n",
      "5.529295255811431\n",
      "34 51\n",
      "{'index': 12, 'name': 'Warehouse 12', 'lat': 10.686587985622463, 'long': 106.74652105915212, 'description': 'Thị trấn Nhà Bè, Huyện Nhà Bè, Thành phố Hồ Chí Minh, Việt Nam'}\n",
      "8.907562213600997\n",
      "35 28\n",
      "{'index': 27, 'name': 'Warehouse 27', 'lat': 10.80451231432835, 'long': 106.51461509081977, 'description': 'Xã Phạm Văn Hai, Huyện Bình Chánh, Thành phố Hồ Chí Minh, Việt Nam'}\n",
      "3.062256531243814\n",
      "36 69\n",
      "{'index': 44, 'name': 'Warehouse 44', 'lat': 10.681882014555306, 'long': 106.49195397413169, 'description': 'Xã An Thạnh, Huyện Bến Lức, Tỉnh Long An, Việt Nam'}\n",
      "5.25465676424131\n",
      "39 214\n",
      "{'index': 75, 'name': 'Warehouse 75', 'lat': 10.792253316421732, 'long': 106.7806892545263, 'description': 'Phường Bình Trưng Đông, Thành phố Thủ Đức, Thành phố Hồ Chí Minh, 08408, Việt Nam'}\n",
      "4.867212562070781\n",
      "41 79\n",
      "{'index': 5, 'name': 'Warehouse 5', 'lat': 10.815227361206867, 'long': 106.60364452189106, 'description': 'Đường Lê Trọng Tấn, Bình Hưng Hoà, Phường Bình Hưng Hòa, Quận Bình Tân, Thành phố Hồ Chí Minh, 72011, Việt Nam'}\n",
      "3.380291206085606\n",
      "42 41\n",
      "{'index': 54, 'name': 'Warehouse 54', 'lat': 10.672038549962506, 'long': 106.70593821896881, 'description': 'Xã Nhơn Đức, Huyện Nhà Bè, Thành phố Hồ Chí Minh, Việt Nam'}\n",
      "7.2468625024687165\n",
      "48 9\n",
      "{'index': 58, 'name': 'Warehouse 58', 'lat': 10.744892017072239, 'long': 106.58461756491775, 'description': 'Đường Nguyễn Cửu Phú, Phường Tân Tạo A, Quận Bình Tân, Thành phố Hồ Chí Minh, 73118, Việt Nam'}\n",
      "4.159373354415524\n",
      "50 17\n",
      "{'index': 50, 'name': 'Warehouse 50', 'lat': 10.714923450730533, 'long': 106.51087443436631, 'description': 'Xã Tân Hòa, Huyện Bến Lức, Tỉnh Long An, Việt Nam'}\n",
      "3.081624424355309\n",
      "52 5\n",
      "{'index': 98, 'name': 'Warehouse 98', 'lat': 10.781110494978488, 'long': 106.72997227697407, 'description': 'Phường An Khánh, Thành phố Thủ Đức, Thành phố Hồ Chí Minh, 71108, Việt Nam'}\n",
      "3.9129773807676442\n",
      "54 3\n",
      "{'index': 95, 'name': 'Warehouse 95', 'lat': 10.874708933491311, 'long': 106.60906257825518, 'description': 'Xã Tân Xuân, Huyện Hóc Môn, Thành phố Hồ Chí Minh, 71716, Việt Nam'}\n",
      "1.2749941035025822\n",
      "55 14\n",
      "{'index': 52, 'name': 'Warehouse 52', 'lat': 10.865597478554385, 'long': 106.512742338698, 'description': 'Xã Mỹ Hạnh Nam, Huyện Đức Hòa, Tỉnh Long An, Việt Nam'}\n",
      "2.566905800891966\n",
      "59 26\n",
      "{'index': 22, 'name': 'Warehouse 22', 'lat': 10.747319991770283, 'long': 106.76310703987059, 'description': 'Phường Thạnh Mỹ Lợi, Thành phố Thủ Đức, Thành phố Hồ Chí Minh, Việt Nam'}\n",
      "1.1911651348530716\n",
      "61 82\n",
      "{'index': 81, 'name': 'Warehouse 81', 'lat': 10.768516271635153, 'long': 106.77715988475003, 'description': 'Phường Cát Lái, Thành phố Thủ Đức, Thành phố Hồ Chí Minh, 08408, Việt Nam'}\n",
      "1.9627856245391186\n",
      "71 7\n",
      "{'index': 94, 'name': 'Warehouse 94', 'lat': 10.75544795462479, 'long': 106.687797935906, 'description': 'Hãng nước ngọt Chương Dương, Hẻm TK 18, Phường Cầu Kho, Quận 1, Thành phố Hồ Chí Minh, 70200, Việt Nam'}\n",
      "1.8677338981908014\n",
      "72 16\n",
      "{'index': 41, 'name': 'Warehouse 41', 'lat': 10.676277078003485, 'long': 106.65546423190138, 'description': 'Xã Đa Phước, Huyện Bình Chánh, Thành phố Hồ Chí Minh, 71812, Việt Nam'}\n",
      "2.092397681612964\n",
      "74 107\n",
      "{'index': 46, 'name': 'Warehouse 46', 'lat': 10.775024283704854, 'long': 106.6545683248463, 'description': 'Hẻm 299 Lý Thường Kiệt, Phường 15, Quận 11, Thành phố Hồ Chí Minh, 72000, Việt Nam'}\n",
      "4.027000916845308\n",
      "76 97\n",
      "{'index': 80, 'name': 'Warehouse 80', 'lat': 10.751459780309846, 'long': 106.78199767169863, 'description': 'Phường Thạnh Mỹ Lợi, Thành phố Thủ Đức, Thành phố Hồ Chí Minh, 08408, Việt Nam'}\n",
      "2.720618802126841\n",
      "77 159\n",
      "{'index': 69, 'name': 'Warehouse 69', 'lat': 10.841737525085739, 'long': 106.76048604618853, 'description': 'Phường Trường Thọ, Thành phố Thủ Đức, Thành phố Hồ Chí Minh, 71211, Việt Nam'}\n",
      "4.974936455886644\n",
      "78 18\n",
      "{'index': 11, 'name': 'Warehouse 11', 'lat': 10.820313825762156, 'long': 106.66755456529779, 'description': 'Ga Quốc tế, Đường dẫn sảnh đến Quốc tế, Phường 2, Quận Tân Bình, Thành phố Hồ Chí Minh, 70048, Việt Nam'}\n",
      "3.4234456499658186\n",
      "80 47\n",
      "{'index': 62, 'name': 'Warehouse 62', 'lat': 10.852451475513881, 'long': 106.77452576157204, 'description': 'Tháp cắt áp, Đường Lê Văn Chí, Phường Linh Trung, Thành phố Thủ Đức, Thành phố Hồ Chí Minh, 00848, Việt Nam'}\n",
      "2.0806082931911134\n",
      "83 40\n",
      "{'index': 3, 'name': 'Warehouse 3', 'lat': 10.76280220485285, 'long': 106.55702687554725, 'description': 'Xã Lê Minh Xuân, Huyện Bình Chánh, Thành phố Hồ Chí Minh, Việt Nam'}\n",
      "3.0426565003044708\n",
      "84 21\n",
      "{'index': 47, 'name': 'Warehouse 47', 'lat': 10.851739784558875, 'long': 106.46910779630423, 'description': 'Xã Đức Hòa Thượng, Huyện Đức Hòa, Tỉnh Long An, 82719, Việt Nam'}\n",
      "6.061963527213617\n",
      "87 30\n",
      "{'index': 53, 'name': 'Warehouse 53', 'lat': 10.822832167873479, 'long': 106.69325404285198, 'description': 'Phan Văn Trị, Phường 5, Quận Gò Vấp, Thành phố Hồ Chí Minh, 71409, Việt Nam'}\n",
      "2.299679323641484\n",
      "90 78\n",
      "{'index': 9, 'name': 'Warehouse 9', 'lat': 10.70990604660612, 'long': 106.76863721293896, 'description': 'Xã Phú Hữu, Huyện Nhơn Trạch, Tỉnh Đồng Nai, Việt Nam'}\n",
      "3.3074177309717396\n",
      "91 35\n",
      "{'index': 65, 'name': 'Warehouse 65', 'lat': 10.744369819518338, 'long': 106.76488345465643, 'description': 'Phường Thạnh Mỹ Lợi, Thành phố Thủ Đức, Thành phố Hồ Chí Minh, Việt Nam'}\n",
      "2.858249168735921\n",
      "94 12\n",
      "{'index': 88, 'name': 'Warehouse 88', 'lat': 10.804285859954899, 'long': 106.64229289208366, 'description': 'Phường 13, Quận Tân Bình, Thành phố Hồ Chí Minh, 72106, Việt Nam'}\n",
      "1.3463822269398928\n",
      "95 130\n",
      "{'index': 20, 'name': 'Warehouse 20', 'lat': 10.698751530973873, 'long': 106.7232542398111, 'description': 'Xã Phước Kiển, Huyện Nhà Bè, Thành phố Hồ Chí Minh, 72915, Việt Nam'}\n",
      "3.921353654006892\n",
      "96 37\n",
      "{'index': 60, 'name': 'Warehouse 60', 'lat': 10.859352123859617, 'long': 106.55368024272815, 'description': 'Xã Xuân Thới Thượng, Huyện Hóc Môn, Thành phố Hồ Chí Minh, 71717, Việt Nam'}\n",
      "1.5647720363161801\n",
      "98 83\n",
      "{'index': 78, 'name': 'Warehouse 78', 'lat': 10.755094111557883, 'long': 106.61290703156426, 'description': 'Đường số 25, Phường Bình Trị Đông B, Quận Bình Tân, Thành phố Hồ Chí Minh, 73118, Việt Nam'}\n"
     ]
    }
   ],
   "source": [
    "# Update the actual distance from warehouse to assigned store\n",
    "for w in warehouse_ids:\n",
    "    for s in store_ids:\n",
    "        if pl.value(wr[w][s]) == 1:\n",
    "            print(d_cost[w][s])\n",
    "            print(w, s)\n",
    "            print(warehouses[w])\n",
    "            break"
   ]
  },
  {
   "cell_type": "code",
   "execution_count": 29,
   "id": "a3a53857-4ed1-4109-9089-dee95fa4551c",
   "metadata": {
    "tags": []
   },
   "outputs": [
    {
     "name": "stdout",
     "output_type": "stream",
     "text": [
      "The distance between the two points is 18.5932 kilometers.\n"
     ]
    }
   ],
   "source": [
    "import requests\n",
    "from dotenv import dotenv_values\n",
    "\n",
    "base_url = \"https://api.openrouteservice.org/v2/directions/driving-car\"\n",
    "env_vars = dotenv_values(\".env\")\n",
    "api_key = env_vars[\"API_KEY\"]  # Retrieve API key from .env file\n",
    "\n",
    "\n",
    "def calculate_distance(lat1: float, lon1: float, lat2: float, lon2: float):\n",
    "    params = {\n",
    "        \"api_key\": api_key,\n",
    "        \"start\": f\"{lon1},{lat1}\",\n",
    "        \"end\": f\"{lon2},{lat2}\",\n",
    "    }\n",
    "\n",
    "    response = requests.get(base_url, params=params)\n",
    "    data = response.json()\n",
    "\n",
    "    if \"features\" in data:\n",
    "        distance = data[\"features\"][0][\"properties\"][\"summary\"][\"distance\"]\n",
    "        return distance / 1000  # km\n",
    "    else:\n",
    "        return None\n",
    "\n",
    "\n",
    "# Example usage\n",
    "lat1 = 10.755094111557883\n",
    "lon1 = 106.61290703156426\n",
    "lat2 = 10.859352123859617\n",
    "lon2 = 106.55368024272815\n",
    "\n",
    "distance = calculate_distance(lat1, lon1, lat2, lon2)\n",
    "print(f\"The distance between the two points is {distance} kilometers.\")"
   ]
  }
 ],
 "metadata": {
  "kernelspec": {
   "display_name": "Python 3 (ipykernel)",
   "language": "python",
   "name": "python3"
  },
  "language_info": {
   "codemirror_mode": {
    "name": "ipython",
    "version": 3
   },
   "file_extension": ".py",
   "mimetype": "text/x-python",
   "name": "python",
   "nbconvert_exporter": "python",
   "pygments_lexer": "ipython3",
   "version": "3.10.10"
  }
 },
 "nbformat": 4,
 "nbformat_minor": 5
}
