{
 "cells": [
  {
   "cell_type": "code",
   "execution_count": null,
   "id": "c1fa268d-6e5e-40e3-b6b6-4d7432360cee",
   "metadata": {
    "tags": []
   },
   "outputs": [],
   "source": [
    "import random\n",
    "\n",
    "import folium\n",
    "from geopy.geocoders import Nominatim"
   ]
  },
  {
   "cell_type": "code",
   "execution_count": null,
   "id": "3fb55630-9f9d-44fa-8acb-b6daff8d6f41",
   "metadata": {
    "tags": []
   },
   "outputs": [],
   "source": [
    "stores = []\n",
    "for i in range(1, 11):\n",
    "    name = f\"Store {i}\"\n",
    "    lat = random.uniform(\n",
    "        10.668799, 10.878041\n",
    "    )  # Latitude range of Ho Chi Minh City\n",
    "    long = random.uniform(\n",
    "        106.451840, 106.813580\n",
    "    )  # Longitude range of Ho Chi Minh City\n",
    "    description = None\n",
    "    stores.append(\n",
    "        {\"index\": i, \"name\": name, \"lat\": lat, \"long\": long, \"description\": \"\"}\n",
    "    )"
   ]
  },
  {
   "cell_type": "code",
   "execution_count": null,
   "id": "c0dc0ae4-843b-4339-96c4-bd1fae0c0e2b",
   "metadata": {
    "tags": []
   },
   "outputs": [],
   "source": [
    "geolocator = Nominatim(user_agent=\"bk-imp\")\n",
    "\n",
    "for i in range(len(stores)):\n",
    "    lat, long = stores[i][\"lat\"], stores[i][\"long\"]\n",
    "    location = geolocator.reverse(f\"{lat}, {long}\")\n",
    "    address = location.address\n",
    "    stores[i][\"description\"] = address"
   ]
  },
  {
   "cell_type": "code",
   "execution_count": null,
   "id": "d3df9939-f4f1-4902-9d01-40ade6a33211",
   "metadata": {
    "tags": []
   },
   "outputs": [],
   "source": [
    "# Create a map centered on Ho Chi Minh City\n",
    "hcm_location = [10.762622, 106.660172]\n",
    "m = folium.Map(location=hcm_location, zoom_start=12)\n",
    "\n",
    "# Add a marker for each store location\n",
    "for store in stores:\n",
    "    lat, long, name, description = (\n",
    "        store[\"lat\"],\n",
    "        store[\"long\"],\n",
    "        store[\"name\"],\n",
    "        store[\"description\"],\n",
    "    )\n",
    "    popup_text = f\"<b>{name}</b><br>{description}\"\n",
    "    folium.Marker(location=[lat, long], popup=popup_text).add_to(m)\n",
    "\n",
    "# Display the map\n",
    "m"
   ]
  }
 ],
 "metadata": {
  "kernelspec": {
   "display_name": "Python 3 (ipykernel)",
   "language": "python",
   "name": "python3"
  },
  "language_info": {
   "codemirror_mode": {
    "name": "ipython",
    "version": 3
   },
   "file_extension": ".py",
   "mimetype": "text/x-python",
   "name": "python",
   "nbconvert_exporter": "python",
   "pygments_lexer": "ipython3",
   "version": "3.8.13"
  }
 },
 "nbformat": 4,
 "nbformat_minor": 5
}
