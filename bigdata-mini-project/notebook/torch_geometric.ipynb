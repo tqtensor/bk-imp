{
 "cells": [
  {
   "cell_type": "code",
   "execution_count": 1,
   "id": "600047ef-16e5-4c77-993c-151f482d2b1a",
   "metadata": {
    "tags": []
   },
   "outputs": [],
   "source": [
    "import pandas as pd\n",
    "from neo4j import GraphDatabase"
   ]
  },
  {
   "cell_type": "code",
   "execution_count": 2,
   "id": "25e80b99-7229-4499-9262-e8516aa46bea",
   "metadata": {
    "tags": []
   },
   "outputs": [],
   "source": [
    "url = \"bolt://remote.tqtensor.com:6778\"\n",
    "driver = GraphDatabase.driver(url, auth=None)\n",
    "\n",
    "\n",
    "def fetch(query, params={}) -> list:\n",
    "    with driver.session() as session:\n",
    "        result = session.run(query, params)\n",
    "        return [record for record in result]"
   ]
  },
  {
   "cell_type": "code",
   "execution_count": 3,
   "id": "57f34f03-2ef1-463e-8cdb-5a6ca5d14b51",
   "metadata": {
    "tags": []
   },
   "outputs": [],
   "source": [
    "result = fetch(query=\"MATCH p=()-[r:reviews]->() RETURN p, r LIMIT 25\")"
   ]
  },
  {
   "cell_type": "code",
   "execution_count": 4,
   "id": "4e9fd6dc-10da-4363-8db4-b701488d34f8",
   "metadata": {
    "tags": []
   },
   "outputs": [
    {
     "data": {
      "text/plain": [
       "[<Record p=<Path start=<Node element_id='124' labels=frozenset({'User'}) properties={'id': 'A2WQY1B8ZS7QRZ'}> end=<Node element_id='96' labels=frozenset({'Product'}) properties={'id': 'B0057PSUZA'}> size=1> r=<Relationship element_id='0' nodes=(<Node element_id='124' labels=frozenset({'User'}) properties={'id': 'A2WQY1B8ZS7QRZ'}>, <Node element_id='96' labels=frozenset({'Product'}) properties={'id': 'B0057PSUZA'}>) type='reviews' properties={'rating': 4.0}>>,\n",
       " <Record p=<Path start=<Node element_id='124' labels=frozenset({'User'}) properties={'id': 'A2WQY1B8ZS7QRZ'}> end=<Node element_id='87' labels=frozenset({'Product'}) properties={'id': 'B000NP3HPW'}> size=1> r=<Relationship element_id='1' nodes=(<Node element_id='124' labels=frozenset({'User'}) properties={'id': 'A2WQY1B8ZS7QRZ'}>, <Node element_id='87' labels=frozenset({'Product'}) properties={'id': 'B000NP3HPW'}>) type='reviews' properties={'rating': 4.0}>>,\n",
       " <Record p=<Path start=<Node element_id='124' labels=frozenset({'User'}) properties={'id': 'A2WQY1B8ZS7QRZ'}> end=<Node element_id='20' labels=frozenset({'Product'}) properties={'id': 'B00JKHYLKO'}> size=1> r=<Relationship element_id='2' nodes=(<Node element_id='124' labels=frozenset({'User'}) properties={'id': 'A2WQY1B8ZS7QRZ'}>, <Node element_id='20' labels=frozenset({'Product'}) properties={'id': 'B00JKHYLKO'}>) type='reviews' properties={'rating': 5.0}>>,\n",
       " <Record p=<Path start=<Node element_id='125' labels=frozenset({'User'}) properties={'id': 'A9Q28YTLYREO7'}> end=<Node element_id='119' labels=frozenset({'Product'}) properties={'id': '7799420340'}> size=1> r=<Relationship element_id='3' nodes=(<Node element_id='125' labels=frozenset({'User'}) properties={'id': 'A9Q28YTLYREO7'}>, <Node element_id='119' labels=frozenset({'Product'}) properties={'id': '7799420340'}>) type='reviews' properties={'rating': 5.0}>>,\n",
       " <Record p=<Path start=<Node element_id='125' labels=frozenset({'User'}) properties={'id': 'A9Q28YTLYREO7'}> end=<Node element_id='102' labels=frozenset({'Product'}) properties={'id': 'B00005LUJF'}> size=1> r=<Relationship element_id='4' nodes=(<Node element_id='125' labels=frozenset({'User'}) properties={'id': 'A9Q28YTLYREO7'}>, <Node element_id='102' labels=frozenset({'Product'}) properties={'id': 'B00005LUJF'}>) type='reviews' properties={'rating': 5.0}>>,\n",
       " <Record p=<Path start=<Node element_id='126' labels=frozenset({'User'}) properties={'id': 'A2AIMXT9PLAM12'}> end=<Node element_id='89' labels=frozenset({'Product'}) properties={'id': 'B00002426A'}> size=1> r=<Relationship element_id='5' nodes=(<Node element_id='126' labels=frozenset({'User'}) properties={'id': 'A2AIMXT9PLAM12'}>, <Node element_id='89' labels=frozenset({'Product'}) properties={'id': 'B00002426A'}>) type='reviews' properties={'rating': 5.0}>>,\n",
       " <Record p=<Path start=<Node element_id='126' labels=frozenset({'User'}) properties={'id': 'A2AIMXT9PLAM12'}> end=<Node element_id='29' labels=frozenset({'Product'}) properties={'id': 'B000025WB0'}> size=1> r=<Relationship element_id='6' nodes=(<Node element_id='126' labels=frozenset({'User'}) properties={'id': 'A2AIMXT9PLAM12'}>, <Node element_id='29' labels=frozenset({'Product'}) properties={'id': 'B000025WB0'}>) type='reviews' properties={'rating': 5.0}>>,\n",
       " <Record p=<Path start=<Node element_id='127' labels=frozenset({'User'}) properties={'id': 'A2VUG8CZPREKM2'}> end=<Node element_id='17' labels=frozenset({'Product'}) properties={'id': 'B0002KN3CU'}> size=1> r=<Relationship element_id='7' nodes=(<Node element_id='127' labels=frozenset({'User'}) properties={'id': 'A2VUG8CZPREKM2'}>, <Node element_id='17' labels=frozenset({'Product'}) properties={'id': 'B0002KN3CU'}>) type='reviews' properties={'rating': 5.0}>>,\n",
       " <Record p=<Path start=<Node element_id='128' labels=frozenset({'User'}) properties={'id': 'A70WPHE33U5B'}> end=<Node element_id='75' labels=frozenset({'Product'}) properties={'id': 'B0000C9VO5'}> size=1> r=<Relationship element_id='8' nodes=(<Node element_id='128' labels=frozenset({'User'}) properties={'id': 'A70WPHE33U5B'}>, <Node element_id='75' labels=frozenset({'Product'}) properties={'id': 'B0000C9VO5'}>) type='reviews' properties={'rating': 5.0}>>,\n",
       " <Record p=<Path start=<Node element_id='129' labels=frozenset({'User'}) properties={'id': 'A25JH6CO4DVINS'}> end=<Node element_id='50' labels=frozenset({'Product'}) properties={'id': 'B000026GO2'}> size=1> r=<Relationship element_id='9' nodes=(<Node element_id='129' labels=frozenset({'User'}) properties={'id': 'A25JH6CO4DVINS'}>, <Node element_id='50' labels=frozenset({'Product'}) properties={'id': 'B000026GO2'}>) type='reviews' properties={'rating': 5.0}>>,\n",
       " <Record p=<Path start=<Node element_id='130' labels=frozenset({'User'}) properties={'id': 'A24N1BAS3CU27H'}> end=<Node element_id='25' labels=frozenset({'Product'}) properties={'id': 'B00AO2SGHI'}> size=1> r=<Relationship element_id='10' nodes=(<Node element_id='130' labels=frozenset({'User'}) properties={'id': 'A24N1BAS3CU27H'}>, <Node element_id='25' labels=frozenset({'Product'}) properties={'id': 'B00AO2SGHI'}>) type='reviews' properties={'rating': 3.0}>>,\n",
       " <Record p=<Path start=<Node element_id='131' labels=frozenset({'User'}) properties={'id': 'A23AWC8JMDOGV2'}> end=<Node element_id='7' labels=frozenset({'Product'}) properties={'id': 'B00K0F4PQU'}> size=1> r=<Relationship element_id='11' nodes=(<Node element_id='131' labels=frozenset({'User'}) properties={'id': 'A23AWC8JMDOGV2'}>, <Node element_id='7' labels=frozenset({'Product'}) properties={'id': 'B00K0F4PQU'}>) type='reviews' properties={'rating': 1.0}>>,\n",
       " <Record p=<Path start=<Node element_id='131' labels=frozenset({'User'}) properties={'id': 'A23AWC8JMDOGV2'}> end=<Node element_id='76' labels=frozenset({'Product'}) properties={'id': 'B00DFTQ6HY'}> size=1> r=<Relationship element_id='12' nodes=(<Node element_id='131' labels=frozenset({'User'}) properties={'id': 'A23AWC8JMDOGV2'}>, <Node element_id='76' labels=frozenset({'Product'}) properties={'id': 'B00DFTQ6HY'}>) type='reviews' properties={'rating': 5.0}>>,\n",
       " <Record p=<Path start=<Node element_id='132' labels=frozenset({'User'}) properties={'id': 'A1IWWRZJOXOSYP'}> end=<Node element_id='22' labels=frozenset({'Product'}) properties={'id': 'B000MSTZV0'}> size=1> r=<Relationship element_id='13' nodes=(<Node element_id='132' labels=frozenset({'User'}) properties={'id': 'A1IWWRZJOXOSYP'}>, <Node element_id='22' labels=frozenset({'Product'}) properties={'id': 'B000MSTZV0'}>) type='reviews' properties={'rating': 5.0}>>,\n",
       " <Record p=<Path start=<Node element_id='133' labels=frozenset({'User'}) properties={'id': 'A76785SFOO9LU'}> end=<Node element_id='103' labels=frozenset({'Product'}) properties={'id': 'B00LZUM11A'}> size=1> r=<Relationship element_id='14' nodes=(<Node element_id='133' labels=frozenset({'User'}) properties={'id': 'A76785SFOO9LU'}>, <Node element_id='103' labels=frozenset({'Product'}) properties={'id': 'B00LZUM11A'}>) type='reviews' properties={'rating': 5.0}>>,\n",
       " <Record p=<Path start=<Node element_id='133' labels=frozenset({'User'}) properties={'id': 'A76785SFOO9LU'}> end=<Node element_id='115' labels=frozenset({'Product'}) properties={'id': 'B01BWFXTQI'}> size=1> r=<Relationship element_id='15' nodes=(<Node element_id='133' labels=frozenset({'User'}) properties={'id': 'A76785SFOO9LU'}>, <Node element_id='115' labels=frozenset({'Product'}) properties={'id': 'B01BWFXTQI'}>) type='reviews' properties={'rating': 5.0}>>,\n",
       " <Record p=<Path start=<Node element_id='134' labels=frozenset({'User'}) properties={'id': 'AWG2O9C42XW5G'}> end=<Node element_id='41' labels=frozenset({'Product'}) properties={'id': 'B0010XK96G'}> size=1> r=<Relationship element_id='16' nodes=(<Node element_id='134' labels=frozenset({'User'}) properties={'id': 'AWG2O9C42XW5G'}>, <Node element_id='41' labels=frozenset({'Product'}) properties={'id': 'B0010XK96G'}>) type='reviews' properties={'rating': 5.0}>>,\n",
       " <Record p=<Path start=<Node element_id='134' labels=frozenset({'User'}) properties={'id': 'AWG2O9C42XW5G'}> end=<Node element_id='43' labels=frozenset({'Product'}) properties={'id': 'B00X8RXCZW'}> size=1> r=<Relationship element_id='17' nodes=(<Node element_id='134' labels=frozenset({'User'}) properties={'id': 'AWG2O9C42XW5G'}>, <Node element_id='43' labels=frozenset({'Product'}) properties={'id': 'B00X8RXCZW'}>) type='reviews' properties={'rating': 5.0}>>,\n",
       " <Record p=<Path start=<Node element_id='135' labels=frozenset({'User'}) properties={'id': 'AJ5V9EBLVBHAW'}> end=<Node element_id='120' labels=frozenset({'Product'}) properties={'id': 'B00NSSGKDW'}> size=1> r=<Relationship element_id='18' nodes=(<Node element_id='135' labels=frozenset({'User'}) properties={'id': 'AJ5V9EBLVBHAW'}>, <Node element_id='120' labels=frozenset({'Product'}) properties={'id': 'B00NSSGKDW'}>) type='reviews' properties={'rating': 5.0}>>,\n",
       " <Record p=<Path start=<Node element_id='136' labels=frozenset({'User'}) properties={'id': 'AJXNKW0XXZX1X'}> end=<Node element_id='105' labels=frozenset({'Product'}) properties={'id': 'B000JFEOLW'}> size=1> r=<Relationship element_id='19' nodes=(<Node element_id='136' labels=frozenset({'User'}) properties={'id': 'AJXNKW0XXZX1X'}>, <Node element_id='105' labels=frozenset({'Product'}) properties={'id': 'B000JFEOLW'}>) type='reviews' properties={'rating': 5.0}>>,\n",
       " <Record p=<Path start=<Node element_id='136' labels=frozenset({'User'}) properties={'id': 'AJXNKW0XXZX1X'}> end=<Node element_id='67' labels=frozenset({'Product'}) properties={'id': 'B000BD8WUQ'}> size=1> r=<Relationship element_id='20' nodes=(<Node element_id='136' labels=frozenset({'User'}) properties={'id': 'AJXNKW0XXZX1X'}>, <Node element_id='67' labels=frozenset({'Product'}) properties={'id': 'B000BD8WUQ'}>) type='reviews' properties={'rating': 5.0}>>,\n",
       " <Record p=<Path start=<Node element_id='137' labels=frozenset({'User'}) properties={'id': 'A3QEYUMYBIXQ4J'}> end=<Node element_id='37' labels=frozenset({'Product'}) properties={'id': 'B000GIP83K'}> size=1> r=<Relationship element_id='21' nodes=(<Node element_id='137' labels=frozenset({'User'}) properties={'id': 'A3QEYUMYBIXQ4J'}>, <Node element_id='37' labels=frozenset({'Product'}) properties={'id': 'B000GIP83K'}>) type='reviews' properties={'rating': 5.0}>>,\n",
       " <Record p=<Path start=<Node element_id='137' labels=frozenset({'User'}) properties={'id': 'A3QEYUMYBIXQ4J'}> end=<Node element_id='45' labels=frozenset({'Product'}) properties={'id': 'B000FPI6LK'}> size=1> r=<Relationship element_id='22' nodes=(<Node element_id='137' labels=frozenset({'User'}) properties={'id': 'A3QEYUMYBIXQ4J'}>, <Node element_id='45' labels=frozenset({'Product'}) properties={'id': 'B000FPI6LK'}>) type='reviews' properties={'rating': 5.0}>>,\n",
       " <Record p=<Path start=<Node element_id='138' labels=frozenset({'User'}) properties={'id': 'AIOB6ITG9NPIB'}> end=<Node element_id='30' labels=frozenset({'Product'}) properties={'id': 'B00ND1F706'}> size=1> r=<Relationship element_id='23' nodes=(<Node element_id='138' labels=frozenset({'User'}) properties={'id': 'AIOB6ITG9NPIB'}>, <Node element_id='30' labels=frozenset({'Product'}) properties={'id': 'B00ND1F706'}>) type='reviews' properties={'rating': 4.0}>>,\n",
       " <Record p=<Path start=<Node element_id='139' labels=frozenset({'User'}) properties={'id': 'A2JHNAYLI03LEQ'}> end=<Node element_id='12' labels=frozenset({'Product'}) properties={'id': 'B000BNKJBQ'}> size=1> r=<Relationship element_id='24' nodes=(<Node element_id='139' labels=frozenset({'User'}) properties={'id': 'A2JHNAYLI03LEQ'}>, <Node element_id='12' labels=frozenset({'Product'}) properties={'id': 'B000BNKJBQ'}>) type='reviews' properties={'rating': 5.0}>>]"
      ]
     },
     "execution_count": 4,
     "metadata": {},
     "output_type": "execute_result"
    }
   ],
   "source": [
    "result"
   ]
  }
 ],
 "metadata": {
  "kernelspec": {
   "display_name": "Python 3 (ipykernel)",
   "language": "python",
   "name": "python3"
  },
  "language_info": {
   "codemirror_mode": {
    "name": "ipython",
    "version": 3
   },
   "file_extension": ".py",
   "mimetype": "text/x-python",
   "name": "python",
   "nbconvert_exporter": "python",
   "pygments_lexer": "ipython3",
   "version": "3.10.9"
  }
 },
 "nbformat": 4,
 "nbformat_minor": 5
}
