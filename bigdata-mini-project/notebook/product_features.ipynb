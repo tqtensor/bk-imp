{
 "cells": [
  {
   "cell_type": "code",
   "execution_count": 1,
   "id": "5e43f97f-a158-412d-a510-500217db84e1",
   "metadata": {
    "tags": []
   },
   "outputs": [],
   "source": [
    "from pyspark.ml.feature import (\n",
    "    OneHotEncoder,\n",
    "    StringIndexer,\n",
    "    VectorAssembler,\n",
    "    Word2Vec,\n",
    ")\n",
    "from pyspark.sql import SparkSession\n",
    "from pyspark.sql.functions import (\n",
    "    array,\n",
    "    col,\n",
    "    collect_list,\n",
    "    concat_ws,\n",
    "    explode,\n",
    "    lit,\n",
    "    lower,\n",
    "    size,\n",
    "    split,\n",
    "    when,\n",
    ")"
   ]
  },
  {
   "cell_type": "code",
   "execution_count": 2,
   "id": "911abd23-56ce-4e5d-8636-83c9d10b4a19",
   "metadata": {
    "tags": []
   },
   "outputs": [
    {
     "name": "stderr",
     "output_type": "stream",
     "text": [
      "23/05/07 05:35:53 WARN Utils: Your hostname, workspace resolves to a loopback address: 127.0.1.1; using 11.11.1.73 instead (on interface eth0)\n",
      "23/05/07 05:35:53 WARN Utils: Set SPARK_LOCAL_IP if you need to bind to another address\n",
      "Setting default log level to \"WARN\".\n",
      "To adjust logging level use sc.setLogLevel(newLevel). For SparkR, use setLogLevel(newLevel).\n",
      "23/05/07 05:35:54 WARN NativeCodeLoader: Unable to load native-hadoop library for your platform... using builtin-java classes where applicable\n"
     ]
    }
   ],
   "source": [
    "spark = SparkSession.builder.appName(\"bk-imp-features\").getOrCreate()"
   ]
  },
  {
   "cell_type": "code",
   "execution_count": 3,
   "id": "326e9df2-62f7-4a74-ab16-fde862918828",
   "metadata": {
    "tags": []
   },
   "outputs": [],
   "source": [
    "metadata_df = (\n",
    "    spark.read.parquet(\"../data/sampled_data\")\n",
    "    .select(\"product_id\", \"category\", \"description\")\n",
    "    .drop_duplicates()\n",
    ")"
   ]
  },
  {
   "cell_type": "code",
   "execution_count": 4,
   "id": "160e9703-6057-42d0-8550-011844ff1a27",
   "metadata": {
    "tags": []
   },
   "outputs": [
    {
     "name": "stderr",
     "output_type": "stream",
     "text": [
      "[Stage 1:==================================================>        (6 + 1) / 7]\r"
     ]
    },
    {
     "name": "stdout",
     "output_type": "stream",
     "text": [
      "+----------+--------------------+--------------------+\n",
      "|product_id|            category|         description|\n",
      "+----------+--------------------+--------------------+\n",
      "|B000RN04VU|[Automotive, Moto...|[The rugged unive...|\n",
      "|B013T0NR4I|[Automotive, Exte...|[Proudly made in ...|\n",
      "|B019HALHL4|[Automotive, Moto...|[Fitment: Honda C...|\n",
      "+----------+--------------------+--------------------+\n",
      "only showing top 3 rows\n",
      "\n"
     ]
    },
    {
     "name": "stderr",
     "output_type": "stream",
     "text": [
      "                                                                                \r"
     ]
    }
   ],
   "source": [
    "metadata_df.show(3)"
   ]
  },
  {
   "cell_type": "markdown",
   "id": "4326b284-6291-47a8-a678-879234685524",
   "metadata": {
    "tags": []
   },
   "source": [
    "## Category"
   ]
  },
  {
   "cell_type": "code",
   "execution_count": 5,
   "id": "1e7f65c6-2954-400b-a390-23fbe5627056",
   "metadata": {
    "tags": []
   },
   "outputs": [],
   "source": [
    "df = metadata_df"
   ]
  },
  {
   "cell_type": "code",
   "execution_count": 6,
   "id": "d68fe6b8-ff98-4790-b1f8-66dab0854874",
   "metadata": {
    "tags": []
   },
   "outputs": [],
   "source": [
    "# Replace empty or null values in the category array with [\"Unknown\"]\n",
    "df = df.withColumn(\n",
    "    \"category\",\n",
    "    when(size(col(\"category\")) == 0, lit([\"Unknown\"])).otherwise(\n",
    "        col(\"category\")\n",
    "    ),\n",
    ")\n",
    "\n",
    "# Create a new DataFrame by exploding the category array column\n",
    "exploded_df = df.select(\n",
    "    col(\"product_id\"),\n",
    "    col(\"category\"),\n",
    "    explode(col(\"category\")).alias(\"single_category\"),\n",
    "    col(\"description\"),\n",
    ")\n",
    "\n",
    "# Use StringIndexer to convert the category column into a column of numerical indices\n",
    "indexer = StringIndexer(inputCol=\"single_category\", outputCol=\"category_index\")\n",
    "indexed_df = indexer.fit(exploded_df).transform(exploded_df)\n",
    "\n",
    "# Use OneHotEncoder to convert the numerical indices into a vector of binary features\n",
    "encoder = OneHotEncoder(inputCol=\"category_index\", outputCol=\"category_vec\")\n",
    "encoded_df = encoder.fit(indexed_df).transform(indexed_df)\n",
    "\n",
    "# Group by product_id and aggregate the category_vec column into a list\n",
    "grouped_df = encoded_df.groupBy(\"product_id\", \"category\", \"description\").agg(\n",
    "    collect_list(\"category_vec\").alias(\"category_vec_list\")\n",
    ")"
   ]
  },
  {
   "cell_type": "code",
   "execution_count": 7,
   "id": "bf7b07b6-efbc-4f70-b2e2-44e77bcd3077",
   "metadata": {
    "tags": []
   },
   "outputs": [],
   "source": [
    "metadata_df = grouped_df"
   ]
  },
  {
   "cell_type": "markdown",
   "id": "ae74bb9f-e108-4da2-9bd5-e747993d53d2",
   "metadata": {},
   "source": [
    "## Description"
   ]
  },
  {
   "cell_type": "code",
   "execution_count": 8,
   "id": "13db0e13-0b65-4a33-9ce1-f1525a4764f7",
   "metadata": {
    "tags": []
   },
   "outputs": [],
   "source": [
    "df = metadata_df"
   ]
  },
  {
   "cell_type": "code",
   "execution_count": 9,
   "id": "75dbd549-3402-44d7-ae8f-ed23b0f061a8",
   "metadata": {
    "tags": []
   },
   "outputs": [
    {
     "name": "stderr",
     "output_type": "stream",
     "text": [
      "23/05/07 05:36:05 WARN InstanceBuilder: Failed to load implementation from:dev.ludovic.netlib.blas.JNIBLAS\n",
      "                                                                                \r"
     ]
    }
   ],
   "source": [
    "# Combine description array into a string and replace empty or null values with \"Unknown\"\n",
    "df = df.withColumn(\n",
    "    \"description\",\n",
    "    when(size(col(\"description\")) == 0, lit([\"Unknown\"])).otherwise(\n",
    "        col(\"description\")\n",
    "    ),\n",
    ")\n",
    "df = df.withColumn(\"description\", lower(concat_ws(\" \", col(\"description\"))))\n",
    "\n",
    "# Split the description string into words and convert to lowercase\n",
    "exploded_df = df.withColumn(\"words\", split(lower(col(\"description\")), \"\\W+\"))\n",
    "\n",
    "# Train a Word2Vec model on the words column\n",
    "word2vec = Word2Vec(\n",
    "    vectorSize=100, minCount=5, inputCol=\"words\", outputCol=\"word2vec_100\"\n",
    ")\n",
    "model = word2vec.fit(exploded_df)\n",
    "\n",
    "# Use the Word2Vec model to transform the words column into a vector column\n",
    "exploded_df = model.transform(exploded_df).select(\n",
    "    \"product_id\",\n",
    "    \"category\",\n",
    "    \"description\",\n",
    "    \"category_vec_list\",\n",
    "    \"word2vec_100\",\n",
    ")"
   ]
  },
  {
   "cell_type": "code",
   "execution_count": 10,
   "id": "f3ec9b80-cc78-4ee2-9d3c-1ea45942128a",
   "metadata": {
    "tags": []
   },
   "outputs": [],
   "source": [
    "metadata_df = exploded_df"
   ]
  },
  {
   "cell_type": "code",
   "execution_count": 11,
   "id": "ada1c755-2e55-4319-96e6-d97172ce4cd2",
   "metadata": {
    "tags": []
   },
   "outputs": [
    {
     "name": "stdout",
     "output_type": "stream",
     "text": [
      "+----------+--------------------+--------------------+--------------------+--------------------+\n",
      "|product_id|            category|         description|   category_vec_list|        word2vec_100|\n",
      "+----------+--------------------+--------------------+--------------------+--------------------+\n",
      "|B00006HNRY|[Automotive, Tool...|shipping depth: 2...|[(662,[0],[1.0]),...|[0.01941847761830...|\n",
      "|B00009WC6A|[Automotive, Inte...|the scraper and p...|[(662,[0],[1.0]),...|[0.00362994347123...|\n",
      "|B0000AS5QB|[Automotive, Tool...|coleman 200001648...|[(662,[0],[1.0]),...|[0.02458205162302...|\n",
      "+----------+--------------------+--------------------+--------------------+--------------------+\n",
      "only showing top 3 rows\n",
      "\n"
     ]
    }
   ],
   "source": [
    "metadata_df.show(3)"
   ]
  },
  {
   "cell_type": "code",
   "execution_count": 24,
   "id": "56214e46-96f8-4fef-bb54-6c2d7a946f67",
   "metadata": {
    "tags": []
   },
   "outputs": [],
   "source": [
    "metadata_df.coalesce(1).write.parquet(\"../data/produc_features\")"
   ]
  }
 ],
 "metadata": {
  "kernelspec": {
   "display_name": "Python 3 (ipykernel)",
   "language": "python",
   "name": "python3"
  },
  "language_info": {
   "codemirror_mode": {
    "name": "ipython",
    "version": 3
   },
   "file_extension": ".py",
   "mimetype": "text/x-python",
   "name": "python",
   "nbconvert_exporter": "python",
   "pygments_lexer": "ipython3",
   "version": "3.10.9"
  }
 },
 "nbformat": 4,
 "nbformat_minor": 5
}
