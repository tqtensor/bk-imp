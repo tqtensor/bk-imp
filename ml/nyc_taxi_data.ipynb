{
 "cells": [
  {
   "cell_type": "code",
   "execution_count": null,
   "id": "e23986b9",
   "metadata": {},
   "outputs": [],
   "source": [
    "import glob\n",
    "import os\n",
    "import random\n",
    "import time\n",
    "from math import degrees, radians\n",
    "\n",
    "import numpy as np\n",
    "import pandas as pd\n",
    "import pyproj\n",
    "import requests\n",
    "import shapefile\n",
    "from sklearn.cluster import KMeans"
   ]
  },
  {
   "cell_type": "code",
   "execution_count": null,
   "id": "9cdccd38",
   "metadata": {},
   "outputs": [],
   "source": [
    "df = pd.read_parquet(\"nyc-dataset/data/trips\")"
   ]
  },
  {
   "cell_type": "code",
   "execution_count": null,
   "id": "af2289bc",
   "metadata": {},
   "outputs": [],
   "source": [
    "df[\"tpep_pickup_datetime\"] = pd.to_datetime(df[\"tpep_pickup_datetime\"])\n",
    "df = df[\n",
    "    (df[\"tpep_pickup_datetime\"].dt.year >= 2021)\n",
    "    & (df[\"tpep_pickup_datetime\"].dt.year <= 2022)\n",
    "]\n",
    "df[\"tpep_pickup_hour\"] = df[\"tpep_pickup_datetime\"].dt.round(\"1h\")"
   ]
  },
  {
   "cell_type": "code",
   "execution_count": null,
   "id": "20b88b53",
   "metadata": {},
   "outputs": [],
   "source": [
    "df = (\n",
    "    df.groupby([\"tpep_pickup_hour\", \"PULocationID\"])\n",
    "    .size()\n",
    "    .reset_index(name=\"trip_count\")\n",
    ")\n",
    "df[\"time\"] = df[\"tpep_pickup_hour\"].dt.date\n",
    "df.rename({\"PULocationID\": \"location_id\"}, axis=1, inplace=True)"
   ]
  },
  {
   "cell_type": "code",
   "execution_count": null,
   "id": "06c884b2",
   "metadata": {},
   "outputs": [],
   "source": [
    "# LocationID: https://data.cityofnewyork.us/Transportation/NYC-Taxi-Zones/d3c5-ddgc\n",
    "# Shape file: https://www.nyc.gov/site/tlc/about/tlc-trip-record-data.page\n",
    "# Analysis: https://chih-ling-hsu.github.io/2018/05/14/NYC\n",
    "\n",
    "len(df[\"location_id\"].unique())"
   ]
  },
  {
   "cell_type": "code",
   "execution_count": null,
   "id": "c2fba251",
   "metadata": {},
   "outputs": [],
   "source": [
    "def get_lat_lon(sf):\n",
    "    content = []\n",
    "    transformer = pyproj.Transformer.from_crs(2263, 4326, always_xy=True)\n",
    "\n",
    "    for sr in sf.shapeRecords():\n",
    "        shape = sr.shape\n",
    "        rec = sr.record\n",
    "        loc_id = rec[shp_dic[\"LocationID\"]]\n",
    "\n",
    "        x = (shape.bbox[0] + shape.bbox[2]) / 2\n",
    "        y = (shape.bbox[1] + shape.bbox[3]) / 2\n",
    "        lon, lat = transformer.transform(x, y)\n",
    "\n",
    "        content.append((loc_id, lon, lat))\n",
    "\n",
    "    return pd.DataFrame(\n",
    "        content, columns=[\"LocationID\", \"longitude\", \"latitude\"]\n",
    "    )\n",
    "\n",
    "\n",
    "# Read shape file\n",
    "sf = shapefile.Reader(\"nyc-dataset/data/taxi_zones/taxi_zones.shp\")\n",
    "fields_name = [field[0] for field in sf.fields[1:]]\n",
    "shp_dic = dict(zip(fields_name, list(range(len(fields_name)))))\n",
    "attributes = sf.records()\n",
    "shp_attr = [dict(zip(fields_name, attr)) for attr in attributes]\n",
    "\n",
    "df_loc = pd.DataFrame(shp_attr).join(\n",
    "    get_lat_lon(sf).set_index(\"LocationID\"), on=\"LocationID\"\n",
    ")\n",
    "\n",
    "\n",
    "df_loc.head()"
   ]
  },
  {
   "cell_type": "code",
   "execution_count": null,
   "id": "bf4e73c7",
   "metadata": {},
   "outputs": [],
   "source": [
    "def fetch_weather_data(lat, lon, start_date, end_date):\n",
    "    url = f\"https://archive-api.open-meteo.com/v1/archive?latitude={lat}&longitude={lon}&start_date={start_date}&end_date={end_date}&daily=weathercode,temperature_2m_max,temperature_2m_min,temperature_2m_mean,precipitation_sum,rain_sum&timezone=GMT\"\n",
    "    response = requests.get(url)\n",
    "    if response.status_code == 200:\n",
    "        return response.json()\n",
    "    else:\n",
    "        print(\n",
    "            f\"Failed to fetch weather data for latitude={lat}, longitude={lon}\"\n",
    "        )\n",
    "        return None\n",
    "\n",
    "\n",
    "# Fetch weather data for each cluster centroid\n",
    "output_dir = \"nyc-dataset/data/weather\"\n",
    "os.makedirs(output_dir, exist_ok=True)\n",
    "\n",
    "for cluster, centroid in df_loc.groupby(\"LocationID\"):\n",
    "    centroid_lat = centroid[\"latitude\"].values[0]\n",
    "    centroid_lon = centroid[\"longitude\"].values[0]\n",
    "    filename = f\"{output_dir}/cluster_{cluster}.csv\"\n",
    "\n",
    "    if not os.path.exists(filename):\n",
    "        weather_data = fetch_weather_data(\n",
    "            centroid_lat, centroid_lon, \"2021-01-01\", \"2023-01-01\"\n",
    "        )\n",
    "\n",
    "        if weather_data is not None:\n",
    "            df_weather = pd.DataFrame(weather_data[\"daily\"])\n",
    "            df_weather.to_csv(filename, index=False)\n",
    "            time.sleep(random.randint(1, 5))\n",
    "        else:\n",
    "            print(f\"No weather data available for cluster {cluster}\")"
   ]
  },
  {
   "cell_type": "code",
   "execution_count": null,
   "id": "55229217",
   "metadata": {},
   "outputs": [],
   "source": [
    "dfs = []\n",
    "for filename in glob.glob(f\"{output_dir}/*.csv\"):\n",
    "    df_weather = pd.read_csv(filename)\n",
    "    df_weather[\"time\"] = pd.to_datetime(df_weather[\"time\"]).dt.date\n",
    "    df_weather[\"location_id\"] = int(filename.split(\"_\")[1].split(\".\")[0])\n",
    "    dfs.append(df_weather)\n",
    "df_weather = pd.concat(dfs)"
   ]
  },
  {
   "cell_type": "code",
   "execution_count": null,
   "id": "5bd06c96",
   "metadata": {},
   "outputs": [],
   "source": [
    "df_weather.head()"
   ]
  },
  {
   "cell_type": "code",
   "execution_count": null,
   "id": "43bf81d6",
   "metadata": {},
   "outputs": [],
   "source": [
    "dataset = df.merge(\n",
    "    df_weather,\n",
    "    left_on=[\"time\", \"location_id\"],\n",
    "    right_on=[\"time\", \"location_id\"],\n",
    "    how=\"left\",\n",
    ")"
   ]
  },
  {
   "cell_type": "code",
   "execution_count": null,
   "id": "1253c016",
   "metadata": {},
   "outputs": [],
   "source": [
    "dataset.tail(10)"
   ]
  },
  {
   "cell_type": "code",
   "execution_count": null,
   "id": "cf325087",
   "metadata": {},
   "outputs": [],
   "source": [
    "dataset.to_parquet(\"nyc-dataset/data/dataset.parquet\")"
   ]
  }
 ],
 "metadata": {
  "kernelspec": {
   "display_name": "Python 3 (ipykernel)",
   "language": "python",
   "name": "python3"
  },
  "language_info": {
   "codemirror_mode": {
    "name": "ipython",
    "version": 3
   },
   "file_extension": ".py",
   "mimetype": "text/x-python",
   "name": "python",
   "nbconvert_exporter": "python",
   "pygments_lexer": "ipython3",
   "version": "3.10.12"
  }
 },
 "nbformat": 4,
 "nbformat_minor": 5
}
