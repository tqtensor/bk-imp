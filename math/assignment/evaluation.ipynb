{
 "cells": [
  {
   "cell_type": "code",
   "execution_count": 2,
   "id": "c492a488-88e7-4375-a3ba-c04ac1a1674d",
   "metadata": {
    "execution": {
     "iopub.execute_input": "2023-12-18T06:43:33.886961Z",
     "iopub.status.busy": "2023-12-18T06:43:33.886467Z",
     "iopub.status.idle": "2023-12-18T06:43:37.927405Z",
     "shell.execute_reply": "2023-12-18T06:43:37.925566Z",
     "shell.execute_reply.started": "2023-12-18T06:43:33.886914Z"
    },
    "id": "c492a488-88e7-4375-a3ba-c04ac1a1674d",
    "tags": []
   },
   "outputs": [],
   "source": [
    "import gdown\n",
    "import pandas as pd\n",
    "from sklearn.metrics import mean_absolute_error"
   ]
  },
  {
   "cell_type": "code",
   "execution_count": 3,
   "id": "0cb6d922-c824-42d2-8c12-47ef636a9558",
   "metadata": {
    "execution": {
     "iopub.execute_input": "2023-12-18T06:43:42.865296Z",
     "iopub.status.busy": "2023-12-18T06:43:42.864407Z",
     "iopub.status.idle": "2023-12-18T06:43:42.870943Z",
     "shell.execute_reply": "2023-12-18T06:43:42.869836Z",
     "shell.execute_reply.started": "2023-12-18T06:43:42.865228Z"
    },
    "id": "0cb6d922-c824-42d2-8c12-47ef636a9558"
   },
   "outputs": [],
   "source": [
    "# Set options to display all columns and rows\n",
    "pd.set_option(\"display.max_columns\", 100)\n",
    "pd.set_option(\"display.max_rows\", 10)"
   ]
  },
  {
   "cell_type": "markdown",
   "id": "dab2abf8-d95e-4e84-9f0c-e6b04d105699",
   "metadata": {
    "id": "dab2abf8-d95e-4e84-9f0c-e6b04d105699"
   },
   "source": [
    "# Evaluation"
   ]
  },
  {
   "cell_type": "code",
   "execution_count": 4,
   "id": "360db5d4",
   "metadata": {},
   "outputs": [
    {
     "name": "stderr",
     "output_type": "stream",
     "text": [
      "Downloading...\n",
      "From: https://drive.google.com/uc?id=195ltI0Jgg9zsWatxUP4UlPf5sgsY9Rzw\n",
      "To: /home/terrabot/bk-imp/math/assignment/df_train.parquet\n",
      "100%|██████████| 12.3M/12.3M [00:01<00:00, 11.6MB/s]\n",
      "Downloading...\n",
      "From: https://drive.google.com/uc?id=1-65WSGzYhFToxureZ-Rhg9POZNzfJSWJ\n",
      "To: /home/terrabot/bk-imp/math/assignment/df_test.parquet\n",
      "100%|██████████| 1.42M/1.42M [00:00<00:00, 4.68MB/s]\n"
     ]
    }
   ],
   "source": [
    "gdown.download(\n",
    "    \"https://drive.google.com/uc?id=195ltI0Jgg9zsWatxUP4UlPf5sgsY9Rzw\",\n",
    "    \"df_train.parquet\",\n",
    ")\n",
    "gdown.download(\n",
    "    \"https://drive.google.com/uc?id=1-65WSGzYhFToxureZ-Rhg9POZNzfJSWJ\",\n",
    "    \"df_test.parquet\",\n",
    ")\n",
    "df_train = pd.read_parquet(\"df_train.parquet\")\n",
    "df_test = pd.read_parquet(\"df_test.parquet\")"
   ]
  },
  {
   "cell_type": "code",
   "execution_count": 5,
   "id": "b755c903",
   "metadata": {},
   "outputs": [],
   "source": [
    "# Sampling down the dataset to 30% for faster computation\n",
    "df_train = df_train.sample(frac=0.3, random_state=42)\n",
    "df_test = df_test.sample(frac=0.3, random_state=42)"
   ]
  },
  {
   "cell_type": "code",
   "execution_count": 6,
   "id": "2c3bbb97",
   "metadata": {},
   "outputs": [],
   "source": [
    "results = {\n",
    "    \"louvain\": \"1xP1HlCeHquUp497Cu5yFsB4hgH2_O7be\",\n",
    "    \"label_prop\": \"1b34ZM0zr0JwtAfA2pFrhugIgxiAI9EZe\",\n",
    "    \"greedy_modularity\": \"16cGBsC9Vh3vhG4TI5JVYE3nB7v-Ufixp\",\n",
    "}"
   ]
  },
  {
   "cell_type": "code",
   "execution_count": 7,
   "id": "7ae5e179",
   "metadata": {},
   "outputs": [
    {
     "name": "stderr",
     "output_type": "stream",
     "text": [
      "Downloading...\n",
      "From: https://drive.google.com/uc?id=1xP1HlCeHquUp497Cu5yFsB4hgH2_O7be\n",
      "To: /home/terrabot/bk-imp/math/assignment/algorithm_result_df.parquet\n",
      "100%|██████████| 29.7k/29.7k [00:00<00:00, 502kB/s]\n"
     ]
    },
    {
     "name": "stdout",
     "output_type": "stream",
     "text": [
      "Mean Absolute Error (MAE) from algorithm louvain: 1.3076923076923077\n"
     ]
    },
    {
     "name": "stderr",
     "output_type": "stream",
     "text": [
      "Downloading...\n",
      "From: https://drive.google.com/uc?id=1b34ZM0zr0JwtAfA2pFrhugIgxiAI9EZe\n",
      "To: /home/terrabot/bk-imp/math/assignment/algorithm_result_df.parquet\n",
      "100%|██████████| 29.5k/29.5k [00:00<00:00, 469kB/s]\n"
     ]
    },
    {
     "name": "stdout",
     "output_type": "stream",
     "text": [
      "Mean Absolute Error (MAE) from algorithm label_prop: 1.75\n"
     ]
    },
    {
     "name": "stderr",
     "output_type": "stream",
     "text": [
      "Downloading...\n",
      "From: https://drive.google.com/uc?id=16cGBsC9Vh3vhG4TI5JVYE3nB7v-Ufixp\n",
      "To: /home/terrabot/bk-imp/math/assignment/algorithm_result_df.parquet\n",
      "100%|██████████| 30.1k/30.1k [00:00<00:00, 489kB/s]"
     ]
    },
    {
     "name": "stdout",
     "output_type": "stream",
     "text": [
      "Mean Absolute Error (MAE) from algorithm greedy_modularity: 1.125984251968504\n"
     ]
    },
    {
     "name": "stderr",
     "output_type": "stream",
     "text": [
      "\n"
     ]
    }
   ],
   "source": [
    "for algorithm in results.keys():\n",
    "    gdown.download(\n",
    "        f\"https://drive.google.com/uc?id={results[algorithm]}\",\n",
    "        \"algorithm_result_df.parquet\",\n",
    "    )\n",
    "\n",
    "    predict_result_df = pd.read_parquet(\"algorithm_result_df.parquet\")\n",
    "    predict_result_df = predict_result_df[\n",
    "        predict_result_df[\"predicted_overall\"].isna() == False\n",
    "    ]\n",
    "\n",
    "    df_evaluate = pd.merge(\n",
    "        predict_result_df, df_test, on=[\"reviewerID\", \"asin\"], how=\"inner\"\n",
    "    )\n",
    "    df_evaluate[\"predicted_overall\"] = df_evaluate[\"predicted_overall\"].astype(\n",
    "        int\n",
    "    )\n",
    "    df_evaluate.head(2)\n",
    "\n",
    "    ground_truth = df_evaluate.overall.values\n",
    "    predicted_values = df_evaluate.predicted_overall.values\n",
    "\n",
    "    mae = mean_absolute_error(ground_truth, predicted_values)\n",
    "\n",
    "    print(f\"Mean Absolute Error (MAE) from algorithm {algorithm}: {mae}\")"
   ]
  }
 ],
 "metadata": {
  "colab": {
   "provenance": []
  },
  "kernelspec": {
   "display_name": ".venv",
   "language": "python",
   "name": "python3"
  },
  "language_info": {
   "codemirror_mode": {
    "name": "ipython",
    "version": 3
   },
   "file_extension": ".py",
   "mimetype": "text/x-python",
   "name": "python",
   "nbconvert_exporter": "python",
   "pygments_lexer": "ipython3",
   "version": "3.10.10"
  }
 },
 "nbformat": 4,
 "nbformat_minor": 5
}
