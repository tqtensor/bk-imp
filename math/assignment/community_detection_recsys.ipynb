{
 "cells": [
  {
   "cell_type": "code",
   "execution_count": 1,
   "id": "c492a488-88e7-4375-a3ba-c04ac1a1674d",
   "metadata": {
    "execution": {
     "iopub.execute_input": "2023-12-18T06:43:33.886961Z",
     "iopub.status.busy": "2023-12-18T06:43:33.886467Z",
     "iopub.status.idle": "2023-12-18T06:43:37.927405Z",
     "shell.execute_reply": "2023-12-18T06:43:37.925566Z",
     "shell.execute_reply.started": "2023-12-18T06:43:33.886914Z"
    },
    "id": "c492a488-88e7-4375-a3ba-c04ac1a1674d",
    "tags": []
   },
   "outputs": [],
   "source": [
    "import gdown\n",
    "import networkx as nx\n",
    "import pandas as pd\n",
    "from sklearn.metrics import mean_absolute_error\n",
    "from tqdm.auto import tqdm"
   ]
  },
  {
   "cell_type": "code",
   "execution_count": 2,
   "id": "0cb6d922-c824-42d2-8c12-47ef636a9558",
   "metadata": {
    "execution": {
     "iopub.execute_input": "2023-12-18T06:43:42.865296Z",
     "iopub.status.busy": "2023-12-18T06:43:42.864407Z",
     "iopub.status.idle": "2023-12-18T06:43:42.870943Z",
     "shell.execute_reply": "2023-12-18T06:43:42.869836Z",
     "shell.execute_reply.started": "2023-12-18T06:43:42.865228Z"
    },
    "id": "0cb6d922-c824-42d2-8c12-47ef636a9558"
   },
   "outputs": [],
   "source": [
    "# Set options to display all columns and rows\n",
    "pd.set_option(\"display.max_columns\", 100)\n",
    "pd.set_option(\"display.max_rows\", 10)"
   ]
  },
  {
   "cell_type": "markdown",
   "id": "dab2abf8-d95e-4e84-9f0c-e6b04d105699",
   "metadata": {
    "id": "dab2abf8-d95e-4e84-9f0c-e6b04d105699"
   },
   "source": [
    "# Graph projection"
   ]
  },
  {
   "cell_type": "code",
   "execution_count": 3,
   "id": "360db5d4",
   "metadata": {},
   "outputs": [
    {
     "name": "stderr",
     "output_type": "stream",
     "text": [
      "Downloading...\n",
      "From: https://drive.google.com/uc?id=195ltI0Jgg9zsWatxUP4UlPf5sgsY9Rzw\n",
      "To: /home/terrabot/bk-imp/math/assignment/df_train.parquet\n",
      "100%|██████████| 12.3M/12.3M [00:00<00:00, 12.4MB/s]\n",
      "Downloading...\n",
      "From: https://drive.google.com/uc?id=1-65WSGzYhFToxureZ-Rhg9POZNzfJSWJ\n",
      "To: /home/terrabot/bk-imp/math/assignment/df_test.parquet\n",
      "100%|██████████| 1.42M/1.42M [00:00<00:00, 4.71MB/s]\n"
     ]
    }
   ],
   "source": [
    "gdown.download(\n",
    "    \"https://drive.google.com/uc?id=195ltI0Jgg9zsWatxUP4UlPf5sgsY9Rzw\",\n",
    "    \"df_train.parquet\",\n",
    ")\n",
    "gdown.download(\n",
    "    \"https://drive.google.com/uc?id=1-65WSGzYhFToxureZ-Rhg9POZNzfJSWJ\",\n",
    "    \"df_test.parquet\",\n",
    ")\n",
    "df_train = pd.read_parquet(\"df_train.parquet\")\n",
    "df_test = pd.read_parquet(\"df_test.parquet\")"
   ]
  },
  {
   "cell_type": "code",
   "execution_count": 4,
   "id": "b755c903",
   "metadata": {},
   "outputs": [],
   "source": [
    "# Sampling down the dataset to 30% for faster computation\n",
    "df_train = df_train.sample(frac=0.3, random_state=42)\n",
    "df_test = df_test.sample(frac=0.3, random_state=42)"
   ]
  },
  {
   "cell_type": "code",
   "execution_count": 5,
   "id": "227809dc-c5f2-41d5-8037-5a15c9d112dc",
   "metadata": {
    "id": "227809dc-c5f2-41d5-8037-5a15c9d112dc",
    "tags": []
   },
   "outputs": [
    {
     "data": {
      "text/html": [
       "<div>\n",
       "<style scoped>\n",
       "    .dataframe tbody tr th:only-of-type {\n",
       "        vertical-align: middle;\n",
       "    }\n",
       "\n",
       "    .dataframe tbody tr th {\n",
       "        vertical-align: top;\n",
       "    }\n",
       "\n",
       "    .dataframe thead th {\n",
       "        text-align: right;\n",
       "    }\n",
       "</style>\n",
       "<table border=\"1\" class=\"dataframe\">\n",
       "  <thead>\n",
       "    <tr style=\"text-align: right;\">\n",
       "      <th></th>\n",
       "      <th>reviewerID</th>\n",
       "      <th>asin</th>\n",
       "      <th>overall</th>\n",
       "      <th>Time stamp</th>\n",
       "      <th>Datetime</th>\n",
       "    </tr>\n",
       "  </thead>\n",
       "  <tbody>\n",
       "    <tr>\n",
       "      <th>299619</th>\n",
       "      <td>A2D43GY9HY7KOE</td>\n",
       "      <td>B000JDA4MC</td>\n",
       "      <td>5</td>\n",
       "      <td>1362960000</td>\n",
       "      <td>2013-03-11</td>\n",
       "    </tr>\n",
       "    <tr>\n",
       "      <th>694289</th>\n",
       "      <td>A2I4X5PEQ37UA</td>\n",
       "      <td>B001FWXIUQ</td>\n",
       "      <td>5</td>\n",
       "      <td>1393200000</td>\n",
       "      <td>2014-02-24</td>\n",
       "    </tr>\n",
       "  </tbody>\n",
       "</table>\n",
       "</div>"
      ],
      "text/plain": [
       "            reviewerID        asin  overall  Time stamp   Datetime\n",
       "299619  A2D43GY9HY7KOE  B000JDA4MC        5  1362960000 2013-03-11\n",
       "694289   A2I4X5PEQ37UA  B001FWXIUQ        5  1393200000 2014-02-24"
      ]
     },
     "execution_count": 5,
     "metadata": {},
     "output_type": "execute_result"
    }
   ],
   "source": [
    "df_train.head(2)"
   ]
  },
  {
   "cell_type": "code",
   "execution_count": 6,
   "id": "e42a41f8-cf82-4a61-92c0-7927ff32d918",
   "metadata": {
    "id": "e42a41f8-cf82-4a61-92c0-7927ff32d918"
   },
   "outputs": [
    {
     "data": {
      "text/plain": [
       "((165380, 5), 145577, 39582)"
      ]
     },
     "execution_count": 6,
     "metadata": {},
     "output_type": "execute_result"
    }
   ],
   "source": [
    "df_train.shape, df_train.reviewerID.nunique(), df_train.asin.nunique()"
   ]
  },
  {
   "cell_type": "code",
   "execution_count": 7,
   "id": "5f90c65e-04c2-4626-9956-1fd1271c4a4f",
   "metadata": {
    "id": "5f90c65e-04c2-4626-9956-1fd1271c4a4f",
    "tags": []
   },
   "outputs": [],
   "source": [
    "# Add nodes and edges to the bipartite graph\n",
    "G = nx.Graph()\n",
    "for _, row in df_train.iterrows():\n",
    "    G.add_edge(row[\"reviewerID\"], row[\"asin\"], overall=row[\"overall\"])\n",
    "\n",
    "# Assign the 'bipartite' attribute to nodes\n",
    "reviewers = set(df_train[\"reviewerID\"])\n",
    "items = set(df_train[\"asin\"])\n",
    "\n",
    "G.add_nodes_from(reviewers, bipartite=0)\n",
    "G.add_nodes_from(items, bipartite=1)"
   ]
  },
  {
   "cell_type": "code",
   "execution_count": 8,
   "id": "37cb76f0-2701-4ab5-9842-8788b4e49744",
   "metadata": {
    "id": "37cb76f0-2701-4ab5-9842-8788b4e49744"
   },
   "outputs": [
    {
     "data": {
      "text/plain": [
       "(True, 185159, 165380)"
      ]
     },
     "execution_count": 8,
     "metadata": {},
     "output_type": "execute_result"
    }
   ],
   "source": [
    "nx.is_bipartite(G), G.number_of_nodes(), G.number_of_edges()"
   ]
  },
  {
   "cell_type": "code",
   "execution_count": 9,
   "id": "413ac498-52a4-43ee-8cf5-74c8a0cc8bc6",
   "metadata": {
    "id": "413ac498-52a4-43ee-8cf5-74c8a0cc8bc6",
    "scrolled": true
   },
   "outputs": [],
   "source": [
    "# Create the projection onto the 'reviewers' nodes\n",
    "items_projection = nx.bipartite.weighted_projected_graph(G, items)\n",
    "df_items_projection = nx.to_pandas_edgelist(items_projection)\n",
    "df_items_projection.to_parquet(\"df_items_projection.parquet\")\n",
    "\n",
    "# Create the projection onto the 'reviewers' nodes\n",
    "reviewers_projection = nx.bipartite.weighted_projected_graph(G, reviewers)\n",
    "df_reviewers_projection = nx.to_pandas_edgelist(reviewers_projection)\n",
    "df_reviewers_projection.to_parquet(\"df_reviewers_projection.parquet\")"
   ]
  },
  {
   "cell_type": "code",
   "execution_count": 10,
   "id": "e29055ee",
   "metadata": {},
   "outputs": [],
   "source": [
    "# # Please download the files from the links below\n",
    "# gdown.download(\n",
    "#     \"https://drive.google.com/uc?id=1zjXlCs5iuVvub2ZtflPgD7iG_HVdsxIp\",\n",
    "#     \"df_items_projection.parquet\",\n",
    "# )\n",
    "# gdown.download(\n",
    "#     \"https://drive.google.com/uc?id=1xWopHfR5_PAuPh9RPctCORmwwlA-7uNo\",\n",
    "#     \"df_reviewers_projection.parquet\",\n",
    "# )\n",
    "# df_items_projection = pd.read_parquet(\"df_items_projection.parquet\")\n",
    "# df_reviewers_projection = pd.read_parquet(\"df_reviewers_projection.parquet\")"
   ]
  },
  {
   "cell_type": "code",
   "execution_count": 11,
   "id": "29d40995-9a50-4a69-b4f2-91fe1c257939",
   "metadata": {
    "id": "29d40995-9a50-4a69-b4f2-91fe1c257939",
    "scrolled": true
   },
   "outputs": [
    {
     "data": {
      "text/plain": [
       "[('B000GGNQV8', 'B002HZAZEM', {'weight': 1}),\n",
       " ('B000GGNQV8', 'B000GD03TO', {'weight': 1}),\n",
       " ('B000GGNQV8', 'B000C1Z19M', {'weight': 1})]"
      ]
     },
     "execution_count": 11,
     "metadata": {},
     "output_type": "execute_result"
    }
   ],
   "source": [
    "items_projection = nx.from_pandas_edgelist(df_items_projection, edge_attr=True)\n",
    "list(items_projection.edges(data=True))[:3]"
   ]
  },
  {
   "cell_type": "code",
   "execution_count": 12,
   "id": "bc5ab49b-3be4-443a-b291-11826e6858e6",
   "metadata": {
    "id": "bc5ab49b-3be4-443a-b291-11826e6858e6"
   },
   "outputs": [
    {
     "data": {
      "text/plain": [
       "[('ABL4CJ802MEFK', 'A3P822026WJGYA', {'weight': 1}),\n",
       " ('ABL4CJ802MEFK', 'AV40BYI5P7C5E', {'weight': 1}),\n",
       " ('ABL4CJ802MEFK', 'A4TBSSQQQXM08', {'weight': 1})]"
      ]
     },
     "execution_count": 12,
     "metadata": {},
     "output_type": "execute_result"
    }
   ],
   "source": [
    "reviewers_projection = nx.from_pandas_edgelist(\n",
    "    df_reviewers_projection, edge_attr=True\n",
    ")\n",
    "list(reviewers_projection.edges(data=True))[:3]"
   ]
  },
  {
   "cell_type": "code",
   "execution_count": 13,
   "id": "1e428b4a-02ac-4b4b-837a-ee073637e483",
   "metadata": {
    "id": "1e428b4a-02ac-4b4b-837a-ee073637e483"
   },
   "outputs": [
    {
     "name": "stdout",
     "output_type": "stream",
     "text": [
      "The node A3F12VYDGU9M70 does not exist in the graph.\n"
     ]
    }
   ],
   "source": [
    "node_to_check = \"A3F12VYDGU9M70\"\n",
    "if reviewers_projection.has_node(node_to_check):\n",
    "    print(f\"The node {node_to_check} exists in the graph.\")\n",
    "else:\n",
    "    print(f\"The node {node_to_check} does not exist in the graph.\")"
   ]
  },
  {
   "cell_type": "markdown",
   "id": "ff41c1ec",
   "metadata": {},
   "source": [
    "# Community Detection Algorithms\n",
    "## 1. Louvain Method"
   ]
  },
  {
   "cell_type": "code",
   "execution_count": null,
   "id": "06b8d859-4178-4557-935a-418aab2f8047",
   "metadata": {
    "id": "06b8d859-4178-4557-935a-418aab2f8047",
    "scrolled": true
   },
   "outputs": [],
   "source": [
    "community_users = list(\n",
    "    nx.community.louvain_communities(reviewers_projection, seed=123)\n",
    ")"
   ]
  },
  {
   "cell_type": "code",
   "execution_count": null,
   "id": "885316ac-fefc-4c3e-b6f3-030b145b02e1",
   "metadata": {
    "id": "885316ac-fefc-4c3e-b6f3-030b145b02e1",
    "scrolled": true
   },
   "outputs": [],
   "source": [
    "community_user_dict = {}\n",
    "for community_id, community in enumerate(\n",
    "    tqdm(community_users, total=len(community_users))\n",
    "):\n",
    "    community_user_dict[community_id] = community"
   ]
  },
  {
   "cell_type": "markdown",
   "id": "08031178",
   "metadata": {},
   "source": [
    "## 2. Clauset-Newman-Moore greedy modularity maximization Method"
   ]
  },
  {
   "cell_type": "code",
   "execution_count": 14,
   "id": "a1a1075c",
   "metadata": {},
   "outputs": [],
   "source": [
    "community_users = list(\n",
    "    nx.community.greedy_modularity_communities(reviewers_projection)\n",
    ")"
   ]
  },
  {
   "cell_type": "code",
   "execution_count": 15,
   "id": "dba5f025",
   "metadata": {},
   "outputs": [
    {
     "data": {
      "application/vnd.jupyter.widget-view+json": {
       "model_id": "0cbc57a0708042858dd9dca34f1f43e1",
       "version_major": 2,
       "version_minor": 0
      },
      "text/plain": [
       "  0%|          | 0/9830 [00:00<?, ?it/s]"
      ]
     },
     "metadata": {},
     "output_type": "display_data"
    }
   ],
   "source": [
    "community_user_dict = {}\n",
    "for community_id, community in enumerate(\n",
    "    tqdm(community_users, total=len(community_users))\n",
    "):\n",
    "    community_user_dict[community_id] = community"
   ]
  },
  {
   "cell_type": "markdown",
   "id": "a7d62063-2cbd-4250-8dd6-69ff210ad4a6",
   "metadata": {
    "id": "a7d62063-2cbd-4250-8dd6-69ff210ad4a6"
   },
   "source": [
    "# Inference from Community"
   ]
  },
  {
   "cell_type": "code",
   "execution_count": 16,
   "id": "8253acaa-f51f-465a-a0c2-c994ec30aed7",
   "metadata": {
    "execution": {
     "iopub.execute_input": "2023-12-18T04:44:18.089515Z",
     "iopub.status.busy": "2023-12-18T04:44:18.089068Z",
     "iopub.status.idle": "2023-12-18T04:44:18.502827Z",
     "shell.execute_reply": "2023-12-18T04:44:18.501293Z",
     "shell.execute_reply.started": "2023-12-18T04:44:18.089482Z"
    },
    "id": "8253acaa-f51f-465a-a0c2-c994ec30aed7",
    "scrolled": true
   },
   "outputs": [],
   "source": [
    "# Transform the dictionary into a list of dictionaries\n",
    "list_of_dicts = [\n",
    "    {\"Community_ID\": community_id, \"Customer_ID\": product_id}\n",
    "    for community_id, product_ids in community_user_dict.items()\n",
    "    for product_id in product_ids\n",
    "]\n",
    "\n",
    "# Create a DataFrame\n",
    "df_community_user = pd.DataFrame(list_of_dicts)"
   ]
  },
  {
   "cell_type": "code",
   "execution_count": 17,
   "id": "59db17f8-5736-4d95-9f34-426c5bdf30e0",
   "metadata": {
    "execution": {
     "iopub.execute_input": "2023-12-18T04:44:19.429644Z",
     "iopub.status.busy": "2023-12-18T04:44:19.429010Z",
     "iopub.status.idle": "2023-12-18T04:44:19.455315Z",
     "shell.execute_reply": "2023-12-18T04:44:19.454400Z",
     "shell.execute_reply.started": "2023-12-18T04:44:19.429595Z"
    },
    "id": "59db17f8-5736-4d95-9f34-426c5bdf30e0"
   },
   "outputs": [],
   "source": [
    "df_community_user = df_community_user.set_index([\"Customer_ID\"])"
   ]
  },
  {
   "cell_type": "code",
   "execution_count": 18,
   "id": "d74f0b68-4c5a-463f-a5fb-f464fd9f91a5",
   "metadata": {
    "execution": {
     "iopub.execute_input": "2023-12-18T04:44:19.785771Z",
     "iopub.status.busy": "2023-12-18T04:44:19.785004Z",
     "iopub.status.idle": "2023-12-18T04:44:19.969427Z",
     "shell.execute_reply": "2023-12-18T04:44:19.967762Z",
     "shell.execute_reply.started": "2023-12-18T04:44:19.785720Z"
    },
    "id": "d74f0b68-4c5a-463f-a5fb-f464fd9f91a5"
   },
   "outputs": [],
   "source": [
    "set_cus_ids = set(df_community_user.index)\n",
    "set_item_ids = set(df_train[\"asin\"])"
   ]
  },
  {
   "cell_type": "code",
   "execution_count": 19,
   "id": "2fa99a35-6dfa-4b93-8e05-75267f1644c6",
   "metadata": {
    "execution": {
     "iopub.execute_input": "2023-12-18T04:44:21.814431Z",
     "iopub.status.busy": "2023-12-18T04:44:21.813744Z",
     "iopub.status.idle": "2023-12-18T04:54:44.894758Z",
     "shell.execute_reply": "2023-12-18T04:54:44.893900Z",
     "shell.execute_reply.started": "2023-12-18T04:44:21.814382Z"
    },
    "id": "2fa99a35-6dfa-4b93-8e05-75267f1644c6"
   },
   "outputs": [],
   "source": [
    "def inference(\n",
    "    customer_id,\n",
    "    product_id,\n",
    "    df_community_user,\n",
    "    df_train,\n",
    "    set_cus_ids,\n",
    "    set_item_ids,\n",
    "):\n",
    "    if customer_id not in set_cus_ids or product_id not in set_item_ids:\n",
    "        return None\n",
    "\n",
    "    try:\n",
    "        community_id = df_community_user.loc[customer_id, \"Community_ID\"]\n",
    "        df_train = df_train[\n",
    "            (df_train[\"asin\"] == product_id)\n",
    "            & (\n",
    "                df_train[\"reviewerID\"].isin(\n",
    "                    df_community_user.loc[\n",
    "                        df_community_user[\"Community_ID\"] == community_id\n",
    "                    ].index\n",
    "                )\n",
    "            )\n",
    "        ]\n",
    "    except KeyError:\n",
    "        # Log the error or handle it in a more suitable way\n",
    "        print(f\"KeyError: {customer_id}\")\n",
    "        return None\n",
    "\n",
    "    return df_train[\"overall\"].mean()\n",
    "\n",
    "\n",
    "# Assuming df_test is a DataFrame with columns \"reviewerID\" and \"asin\"\n",
    "predict_result = df_test.apply(\n",
    "    lambda row: [\n",
    "        row[\"reviewerID\"],\n",
    "        row[\"asin\"],\n",
    "        inference(\n",
    "            row[\"reviewerID\"],\n",
    "            row[\"asin\"],\n",
    "            df_community_user,\n",
    "            df_train,\n",
    "            set_cus_ids,\n",
    "            set_item_ids,\n",
    "        ),\n",
    "    ],\n",
    "    axis=1,\n",
    ")\n",
    "\n",
    "# Remove rows with None values\n",
    "predict_result = [result for result in predict_result if result[2] is not None]\n",
    "\n",
    "# Convert to DataFrame\n",
    "predict_result_df = pd.DataFrame(\n",
    "    predict_result, columns=[\"reviewerID\", \"asin\", \"predicted_overall\"]\n",
    ")"
   ]
  },
  {
   "cell_type": "code",
   "execution_count": 20,
   "id": "a76b0d61-20c2-4a39-a474-cb3e31a2688a",
   "metadata": {
    "execution": {
     "iopub.execute_input": "2023-12-18T04:54:47.492171Z",
     "iopub.status.busy": "2023-12-18T04:54:47.491934Z",
     "iopub.status.idle": "2023-12-18T04:54:47.511943Z",
     "shell.execute_reply": "2023-12-18T04:54:47.511113Z",
     "shell.execute_reply.started": "2023-12-18T04:54:47.492153Z"
    },
    "id": "a76b0d61-20c2-4a39-a474-cb3e31a2688a"
   },
   "outputs": [],
   "source": [
    "predict_result_df.to_parquet(\"greedy_modularity_result_df.parquet\")"
   ]
  },
  {
   "cell_type": "markdown",
   "id": "bef54673-7fd3-4b16-93d6-86ed0d55f2d3",
   "metadata": {
    "id": "bef54673-7fd3-4b16-93d6-86ed0d55f2d3"
   },
   "source": [
    "# Evaluation"
   ]
  },
  {
   "cell_type": "code",
   "execution_count": 21,
   "id": "7caa52f5-a3a5-470f-b814-722fb51a371b",
   "metadata": {
    "execution": {
     "iopub.execute_input": "2023-12-18T06:56:39.037799Z",
     "iopub.status.busy": "2023-12-18T06:56:39.037088Z",
     "iopub.status.idle": "2023-12-18T06:56:39.045700Z",
     "shell.execute_reply": "2023-12-18T06:56:39.044620Z",
     "shell.execute_reply.started": "2023-12-18T06:56:39.037750Z"
    },
    "id": "7caa52f5-a3a5-470f-b814-722fb51a371b"
   },
   "outputs": [],
   "source": [
    "predict_result_df = pd.read_parquet(\"louvain_result_df.parquet\")\n",
    "predict_result_df = predict_result_df[\n",
    "    predict_result_df[\"predicted_overall\"].isna() == False\n",
    "]"
   ]
  },
  {
   "cell_type": "code",
   "execution_count": 22,
   "id": "e8fc96a5-7fd1-4f7f-b113-e3580f0c0821",
   "metadata": {
    "execution": {
     "iopub.execute_input": "2023-12-18T06:58:05.825240Z",
     "iopub.status.busy": "2023-12-18T06:58:05.825069Z",
     "iopub.status.idle": "2023-12-18T06:58:05.857249Z",
     "shell.execute_reply": "2023-12-18T06:58:05.855835Z",
     "shell.execute_reply.started": "2023-12-18T06:58:05.825216Z"
    },
    "id": "e8fc96a5-7fd1-4f7f-b113-e3580f0c0821",
    "outputId": "efbf6e3a-dfac-49b3-c93e-06926f8201fd"
   },
   "outputs": [
    {
     "data": {
      "text/html": [
       "<div>\n",
       "<style scoped>\n",
       "    .dataframe tbody tr th:only-of-type {\n",
       "        vertical-align: middle;\n",
       "    }\n",
       "\n",
       "    .dataframe tbody tr th {\n",
       "        vertical-align: top;\n",
       "    }\n",
       "\n",
       "    .dataframe thead th {\n",
       "        text-align: right;\n",
       "    }\n",
       "</style>\n",
       "<table border=\"1\" class=\"dataframe\">\n",
       "  <thead>\n",
       "    <tr style=\"text-align: right;\">\n",
       "      <th></th>\n",
       "      <th>reviewerID</th>\n",
       "      <th>asin</th>\n",
       "      <th>predicted_overall</th>\n",
       "      <th>overall</th>\n",
       "      <th>Time stamp</th>\n",
       "      <th>Datetime</th>\n",
       "    </tr>\n",
       "  </thead>\n",
       "  <tbody>\n",
       "    <tr>\n",
       "      <th>0</th>\n",
       "      <td>A3QMX9JBLBUICS</td>\n",
       "      <td>B003414XXC</td>\n",
       "      <td>4</td>\n",
       "      <td>5</td>\n",
       "      <td>1403481600</td>\n",
       "      <td>2014-06-23</td>\n",
       "    </tr>\n",
       "    <tr>\n",
       "      <th>1</th>\n",
       "      <td>ASW3I4V90PWH4</td>\n",
       "      <td>B001KWB85S</td>\n",
       "      <td>4</td>\n",
       "      <td>5</td>\n",
       "      <td>1405209600</td>\n",
       "      <td>2014-07-13</td>\n",
       "    </tr>\n",
       "  </tbody>\n",
       "</table>\n",
       "</div>"
      ],
      "text/plain": [
       "       reviewerID        asin  predicted_overall  overall  Time stamp  \\\n",
       "0  A3QMX9JBLBUICS  B003414XXC                  4        5  1403481600   \n",
       "1   ASW3I4V90PWH4  B001KWB85S                  4        5  1405209600   \n",
       "\n",
       "    Datetime  \n",
       "0 2014-06-23  \n",
       "1 2014-07-13  "
      ]
     },
     "execution_count": 22,
     "metadata": {},
     "output_type": "execute_result"
    }
   ],
   "source": [
    "df_evaluate = pd.merge(\n",
    "    predict_result_df, df_test, on=[\"reviewerID\", \"asin\"], how=\"inner\"\n",
    ")\n",
    "df_evaluate[\"predicted_overall\"] = df_evaluate[\"predicted_overall\"].astype(int)\n",
    "df_evaluate.head(2)"
   ]
  },
  {
   "cell_type": "code",
   "execution_count": 23,
   "id": "ee587557-5fb8-4ebf-9ddc-42b744cb887c",
   "metadata": {
    "execution": {
     "iopub.execute_input": "2023-12-18T06:58:28.433385Z",
     "iopub.status.busy": "2023-12-18T06:58:28.432910Z",
     "iopub.status.idle": "2023-12-18T06:58:37.843109Z",
     "shell.execute_reply": "2023-12-18T06:58:37.841695Z",
     "shell.execute_reply.started": "2023-12-18T06:58:28.433358Z"
    },
    "id": "ee587557-5fb8-4ebf-9ddc-42b744cb887c",
    "outputId": "5354e199-56dc-44bb-fcb7-d783aeeaa479"
   },
   "outputs": [
    {
     "name": "stdout",
     "output_type": "stream",
     "text": [
      "Mean Absolute Error (MAE): 1.3076923076923077\n"
     ]
    }
   ],
   "source": [
    "ground_truth = df_evaluate.overall.values\n",
    "predicted_values = df_evaluate.predicted_overall.values\n",
    "\n",
    "mae = mean_absolute_error(ground_truth, predicted_values)\n",
    "\n",
    "print(f\"Mean Absolute Error (MAE): {mae}\")"
   ]
  }
 ],
 "metadata": {
  "colab": {
   "provenance": []
  },
  "kernelspec": {
   "display_name": ".venv",
   "language": "python",
   "name": "python3"
  },
  "language_info": {
   "codemirror_mode": {
    "name": "ipython",
    "version": 3
   },
   "file_extension": ".py",
   "mimetype": "text/x-python",
   "name": "python",
   "nbconvert_exporter": "python",
   "pygments_lexer": "ipython3",
   "version": "3.10.10"
  }
 },
 "nbformat": 4,
 "nbformat_minor": 5
}
