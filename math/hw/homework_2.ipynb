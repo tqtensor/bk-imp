{
   "cells": [
      {
         "cell_type": "code",
         "execution_count": 1,
         "metadata": {},
         "outputs": [
            {
               "name": "stdout",
               "output_type": "stream",
               "text": [
                  "Requirement already satisfied: sympy in /home/terrabot/bk-imp/.venv/lib/python3.10/site-packages (1.12)\n",
                  "Requirement already satisfied: mpmath>=0.19 in /home/terrabot/bk-imp/.venv/lib/python3.10/site-packages (from sympy) (1.3.0)\n"
               ]
            }
         ],
         "source": [
            "! pip install sympy"
         ]
      },
      {
         "cell_type": "code",
         "execution_count": 2,
         "metadata": {},
         "outputs": [],
         "source": [
            "import numpy as np\n",
            "import sympy"
         ]
      },
      {
         "cell_type": "code",
         "execution_count": 3,
         "metadata": {},
         "outputs": [],
         "source": [
            "A = np.matrix([[1, 2, 1, 1], [2, 2, 2, 2], [1, 2, 1, 1]])"
         ]
      },
      {
         "cell_type": "code",
         "execution_count": 4,
         "metadata": {},
         "outputs": [
            {
               "data": {
                  "text/plain": [
                     "(Matrix([\n",
                     " [1, 0, 1, 1],\n",
                     " [0, 1, 0, 0],\n",
                     " [0, 0, 0, 0]]),\n",
                     " (0, 1))"
                  ]
               },
               "execution_count": 4,
               "metadata": {},
               "output_type": "execute_result"
            }
         ],
         "source": [
            "sympy.Matrix(A).rref()"
         ]
      },
      {
         "cell_type": "code",
         "execution_count": 5,
         "metadata": {},
         "outputs": [],
         "source": [
            "A = np.matrix([[1, 2, 2], [1, 3, 3]])"
         ]
      },
      {
         "cell_type": "code",
         "execution_count": 6,
         "metadata": {},
         "outputs": [
            {
               "data": {
                  "text/plain": [
                     "(Matrix([\n",
                     " [1, 0, 0],\n",
                     " [0, 1, 1]]),\n",
                     " (0, 1))"
                  ]
               },
               "execution_count": 6,
               "metadata": {},
               "output_type": "execute_result"
            }
         ],
         "source": [
            "sympy.Matrix(A).rref()"
         ]
      },
      {
         "cell_type": "code",
         "execution_count": null,
         "metadata": {},
         "outputs": [],
         "source": [
            "import numpy as np\n",
            "import matplotlib.pyplot as plt\n",
            "\n",
            "# Generate random matrices\n",
            "A = np.random.rand(20, 40)\n",
            "B = np.random.randn(20, 40)\n",
            "# Compute SVD for A and B\n",
            "UA, sigma_A, VA = np.linalg.svd(A, full_matrices=False)\n",
            "UB, sigma_B, VB = np.linalg.svd(B, full_matrices=False)\n",
            "\n",
            "# Plot singular values with markers\n",
            "plt.figure(figsize=(10, 6))\n",
            "plt.plot(\n",
            "    range(1, 21),\n",
            "    sigma_A,\n",
            "    marker=\"o\",\n",
            "    label=\"Singular Values of A (Uniform Distribution)\",\n",
            ")\n",
            "plt.plot(\n",
            "    range(1, 21),\n",
            "    sigma_B,\n",
            "    marker=\"s\",\n",
            "    label=\"Singular Values of B (Normal Distribution)\",\n",
            ")\n",
            "plt.title(\"Singular Values of Random Matrices A and B\")\n",
            "plt.xlabel(\"Singular Value Index\")\n",
            "plt.ylabel(\"Singular Value\")\n",
            "plt.legend()\n",
            "plt.grid(True)\n",
            "plt.show()"
         ]
      },
      {
         "cell_type": "code",
         "execution_count": 9,
         "metadata": {},
         "outputs": [],
         "source": [
            "A = np.matrix([[1, 2, 1, 1], [2, 2, 2, 2], [1, 2, 1, 1]])\n",
            "\n",
            "np.set_printoptions(precision=3, suppress=True)\n",
            "U, S, V = np.linalg.svd(A)"
         ]
      },
      {
         "cell_type": "code",
         "execution_count": 10,
         "metadata": {},
         "outputs": [
            {
               "data": {
                  "text/plain": [
                     "matrix([[ 0.482,  0.517, -0.707],\n",
                     "        [ 0.732, -0.682, -0.   ],\n",
                     "        [ 0.482,  0.517,  0.707]])"
                  ]
               },
               "execution_count": 10,
               "metadata": {},
               "output_type": "execute_result"
            }
         ],
         "source": [
            "U"
         ]
      },
      {
         "cell_type": "code",
         "execution_count": 11,
         "metadata": {},
         "outputs": [
            {
               "data": {
                  "text/plain": [
                     "array([5.402, 0.907, 0.   ])"
                  ]
               },
               "execution_count": 11,
               "metadata": {},
               "output_type": "execute_result"
            }
         ],
         "source": [
            "S"
         ]
      },
      {
         "cell_type": "code",
         "execution_count": 12,
         "metadata": {},
         "outputs": [
            {
               "data": {
                  "text/plain": [
                     "matrix([[ 0.449,  0.628,  0.449,  0.449],\n",
                     "        [-0.362,  0.778, -0.362, -0.362],\n",
                     "        [ 0.816,  0.   , -0.408, -0.408],\n",
                     "        [ 0.   ,  0.   , -0.707,  0.707]])"
                  ]
               },
               "execution_count": 12,
               "metadata": {},
               "output_type": "execute_result"
            }
         ],
         "source": [
            "V"
         ]
      }
   ],
   "metadata": {
      "kernelspec": {
         "display_name": ".venv",
         "language": "python",
         "name": "python3"
      },
      "language_info": {
         "codemirror_mode": {
            "name": "ipython",
            "version": 3
         },
         "file_extension": ".py",
         "mimetype": "text/x-python",
         "name": "python",
         "nbconvert_exporter": "python",
         "pygments_lexer": "ipython3",
         "version": "3.10.10"
      }
   },
   "nbformat": 4,
   "nbformat_minor": 2
}